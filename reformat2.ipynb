{
 "cells": [
  {
   "cell_type": "code",
   "execution_count": 1,
   "id": "40ef28a8-afb7-4386-a6d2-6742e6ed3ac4",
   "metadata": {},
   "outputs": [],
   "source": [
    "import os\n",
    "import mne\n",
    "import sklearn\n",
    "import pandas as pd\n",
    "import numpy as np\n",
    "import matplotlib.pyplot as plt"
   ]
  },
  {
   "cell_type": "markdown",
   "id": "b432f605-a0ce-41d5-bc88-5d5629b0a42b",
   "metadata": {
    "jp-MarkdownHeadingCollapsed": true
   },
   "source": [
    "# ICA rejection"
   ]
  },
  {
   "cell_type": "code",
   "execution_count": 13,
   "id": "a98a10b9-0625-4c32-ada5-89b3ee2be632",
   "metadata": {
    "jupyter": {
     "source_hidden": true
    }
   },
   "outputs": [],
   "source": [
    "import os\n",
    "import mne\n",
    "import sklearn\n",
    "from mne.preprocessing import (ICA, create_eog_epochs)\n",
    "\n",
    "\n",
    "def ica_rejection(f, path):\n",
    "    \n",
    "    #Load \n",
    "    sample_data_folder = path # path to the .fif file \n",
    "    sample_data_raw_file = sample_data_folder+\"/\"+f\n",
    "    raw = mne.io.read_raw_fif(sample_data_raw_file, preload= True) # this function is to reads .fif file\n",
    "\n",
    "    # Adjust digitization\n",
    "    raw.set_channel_types(mapping = {'EOGhr': \"eog\",'EOGhl': \"eog\", 'EOGvo': \"eog\",'EOGvu': \"eog\"})\n",
    "    \n",
    "    # Set up and fit the ICA\n",
    "    raw_filtered = raw.filter(l_freq = 1, h_freq = 100)\n",
    "    ica = ICA(n_components = 30 , max_iter= \"auto\", random_state= 97) \n",
    "    ica.fit(raw_filtered)\n",
    "       \n",
    "    # Excluding \n",
    "    ica.exclude = []\n",
    "    fp = open(\"ICA_rejection.txt\", \"r\") # ICA_rejection.txt is a text file where we noted down the components to remove for each participant afert visual inspection\n",
    "    part = f[7:15] \n",
    "    eog_indices = []\n",
    "    while True:\n",
    "        text = fp.readline()\n",
    "        if text == \"\":\n",
    "            break\n",
    "        else:\n",
    "            text = text.split(\"-\")\n",
    "            if text[0] == part:\n",
    "                text_1 = text[1].split(\",\")\n",
    "                for n in text_1:\n",
    "                    if \"\\n\" in n:\n",
    "                        new_n = n.strip()\n",
    "                        eog_indices.append(int(new_n))\n",
    "                    else:\n",
    "                        eog_indices.append(int(n))\n",
    "            else:\n",
    "                continue\n",
    "\n",
    "    print(\"EXCLUDED COMPONENTS {}\".format(eog_indices))      \n",
    "    ica.exclude = eog_indices\n",
    "\n",
    "    # APPLY the ica model to the file \n",
    "    ica.apply(raw_filtered)\n",
    "    \n",
    "    # Save the new filtered ICA files\n",
    "    new_name = f[0:15]+\"_ica_raw.fif\"\n",
    "    raw_filtered.save(fname = \"ICA/\"+new_name, overwrite = True)"
   ]
  },
  {
   "cell_type": "code",
   "execution_count": 15,
   "id": "2fbc8983-792f-4ef4-8e50-f55ecb113bec",
   "metadata": {
    "scrolled": true
   },
   "outputs": [
    {
     "name": "stdout",
     "output_type": "stream",
     "text": [
      "Opening raw data file EVENTS_UPDATED/SYMUL2_EPM08_DT_evup_eve.fif...\n",
      "    Range : 0 ... 1289215 =      0.000 ...  2517.998 secs\n",
      "Ready.\n",
      "Reading 0 ... 1289215  =      0.000 ...  2517.998 secs...\n"
     ]
    },
    {
     "name": "stderr",
     "output_type": "stream",
     "text": [
      "/tmp/ipykernel_1195375/4020791529.py:12: RuntimeWarning: This filename (EVENTS_UPDATED/SYMUL2_EPM08_DT_evup_eve.fif) does not conform to MNE naming conventions. All raw files should end with raw.fif, raw_sss.fif, raw_tsss.fif, _meg.fif, _eeg.fif, _ieeg.fif, raw.fif.gz, raw_sss.fif.gz, raw_tsss.fif.gz, _meg.fif.gz, _eeg.fif.gz or _ieeg.fif.gz\n",
      "  raw = mne.io.read_raw_fif(sample_data_raw_file, preload= True) # this function is to reads .fif file\n"
     ]
    },
    {
     "name": "stdout",
     "output_type": "stream",
     "text": [
      "Filtering raw data in 4 contiguous segments\n",
      "Setting up band-pass filter from 1 - 1e+02 Hz\n",
      "\n",
      "FIR filter parameters\n",
      "---------------------\n",
      "Designing a one-pass, zero-phase, non-causal bandpass filter:\n",
      "- Windowed time-domain design (firwin) method\n",
      "- Hamming window with 0.0194 passband ripple and 53 dB stopband attenuation\n",
      "- Lower passband edge: 1.00\n",
      "- Lower transition bandwidth: 1.00 Hz (-6 dB cutoff frequency: 0.50 Hz)\n",
      "- Upper passband edge: 100.00 Hz\n",
      "- Upper transition bandwidth: 25.00 Hz (-6 dB cutoff frequency: 112.50 Hz)\n",
      "- Filter length: 1691 samples (3.303 s)\n",
      "\n"
     ]
    },
    {
     "name": "stderr",
     "output_type": "stream",
     "text": [
      "[Parallel(n_jobs=1)]: Done  17 tasks      | elapsed:    0.1s\n"
     ]
    },
    {
     "name": "stdout",
     "output_type": "stream",
     "text": [
      "Fitting ICA to data using 66 channels (please be patient, this may take a while)\n",
      "Selecting by number: 30 components\n",
      "Fitting ICA took 32.0s.\n",
      "EXCLUDED COMPONENTS [2, 16]\n",
      "Applying ICA to Raw instance\n",
      "    Transforming to ICA space (30 components)\n",
      "    Zeroing out 2 ICA components\n",
      "    Projecting back using 66 PCA components\n",
      "Writing /home/bkapusi/SYMUL/ICA/SYMUL2_EPM08_DT_ica_raw.fif\n",
      "Closing /home/bkapusi/SYMUL/ICA/SYMUL2_EPM08_DT_ica_raw.fif\n",
      "[done]\n",
      "Opening raw data file EVENTS_UPDATED/SYMUL2_EPM12_LT_evup_eve.fif...\n",
      "    Range : 0 ... 1147903 =      0.000 ...  2241.998 secs\n",
      "Ready.\n",
      "Reading 0 ... 1147903  =      0.000 ...  2241.998 secs...\n"
     ]
    },
    {
     "name": "stderr",
     "output_type": "stream",
     "text": [
      "/tmp/ipykernel_1195375/4020791529.py:12: RuntimeWarning: This filename (EVENTS_UPDATED/SYMUL2_EPM12_LT_evup_eve.fif) does not conform to MNE naming conventions. All raw files should end with raw.fif, raw_sss.fif, raw_tsss.fif, _meg.fif, _eeg.fif, _ieeg.fif, raw.fif.gz, raw_sss.fif.gz, raw_tsss.fif.gz, _meg.fif.gz, _eeg.fif.gz or _ieeg.fif.gz\n",
      "  raw = mne.io.read_raw_fif(sample_data_raw_file, preload= True) # this function is to reads .fif file\n"
     ]
    },
    {
     "name": "stdout",
     "output_type": "stream",
     "text": [
      "Filtering raw data in 4 contiguous segments\n",
      "Setting up band-pass filter from 1 - 1e+02 Hz\n",
      "\n",
      "FIR filter parameters\n",
      "---------------------\n",
      "Designing a one-pass, zero-phase, non-causal bandpass filter:\n",
      "- Windowed time-domain design (firwin) method\n",
      "- Hamming window with 0.0194 passband ripple and 53 dB stopband attenuation\n",
      "- Lower passband edge: 1.00\n",
      "- Lower transition bandwidth: 1.00 Hz (-6 dB cutoff frequency: 0.50 Hz)\n",
      "- Upper passband edge: 100.00 Hz\n",
      "- Upper transition bandwidth: 25.00 Hz (-6 dB cutoff frequency: 112.50 Hz)\n",
      "- Filter length: 1691 samples (3.303 s)\n",
      "\n"
     ]
    },
    {
     "name": "stderr",
     "output_type": "stream",
     "text": [
      "[Parallel(n_jobs=1)]: Done  17 tasks      | elapsed:    0.1s\n"
     ]
    },
    {
     "name": "stdout",
     "output_type": "stream",
     "text": [
      "Fitting ICA to data using 66 channels (please be patient, this may take a while)\n",
      "Selecting by number: 30 components\n",
      "Fitting ICA took 24.0s.\n",
      "EXCLUDED COMPONENTS [0, 23]\n",
      "Applying ICA to Raw instance\n",
      "    Transforming to ICA space (30 components)\n",
      "    Zeroing out 2 ICA components\n",
      "    Projecting back using 66 PCA components\n",
      "Writing /home/bkapusi/SYMUL/ICA/SYMUL2_EPM12_LT_ica_raw.fif\n",
      "Closing /home/bkapusi/SYMUL/ICA/SYMUL2_EPM12_LT_ica_raw.fif\n",
      "[done]\n",
      "Opening raw data file EVENTS_UPDATED/SYMUL2_EPM07_LT_evup_eve.fif...\n",
      "    Range : 0 ... 1226239 =      0.000 ...  2394.998 secs\n",
      "Ready.\n",
      "Reading 0 ... 1226239  =      0.000 ...  2394.998 secs...\n"
     ]
    },
    {
     "name": "stderr",
     "output_type": "stream",
     "text": [
      "/tmp/ipykernel_1195375/4020791529.py:12: RuntimeWarning: This filename (EVENTS_UPDATED/SYMUL2_EPM07_LT_evup_eve.fif) does not conform to MNE naming conventions. All raw files should end with raw.fif, raw_sss.fif, raw_tsss.fif, _meg.fif, _eeg.fif, _ieeg.fif, raw.fif.gz, raw_sss.fif.gz, raw_tsss.fif.gz, _meg.fif.gz, _eeg.fif.gz or _ieeg.fif.gz\n",
      "  raw = mne.io.read_raw_fif(sample_data_raw_file, preload= True) # this function is to reads .fif file\n"
     ]
    },
    {
     "name": "stdout",
     "output_type": "stream",
     "text": [
      "Filtering raw data in 4 contiguous segments\n",
      "Setting up band-pass filter from 1 - 1e+02 Hz\n",
      "\n",
      "FIR filter parameters\n",
      "---------------------\n",
      "Designing a one-pass, zero-phase, non-causal bandpass filter:\n",
      "- Windowed time-domain design (firwin) method\n",
      "- Hamming window with 0.0194 passband ripple and 53 dB stopband attenuation\n",
      "- Lower passband edge: 1.00\n",
      "- Lower transition bandwidth: 1.00 Hz (-6 dB cutoff frequency: 0.50 Hz)\n",
      "- Upper passband edge: 100.00 Hz\n",
      "- Upper transition bandwidth: 25.00 Hz (-6 dB cutoff frequency: 112.50 Hz)\n",
      "- Filter length: 1691 samples (3.303 s)\n",
      "\n"
     ]
    },
    {
     "name": "stderr",
     "output_type": "stream",
     "text": [
      "[Parallel(n_jobs=1)]: Done  17 tasks      | elapsed:    0.1s\n"
     ]
    },
    {
     "name": "stdout",
     "output_type": "stream",
     "text": [
      "Fitting ICA to data using 66 channels (please be patient, this may take a while)\n",
      "Selecting by number: 30 components\n",
      "Fitting ICA took 21.2s.\n",
      "EXCLUDED COMPONENTS [1, 2, 10]\n",
      "Applying ICA to Raw instance\n",
      "    Transforming to ICA space (30 components)\n",
      "    Zeroing out 3 ICA components\n",
      "    Projecting back using 66 PCA components\n",
      "Writing /home/bkapusi/SYMUL/ICA/SYMUL2_EPM07_LT_ica_raw.fif\n",
      "Closing /home/bkapusi/SYMUL/ICA/SYMUL2_EPM07_LT_ica_raw.fif\n",
      "[done]\n",
      "Opening raw data file EVENTS_UPDATED/SYMUL2_EPM10_MT_evup_eve.fif...\n",
      "    Range : 0 ... 1164799 =      0.000 ...  2274.998 secs\n",
      "Ready.\n",
      "Reading 0 ... 1164799  =      0.000 ...  2274.998 secs...\n"
     ]
    },
    {
     "name": "stderr",
     "output_type": "stream",
     "text": [
      "/tmp/ipykernel_1195375/4020791529.py:12: RuntimeWarning: This filename (EVENTS_UPDATED/SYMUL2_EPM10_MT_evup_eve.fif) does not conform to MNE naming conventions. All raw files should end with raw.fif, raw_sss.fif, raw_tsss.fif, _meg.fif, _eeg.fif, _ieeg.fif, raw.fif.gz, raw_sss.fif.gz, raw_tsss.fif.gz, _meg.fif.gz, _eeg.fif.gz or _ieeg.fif.gz\n",
      "  raw = mne.io.read_raw_fif(sample_data_raw_file, preload= True) # this function is to reads .fif file\n"
     ]
    },
    {
     "name": "stdout",
     "output_type": "stream",
     "text": [
      "Filtering raw data in 4 contiguous segments\n",
      "Setting up band-pass filter from 1 - 1e+02 Hz\n",
      "\n",
      "FIR filter parameters\n",
      "---------------------\n",
      "Designing a one-pass, zero-phase, non-causal bandpass filter:\n",
      "- Windowed time-domain design (firwin) method\n",
      "- Hamming window with 0.0194 passband ripple and 53 dB stopband attenuation\n",
      "- Lower passband edge: 1.00\n",
      "- Lower transition bandwidth: 1.00 Hz (-6 dB cutoff frequency: 0.50 Hz)\n",
      "- Upper passband edge: 100.00 Hz\n",
      "- Upper transition bandwidth: 25.00 Hz (-6 dB cutoff frequency: 112.50 Hz)\n",
      "- Filter length: 1691 samples (3.303 s)\n",
      "\n"
     ]
    },
    {
     "name": "stderr",
     "output_type": "stream",
     "text": [
      "[Parallel(n_jobs=1)]: Done  17 tasks      | elapsed:    0.1s\n"
     ]
    },
    {
     "name": "stdout",
     "output_type": "stream",
     "text": [
      "Fitting ICA to data using 66 channels (please be patient, this may take a while)\n",
      "Selecting by number: 30 components\n",
      "Fitting ICA took 24.1s.\n",
      "EXCLUDED COMPONENTS [1, 4]\n",
      "Applying ICA to Raw instance\n",
      "    Transforming to ICA space (30 components)\n",
      "    Zeroing out 2 ICA components\n",
      "    Projecting back using 66 PCA components\n",
      "Writing /home/bkapusi/SYMUL/ICA/SYMUL2_EPM10_MT_ica_raw.fif\n",
      "Closing /home/bkapusi/SYMUL/ICA/SYMUL2_EPM10_MT_ica_raw.fif\n",
      "[done]\n",
      "Opening raw data file EVENTS_UPDATED/SYMUL2_EPM14_LT_evup_eve.fif...\n",
      "    Range : 0 ... 1172991 =      0.000 ...  2290.998 secs\n",
      "Ready.\n",
      "Reading 0 ... 1172991  =      0.000 ...  2290.998 secs...\n"
     ]
    },
    {
     "name": "stderr",
     "output_type": "stream",
     "text": [
      "/tmp/ipykernel_1195375/4020791529.py:12: RuntimeWarning: This filename (EVENTS_UPDATED/SYMUL2_EPM14_LT_evup_eve.fif) does not conform to MNE naming conventions. All raw files should end with raw.fif, raw_sss.fif, raw_tsss.fif, _meg.fif, _eeg.fif, _ieeg.fif, raw.fif.gz, raw_sss.fif.gz, raw_tsss.fif.gz, _meg.fif.gz, _eeg.fif.gz or _ieeg.fif.gz\n",
      "  raw = mne.io.read_raw_fif(sample_data_raw_file, preload= True) # this function is to reads .fif file\n"
     ]
    },
    {
     "name": "stdout",
     "output_type": "stream",
     "text": [
      "Filtering raw data in 4 contiguous segments\n",
      "Setting up band-pass filter from 1 - 1e+02 Hz\n",
      "\n",
      "FIR filter parameters\n",
      "---------------------\n",
      "Designing a one-pass, zero-phase, non-causal bandpass filter:\n",
      "- Windowed time-domain design (firwin) method\n",
      "- Hamming window with 0.0194 passband ripple and 53 dB stopband attenuation\n",
      "- Lower passband edge: 1.00\n",
      "- Lower transition bandwidth: 1.00 Hz (-6 dB cutoff frequency: 0.50 Hz)\n",
      "- Upper passband edge: 100.00 Hz\n",
      "- Upper transition bandwidth: 25.00 Hz (-6 dB cutoff frequency: 112.50 Hz)\n",
      "- Filter length: 1691 samples (3.303 s)\n",
      "\n"
     ]
    },
    {
     "name": "stderr",
     "output_type": "stream",
     "text": [
      "[Parallel(n_jobs=1)]: Done  17 tasks      | elapsed:    0.1s\n"
     ]
    },
    {
     "name": "stdout",
     "output_type": "stream",
     "text": [
      "Fitting ICA to data using 66 channels (please be patient, this may take a while)\n",
      "Selecting by number: 30 components\n",
      "Fitting ICA took 22.3s.\n",
      "EXCLUDED COMPONENTS [0, 7]\n",
      "Applying ICA to Raw instance\n",
      "    Transforming to ICA space (30 components)\n",
      "    Zeroing out 2 ICA components\n",
      "    Projecting back using 66 PCA components\n",
      "Writing /home/bkapusi/SYMUL/ICA/SYMUL2_EPM14_LT_ica_raw.fif\n",
      "Closing /home/bkapusi/SYMUL/ICA/SYMUL2_EPM14_LT_ica_raw.fif\n",
      "[done]\n",
      "Opening raw data file EVENTS_UPDATED/SYMUL2_EPM04_DT_evup_eve.fif...\n",
      "    Range : 0 ... 1309183 =      0.000 ...  2556.998 secs\n",
      "Ready.\n",
      "Reading 0 ... 1309183  =      0.000 ...  2556.998 secs...\n"
     ]
    },
    {
     "name": "stderr",
     "output_type": "stream",
     "text": [
      "/tmp/ipykernel_1195375/4020791529.py:12: RuntimeWarning: This filename (EVENTS_UPDATED/SYMUL2_EPM04_DT_evup_eve.fif) does not conform to MNE naming conventions. All raw files should end with raw.fif, raw_sss.fif, raw_tsss.fif, _meg.fif, _eeg.fif, _ieeg.fif, raw.fif.gz, raw_sss.fif.gz, raw_tsss.fif.gz, _meg.fif.gz, _eeg.fif.gz or _ieeg.fif.gz\n",
      "  raw = mne.io.read_raw_fif(sample_data_raw_file, preload= True) # this function is to reads .fif file\n"
     ]
    },
    {
     "name": "stdout",
     "output_type": "stream",
     "text": [
      "Filtering raw data in 4 contiguous segments\n",
      "Setting up band-pass filter from 1 - 1e+02 Hz\n",
      "\n",
      "FIR filter parameters\n",
      "---------------------\n",
      "Designing a one-pass, zero-phase, non-causal bandpass filter:\n",
      "- Windowed time-domain design (firwin) method\n",
      "- Hamming window with 0.0194 passband ripple and 53 dB stopband attenuation\n",
      "- Lower passband edge: 1.00\n",
      "- Lower transition bandwidth: 1.00 Hz (-6 dB cutoff frequency: 0.50 Hz)\n",
      "- Upper passband edge: 100.00 Hz\n",
      "- Upper transition bandwidth: 25.00 Hz (-6 dB cutoff frequency: 112.50 Hz)\n",
      "- Filter length: 1691 samples (3.303 s)\n",
      "\n"
     ]
    },
    {
     "name": "stderr",
     "output_type": "stream",
     "text": [
      "[Parallel(n_jobs=1)]: Done  17 tasks      | elapsed:    0.1s\n"
     ]
    },
    {
     "name": "stdout",
     "output_type": "stream",
     "text": [
      "Fitting ICA to data using 66 channels (please be patient, this may take a while)\n",
      "Selecting by number: 30 components\n",
      "Fitting ICA took 27.4s.\n",
      "EXCLUDED COMPONENTS [0, 7]\n",
      "Applying ICA to Raw instance\n",
      "    Transforming to ICA space (30 components)\n",
      "    Zeroing out 2 ICA components\n",
      "    Projecting back using 66 PCA components\n",
      "Writing /home/bkapusi/SYMUL/ICA/SYMUL2_EPM04_DT_ica_raw.fif\n",
      "Closing /home/bkapusi/SYMUL/ICA/SYMUL2_EPM04_DT_ica_raw.fif\n",
      "[done]\n",
      "Opening raw data file EVENTS_UPDATED/SYMUL2_EPM03_DT_evup_eve.fif...\n",
      "    Range : 0 ... 1260543 =      0.000 ...  2461.998 secs\n",
      "Ready.\n",
      "Reading 0 ... 1260543  =      0.000 ...  2461.998 secs...\n"
     ]
    },
    {
     "name": "stderr",
     "output_type": "stream",
     "text": [
      "/tmp/ipykernel_1195375/4020791529.py:12: RuntimeWarning: This filename (EVENTS_UPDATED/SYMUL2_EPM03_DT_evup_eve.fif) does not conform to MNE naming conventions. All raw files should end with raw.fif, raw_sss.fif, raw_tsss.fif, _meg.fif, _eeg.fif, _ieeg.fif, raw.fif.gz, raw_sss.fif.gz, raw_tsss.fif.gz, _meg.fif.gz, _eeg.fif.gz or _ieeg.fif.gz\n",
      "  raw = mne.io.read_raw_fif(sample_data_raw_file, preload= True) # this function is to reads .fif file\n"
     ]
    },
    {
     "name": "stdout",
     "output_type": "stream",
     "text": [
      "Filtering raw data in 4 contiguous segments\n",
      "Setting up band-pass filter from 1 - 1e+02 Hz\n",
      "\n",
      "FIR filter parameters\n",
      "---------------------\n",
      "Designing a one-pass, zero-phase, non-causal bandpass filter:\n",
      "- Windowed time-domain design (firwin) method\n",
      "- Hamming window with 0.0194 passband ripple and 53 dB stopband attenuation\n",
      "- Lower passband edge: 1.00\n",
      "- Lower transition bandwidth: 1.00 Hz (-6 dB cutoff frequency: 0.50 Hz)\n",
      "- Upper passband edge: 100.00 Hz\n",
      "- Upper transition bandwidth: 25.00 Hz (-6 dB cutoff frequency: 112.50 Hz)\n",
      "- Filter length: 1691 samples (3.303 s)\n",
      "\n"
     ]
    },
    {
     "name": "stderr",
     "output_type": "stream",
     "text": [
      "[Parallel(n_jobs=1)]: Done  17 tasks      | elapsed:    0.1s\n"
     ]
    },
    {
     "name": "stdout",
     "output_type": "stream",
     "text": [
      "Fitting ICA to data using 66 channels (please be patient, this may take a while)\n",
      "Selecting by number: 30 components\n",
      "Fitting ICA took 17.0s.\n",
      "EXCLUDED COMPONENTS [0, 6]\n",
      "Applying ICA to Raw instance\n",
      "    Transforming to ICA space (30 components)\n",
      "    Zeroing out 2 ICA components\n",
      "    Projecting back using 66 PCA components\n",
      "Writing /home/bkapusi/SYMUL/ICA/SYMUL2_EPM03_DT_ica_raw.fif\n",
      "Closing /home/bkapusi/SYMUL/ICA/SYMUL2_EPM03_DT_ica_raw.fif\n",
      "[done]\n",
      "Opening raw data file EVENTS_UPDATED/SYMUL2_EPM14_MT_evup_eve.fif...\n",
      "    Range : 0 ... 1183231 =      0.000 ...  2310.998 secs\n",
      "Ready.\n",
      "Reading 0 ... 1183231  =      0.000 ...  2310.998 secs...\n"
     ]
    },
    {
     "name": "stderr",
     "output_type": "stream",
     "text": [
      "/tmp/ipykernel_1195375/4020791529.py:12: RuntimeWarning: This filename (EVENTS_UPDATED/SYMUL2_EPM14_MT_evup_eve.fif) does not conform to MNE naming conventions. All raw files should end with raw.fif, raw_sss.fif, raw_tsss.fif, _meg.fif, _eeg.fif, _ieeg.fif, raw.fif.gz, raw_sss.fif.gz, raw_tsss.fif.gz, _meg.fif.gz, _eeg.fif.gz or _ieeg.fif.gz\n",
      "  raw = mne.io.read_raw_fif(sample_data_raw_file, preload= True) # this function is to reads .fif file\n"
     ]
    },
    {
     "name": "stdout",
     "output_type": "stream",
     "text": [
      "Filtering raw data in 4 contiguous segments\n",
      "Setting up band-pass filter from 1 - 1e+02 Hz\n",
      "\n",
      "FIR filter parameters\n",
      "---------------------\n",
      "Designing a one-pass, zero-phase, non-causal bandpass filter:\n",
      "- Windowed time-domain design (firwin) method\n",
      "- Hamming window with 0.0194 passband ripple and 53 dB stopband attenuation\n",
      "- Lower passband edge: 1.00\n",
      "- Lower transition bandwidth: 1.00 Hz (-6 dB cutoff frequency: 0.50 Hz)\n",
      "- Upper passband edge: 100.00 Hz\n",
      "- Upper transition bandwidth: 25.00 Hz (-6 dB cutoff frequency: 112.50 Hz)\n",
      "- Filter length: 1691 samples (3.303 s)\n",
      "\n"
     ]
    },
    {
     "name": "stderr",
     "output_type": "stream",
     "text": [
      "[Parallel(n_jobs=1)]: Done  17 tasks      | elapsed:    0.1s\n"
     ]
    },
    {
     "name": "stdout",
     "output_type": "stream",
     "text": [
      "Fitting ICA to data using 66 channels (please be patient, this may take a while)\n",
      "Selecting by number: 30 components\n",
      "Fitting ICA took 28.2s.\n",
      "EXCLUDED COMPONENTS [0, 5, 15]\n",
      "Applying ICA to Raw instance\n",
      "    Transforming to ICA space (30 components)\n",
      "    Zeroing out 3 ICA components\n",
      "    Projecting back using 66 PCA components\n",
      "Writing /home/bkapusi/SYMUL/ICA/SYMUL2_EPM14_MT_ica_raw.fif\n",
      "Closing /home/bkapusi/SYMUL/ICA/SYMUL2_EPM14_MT_ica_raw.fif\n",
      "[done]\n",
      "Opening raw data file EVENTS_UPDATED/SYMUL2_EPM11_DT_evup_eve.fif...\n",
      "    Range : 0 ... 1252863 =      0.000 ...  2446.998 secs\n",
      "Ready.\n",
      "Reading 0 ... 1252863  =      0.000 ...  2446.998 secs...\n"
     ]
    },
    {
     "name": "stderr",
     "output_type": "stream",
     "text": [
      "/tmp/ipykernel_1195375/4020791529.py:12: RuntimeWarning: This filename (EVENTS_UPDATED/SYMUL2_EPM11_DT_evup_eve.fif) does not conform to MNE naming conventions. All raw files should end with raw.fif, raw_sss.fif, raw_tsss.fif, _meg.fif, _eeg.fif, _ieeg.fif, raw.fif.gz, raw_sss.fif.gz, raw_tsss.fif.gz, _meg.fif.gz, _eeg.fif.gz or _ieeg.fif.gz\n",
      "  raw = mne.io.read_raw_fif(sample_data_raw_file, preload= True) # this function is to reads .fif file\n"
     ]
    },
    {
     "name": "stdout",
     "output_type": "stream",
     "text": [
      "Filtering raw data in 4 contiguous segments\n",
      "Setting up band-pass filter from 1 - 1e+02 Hz\n",
      "\n",
      "FIR filter parameters\n",
      "---------------------\n",
      "Designing a one-pass, zero-phase, non-causal bandpass filter:\n",
      "- Windowed time-domain design (firwin) method\n",
      "- Hamming window with 0.0194 passband ripple and 53 dB stopband attenuation\n",
      "- Lower passband edge: 1.00\n",
      "- Lower transition bandwidth: 1.00 Hz (-6 dB cutoff frequency: 0.50 Hz)\n",
      "- Upper passband edge: 100.00 Hz\n",
      "- Upper transition bandwidth: 25.00 Hz (-6 dB cutoff frequency: 112.50 Hz)\n",
      "- Filter length: 1691 samples (3.303 s)\n",
      "\n"
     ]
    },
    {
     "name": "stderr",
     "output_type": "stream",
     "text": [
      "[Parallel(n_jobs=1)]: Done  17 tasks      | elapsed:    0.1s\n"
     ]
    },
    {
     "name": "stdout",
     "output_type": "stream",
     "text": [
      "Fitting ICA to data using 66 channels (please be patient, this may take a while)\n",
      "Selecting by number: 30 components\n",
      "Fitting ICA took 21.7s.\n",
      "EXCLUDED COMPONENTS [0, 3, 13]\n",
      "Applying ICA to Raw instance\n",
      "    Transforming to ICA space (30 components)\n",
      "    Zeroing out 3 ICA components\n",
      "    Projecting back using 66 PCA components\n",
      "Writing /home/bkapusi/SYMUL/ICA/SYMUL2_EPM11_DT_ica_raw.fif\n",
      "Closing /home/bkapusi/SYMUL/ICA/SYMUL2_EPM11_DT_ica_raw.fif\n",
      "[done]\n",
      "Opening raw data file EVENTS_UPDATED/SYMUL2_EPM16_DT_evup_eve.fif...\n",
      "    Range : 0 ... 1321471 =      0.000 ...  2580.998 secs\n",
      "Ready.\n",
      "Reading 0 ... 1321471  =      0.000 ...  2580.998 secs...\n"
     ]
    },
    {
     "name": "stderr",
     "output_type": "stream",
     "text": [
      "/tmp/ipykernel_1195375/4020791529.py:12: RuntimeWarning: This filename (EVENTS_UPDATED/SYMUL2_EPM16_DT_evup_eve.fif) does not conform to MNE naming conventions. All raw files should end with raw.fif, raw_sss.fif, raw_tsss.fif, _meg.fif, _eeg.fif, _ieeg.fif, raw.fif.gz, raw_sss.fif.gz, raw_tsss.fif.gz, _meg.fif.gz, _eeg.fif.gz or _ieeg.fif.gz\n",
      "  raw = mne.io.read_raw_fif(sample_data_raw_file, preload= True) # this function is to reads .fif file\n"
     ]
    },
    {
     "name": "stdout",
     "output_type": "stream",
     "text": [
      "Filtering raw data in 4 contiguous segments\n",
      "Setting up band-pass filter from 1 - 1e+02 Hz\n",
      "\n",
      "FIR filter parameters\n",
      "---------------------\n",
      "Designing a one-pass, zero-phase, non-causal bandpass filter:\n",
      "- Windowed time-domain design (firwin) method\n",
      "- Hamming window with 0.0194 passband ripple and 53 dB stopband attenuation\n",
      "- Lower passband edge: 1.00\n",
      "- Lower transition bandwidth: 1.00 Hz (-6 dB cutoff frequency: 0.50 Hz)\n",
      "- Upper passband edge: 100.00 Hz\n",
      "- Upper transition bandwidth: 25.00 Hz (-6 dB cutoff frequency: 112.50 Hz)\n",
      "- Filter length: 1691 samples (3.303 s)\n",
      "\n"
     ]
    },
    {
     "name": "stderr",
     "output_type": "stream",
     "text": [
      "[Parallel(n_jobs=1)]: Done  17 tasks      | elapsed:    0.1s\n"
     ]
    },
    {
     "name": "stdout",
     "output_type": "stream",
     "text": [
      "Fitting ICA to data using 66 channels (please be patient, this may take a while)\n",
      "Selecting by number: 30 components\n",
      "Fitting ICA took 28.2s.\n",
      "EXCLUDED COMPONENTS [0, 9]\n",
      "Applying ICA to Raw instance\n",
      "    Transforming to ICA space (30 components)\n",
      "    Zeroing out 2 ICA components\n",
      "    Projecting back using 66 PCA components\n",
      "Writing /home/bkapusi/SYMUL/ICA/SYMUL2_EPM16_DT_ica_raw.fif\n",
      "Closing /home/bkapusi/SYMUL/ICA/SYMUL2_EPM16_DT_ica_raw.fif\n",
      "[done]\n",
      "Opening raw data file EVENTS_UPDATED/SYMUL2_EPM09_DT_evup_eve.fif...\n",
      "    Range : 0 ... 1298943 =      0.000 ...  2536.998 secs\n",
      "Ready.\n",
      "Reading 0 ... 1298943  =      0.000 ...  2536.998 secs...\n"
     ]
    },
    {
     "name": "stderr",
     "output_type": "stream",
     "text": [
      "/tmp/ipykernel_1195375/4020791529.py:12: RuntimeWarning: This filename (EVENTS_UPDATED/SYMUL2_EPM09_DT_evup_eve.fif) does not conform to MNE naming conventions. All raw files should end with raw.fif, raw_sss.fif, raw_tsss.fif, _meg.fif, _eeg.fif, _ieeg.fif, raw.fif.gz, raw_sss.fif.gz, raw_tsss.fif.gz, _meg.fif.gz, _eeg.fif.gz or _ieeg.fif.gz\n",
      "  raw = mne.io.read_raw_fif(sample_data_raw_file, preload= True) # this function is to reads .fif file\n"
     ]
    },
    {
     "name": "stdout",
     "output_type": "stream",
     "text": [
      "Filtering raw data in 4 contiguous segments\n",
      "Setting up band-pass filter from 1 - 1e+02 Hz\n",
      "\n",
      "FIR filter parameters\n",
      "---------------------\n",
      "Designing a one-pass, zero-phase, non-causal bandpass filter:\n",
      "- Windowed time-domain design (firwin) method\n",
      "- Hamming window with 0.0194 passband ripple and 53 dB stopband attenuation\n",
      "- Lower passband edge: 1.00\n",
      "- Lower transition bandwidth: 1.00 Hz (-6 dB cutoff frequency: 0.50 Hz)\n",
      "- Upper passband edge: 100.00 Hz\n",
      "- Upper transition bandwidth: 25.00 Hz (-6 dB cutoff frequency: 112.50 Hz)\n",
      "- Filter length: 1691 samples (3.303 s)\n",
      "\n"
     ]
    },
    {
     "name": "stderr",
     "output_type": "stream",
     "text": [
      "[Parallel(n_jobs=1)]: Done  17 tasks      | elapsed:    0.1s\n"
     ]
    },
    {
     "name": "stdout",
     "output_type": "stream",
     "text": [
      "Fitting ICA to data using 66 channels (please be patient, this may take a while)\n",
      "Selecting by number: 30 components\n",
      "Fitting ICA took 29.2s.\n",
      "EXCLUDED COMPONENTS [0, 5, 6]\n",
      "Applying ICA to Raw instance\n",
      "    Transforming to ICA space (30 components)\n",
      "    Zeroing out 3 ICA components\n",
      "    Projecting back using 66 PCA components\n",
      "Writing /home/bkapusi/SYMUL/ICA/SYMUL2_EPM09_DT_ica_raw.fif\n",
      "Closing /home/bkapusi/SYMUL/ICA/SYMUL2_EPM09_DT_ica_raw.fif\n",
      "[done]\n",
      "Opening raw data file EVENTS_UPDATED/SYMUL2_EPM08_MT_evup_eve.fif...\n",
      "    Range : 0 ... 1262079 =      0.000 ...  2464.998 secs\n",
      "Ready.\n",
      "Reading 0 ... 1262079  =      0.000 ...  2464.998 secs...\n"
     ]
    },
    {
     "name": "stderr",
     "output_type": "stream",
     "text": [
      "/tmp/ipykernel_1195375/4020791529.py:12: RuntimeWarning: This filename (EVENTS_UPDATED/SYMUL2_EPM08_MT_evup_eve.fif) does not conform to MNE naming conventions. All raw files should end with raw.fif, raw_sss.fif, raw_tsss.fif, _meg.fif, _eeg.fif, _ieeg.fif, raw.fif.gz, raw_sss.fif.gz, raw_tsss.fif.gz, _meg.fif.gz, _eeg.fif.gz or _ieeg.fif.gz\n",
      "  raw = mne.io.read_raw_fif(sample_data_raw_file, preload= True) # this function is to reads .fif file\n"
     ]
    },
    {
     "name": "stdout",
     "output_type": "stream",
     "text": [
      "Filtering raw data in 4 contiguous segments\n",
      "Setting up band-pass filter from 1 - 1e+02 Hz\n",
      "\n",
      "FIR filter parameters\n",
      "---------------------\n",
      "Designing a one-pass, zero-phase, non-causal bandpass filter:\n",
      "- Windowed time-domain design (firwin) method\n",
      "- Hamming window with 0.0194 passband ripple and 53 dB stopband attenuation\n",
      "- Lower passband edge: 1.00\n",
      "- Lower transition bandwidth: 1.00 Hz (-6 dB cutoff frequency: 0.50 Hz)\n",
      "- Upper passband edge: 100.00 Hz\n",
      "- Upper transition bandwidth: 25.00 Hz (-6 dB cutoff frequency: 112.50 Hz)\n",
      "- Filter length: 1691 samples (3.303 s)\n",
      "\n"
     ]
    },
    {
     "name": "stderr",
     "output_type": "stream",
     "text": [
      "[Parallel(n_jobs=1)]: Done  17 tasks      | elapsed:    0.1s\n"
     ]
    },
    {
     "name": "stdout",
     "output_type": "stream",
     "text": [
      "Fitting ICA to data using 66 channels (please be patient, this may take a while)\n",
      "Selecting by number: 30 components\n",
      "Fitting ICA took 27.7s.\n",
      "EXCLUDED COMPONENTS [0, 6]\n",
      "Applying ICA to Raw instance\n",
      "    Transforming to ICA space (30 components)\n",
      "    Zeroing out 2 ICA components\n",
      "    Projecting back using 66 PCA components\n",
      "Writing /home/bkapusi/SYMUL/ICA/SYMUL2_EPM08_MT_ica_raw.fif\n",
      "Closing /home/bkapusi/SYMUL/ICA/SYMUL2_EPM08_MT_ica_raw.fif\n",
      "[done]\n",
      "Opening raw data file EVENTS_UPDATED/SYMUL2_EPM15_MT_evup_eve.fif...\n",
      "    Range : 0 ... 1203199 =      0.000 ...  2349.998 secs\n",
      "Ready.\n",
      "Reading 0 ... 1203199  =      0.000 ...  2349.998 secs...\n"
     ]
    },
    {
     "name": "stderr",
     "output_type": "stream",
     "text": [
      "/tmp/ipykernel_1195375/4020791529.py:12: RuntimeWarning: This filename (EVENTS_UPDATED/SYMUL2_EPM15_MT_evup_eve.fif) does not conform to MNE naming conventions. All raw files should end with raw.fif, raw_sss.fif, raw_tsss.fif, _meg.fif, _eeg.fif, _ieeg.fif, raw.fif.gz, raw_sss.fif.gz, raw_tsss.fif.gz, _meg.fif.gz, _eeg.fif.gz or _ieeg.fif.gz\n",
      "  raw = mne.io.read_raw_fif(sample_data_raw_file, preload= True) # this function is to reads .fif file\n"
     ]
    },
    {
     "name": "stdout",
     "output_type": "stream",
     "text": [
      "Filtering raw data in 4 contiguous segments\n",
      "Setting up band-pass filter from 1 - 1e+02 Hz\n",
      "\n",
      "FIR filter parameters\n",
      "---------------------\n",
      "Designing a one-pass, zero-phase, non-causal bandpass filter:\n",
      "- Windowed time-domain design (firwin) method\n",
      "- Hamming window with 0.0194 passband ripple and 53 dB stopband attenuation\n",
      "- Lower passband edge: 1.00\n",
      "- Lower transition bandwidth: 1.00 Hz (-6 dB cutoff frequency: 0.50 Hz)\n",
      "- Upper passband edge: 100.00 Hz\n",
      "- Upper transition bandwidth: 25.00 Hz (-6 dB cutoff frequency: 112.50 Hz)\n",
      "- Filter length: 1691 samples (3.303 s)\n",
      "\n"
     ]
    },
    {
     "name": "stderr",
     "output_type": "stream",
     "text": [
      "[Parallel(n_jobs=1)]: Done  17 tasks      | elapsed:    0.1s\n"
     ]
    },
    {
     "name": "stdout",
     "output_type": "stream",
     "text": [
      "Fitting ICA to data using 66 channels (please be patient, this may take a while)\n",
      "Selecting by number: 30 components\n",
      "Fitting ICA took 44.0s.\n",
      "EXCLUDED COMPONENTS [0, 6]\n",
      "Applying ICA to Raw instance\n",
      "    Transforming to ICA space (30 components)\n",
      "    Zeroing out 2 ICA components\n",
      "    Projecting back using 66 PCA components\n",
      "Writing /home/bkapusi/SYMUL/ICA/SYMUL2_EPM15_MT_ica_raw.fif\n",
      "Closing /home/bkapusi/SYMUL/ICA/SYMUL2_EPM15_MT_ica_raw.fif\n",
      "[done]\n",
      "Opening raw data file EVENTS_UPDATED/SYMUL2_EPM12_DT_evup_eve.fif...\n",
      "    Range : 0 ... 1248767 =      0.000 ...  2438.998 secs\n",
      "Ready.\n",
      "Reading 0 ... 1248767  =      0.000 ...  2438.998 secs...\n"
     ]
    },
    {
     "name": "stderr",
     "output_type": "stream",
     "text": [
      "/tmp/ipykernel_1195375/4020791529.py:12: RuntimeWarning: This filename (EVENTS_UPDATED/SYMUL2_EPM12_DT_evup_eve.fif) does not conform to MNE naming conventions. All raw files should end with raw.fif, raw_sss.fif, raw_tsss.fif, _meg.fif, _eeg.fif, _ieeg.fif, raw.fif.gz, raw_sss.fif.gz, raw_tsss.fif.gz, _meg.fif.gz, _eeg.fif.gz or _ieeg.fif.gz\n",
      "  raw = mne.io.read_raw_fif(sample_data_raw_file, preload= True) # this function is to reads .fif file\n"
     ]
    },
    {
     "name": "stdout",
     "output_type": "stream",
     "text": [
      "Filtering raw data in 4 contiguous segments\n",
      "Setting up band-pass filter from 1 - 1e+02 Hz\n",
      "\n",
      "FIR filter parameters\n",
      "---------------------\n",
      "Designing a one-pass, zero-phase, non-causal bandpass filter:\n",
      "- Windowed time-domain design (firwin) method\n",
      "- Hamming window with 0.0194 passband ripple and 53 dB stopband attenuation\n",
      "- Lower passband edge: 1.00\n",
      "- Lower transition bandwidth: 1.00 Hz (-6 dB cutoff frequency: 0.50 Hz)\n",
      "- Upper passband edge: 100.00 Hz\n",
      "- Upper transition bandwidth: 25.00 Hz (-6 dB cutoff frequency: 112.50 Hz)\n",
      "- Filter length: 1691 samples (3.303 s)\n",
      "\n"
     ]
    },
    {
     "name": "stderr",
     "output_type": "stream",
     "text": [
      "[Parallel(n_jobs=1)]: Done  17 tasks      | elapsed:    0.1s\n"
     ]
    },
    {
     "name": "stdout",
     "output_type": "stream",
     "text": [
      "Fitting ICA to data using 66 channels (please be patient, this may take a while)\n",
      "Selecting by number: 30 components\n",
      "Fitting ICA took 18.9s.\n",
      "EXCLUDED COMPONENTS [0, 8, 10]\n",
      "Applying ICA to Raw instance\n",
      "    Transforming to ICA space (30 components)\n",
      "    Zeroing out 3 ICA components\n",
      "    Projecting back using 66 PCA components\n",
      "Writing /home/bkapusi/SYMUL/ICA/SYMUL2_EPM12_DT_ica_raw.fif\n",
      "Closing /home/bkapusi/SYMUL/ICA/SYMUL2_EPM12_DT_ica_raw.fif\n",
      "[done]\n",
      "Opening raw data file EVENTS_UPDATED/SYMUL2_EPM10_DT_evup_eve.fif...\n",
      "    Range : 0 ... 1280511 =      0.000 ...  2500.998 secs\n",
      "Ready.\n",
      "Reading 0 ... 1280511  =      0.000 ...  2500.998 secs...\n"
     ]
    },
    {
     "name": "stderr",
     "output_type": "stream",
     "text": [
      "/tmp/ipykernel_1195375/4020791529.py:12: RuntimeWarning: This filename (EVENTS_UPDATED/SYMUL2_EPM10_DT_evup_eve.fif) does not conform to MNE naming conventions. All raw files should end with raw.fif, raw_sss.fif, raw_tsss.fif, _meg.fif, _eeg.fif, _ieeg.fif, raw.fif.gz, raw_sss.fif.gz, raw_tsss.fif.gz, _meg.fif.gz, _eeg.fif.gz or _ieeg.fif.gz\n",
      "  raw = mne.io.read_raw_fif(sample_data_raw_file, preload= True) # this function is to reads .fif file\n"
     ]
    },
    {
     "name": "stdout",
     "output_type": "stream",
     "text": [
      "Filtering raw data in 4 contiguous segments\n",
      "Setting up band-pass filter from 1 - 1e+02 Hz\n",
      "\n",
      "FIR filter parameters\n",
      "---------------------\n",
      "Designing a one-pass, zero-phase, non-causal bandpass filter:\n",
      "- Windowed time-domain design (firwin) method\n",
      "- Hamming window with 0.0194 passband ripple and 53 dB stopband attenuation\n",
      "- Lower passband edge: 1.00\n",
      "- Lower transition bandwidth: 1.00 Hz (-6 dB cutoff frequency: 0.50 Hz)\n",
      "- Upper passband edge: 100.00 Hz\n",
      "- Upper transition bandwidth: 25.00 Hz (-6 dB cutoff frequency: 112.50 Hz)\n",
      "- Filter length: 1691 samples (3.303 s)\n",
      "\n"
     ]
    },
    {
     "name": "stderr",
     "output_type": "stream",
     "text": [
      "[Parallel(n_jobs=1)]: Done  17 tasks      | elapsed:    0.1s\n"
     ]
    },
    {
     "name": "stdout",
     "output_type": "stream",
     "text": [
      "Fitting ICA to data using 66 channels (please be patient, this may take a while)\n",
      "Selecting by number: 30 components\n",
      "Fitting ICA took 18.3s.\n",
      "EXCLUDED COMPONENTS [0, 9]\n",
      "Applying ICA to Raw instance\n",
      "    Transforming to ICA space (30 components)\n",
      "    Zeroing out 2 ICA components\n",
      "    Projecting back using 66 PCA components\n",
      "Writing /home/bkapusi/SYMUL/ICA/SYMUL2_EPM10_DT_ica_raw.fif\n",
      "Closing /home/bkapusi/SYMUL/ICA/SYMUL2_EPM10_DT_ica_raw.fif\n",
      "[done]\n",
      "Opening raw data file EVENTS_UPDATED/SYMUL2_EPM17_LT_evup_eve.fif...\n",
      "    Range : 0 ... 1184767 =      0.000 ...  2313.998 secs\n",
      "Ready.\n",
      "Reading 0 ... 1184767  =      0.000 ...  2313.998 secs...\n"
     ]
    },
    {
     "name": "stderr",
     "output_type": "stream",
     "text": [
      "/tmp/ipykernel_1195375/4020791529.py:12: RuntimeWarning: This filename (EVENTS_UPDATED/SYMUL2_EPM17_LT_evup_eve.fif) does not conform to MNE naming conventions. All raw files should end with raw.fif, raw_sss.fif, raw_tsss.fif, _meg.fif, _eeg.fif, _ieeg.fif, raw.fif.gz, raw_sss.fif.gz, raw_tsss.fif.gz, _meg.fif.gz, _eeg.fif.gz or _ieeg.fif.gz\n",
      "  raw = mne.io.read_raw_fif(sample_data_raw_file, preload= True) # this function is to reads .fif file\n"
     ]
    },
    {
     "name": "stdout",
     "output_type": "stream",
     "text": [
      "Filtering raw data in 4 contiguous segments\n",
      "Setting up band-pass filter from 1 - 1e+02 Hz\n",
      "\n",
      "FIR filter parameters\n",
      "---------------------\n",
      "Designing a one-pass, zero-phase, non-causal bandpass filter:\n",
      "- Windowed time-domain design (firwin) method\n",
      "- Hamming window with 0.0194 passband ripple and 53 dB stopband attenuation\n",
      "- Lower passband edge: 1.00\n",
      "- Lower transition bandwidth: 1.00 Hz (-6 dB cutoff frequency: 0.50 Hz)\n",
      "- Upper passband edge: 100.00 Hz\n",
      "- Upper transition bandwidth: 25.00 Hz (-6 dB cutoff frequency: 112.50 Hz)\n",
      "- Filter length: 1691 samples (3.303 s)\n",
      "\n"
     ]
    },
    {
     "name": "stderr",
     "output_type": "stream",
     "text": [
      "[Parallel(n_jobs=1)]: Done  17 tasks      | elapsed:    0.1s\n"
     ]
    },
    {
     "name": "stdout",
     "output_type": "stream",
     "text": [
      "Fitting ICA to data using 66 channels (please be patient, this may take a while)\n",
      "Selecting by number: 30 components\n",
      "Fitting ICA took 28.1s.\n",
      "EXCLUDED COMPONENTS [0, 6]\n",
      "Applying ICA to Raw instance\n",
      "    Transforming to ICA space (30 components)\n",
      "    Zeroing out 2 ICA components\n",
      "    Projecting back using 66 PCA components\n",
      "Writing /home/bkapusi/SYMUL/ICA/SYMUL2_EPM17_LT_ica_raw.fif\n",
      "Closing /home/bkapusi/SYMUL/ICA/SYMUL2_EPM17_LT_ica_raw.fif\n",
      "[done]\n",
      "Opening raw data file EVENTS_UPDATED/SYMUL2_EPM13_LT_evup_eve.fif...\n",
      "    Range : 0 ... 1194495 =      0.000 ...  2332.998 secs\n",
      "Ready.\n",
      "Reading 0 ... 1194495  =      0.000 ...  2332.998 secs...\n"
     ]
    },
    {
     "name": "stderr",
     "output_type": "stream",
     "text": [
      "/tmp/ipykernel_1195375/4020791529.py:12: RuntimeWarning: This filename (EVENTS_UPDATED/SYMUL2_EPM13_LT_evup_eve.fif) does not conform to MNE naming conventions. All raw files should end with raw.fif, raw_sss.fif, raw_tsss.fif, _meg.fif, _eeg.fif, _ieeg.fif, raw.fif.gz, raw_sss.fif.gz, raw_tsss.fif.gz, _meg.fif.gz, _eeg.fif.gz or _ieeg.fif.gz\n",
      "  raw = mne.io.read_raw_fif(sample_data_raw_file, preload= True) # this function is to reads .fif file\n"
     ]
    },
    {
     "name": "stdout",
     "output_type": "stream",
     "text": [
      "Filtering raw data in 4 contiguous segments\n",
      "Setting up band-pass filter from 1 - 1e+02 Hz\n",
      "\n",
      "FIR filter parameters\n",
      "---------------------\n",
      "Designing a one-pass, zero-phase, non-causal bandpass filter:\n",
      "- Windowed time-domain design (firwin) method\n",
      "- Hamming window with 0.0194 passband ripple and 53 dB stopband attenuation\n",
      "- Lower passband edge: 1.00\n",
      "- Lower transition bandwidth: 1.00 Hz (-6 dB cutoff frequency: 0.50 Hz)\n",
      "- Upper passband edge: 100.00 Hz\n",
      "- Upper transition bandwidth: 25.00 Hz (-6 dB cutoff frequency: 112.50 Hz)\n",
      "- Filter length: 1691 samples (3.303 s)\n",
      "\n"
     ]
    },
    {
     "name": "stderr",
     "output_type": "stream",
     "text": [
      "[Parallel(n_jobs=1)]: Done  17 tasks      | elapsed:    0.1s\n"
     ]
    },
    {
     "name": "stdout",
     "output_type": "stream",
     "text": [
      "Fitting ICA to data using 66 channels (please be patient, this may take a while)\n",
      "Selecting by number: 30 components\n",
      "Fitting ICA took 27.8s.\n",
      "EXCLUDED COMPONENTS [0, 2, 9]\n",
      "Applying ICA to Raw instance\n",
      "    Transforming to ICA space (30 components)\n",
      "    Zeroing out 3 ICA components\n",
      "    Projecting back using 66 PCA components\n",
      "Writing /home/bkapusi/SYMUL/ICA/SYMUL2_EPM13_LT_ica_raw.fif\n",
      "Closing /home/bkapusi/SYMUL/ICA/SYMUL2_EPM13_LT_ica_raw.fif\n",
      "[done]\n",
      "Opening raw data file EVENTS_UPDATED/SYMUL2_EPM16_MT_evup_eve.fif...\n",
      "    Range : 0 ... 1236479 =      0.000 ...  2414.998 secs\n",
      "Ready.\n",
      "Reading 0 ... 1236479  =      0.000 ...  2414.998 secs...\n"
     ]
    },
    {
     "name": "stderr",
     "output_type": "stream",
     "text": [
      "/tmp/ipykernel_1195375/4020791529.py:12: RuntimeWarning: This filename (EVENTS_UPDATED/SYMUL2_EPM16_MT_evup_eve.fif) does not conform to MNE naming conventions. All raw files should end with raw.fif, raw_sss.fif, raw_tsss.fif, _meg.fif, _eeg.fif, _ieeg.fif, raw.fif.gz, raw_sss.fif.gz, raw_tsss.fif.gz, _meg.fif.gz, _eeg.fif.gz or _ieeg.fif.gz\n",
      "  raw = mne.io.read_raw_fif(sample_data_raw_file, preload= True) # this function is to reads .fif file\n"
     ]
    },
    {
     "name": "stdout",
     "output_type": "stream",
     "text": [
      "Filtering raw data in 4 contiguous segments\n",
      "Setting up band-pass filter from 1 - 1e+02 Hz\n",
      "\n",
      "FIR filter parameters\n",
      "---------------------\n",
      "Designing a one-pass, zero-phase, non-causal bandpass filter:\n",
      "- Windowed time-domain design (firwin) method\n",
      "- Hamming window with 0.0194 passband ripple and 53 dB stopband attenuation\n",
      "- Lower passband edge: 1.00\n",
      "- Lower transition bandwidth: 1.00 Hz (-6 dB cutoff frequency: 0.50 Hz)\n",
      "- Upper passband edge: 100.00 Hz\n",
      "- Upper transition bandwidth: 25.00 Hz (-6 dB cutoff frequency: 112.50 Hz)\n",
      "- Filter length: 1691 samples (3.303 s)\n",
      "\n"
     ]
    },
    {
     "name": "stderr",
     "output_type": "stream",
     "text": [
      "[Parallel(n_jobs=1)]: Done  17 tasks      | elapsed:    0.1s\n"
     ]
    },
    {
     "name": "stdout",
     "output_type": "stream",
     "text": [
      "Fitting ICA to data using 66 channels (please be patient, this may take a while)\n",
      "Selecting by number: 30 components\n",
      "Fitting ICA took 37.2s.\n",
      "EXCLUDED COMPONENTS [0, 9]\n",
      "Applying ICA to Raw instance\n",
      "    Transforming to ICA space (30 components)\n",
      "    Zeroing out 2 ICA components\n",
      "    Projecting back using 66 PCA components\n",
      "Writing /home/bkapusi/SYMUL/ICA/SYMUL2_EPM16_MT_ica_raw.fif\n",
      "Closing /home/bkapusi/SYMUL/ICA/SYMUL2_EPM16_MT_ica_raw.fif\n",
      "[done]\n",
      "Opening raw data file EVENTS_UPDATED/SYMUL2_EPM17_DT_evup_eve.fif...\n",
      "    Range : 0 ... 1328639 =      0.000 ...  2594.998 secs\n",
      "Ready.\n",
      "Reading 0 ... 1328639  =      0.000 ...  2594.998 secs...\n"
     ]
    },
    {
     "name": "stderr",
     "output_type": "stream",
     "text": [
      "/tmp/ipykernel_1195375/4020791529.py:12: RuntimeWarning: This filename (EVENTS_UPDATED/SYMUL2_EPM17_DT_evup_eve.fif) does not conform to MNE naming conventions. All raw files should end with raw.fif, raw_sss.fif, raw_tsss.fif, _meg.fif, _eeg.fif, _ieeg.fif, raw.fif.gz, raw_sss.fif.gz, raw_tsss.fif.gz, _meg.fif.gz, _eeg.fif.gz or _ieeg.fif.gz\n",
      "  raw = mne.io.read_raw_fif(sample_data_raw_file, preload= True) # this function is to reads .fif file\n"
     ]
    },
    {
     "name": "stdout",
     "output_type": "stream",
     "text": [
      "Filtering raw data in 4 contiguous segments\n",
      "Setting up band-pass filter from 1 - 1e+02 Hz\n",
      "\n",
      "FIR filter parameters\n",
      "---------------------\n",
      "Designing a one-pass, zero-phase, non-causal bandpass filter:\n",
      "- Windowed time-domain design (firwin) method\n",
      "- Hamming window with 0.0194 passband ripple and 53 dB stopband attenuation\n",
      "- Lower passband edge: 1.00\n",
      "- Lower transition bandwidth: 1.00 Hz (-6 dB cutoff frequency: 0.50 Hz)\n",
      "- Upper passband edge: 100.00 Hz\n",
      "- Upper transition bandwidth: 25.00 Hz (-6 dB cutoff frequency: 112.50 Hz)\n",
      "- Filter length: 1691 samples (3.303 s)\n",
      "\n"
     ]
    },
    {
     "name": "stderr",
     "output_type": "stream",
     "text": [
      "[Parallel(n_jobs=1)]: Done  17 tasks      | elapsed:    0.1s\n"
     ]
    },
    {
     "name": "stdout",
     "output_type": "stream",
     "text": [
      "Fitting ICA to data using 66 channels (please be patient, this may take a while)\n",
      "Selecting by number: 30 components\n",
      "Fitting ICA took 33.8s.\n",
      "EXCLUDED COMPONENTS [0, 1, 7]\n",
      "Applying ICA to Raw instance\n",
      "    Transforming to ICA space (30 components)\n",
      "    Zeroing out 3 ICA components\n",
      "    Projecting back using 66 PCA components\n",
      "Writing /home/bkapusi/SYMUL/ICA/SYMUL2_EPM17_DT_ica_raw.fif\n",
      "Closing /home/bkapusi/SYMUL/ICA/SYMUL2_EPM17_DT_ica_raw.fif\n",
      "[done]\n",
      "Opening raw data file EVENTS_UPDATED/SYMUL2_EPM02_MT_evup_eve.fif...\n",
      "    Range : 0 ... 1198079 =      0.000 ...  2339.998 secs\n",
      "Ready.\n",
      "Reading 0 ... 1198079  =      0.000 ...  2339.998 secs...\n"
     ]
    },
    {
     "name": "stderr",
     "output_type": "stream",
     "text": [
      "/tmp/ipykernel_1195375/4020791529.py:12: RuntimeWarning: This filename (EVENTS_UPDATED/SYMUL2_EPM02_MT_evup_eve.fif) does not conform to MNE naming conventions. All raw files should end with raw.fif, raw_sss.fif, raw_tsss.fif, _meg.fif, _eeg.fif, _ieeg.fif, raw.fif.gz, raw_sss.fif.gz, raw_tsss.fif.gz, _meg.fif.gz, _eeg.fif.gz or _ieeg.fif.gz\n",
      "  raw = mne.io.read_raw_fif(sample_data_raw_file, preload= True) # this function is to reads .fif file\n"
     ]
    },
    {
     "name": "stdout",
     "output_type": "stream",
     "text": [
      "Filtering raw data in 4 contiguous segments\n",
      "Setting up band-pass filter from 1 - 1e+02 Hz\n",
      "\n",
      "FIR filter parameters\n",
      "---------------------\n",
      "Designing a one-pass, zero-phase, non-causal bandpass filter:\n",
      "- Windowed time-domain design (firwin) method\n",
      "- Hamming window with 0.0194 passband ripple and 53 dB stopband attenuation\n",
      "- Lower passband edge: 1.00\n",
      "- Lower transition bandwidth: 1.00 Hz (-6 dB cutoff frequency: 0.50 Hz)\n",
      "- Upper passband edge: 100.00 Hz\n",
      "- Upper transition bandwidth: 25.00 Hz (-6 dB cutoff frequency: 112.50 Hz)\n",
      "- Filter length: 1691 samples (3.303 s)\n",
      "\n"
     ]
    },
    {
     "name": "stderr",
     "output_type": "stream",
     "text": [
      "[Parallel(n_jobs=1)]: Done  17 tasks      | elapsed:    0.1s\n"
     ]
    },
    {
     "name": "stdout",
     "output_type": "stream",
     "text": [
      "Fitting ICA to data using 66 channels (please be patient, this may take a while)\n",
      "Selecting by number: 30 components\n",
      "Fitting ICA took 17.6s.\n",
      "EXCLUDED COMPONENTS [1, 10]\n",
      "Applying ICA to Raw instance\n",
      "    Transforming to ICA space (30 components)\n",
      "    Zeroing out 2 ICA components\n",
      "    Projecting back using 66 PCA components\n",
      "Writing /home/bkapusi/SYMUL/ICA/SYMUL2_EPM02_MT_ica_raw.fif\n",
      "Closing /home/bkapusi/SYMUL/ICA/SYMUL2_EPM02_MT_ica_raw.fif\n",
      "[done]\n",
      "Opening raw data file EVENTS_UPDATED/SYMUL2_EPM06_LT_evup_eve.fif...\n",
      "    Range : 0 ... 1210367 =      0.000 ...  2363.998 secs\n",
      "Ready.\n",
      "Reading 0 ... 1210367  =      0.000 ...  2363.998 secs...\n"
     ]
    },
    {
     "name": "stderr",
     "output_type": "stream",
     "text": [
      "/tmp/ipykernel_1195375/4020791529.py:12: RuntimeWarning: This filename (EVENTS_UPDATED/SYMUL2_EPM06_LT_evup_eve.fif) does not conform to MNE naming conventions. All raw files should end with raw.fif, raw_sss.fif, raw_tsss.fif, _meg.fif, _eeg.fif, _ieeg.fif, raw.fif.gz, raw_sss.fif.gz, raw_tsss.fif.gz, _meg.fif.gz, _eeg.fif.gz or _ieeg.fif.gz\n",
      "  raw = mne.io.read_raw_fif(sample_data_raw_file, preload= True) # this function is to reads .fif file\n"
     ]
    },
    {
     "name": "stdout",
     "output_type": "stream",
     "text": [
      "Filtering raw data in 4 contiguous segments\n",
      "Setting up band-pass filter from 1 - 1e+02 Hz\n",
      "\n",
      "FIR filter parameters\n",
      "---------------------\n",
      "Designing a one-pass, zero-phase, non-causal bandpass filter:\n",
      "- Windowed time-domain design (firwin) method\n",
      "- Hamming window with 0.0194 passband ripple and 53 dB stopband attenuation\n",
      "- Lower passband edge: 1.00\n",
      "- Lower transition bandwidth: 1.00 Hz (-6 dB cutoff frequency: 0.50 Hz)\n",
      "- Upper passband edge: 100.00 Hz\n",
      "- Upper transition bandwidth: 25.00 Hz (-6 dB cutoff frequency: 112.50 Hz)\n",
      "- Filter length: 1691 samples (3.303 s)\n",
      "\n"
     ]
    },
    {
     "name": "stderr",
     "output_type": "stream",
     "text": [
      "[Parallel(n_jobs=1)]: Done  17 tasks      | elapsed:    0.1s\n"
     ]
    },
    {
     "name": "stdout",
     "output_type": "stream",
     "text": [
      "Fitting ICA to data using 66 channels (please be patient, this may take a while)\n",
      "Selecting by number: 30 components\n",
      "Fitting ICA took 21.8s.\n",
      "EXCLUDED COMPONENTS [0, 2, 10, 14]\n",
      "Applying ICA to Raw instance\n",
      "    Transforming to ICA space (30 components)\n",
      "    Zeroing out 4 ICA components\n",
      "    Projecting back using 66 PCA components\n",
      "Writing /home/bkapusi/SYMUL/ICA/SYMUL2_EPM06_LT_ica_raw.fif\n",
      "Closing /home/bkapusi/SYMUL/ICA/SYMUL2_EPM06_LT_ica_raw.fif\n",
      "[done]\n",
      "Opening raw data file EVENTS_UPDATED/SYMUL2_EPM09_LT_evup_eve.fif...\n",
      "    Range : 0 ... 1198079 =      0.000 ...  2339.998 secs\n",
      "Ready.\n",
      "Reading 0 ... 1198079  =      0.000 ...  2339.998 secs...\n"
     ]
    },
    {
     "name": "stderr",
     "output_type": "stream",
     "text": [
      "/tmp/ipykernel_1195375/4020791529.py:12: RuntimeWarning: This filename (EVENTS_UPDATED/SYMUL2_EPM09_LT_evup_eve.fif) does not conform to MNE naming conventions. All raw files should end with raw.fif, raw_sss.fif, raw_tsss.fif, _meg.fif, _eeg.fif, _ieeg.fif, raw.fif.gz, raw_sss.fif.gz, raw_tsss.fif.gz, _meg.fif.gz, _eeg.fif.gz or _ieeg.fif.gz\n",
      "  raw = mne.io.read_raw_fif(sample_data_raw_file, preload= True) # this function is to reads .fif file\n"
     ]
    },
    {
     "name": "stdout",
     "output_type": "stream",
     "text": [
      "Filtering raw data in 4 contiguous segments\n",
      "Setting up band-pass filter from 1 - 1e+02 Hz\n",
      "\n",
      "FIR filter parameters\n",
      "---------------------\n",
      "Designing a one-pass, zero-phase, non-causal bandpass filter:\n",
      "- Windowed time-domain design (firwin) method\n",
      "- Hamming window with 0.0194 passband ripple and 53 dB stopband attenuation\n",
      "- Lower passband edge: 1.00\n",
      "- Lower transition bandwidth: 1.00 Hz (-6 dB cutoff frequency: 0.50 Hz)\n",
      "- Upper passband edge: 100.00 Hz\n",
      "- Upper transition bandwidth: 25.00 Hz (-6 dB cutoff frequency: 112.50 Hz)\n",
      "- Filter length: 1691 samples (3.303 s)\n",
      "\n"
     ]
    },
    {
     "name": "stderr",
     "output_type": "stream",
     "text": [
      "[Parallel(n_jobs=1)]: Done  17 tasks      | elapsed:    0.1s\n"
     ]
    },
    {
     "name": "stdout",
     "output_type": "stream",
     "text": [
      "Fitting ICA to data using 66 channels (please be patient, this may take a while)\n",
      "Fitting ICA took 33.3s.\n",
      "EXCLUDED COMPONENTS [0, 3, 7, 14]\n",
      "Applying ICA to Raw instance\n",
      "    Transforming to ICA space (30 components)\n",
      "    Zeroing out 4 ICA components\n",
      "    Projecting back using 66 PCA components\n",
      "Writing /home/bkapusi/SYMUL/ICA/SYMUL2_EPM02_DT_ica_raw.fif\n",
      "Closing /home/bkapusi/SYMUL/ICA/SYMUL2_EPM02_DT_ica_raw.fif\n",
      "[done]\n",
      "Opening raw data file EVENTS_UPDATED/SYMUL2_EPM07_DT_evup_eve.fif...\n",
      "    Range : 0 ... 1246719 =      0.000 ...  2434.998 secs\n",
      "Ready.\n",
      "Reading 0 ... 1246719  =      0.000 ...  2434.998 secs...\n"
     ]
    },
    {
     "name": "stderr",
     "output_type": "stream",
     "text": [
      "/tmp/ipykernel_1195375/4020791529.py:12: RuntimeWarning: This filename (EVENTS_UPDATED/SYMUL2_EPM07_DT_evup_eve.fif) does not conform to MNE naming conventions. All raw files should end with raw.fif, raw_sss.fif, raw_tsss.fif, _meg.fif, _eeg.fif, _ieeg.fif, raw.fif.gz, raw_sss.fif.gz, raw_tsss.fif.gz, _meg.fif.gz, _eeg.fif.gz or _ieeg.fif.gz\n",
      "  raw = mne.io.read_raw_fif(sample_data_raw_file, preload= True) # this function is to reads .fif file\n"
     ]
    },
    {
     "name": "stdout",
     "output_type": "stream",
     "text": [
      "Filtering raw data in 4 contiguous segments\n",
      "Setting up band-pass filter from 1 - 1e+02 Hz\n",
      "\n",
      "FIR filter parameters\n",
      "---------------------\n",
      "Designing a one-pass, zero-phase, non-causal bandpass filter:\n",
      "- Windowed time-domain design (firwin) method\n",
      "- Hamming window with 0.0194 passband ripple and 53 dB stopband attenuation\n",
      "- Lower passband edge: 1.00\n",
      "- Lower transition bandwidth: 1.00 Hz (-6 dB cutoff frequency: 0.50 Hz)\n",
      "- Upper passband edge: 100.00 Hz\n",
      "- Upper transition bandwidth: 25.00 Hz (-6 dB cutoff frequency: 112.50 Hz)\n",
      "- Filter length: 1691 samples (3.303 s)\n",
      "\n"
     ]
    },
    {
     "name": "stderr",
     "output_type": "stream",
     "text": [
      "[Parallel(n_jobs=1)]: Done  17 tasks      | elapsed:    0.1s\n"
     ]
    },
    {
     "name": "stdout",
     "output_type": "stream",
     "text": [
      "Fitting ICA to data using 66 channels (please be patient, this may take a while)\n",
      "Selecting by number: 30 components\n",
      "Fitting ICA took 19.2s.\n",
      "EXCLUDED COMPONENTS [0, 5, 10, 18, 20]\n",
      "Applying ICA to Raw instance\n",
      "    Transforming to ICA space (30 components)\n",
      "    Zeroing out 5 ICA components\n",
      "    Projecting back using 66 PCA components\n",
      "Writing /home/bkapusi/SYMUL/ICA/SYMUL2_EPM07_DT_ica_raw.fif\n",
      "Closing /home/bkapusi/SYMUL/ICA/SYMUL2_EPM07_DT_ica_raw.fif\n",
      "[done]\n",
      "Opening raw data file EVENTS_UPDATED/SYMUL2_EPM11_LT_evup_eve.fif...\n",
      "    Range : 0 ... 1159167 =      0.000 ...  2263.998 secs\n",
      "Ready.\n",
      "Reading 0 ... 1159167  =      0.000 ...  2263.998 secs...\n"
     ]
    },
    {
     "name": "stderr",
     "output_type": "stream",
     "text": [
      "/tmp/ipykernel_1195375/4020791529.py:12: RuntimeWarning: This filename (EVENTS_UPDATED/SYMUL2_EPM11_LT_evup_eve.fif) does not conform to MNE naming conventions. All raw files should end with raw.fif, raw_sss.fif, raw_tsss.fif, _meg.fif, _eeg.fif, _ieeg.fif, raw.fif.gz, raw_sss.fif.gz, raw_tsss.fif.gz, _meg.fif.gz, _eeg.fif.gz or _ieeg.fif.gz\n",
      "  raw = mne.io.read_raw_fif(sample_data_raw_file, preload= True) # this function is to reads .fif file\n"
     ]
    },
    {
     "name": "stdout",
     "output_type": "stream",
     "text": [
      "Filtering raw data in 4 contiguous segments\n",
      "Setting up band-pass filter from 1 - 1e+02 Hz\n",
      "\n",
      "FIR filter parameters\n",
      "---------------------\n",
      "Designing a one-pass, zero-phase, non-causal bandpass filter:\n",
      "- Windowed time-domain design (firwin) method\n",
      "- Hamming window with 0.0194 passband ripple and 53 dB stopband attenuation\n",
      "- Lower passband edge: 1.00\n",
      "- Lower transition bandwidth: 1.00 Hz (-6 dB cutoff frequency: 0.50 Hz)\n",
      "- Upper passband edge: 100.00 Hz\n",
      "- Upper transition bandwidth: 25.00 Hz (-6 dB cutoff frequency: 112.50 Hz)\n",
      "- Filter length: 1691 samples (3.303 s)\n",
      "\n"
     ]
    },
    {
     "name": "stderr",
     "output_type": "stream",
     "text": [
      "[Parallel(n_jobs=1)]: Done  17 tasks      | elapsed:    0.1s\n"
     ]
    },
    {
     "name": "stdout",
     "output_type": "stream",
     "text": [
      "Fitting ICA to data using 66 channels (please be patient, this may take a while)\n",
      "Selecting by number: 30 components\n",
      "Fitting ICA took 16.1s.\n",
      "EXCLUDED COMPONENTS [0, 2, 9]\n",
      "Applying ICA to Raw instance\n",
      "    Transforming to ICA space (30 components)\n",
      "    Zeroing out 3 ICA components\n",
      "    Projecting back using 66 PCA components\n",
      "Writing /home/bkapusi/SYMUL/ICA/SYMUL2_EPM11_LT_ica_raw.fif\n",
      "Closing /home/bkapusi/SYMUL/ICA/SYMUL2_EPM11_LT_ica_raw.fif\n",
      "[done]\n",
      "Opening raw data file EVENTS_UPDATED/SYMUL2_EPM12_MT_evup_eve.fif...\n",
      "    Range : 0 ... 1144319 =      0.000 ...  2234.998 secs\n",
      "Ready.\n",
      "Reading 0 ... 1144319  =      0.000 ...  2234.998 secs...\n"
     ]
    },
    {
     "name": "stderr",
     "output_type": "stream",
     "text": [
      "/tmp/ipykernel_1195375/4020791529.py:12: RuntimeWarning: This filename (EVENTS_UPDATED/SYMUL2_EPM12_MT_evup_eve.fif) does not conform to MNE naming conventions. All raw files should end with raw.fif, raw_sss.fif, raw_tsss.fif, _meg.fif, _eeg.fif, _ieeg.fif, raw.fif.gz, raw_sss.fif.gz, raw_tsss.fif.gz, _meg.fif.gz, _eeg.fif.gz or _ieeg.fif.gz\n",
      "  raw = mne.io.read_raw_fif(sample_data_raw_file, preload= True) # this function is to reads .fif file\n"
     ]
    },
    {
     "name": "stdout",
     "output_type": "stream",
     "text": [
      "Filtering raw data in 4 contiguous segments\n",
      "Setting up band-pass filter from 1 - 1e+02 Hz\n",
      "\n",
      "FIR filter parameters\n",
      "---------------------\n",
      "Designing a one-pass, zero-phase, non-causal bandpass filter:\n",
      "- Windowed time-domain design (firwin) method\n",
      "- Hamming window with 0.0194 passband ripple and 53 dB stopband attenuation\n",
      "- Lower passband edge: 1.00\n",
      "- Lower transition bandwidth: 1.00 Hz (-6 dB cutoff frequency: 0.50 Hz)\n",
      "- Upper passband edge: 100.00 Hz\n",
      "- Upper transition bandwidth: 25.00 Hz (-6 dB cutoff frequency: 112.50 Hz)\n",
      "- Filter length: 1691 samples (3.303 s)\n",
      "\n"
     ]
    },
    {
     "name": "stderr",
     "output_type": "stream",
     "text": [
      "[Parallel(n_jobs=1)]: Done  17 tasks      | elapsed:    0.1s\n"
     ]
    },
    {
     "name": "stdout",
     "output_type": "stream",
     "text": [
      "Fitting ICA to data using 66 channels (please be patient, this may take a while)\n",
      "Selecting by number: 30 components\n",
      "Fitting ICA took 26.9s.\n",
      "EXCLUDED COMPONENTS [0, 23]\n",
      "Applying ICA to Raw instance\n",
      "    Transforming to ICA space (30 components)\n",
      "    Zeroing out 2 ICA components\n",
      "    Projecting back using 66 PCA components\n",
      "Writing /home/bkapusi/SYMUL/ICA/SYMUL2_EPM12_MT_ica_raw.fif\n",
      "Closing /home/bkapusi/SYMUL/ICA/SYMUL2_EPM12_MT_ica_raw.fif\n",
      "[done]\n",
      "Opening raw data file EVENTS_UPDATED/SYMUL2_EPM06_MT_evup_eve.fif...\n",
      "    Range : 0 ... 1212415 =      0.000 ...  2367.998 secs\n",
      "Ready.\n",
      "Reading 0 ... 1212415  =      0.000 ...  2367.998 secs...\n"
     ]
    },
    {
     "name": "stderr",
     "output_type": "stream",
     "text": [
      "/tmp/ipykernel_1195375/4020791529.py:12: RuntimeWarning: This filename (EVENTS_UPDATED/SYMUL2_EPM06_MT_evup_eve.fif) does not conform to MNE naming conventions. All raw files should end with raw.fif, raw_sss.fif, raw_tsss.fif, _meg.fif, _eeg.fif, _ieeg.fif, raw.fif.gz, raw_sss.fif.gz, raw_tsss.fif.gz, _meg.fif.gz, _eeg.fif.gz or _ieeg.fif.gz\n",
      "  raw = mne.io.read_raw_fif(sample_data_raw_file, preload= True) # this function is to reads .fif file\n"
     ]
    },
    {
     "name": "stdout",
     "output_type": "stream",
     "text": [
      "Filtering raw data in 4 contiguous segments\n",
      "Setting up band-pass filter from 1 - 1e+02 Hz\n",
      "\n",
      "FIR filter parameters\n",
      "---------------------\n",
      "Designing a one-pass, zero-phase, non-causal bandpass filter:\n",
      "- Windowed time-domain design (firwin) method\n",
      "- Hamming window with 0.0194 passband ripple and 53 dB stopband attenuation\n",
      "- Lower passband edge: 1.00\n",
      "- Lower transition bandwidth: 1.00 Hz (-6 dB cutoff frequency: 0.50 Hz)\n",
      "- Upper passband edge: 100.00 Hz\n",
      "- Upper transition bandwidth: 25.00 Hz (-6 dB cutoff frequency: 112.50 Hz)\n",
      "- Filter length: 1691 samples (3.303 s)\n",
      "\n"
     ]
    },
    {
     "name": "stderr",
     "output_type": "stream",
     "text": [
      "[Parallel(n_jobs=1)]: Done  17 tasks      | elapsed:    0.1s\n"
     ]
    },
    {
     "name": "stdout",
     "output_type": "stream",
     "text": [
      "Fitting ICA to data using 66 channels (please be patient, this may take a while)\n",
      "Selecting by number: 30 components\n",
      "Fitting ICA took 25.6s.\n",
      "EXCLUDED COMPONENTS [0, 4, 5, 13, 15]\n",
      "Applying ICA to Raw instance\n",
      "    Transforming to ICA space (30 components)\n",
      "    Zeroing out 5 ICA components\n",
      "    Projecting back using 66 PCA components\n",
      "Writing /home/bkapusi/SYMUL/ICA/SYMUL2_EPM06_MT_ica_raw.fif\n",
      "Closing /home/bkapusi/SYMUL/ICA/SYMUL2_EPM06_MT_ica_raw.fif\n",
      "[done]\n",
      "Opening raw data file EVENTS_UPDATED/SYMUL2_EPM11_MT_evup_eve.fif...\n",
      "    Range : 0 ... 1181695 =      0.000 ...  2307.998 secs\n",
      "Ready.\n",
      "Reading 0 ... 1181695  =      0.000 ...  2307.998 secs...\n"
     ]
    },
    {
     "name": "stderr",
     "output_type": "stream",
     "text": [
      "/tmp/ipykernel_1195375/4020791529.py:12: RuntimeWarning: This filename (EVENTS_UPDATED/SYMUL2_EPM11_MT_evup_eve.fif) does not conform to MNE naming conventions. All raw files should end with raw.fif, raw_sss.fif, raw_tsss.fif, _meg.fif, _eeg.fif, _ieeg.fif, raw.fif.gz, raw_sss.fif.gz, raw_tsss.fif.gz, _meg.fif.gz, _eeg.fif.gz or _ieeg.fif.gz\n",
      "  raw = mne.io.read_raw_fif(sample_data_raw_file, preload= True) # this function is to reads .fif file\n"
     ]
    },
    {
     "name": "stdout",
     "output_type": "stream",
     "text": [
      "Filtering raw data in 4 contiguous segments\n",
      "Setting up band-pass filter from 1 - 1e+02 Hz\n",
      "\n",
      "FIR filter parameters\n",
      "---------------------\n",
      "Designing a one-pass, zero-phase, non-causal bandpass filter:\n",
      "- Windowed time-domain design (firwin) method\n",
      "- Hamming window with 0.0194 passband ripple and 53 dB stopband attenuation\n",
      "- Lower passband edge: 1.00\n",
      "- Lower transition bandwidth: 1.00 Hz (-6 dB cutoff frequency: 0.50 Hz)\n",
      "- Upper passband edge: 100.00 Hz\n",
      "- Upper transition bandwidth: 25.00 Hz (-6 dB cutoff frequency: 112.50 Hz)\n",
      "- Filter length: 1691 samples (3.303 s)\n",
      "\n"
     ]
    },
    {
     "name": "stderr",
     "output_type": "stream",
     "text": [
      "[Parallel(n_jobs=1)]: Done  17 tasks      | elapsed:    0.1s\n"
     ]
    },
    {
     "name": "stdout",
     "output_type": "stream",
     "text": [
      "Fitting ICA to data using 66 channels (please be patient, this may take a while)\n",
      "Selecting by number: 30 components\n",
      "Fitting ICA took 18.6s.\n",
      "EXCLUDED COMPONENTS [0, 1]\n",
      "Applying ICA to Raw instance\n",
      "    Transforming to ICA space (30 components)\n",
      "    Zeroing out 2 ICA components\n",
      "    Projecting back using 66 PCA components\n",
      "Writing /home/bkapusi/SYMUL/ICA/SYMUL2_EPM11_MT_ica_raw.fif\n",
      "Closing /home/bkapusi/SYMUL/ICA/SYMUL2_EPM11_MT_ica_raw.fif\n",
      "[done]\n",
      "Opening raw data file EVENTS_UPDATED/SYMUL2_EPM03_MT_evup_eve.fif...\n",
      "    Range : 0 ... 1168895 =      0.000 ...  2282.998 secs\n",
      "Ready.\n",
      "Reading 0 ... 1168895  =      0.000 ...  2282.998 secs...\n"
     ]
    },
    {
     "name": "stderr",
     "output_type": "stream",
     "text": [
      "/tmp/ipykernel_1195375/4020791529.py:12: RuntimeWarning: This filename (EVENTS_UPDATED/SYMUL2_EPM03_MT_evup_eve.fif) does not conform to MNE naming conventions. All raw files should end with raw.fif, raw_sss.fif, raw_tsss.fif, _meg.fif, _eeg.fif, _ieeg.fif, raw.fif.gz, raw_sss.fif.gz, raw_tsss.fif.gz, _meg.fif.gz, _eeg.fif.gz or _ieeg.fif.gz\n",
      "  raw = mne.io.read_raw_fif(sample_data_raw_file, preload= True) # this function is to reads .fif file\n"
     ]
    },
    {
     "name": "stdout",
     "output_type": "stream",
     "text": [
      "Filtering raw data in 4 contiguous segments\n",
      "Setting up band-pass filter from 1 - 1e+02 Hz\n",
      "\n",
      "FIR filter parameters\n",
      "---------------------\n",
      "Designing a one-pass, zero-phase, non-causal bandpass filter:\n",
      "- Windowed time-domain design (firwin) method\n",
      "- Hamming window with 0.0194 passband ripple and 53 dB stopband attenuation\n",
      "- Lower passband edge: 1.00\n",
      "- Lower transition bandwidth: 1.00 Hz (-6 dB cutoff frequency: 0.50 Hz)\n",
      "- Upper passband edge: 100.00 Hz\n",
      "- Upper transition bandwidth: 25.00 Hz (-6 dB cutoff frequency: 112.50 Hz)\n",
      "- Filter length: 1691 samples (3.303 s)\n",
      "\n"
     ]
    },
    {
     "name": "stderr",
     "output_type": "stream",
     "text": [
      "[Parallel(n_jobs=1)]: Done  17 tasks      | elapsed:    0.1s\n"
     ]
    },
    {
     "name": "stdout",
     "output_type": "stream",
     "text": [
      "Fitting ICA to data using 66 channels (please be patient, this may take a while)\n",
      "Selecting by number: 30 components\n",
      "Fitting ICA took 15.3s.\n",
      "EXCLUDED COMPONENTS [0, 6]\n",
      "Applying ICA to Raw instance\n",
      "    Transforming to ICA space (30 components)\n",
      "    Zeroing out 2 ICA components\n",
      "    Projecting back using 66 PCA components\n",
      "Writing /home/bkapusi/SYMUL/ICA/SYMUL2_EPM03_MT_ica_raw.fif\n",
      "Closing /home/bkapusi/SYMUL/ICA/SYMUL2_EPM03_MT_ica_raw.fif\n",
      "[done]\n",
      "Opening raw data file EVENTS_UPDATED/SYMUL2_EPM14_DT_evup_eve.fif...\n",
      "    Range : 0 ... 1285631 =      0.000 ...  2510.998 secs\n",
      "Ready.\n",
      "Reading 0 ... 1285631  =      0.000 ...  2510.998 secs...\n"
     ]
    },
    {
     "name": "stderr",
     "output_type": "stream",
     "text": [
      "/tmp/ipykernel_1195375/4020791529.py:12: RuntimeWarning: This filename (EVENTS_UPDATED/SYMUL2_EPM14_DT_evup_eve.fif) does not conform to MNE naming conventions. All raw files should end with raw.fif, raw_sss.fif, raw_tsss.fif, _meg.fif, _eeg.fif, _ieeg.fif, raw.fif.gz, raw_sss.fif.gz, raw_tsss.fif.gz, _meg.fif.gz, _eeg.fif.gz or _ieeg.fif.gz\n",
      "  raw = mne.io.read_raw_fif(sample_data_raw_file, preload= True) # this function is to reads .fif file\n"
     ]
    },
    {
     "name": "stdout",
     "output_type": "stream",
     "text": [
      "Filtering raw data in 4 contiguous segments\n",
      "Setting up band-pass filter from 1 - 1e+02 Hz\n",
      "\n",
      "FIR filter parameters\n",
      "---------------------\n",
      "Designing a one-pass, zero-phase, non-causal bandpass filter:\n",
      "- Windowed time-domain design (firwin) method\n",
      "- Hamming window with 0.0194 passband ripple and 53 dB stopband attenuation\n",
      "- Lower passband edge: 1.00\n",
      "- Lower transition bandwidth: 1.00 Hz (-6 dB cutoff frequency: 0.50 Hz)\n",
      "- Upper passband edge: 100.00 Hz\n",
      "- Upper transition bandwidth: 25.00 Hz (-6 dB cutoff frequency: 112.50 Hz)\n",
      "- Filter length: 1691 samples (3.303 s)\n",
      "\n"
     ]
    },
    {
     "name": "stderr",
     "output_type": "stream",
     "text": [
      "[Parallel(n_jobs=1)]: Done  17 tasks      | elapsed:    0.1s\n"
     ]
    },
    {
     "name": "stdout",
     "output_type": "stream",
     "text": [
      "Fitting ICA to data using 66 channels (please be patient, this may take a while)\n",
      "Selecting by number: 30 components\n",
      "Fitting ICA took 25.7s.\n",
      "EXCLUDED COMPONENTS [0, 9]\n",
      "Applying ICA to Raw instance\n",
      "    Transforming to ICA space (30 components)\n",
      "    Zeroing out 2 ICA components\n",
      "    Projecting back using 66 PCA components\n",
      "Writing /home/bkapusi/SYMUL/ICA/SYMUL2_EPM14_DT_ica_raw.fif\n",
      "Closing /home/bkapusi/SYMUL/ICA/SYMUL2_EPM14_DT_ica_raw.fif\n",
      "[done]\n",
      "Opening raw data file EVENTS_UPDATED/SYMUL2_EPM04_LT_evup_eve.fif...\n",
      "    Range : 0 ... 1187327 =      0.000 ...  2318.998 secs\n",
      "Ready.\n",
      "Reading 0 ... 1187327  =      0.000 ...  2318.998 secs...\n"
     ]
    },
    {
     "name": "stderr",
     "output_type": "stream",
     "text": [
      "/tmp/ipykernel_1195375/4020791529.py:12: RuntimeWarning: This filename (EVENTS_UPDATED/SYMUL2_EPM04_LT_evup_eve.fif) does not conform to MNE naming conventions. All raw files should end with raw.fif, raw_sss.fif, raw_tsss.fif, _meg.fif, _eeg.fif, _ieeg.fif, raw.fif.gz, raw_sss.fif.gz, raw_tsss.fif.gz, _meg.fif.gz, _eeg.fif.gz or _ieeg.fif.gz\n",
      "  raw = mne.io.read_raw_fif(sample_data_raw_file, preload= True) # this function is to reads .fif file\n"
     ]
    },
    {
     "name": "stdout",
     "output_type": "stream",
     "text": [
      "Filtering raw data in 4 contiguous segments\n",
      "Setting up band-pass filter from 1 - 1e+02 Hz\n",
      "\n",
      "FIR filter parameters\n",
      "---------------------\n",
      "Designing a one-pass, zero-phase, non-causal bandpass filter:\n",
      "- Windowed time-domain design (firwin) method\n",
      "- Hamming window with 0.0194 passband ripple and 53 dB stopband attenuation\n",
      "- Lower passband edge: 1.00\n",
      "- Lower transition bandwidth: 1.00 Hz (-6 dB cutoff frequency: 0.50 Hz)\n",
      "- Upper passband edge: 100.00 Hz\n",
      "- Upper transition bandwidth: 25.00 Hz (-6 dB cutoff frequency: 112.50 Hz)\n",
      "- Filter length: 1691 samples (3.303 s)\n",
      "\n"
     ]
    },
    {
     "name": "stderr",
     "output_type": "stream",
     "text": [
      "[Parallel(n_jobs=1)]: Done  17 tasks      | elapsed:    0.1s\n"
     ]
    },
    {
     "name": "stdout",
     "output_type": "stream",
     "text": [
      "Fitting ICA to data using 66 channels (please be patient, this may take a while)\n",
      "Selecting by number: 30 components\n",
      "Fitting ICA took 22.0s.\n",
      "EXCLUDED COMPONENTS [0, 6]\n",
      "Applying ICA to Raw instance\n",
      "    Transforming to ICA space (30 components)\n",
      "    Zeroing out 2 ICA components\n",
      "    Projecting back using 66 PCA components\n",
      "Writing /home/bkapusi/SYMUL/ICA/SYMUL2_EPM04_LT_ica_raw.fif\n",
      "Closing /home/bkapusi/SYMUL/ICA/SYMUL2_EPM04_LT_ica_raw.fif\n",
      "[done]\n",
      "Opening raw data file EVENTS_UPDATED/SYMUL2_EPM06_DT_evup_eve.fif...\n",
      "    Range : 0 ... 1299967 =      0.000 ...  2538.998 secs\n",
      "Ready.\n",
      "Reading 0 ... 1299967  =      0.000 ...  2538.998 secs...\n"
     ]
    },
    {
     "name": "stderr",
     "output_type": "stream",
     "text": [
      "/tmp/ipykernel_1195375/4020791529.py:12: RuntimeWarning: This filename (EVENTS_UPDATED/SYMUL2_EPM06_DT_evup_eve.fif) does not conform to MNE naming conventions. All raw files should end with raw.fif, raw_sss.fif, raw_tsss.fif, _meg.fif, _eeg.fif, _ieeg.fif, raw.fif.gz, raw_sss.fif.gz, raw_tsss.fif.gz, _meg.fif.gz, _eeg.fif.gz or _ieeg.fif.gz\n",
      "  raw = mne.io.read_raw_fif(sample_data_raw_file, preload= True) # this function is to reads .fif file\n"
     ]
    },
    {
     "name": "stdout",
     "output_type": "stream",
     "text": [
      "Filtering raw data in 4 contiguous segments\n",
      "Setting up band-pass filter from 1 - 1e+02 Hz\n",
      "\n",
      "FIR filter parameters\n",
      "---------------------\n",
      "Designing a one-pass, zero-phase, non-causal bandpass filter:\n",
      "- Windowed time-domain design (firwin) method\n",
      "- Hamming window with 0.0194 passband ripple and 53 dB stopband attenuation\n",
      "- Lower passband edge: 1.00\n",
      "- Lower transition bandwidth: 1.00 Hz (-6 dB cutoff frequency: 0.50 Hz)\n",
      "- Upper passband edge: 100.00 Hz\n",
      "- Upper transition bandwidth: 25.00 Hz (-6 dB cutoff frequency: 112.50 Hz)\n",
      "- Filter length: 1691 samples (3.303 s)\n",
      "\n"
     ]
    },
    {
     "name": "stderr",
     "output_type": "stream",
     "text": [
      "[Parallel(n_jobs=1)]: Done  17 tasks      | elapsed:    0.1s\n"
     ]
    },
    {
     "name": "stdout",
     "output_type": "stream",
     "text": [
      "Fitting ICA to data using 66 channels (please be patient, this may take a while)\n",
      "Selecting by number: 30 components\n",
      "Fitting ICA took 24.1s.\n",
      "EXCLUDED COMPONENTS [0, 1, 2, 10, 13, 15]\n",
      "Applying ICA to Raw instance\n",
      "    Transforming to ICA space (30 components)\n",
      "    Zeroing out 6 ICA components\n",
      "    Projecting back using 66 PCA components\n",
      "Writing /home/bkapusi/SYMUL/ICA/SYMUL2_EPM06_DT_ica_raw.fif\n",
      "Closing /home/bkapusi/SYMUL/ICA/SYMUL2_EPM06_DT_ica_raw.fif\n",
      "[done]\n",
      "Opening raw data file EVENTS_UPDATED/SYMUL2_EPM13_DT_evup_eve.fif...\n",
      "    Range : 0 ... 1238015 =      0.000 ...  2417.998 secs\n",
      "Ready.\n",
      "Reading 0 ... 1238015  =      0.000 ...  2417.998 secs...\n"
     ]
    },
    {
     "name": "stderr",
     "output_type": "stream",
     "text": [
      "/tmp/ipykernel_1195375/4020791529.py:12: RuntimeWarning: This filename (EVENTS_UPDATED/SYMUL2_EPM13_DT_evup_eve.fif) does not conform to MNE naming conventions. All raw files should end with raw.fif, raw_sss.fif, raw_tsss.fif, _meg.fif, _eeg.fif, _ieeg.fif, raw.fif.gz, raw_sss.fif.gz, raw_tsss.fif.gz, _meg.fif.gz, _eeg.fif.gz or _ieeg.fif.gz\n",
      "  raw = mne.io.read_raw_fif(sample_data_raw_file, preload= True) # this function is to reads .fif file\n"
     ]
    },
    {
     "name": "stdout",
     "output_type": "stream",
     "text": [
      "Filtering raw data in 4 contiguous segments\n",
      "Setting up band-pass filter from 1 - 1e+02 Hz\n",
      "\n",
      "FIR filter parameters\n",
      "---------------------\n",
      "Designing a one-pass, zero-phase, non-causal bandpass filter:\n",
      "- Windowed time-domain design (firwin) method\n",
      "- Hamming window with 0.0194 passband ripple and 53 dB stopband attenuation\n",
      "- Lower passband edge: 1.00\n",
      "- Lower transition bandwidth: 1.00 Hz (-6 dB cutoff frequency: 0.50 Hz)\n",
      "- Upper passband edge: 100.00 Hz\n",
      "- Upper transition bandwidth: 25.00 Hz (-6 dB cutoff frequency: 112.50 Hz)\n",
      "- Filter length: 1691 samples (3.303 s)\n",
      "\n"
     ]
    },
    {
     "name": "stderr",
     "output_type": "stream",
     "text": [
      "[Parallel(n_jobs=1)]: Done  17 tasks      | elapsed:    0.1s\n"
     ]
    },
    {
     "name": "stdout",
     "output_type": "stream",
     "text": [
      "Fitting ICA to data using 66 channels (please be patient, this may take a while)\n",
      "Selecting by number: 30 components\n",
      "Fitting ICA took 26.5s.\n",
      "EXCLUDED COMPONENTS [0, 10]\n",
      "Applying ICA to Raw instance\n",
      "    Transforming to ICA space (30 components)\n",
      "    Zeroing out 2 ICA components\n",
      "    Projecting back using 66 PCA components\n",
      "Writing /home/bkapusi/SYMUL/ICA/SYMUL2_EPM13_DT_ica_raw.fif\n",
      "Closing /home/bkapusi/SYMUL/ICA/SYMUL2_EPM13_DT_ica_raw.fif\n",
      "[done]\n",
      "Opening raw data file EVENTS_UPDATED/SYMUL2_EPM17_MT_evup_eve.fif...\n",
      "    Range : 0 ... 1203199 =      0.000 ...  2349.998 secs\n",
      "Ready.\n",
      "Reading 0 ... 1203199  =      0.000 ...  2349.998 secs...\n"
     ]
    },
    {
     "name": "stderr",
     "output_type": "stream",
     "text": [
      "/tmp/ipykernel_1195375/4020791529.py:12: RuntimeWarning: This filename (EVENTS_UPDATED/SYMUL2_EPM17_MT_evup_eve.fif) does not conform to MNE naming conventions. All raw files should end with raw.fif, raw_sss.fif, raw_tsss.fif, _meg.fif, _eeg.fif, _ieeg.fif, raw.fif.gz, raw_sss.fif.gz, raw_tsss.fif.gz, _meg.fif.gz, _eeg.fif.gz or _ieeg.fif.gz\n",
      "  raw = mne.io.read_raw_fif(sample_data_raw_file, preload= True) # this function is to reads .fif file\n"
     ]
    },
    {
     "name": "stdout",
     "output_type": "stream",
     "text": [
      "Filtering raw data in 4 contiguous segments\n",
      "Setting up band-pass filter from 1 - 1e+02 Hz\n",
      "\n",
      "FIR filter parameters\n",
      "---------------------\n",
      "Designing a one-pass, zero-phase, non-causal bandpass filter:\n",
      "- Windowed time-domain design (firwin) method\n",
      "- Hamming window with 0.0194 passband ripple and 53 dB stopband attenuation\n",
      "- Lower passband edge: 1.00\n",
      "- Lower transition bandwidth: 1.00 Hz (-6 dB cutoff frequency: 0.50 Hz)\n",
      "- Upper passband edge: 100.00 Hz\n",
      "- Upper transition bandwidth: 25.00 Hz (-6 dB cutoff frequency: 112.50 Hz)\n",
      "- Filter length: 1691 samples (3.303 s)\n",
      "\n"
     ]
    },
    {
     "name": "stderr",
     "output_type": "stream",
     "text": [
      "[Parallel(n_jobs=1)]: Done  17 tasks      | elapsed:    0.1s\n"
     ]
    },
    {
     "name": "stdout",
     "output_type": "stream",
     "text": [
      "Fitting ICA to data using 66 channels (please be patient, this may take a while)\n",
      "Selecting by number: 30 components\n",
      "Fitting ICA took 20.2s.\n",
      "EXCLUDED COMPONENTS [0, 7]\n",
      "Applying ICA to Raw instance\n",
      "    Transforming to ICA space (30 components)\n",
      "    Zeroing out 2 ICA components\n",
      "    Projecting back using 66 PCA components\n",
      "Writing /home/bkapusi/SYMUL/ICA/SYMUL2_EPM17_MT_ica_raw.fif\n",
      "Closing /home/bkapusi/SYMUL/ICA/SYMUL2_EPM17_MT_ica_raw.fif\n",
      "[done]\n",
      "Opening raw data file EVENTS_UPDATED/SYMUL2_EPM10_LT_evup_eve.fif...\n",
      "    Range : 0 ... 1181695 =      0.000 ...  2307.998 secs\n",
      "Ready.\n",
      "Reading 0 ... 1181695  =      0.000 ...  2307.998 secs...\n"
     ]
    },
    {
     "name": "stderr",
     "output_type": "stream",
     "text": [
      "/tmp/ipykernel_1195375/4020791529.py:12: RuntimeWarning: This filename (EVENTS_UPDATED/SYMUL2_EPM10_LT_evup_eve.fif) does not conform to MNE naming conventions. All raw files should end with raw.fif, raw_sss.fif, raw_tsss.fif, _meg.fif, _eeg.fif, _ieeg.fif, raw.fif.gz, raw_sss.fif.gz, raw_tsss.fif.gz, _meg.fif.gz, _eeg.fif.gz or _ieeg.fif.gz\n",
      "  raw = mne.io.read_raw_fif(sample_data_raw_file, preload= True) # this function is to reads .fif file\n"
     ]
    },
    {
     "name": "stdout",
     "output_type": "stream",
     "text": [
      "Filtering raw data in 4 contiguous segments\n",
      "Setting up band-pass filter from 1 - 1e+02 Hz\n",
      "\n",
      "FIR filter parameters\n",
      "---------------------\n",
      "Designing a one-pass, zero-phase, non-causal bandpass filter:\n",
      "- Windowed time-domain design (firwin) method\n",
      "- Hamming window with 0.0194 passband ripple and 53 dB stopband attenuation\n",
      "- Lower passband edge: 1.00\n",
      "- Lower transition bandwidth: 1.00 Hz (-6 dB cutoff frequency: 0.50 Hz)\n",
      "- Upper passband edge: 100.00 Hz\n",
      "- Upper transition bandwidth: 25.00 Hz (-6 dB cutoff frequency: 112.50 Hz)\n",
      "- Filter length: 1691 samples (3.303 s)\n",
      "\n"
     ]
    },
    {
     "name": "stderr",
     "output_type": "stream",
     "text": [
      "[Parallel(n_jobs=1)]: Done  17 tasks      | elapsed:    0.1s\n"
     ]
    },
    {
     "name": "stdout",
     "output_type": "stream",
     "text": [
      "Fitting ICA to data using 66 channels (please be patient, this may take a while)\n",
      "Selecting by number: 30 components\n",
      "Fitting ICA took 20.1s.\n",
      "EXCLUDED COMPONENTS [0, 8, 11]\n",
      "Applying ICA to Raw instance\n",
      "    Transforming to ICA space (30 components)\n",
      "    Zeroing out 3 ICA components\n",
      "    Projecting back using 66 PCA components\n",
      "Writing /home/bkapusi/SYMUL/ICA/SYMUL2_EPM10_LT_ica_raw.fif\n",
      "Closing /home/bkapusi/SYMUL/ICA/SYMUL2_EPM10_LT_ica_raw.fif\n",
      "[done]\n",
      "Opening raw data file EVENTS_UPDATED/SYMUL2_EPM07_MT_evup_eve.fif...\n",
      "    Range : 0 ... 1210367 =      0.000 ...  2363.998 secs\n",
      "Ready.\n",
      "Reading 0 ... 1210367  =      0.000 ...  2363.998 secs...\n"
     ]
    },
    {
     "name": "stderr",
     "output_type": "stream",
     "text": [
      "/tmp/ipykernel_1195375/4020791529.py:12: RuntimeWarning: This filename (EVENTS_UPDATED/SYMUL2_EPM07_MT_evup_eve.fif) does not conform to MNE naming conventions. All raw files should end with raw.fif, raw_sss.fif, raw_tsss.fif, _meg.fif, _eeg.fif, _ieeg.fif, raw.fif.gz, raw_sss.fif.gz, raw_tsss.fif.gz, _meg.fif.gz, _eeg.fif.gz or _ieeg.fif.gz\n",
      "  raw = mne.io.read_raw_fif(sample_data_raw_file, preload= True) # this function is to reads .fif file\n"
     ]
    },
    {
     "name": "stdout",
     "output_type": "stream",
     "text": [
      "Filtering raw data in 4 contiguous segments\n",
      "Setting up band-pass filter from 1 - 1e+02 Hz\n",
      "\n",
      "FIR filter parameters\n",
      "---------------------\n",
      "Designing a one-pass, zero-phase, non-causal bandpass filter:\n",
      "- Windowed time-domain design (firwin) method\n",
      "- Hamming window with 0.0194 passband ripple and 53 dB stopband attenuation\n",
      "- Lower passband edge: 1.00\n",
      "- Lower transition bandwidth: 1.00 Hz (-6 dB cutoff frequency: 0.50 Hz)\n",
      "- Upper passband edge: 100.00 Hz\n",
      "- Upper transition bandwidth: 25.00 Hz (-6 dB cutoff frequency: 112.50 Hz)\n",
      "- Filter length: 1691 samples (3.303 s)\n",
      "\n"
     ]
    },
    {
     "name": "stderr",
     "output_type": "stream",
     "text": [
      "[Parallel(n_jobs=1)]: Done  17 tasks      | elapsed:    0.1s\n"
     ]
    },
    {
     "name": "stdout",
     "output_type": "stream",
     "text": [
      "Fitting ICA to data using 66 channels (please be patient, this may take a while)\n",
      "Selecting by number: 30 components\n",
      "Fitting ICA took 21.0s.\n",
      "EXCLUDED COMPONENTS [0, 1, 9, 22]\n",
      "Applying ICA to Raw instance\n",
      "    Transforming to ICA space (30 components)\n",
      "    Zeroing out 4 ICA components\n",
      "    Projecting back using 66 PCA components\n",
      "Writing /home/bkapusi/SYMUL/ICA/SYMUL2_EPM07_MT_ica_raw.fif\n",
      "Closing /home/bkapusi/SYMUL/ICA/SYMUL2_EPM07_MT_ica_raw.fif\n",
      "[done]\n",
      "Opening raw data file EVENTS_UPDATED/SYMUL2_EPM16_LT_evup_eve.fif...\n",
      "    Range : 0 ... 1199615 =      0.000 ...  2342.998 secs\n",
      "Ready.\n",
      "Reading 0 ... 1199615  =      0.000 ...  2342.998 secs...\n"
     ]
    },
    {
     "name": "stderr",
     "output_type": "stream",
     "text": [
      "/tmp/ipykernel_1195375/4020791529.py:12: RuntimeWarning: This filename (EVENTS_UPDATED/SYMUL2_EPM16_LT_evup_eve.fif) does not conform to MNE naming conventions. All raw files should end with raw.fif, raw_sss.fif, raw_tsss.fif, _meg.fif, _eeg.fif, _ieeg.fif, raw.fif.gz, raw_sss.fif.gz, raw_tsss.fif.gz, _meg.fif.gz, _eeg.fif.gz or _ieeg.fif.gz\n",
      "  raw = mne.io.read_raw_fif(sample_data_raw_file, preload= True) # this function is to reads .fif file\n"
     ]
    },
    {
     "name": "stdout",
     "output_type": "stream",
     "text": [
      "Filtering raw data in 4 contiguous segments\n",
      "Setting up band-pass filter from 1 - 1e+02 Hz\n",
      "\n",
      "FIR filter parameters\n",
      "---------------------\n",
      "Designing a one-pass, zero-phase, non-causal bandpass filter:\n",
      "- Windowed time-domain design (firwin) method\n",
      "- Hamming window with 0.0194 passband ripple and 53 dB stopband attenuation\n",
      "- Lower passband edge: 1.00\n",
      "- Lower transition bandwidth: 1.00 Hz (-6 dB cutoff frequency: 0.50 Hz)\n",
      "- Upper passband edge: 100.00 Hz\n",
      "- Upper transition bandwidth: 25.00 Hz (-6 dB cutoff frequency: 112.50 Hz)\n",
      "- Filter length: 1691 samples (3.303 s)\n",
      "\n"
     ]
    },
    {
     "name": "stderr",
     "output_type": "stream",
     "text": [
      "[Parallel(n_jobs=1)]: Done  17 tasks      | elapsed:    0.1s\n"
     ]
    },
    {
     "name": "stdout",
     "output_type": "stream",
     "text": [
      "Fitting ICA to data using 66 channels (please be patient, this may take a while)\n",
      "Selecting by number: 30 components\n",
      "Fitting ICA took 33.2s.\n",
      "EXCLUDED COMPONENTS [0, 6]\n",
      "Applying ICA to Raw instance\n",
      "    Transforming to ICA space (30 components)\n",
      "    Zeroing out 2 ICA components\n",
      "    Projecting back using 66 PCA components\n",
      "Writing /home/bkapusi/SYMUL/ICA/SYMUL2_EPM16_LT_ica_raw.fif\n",
      "Closing /home/bkapusi/SYMUL/ICA/SYMUL2_EPM16_LT_ica_raw.fif\n",
      "[done]\n",
      "Opening raw data file EVENTS_UPDATED/SYMUL2_EPM04_MT_evup_eve.fif...\n",
      "    Range : 0 ... 1114623 =      0.000 ...  2176.998 secs\n",
      "Ready.\n",
      "Reading 0 ... 1114623  =      0.000 ...  2176.998 secs...\n"
     ]
    },
    {
     "name": "stderr",
     "output_type": "stream",
     "text": [
      "/tmp/ipykernel_1195375/4020791529.py:12: RuntimeWarning: This filename (EVENTS_UPDATED/SYMUL2_EPM04_MT_evup_eve.fif) does not conform to MNE naming conventions. All raw files should end with raw.fif, raw_sss.fif, raw_tsss.fif, _meg.fif, _eeg.fif, _ieeg.fif, raw.fif.gz, raw_sss.fif.gz, raw_tsss.fif.gz, _meg.fif.gz, _eeg.fif.gz or _ieeg.fif.gz\n",
      "  raw = mne.io.read_raw_fif(sample_data_raw_file, preload= True) # this function is to reads .fif file\n"
     ]
    },
    {
     "name": "stdout",
     "output_type": "stream",
     "text": [
      "Filtering raw data in 4 contiguous segments\n",
      "Setting up band-pass filter from 1 - 1e+02 Hz\n",
      "\n",
      "FIR filter parameters\n",
      "---------------------\n",
      "Designing a one-pass, zero-phase, non-causal bandpass filter:\n",
      "- Windowed time-domain design (firwin) method\n",
      "- Hamming window with 0.0194 passband ripple and 53 dB stopband attenuation\n",
      "- Lower passband edge: 1.00\n",
      "- Lower transition bandwidth: 1.00 Hz (-6 dB cutoff frequency: 0.50 Hz)\n",
      "- Upper passband edge: 100.00 Hz\n",
      "- Upper transition bandwidth: 25.00 Hz (-6 dB cutoff frequency: 112.50 Hz)\n",
      "- Filter length: 1691 samples (3.303 s)\n",
      "\n"
     ]
    },
    {
     "name": "stderr",
     "output_type": "stream",
     "text": [
      "[Parallel(n_jobs=1)]: Done  17 tasks      | elapsed:    0.1s\n"
     ]
    },
    {
     "name": "stdout",
     "output_type": "stream",
     "text": [
      "Fitting ICA to data using 66 channels (please be patient, this may take a while)\n",
      "Selecting by number: 30 components\n",
      "Fitting ICA took 25.1s.\n",
      "EXCLUDED COMPONENTS [0, 6]\n",
      "Applying ICA to Raw instance\n",
      "    Transforming to ICA space (30 components)\n",
      "    Zeroing out 2 ICA components\n",
      "    Projecting back using 66 PCA components\n",
      "Writing /home/bkapusi/SYMUL/ICA/SYMUL2_EPM04_MT_ica_raw.fif\n",
      "Closing /home/bkapusi/SYMUL/ICA/SYMUL2_EPM04_MT_ica_raw.fif\n",
      "[done]\n",
      "Opening raw data file EVENTS_UPDATED/SYMUL2_EPM15_LT_evup_eve.fif...\n",
      "    Range : 0 ... 1282559 =      0.000 ...  2504.998 secs\n",
      "Ready.\n",
      "Reading 0 ... 1282559  =      0.000 ...  2504.998 secs...\n"
     ]
    },
    {
     "name": "stderr",
     "output_type": "stream",
     "text": [
      "/tmp/ipykernel_1195375/4020791529.py:12: RuntimeWarning: This filename (EVENTS_UPDATED/SYMUL2_EPM15_LT_evup_eve.fif) does not conform to MNE naming conventions. All raw files should end with raw.fif, raw_sss.fif, raw_tsss.fif, _meg.fif, _eeg.fif, _ieeg.fif, raw.fif.gz, raw_sss.fif.gz, raw_tsss.fif.gz, _meg.fif.gz, _eeg.fif.gz or _ieeg.fif.gz\n",
      "  raw = mne.io.read_raw_fif(sample_data_raw_file, preload= True) # this function is to reads .fif file\n"
     ]
    },
    {
     "name": "stdout",
     "output_type": "stream",
     "text": [
      "Filtering raw data in 4 contiguous segments\n",
      "Setting up band-pass filter from 1 - 1e+02 Hz\n",
      "\n",
      "FIR filter parameters\n",
      "---------------------\n",
      "Designing a one-pass, zero-phase, non-causal bandpass filter:\n",
      "- Windowed time-domain design (firwin) method\n",
      "- Hamming window with 0.0194 passband ripple and 53 dB stopband attenuation\n",
      "- Lower passband edge: 1.00\n",
      "- Lower transition bandwidth: 1.00 Hz (-6 dB cutoff frequency: 0.50 Hz)\n",
      "- Upper passband edge: 100.00 Hz\n",
      "- Upper transition bandwidth: 25.00 Hz (-6 dB cutoff frequency: 112.50 Hz)\n",
      "- Filter length: 1691 samples (3.303 s)\n",
      "\n"
     ]
    },
    {
     "name": "stderr",
     "output_type": "stream",
     "text": [
      "[Parallel(n_jobs=1)]: Done  17 tasks      | elapsed:    0.1s\n"
     ]
    },
    {
     "name": "stdout",
     "output_type": "stream",
     "text": [
      "Fitting ICA to data using 66 channels (please be patient, this may take a while)\n",
      "Selecting by number: 30 components\n",
      "Fitting ICA took 39.3s.\n",
      "EXCLUDED COMPONENTS [0, 4]\n",
      "Applying ICA to Raw instance\n",
      "    Transforming to ICA space (30 components)\n",
      "    Zeroing out 2 ICA components\n",
      "    Projecting back using 66 PCA components\n",
      "Writing /home/bkapusi/SYMUL/ICA/SYMUL2_EPM15_LT_ica_raw.fif\n",
      "Closing /home/bkapusi/SYMUL/ICA/SYMUL2_EPM15_LT_ica_raw.fif\n",
      "[done]\n",
      "Opening raw data file EVENTS_UPDATED/SYMUL2_EPM09_MT_evup_eve.fif...\n",
      "    Range : 0 ... 1163263 =      0.000 ...  2271.998 secs\n",
      "Ready.\n",
      "Reading 0 ... 1163263  =      0.000 ...  2271.998 secs...\n"
     ]
    },
    {
     "name": "stderr",
     "output_type": "stream",
     "text": [
      "/tmp/ipykernel_1195375/4020791529.py:12: RuntimeWarning: This filename (EVENTS_UPDATED/SYMUL2_EPM09_MT_evup_eve.fif) does not conform to MNE naming conventions. All raw files should end with raw.fif, raw_sss.fif, raw_tsss.fif, _meg.fif, _eeg.fif, _ieeg.fif, raw.fif.gz, raw_sss.fif.gz, raw_tsss.fif.gz, _meg.fif.gz, _eeg.fif.gz or _ieeg.fif.gz\n",
      "  raw = mne.io.read_raw_fif(sample_data_raw_file, preload= True) # this function is to reads .fif file\n"
     ]
    },
    {
     "name": "stdout",
     "output_type": "stream",
     "text": [
      "Filtering raw data in 4 contiguous segments\n",
      "Setting up band-pass filter from 1 - 1e+02 Hz\n",
      "\n",
      "FIR filter parameters\n",
      "---------------------\n",
      "Designing a one-pass, zero-phase, non-causal bandpass filter:\n",
      "- Windowed time-domain design (firwin) method\n",
      "- Hamming window with 0.0194 passband ripple and 53 dB stopband attenuation\n",
      "- Lower passband edge: 1.00\n",
      "- Lower transition bandwidth: 1.00 Hz (-6 dB cutoff frequency: 0.50 Hz)\n",
      "- Upper passband edge: 100.00 Hz\n",
      "- Upper transition bandwidth: 25.00 Hz (-6 dB cutoff frequency: 112.50 Hz)\n",
      "- Filter length: 1691 samples (3.303 s)\n",
      "\n"
     ]
    },
    {
     "name": "stderr",
     "output_type": "stream",
     "text": [
      "[Parallel(n_jobs=1)]: Done  17 tasks      | elapsed:    0.1s\n"
     ]
    },
    {
     "name": "stdout",
     "output_type": "stream",
     "text": [
      "Fitting ICA to data using 66 channels (please be patient, this may take a while)\n",
      "Selecting by number: 30 components\n",
      "Fitting ICA took 24.6s.\n",
      "EXCLUDED COMPONENTS [0, 4]\n",
      "Applying ICA to Raw instance\n",
      "    Transforming to ICA space (30 components)\n",
      "    Zeroing out 2 ICA components\n",
      "    Projecting back using 66 PCA components\n",
      "Writing /home/bkapusi/SYMUL/ICA/SYMUL2_EPM09_MT_ica_raw.fif\n",
      "Closing /home/bkapusi/SYMUL/ICA/SYMUL2_EPM09_MT_ica_raw.fif\n",
      "[done]\n",
      "Opening raw data file EVENTS_UPDATED/SYMUL2_EPM08_LT_evup_eve.fif...\n",
      "    Range : 0 ... 1177087 =      0.000 ...  2298.998 secs\n",
      "Ready.\n",
      "Reading 0 ... 1177087  =      0.000 ...  2298.998 secs...\n"
     ]
    },
    {
     "name": "stderr",
     "output_type": "stream",
     "text": [
      "/tmp/ipykernel_1195375/4020791529.py:12: RuntimeWarning: This filename (EVENTS_UPDATED/SYMUL2_EPM08_LT_evup_eve.fif) does not conform to MNE naming conventions. All raw files should end with raw.fif, raw_sss.fif, raw_tsss.fif, _meg.fif, _eeg.fif, _ieeg.fif, raw.fif.gz, raw_sss.fif.gz, raw_tsss.fif.gz, _meg.fif.gz, _eeg.fif.gz or _ieeg.fif.gz\n",
      "  raw = mne.io.read_raw_fif(sample_data_raw_file, preload= True) # this function is to reads .fif file\n"
     ]
    },
    {
     "name": "stdout",
     "output_type": "stream",
     "text": [
      "Filtering raw data in 4 contiguous segments\n",
      "Setting up band-pass filter from 1 - 1e+02 Hz\n",
      "\n",
      "FIR filter parameters\n",
      "---------------------\n",
      "Designing a one-pass, zero-phase, non-causal bandpass filter:\n",
      "- Windowed time-domain design (firwin) method\n",
      "- Hamming window with 0.0194 passband ripple and 53 dB stopband attenuation\n",
      "- Lower passband edge: 1.00\n",
      "- Lower transition bandwidth: 1.00 Hz (-6 dB cutoff frequency: 0.50 Hz)\n",
      "- Upper passband edge: 100.00 Hz\n",
      "- Upper transition bandwidth: 25.00 Hz (-6 dB cutoff frequency: 112.50 Hz)\n",
      "- Filter length: 1691 samples (3.303 s)\n",
      "\n"
     ]
    },
    {
     "name": "stderr",
     "output_type": "stream",
     "text": [
      "[Parallel(n_jobs=1)]: Done  17 tasks      | elapsed:    0.1s\n"
     ]
    },
    {
     "name": "stdout",
     "output_type": "stream",
     "text": [
      "Fitting ICA to data using 66 channels (please be patient, this may take a while)\n",
      "Selecting by number: 30 components\n",
      "Fitting ICA took 26.0s.\n",
      "EXCLUDED COMPONENTS [3, 19]\n",
      "Applying ICA to Raw instance\n",
      "    Transforming to ICA space (30 components)\n",
      "    Zeroing out 2 ICA components\n",
      "    Projecting back using 66 PCA components\n",
      "Writing /home/bkapusi/SYMUL/ICA/SYMUL2_EPM08_LT_ica_raw.fif\n",
      "Closing /home/bkapusi/SYMUL/ICA/SYMUL2_EPM08_LT_ica_raw.fif\n",
      "[done]\n",
      "Opening raw data file EVENTS_UPDATED/SYMUL2_EPM13_MT_evup_eve.fif...\n",
      "    Range : 0 ... 1207295 =      0.000 ...  2357.998 secs\n",
      "Ready.\n",
      "Reading 0 ... 1207295  =      0.000 ...  2357.998 secs...\n"
     ]
    },
    {
     "name": "stderr",
     "output_type": "stream",
     "text": [
      "/tmp/ipykernel_1195375/4020791529.py:12: RuntimeWarning: This filename (EVENTS_UPDATED/SYMUL2_EPM13_MT_evup_eve.fif) does not conform to MNE naming conventions. All raw files should end with raw.fif, raw_sss.fif, raw_tsss.fif, _meg.fif, _eeg.fif, _ieeg.fif, raw.fif.gz, raw_sss.fif.gz, raw_tsss.fif.gz, _meg.fif.gz, _eeg.fif.gz or _ieeg.fif.gz\n",
      "  raw = mne.io.read_raw_fif(sample_data_raw_file, preload= True) # this function is to reads .fif file\n"
     ]
    },
    {
     "name": "stdout",
     "output_type": "stream",
     "text": [
      "Filtering raw data in 4 contiguous segments\n",
      "Setting up band-pass filter from 1 - 1e+02 Hz\n",
      "\n",
      "FIR filter parameters\n",
      "---------------------\n",
      "Designing a one-pass, zero-phase, non-causal bandpass filter:\n",
      "- Windowed time-domain design (firwin) method\n",
      "- Hamming window with 0.0194 passband ripple and 53 dB stopband attenuation\n",
      "- Lower passband edge: 1.00\n",
      "- Lower transition bandwidth: 1.00 Hz (-6 dB cutoff frequency: 0.50 Hz)\n",
      "- Upper passband edge: 100.00 Hz\n",
      "- Upper transition bandwidth: 25.00 Hz (-6 dB cutoff frequency: 112.50 Hz)\n",
      "- Filter length: 1691 samples (3.303 s)\n",
      "\n"
     ]
    },
    {
     "name": "stderr",
     "output_type": "stream",
     "text": [
      "[Parallel(n_jobs=1)]: Done  17 tasks      | elapsed:    0.1s\n"
     ]
    },
    {
     "name": "stdout",
     "output_type": "stream",
     "text": [
      "Fitting ICA to data using 66 channels (please be patient, this may take a while)\n",
      "Selecting by number: 30 components\n",
      "Fitting ICA took 25.1s.\n",
      "EXCLUDED COMPONENTS [0, 9]\n",
      "Applying ICA to Raw instance\n",
      "    Transforming to ICA space (30 components)\n",
      "    Zeroing out 2 ICA components\n",
      "    Projecting back using 66 PCA components\n",
      "Writing /home/bkapusi/SYMUL/ICA/SYMUL2_EPM13_MT_ica_raw.fif\n",
      "Closing /home/bkapusi/SYMUL/ICA/SYMUL2_EPM13_MT_ica_raw.fif\n",
      "[done]\n",
      "Opening raw data file EVENTS_UPDATED/SYMUL2_EPM02_LT_evup_eve.fif...\n",
      "    Range : 0 ... 1159679 =      0.000 ...  2264.998 secs\n",
      "Ready.\n",
      "Reading 0 ... 1159679  =      0.000 ...  2264.998 secs...\n"
     ]
    },
    {
     "name": "stderr",
     "output_type": "stream",
     "text": [
      "/tmp/ipykernel_1195375/4020791529.py:12: RuntimeWarning: This filename (EVENTS_UPDATED/SYMUL2_EPM02_LT_evup_eve.fif) does not conform to MNE naming conventions. All raw files should end with raw.fif, raw_sss.fif, raw_tsss.fif, _meg.fif, _eeg.fif, _ieeg.fif, raw.fif.gz, raw_sss.fif.gz, raw_tsss.fif.gz, _meg.fif.gz, _eeg.fif.gz or _ieeg.fif.gz\n",
      "  raw = mne.io.read_raw_fif(sample_data_raw_file, preload= True) # this function is to reads .fif file\n"
     ]
    },
    {
     "name": "stdout",
     "output_type": "stream",
     "text": [
      "Filtering raw data in 4 contiguous segments\n",
      "Setting up band-pass filter from 1 - 1e+02 Hz\n",
      "\n",
      "FIR filter parameters\n",
      "---------------------\n",
      "Designing a one-pass, zero-phase, non-causal bandpass filter:\n",
      "- Windowed time-domain design (firwin) method\n",
      "- Hamming window with 0.0194 passband ripple and 53 dB stopband attenuation\n",
      "- Lower passband edge: 1.00\n",
      "- Lower transition bandwidth: 1.00 Hz (-6 dB cutoff frequency: 0.50 Hz)\n",
      "- Upper passband edge: 100.00 Hz\n",
      "- Upper transition bandwidth: 25.00 Hz (-6 dB cutoff frequency: 112.50 Hz)\n",
      "- Filter length: 1691 samples (3.303 s)\n",
      "\n"
     ]
    },
    {
     "name": "stderr",
     "output_type": "stream",
     "text": [
      "[Parallel(n_jobs=1)]: Done  17 tasks      | elapsed:    0.1s\n"
     ]
    },
    {
     "name": "stdout",
     "output_type": "stream",
     "text": [
      "Fitting ICA to data using 66 channels (please be patient, this may take a while)\n",
      "Selecting by number: 30 components\n",
      "Fitting ICA took 21.3s.\n",
      "EXCLUDED COMPONENTS [8, 10, 11]\n",
      "Applying ICA to Raw instance\n",
      "    Transforming to ICA space (30 components)\n",
      "    Zeroing out 3 ICA components\n",
      "    Projecting back using 66 PCA components\n",
      "Writing /home/bkapusi/SYMUL/ICA/SYMUL2_EPM02_LT_ica_raw.fif\n",
      "Closing /home/bkapusi/SYMUL/ICA/SYMUL2_EPM02_LT_ica_raw.fif\n",
      "[done]\n"
     ]
    }
   ],
   "source": [
    "# Do ICA rejection\n",
    "for iFile in os.listdir(\"EVENTS_UPDATED\"):\n",
    "    if iFile != \".ipynb_checkpoints\":\n",
    "        ica_rejection(iFile, \"EVENTS_UPDATED\")\n",
    "    else:\n",
    "        continue"
   ]
  },
  {
   "cell_type": "markdown",
   "id": "c8c719fe-d734-4d83-8db0-757c18945e6a",
   "metadata": {
    "jp-MarkdownHeadingCollapsed": true
   },
   "source": [
    "# Epoching and filtering"
   ]
  },
  {
   "cell_type": "code",
   "execution_count": 2,
   "id": "04c442fc-975e-4d2a-8db7-7158d7b9232d",
   "metadata": {
    "jupyter": {
     "source_hidden": true
    }
   },
   "outputs": [],
   "source": [
    "# Function description for epoching (bandpass filter included)\n",
    "\n",
    "def epoching(f, path):\n",
    "\n",
    "    \"\"\"\n",
    "    Returns epochs based on the events found in the EEG data.\n",
    "\n",
    "    Arguments:\n",
    "        f (str):\n",
    "        name of the file\n",
    "        path (str):\n",
    "        path to the folder that the file is contained in\n",
    "    \"\"\"\n",
    "    \n",
    "    iFile = path + \"/\" + f\n",
    "    raw = mne.io.read_raw_fif( iFile, preload=True, on_split_missing=\"warn\" )\n",
    "\n",
    "    # Applying a bandpass filter\n",
    "    lFreq=0.01\n",
    "    hFreq=30\n",
    "    \n",
    "    raw.filter( lFreq, hFreq )\n",
    "    \n",
    "    # Define tmin and tmax\n",
    "    tmin_second_ld = -0.1\n",
    "    tmax_second_ld = 1.2\n",
    "\n",
    "    # get condition\n",
    "    iCondition = f[13:15]\n",
    "\n",
    "    # Reading from events\n",
    "    events = mne.find_events( raw, raw.ch_names )\n",
    "\n",
    "    # selecting events according to possible ids (original events, and shifted events)\n",
    "    event_ids_og = [111, 112, 113, 114, 115, 116, 117, 118,\n",
    "                   211, 212, 213, 214, 215, 216, 217, 218,\n",
    "                   311, 312, 313, 314, 315, 316, 317, 318]\n",
    "    \n",
    "    event_ids_shift = [121, 122, 123, 124, 125, 126, 127, 128,\n",
    "                       221, 222, 223, 224, 225, 226, 227, 228,\n",
    "                       321, 322, 323, 324, 325, 326, 327, 328]\n",
    "\n",
    "    events_unq = np.unique( events[:,2] )\n",
    "\n",
    "    events_set = set( events_unq ) & set( event_ids_shift )\n",
    "    events_l = [x for x in events_set]\n",
    "\n",
    "    # Creating epoch files from important event triggers:\n",
    "    # Baseline correction applied automatically (-100ms)\n",
    "    epochs = mne.Epochs(raw, events, tmin = tmin_second_ld, tmax = tmax_second_ld, event_id = events_l,\n",
    "                        verbose = True, preload = True, reject=None, reject_by_annotation=False)\n",
    "\n",
    "    # Create a copy of the original epochs\n",
    "    epochs_copy = epochs.copy()\n",
    "\n",
    "    return epochs_copy"
   ]
  },
  {
   "cell_type": "markdown",
   "id": "678118ef-19c2-4c64-a45a-ead55b539220",
   "metadata": {
    "jp-MarkdownHeadingCollapsed": true
   },
   "source": [
    "## LT"
   ]
  },
  {
   "cell_type": "code",
   "execution_count": 3,
   "id": "ce4489dd-3386-4535-8226-b609153350d3",
   "metadata": {
    "scrolled": true
   },
   "outputs": [
    {
     "name": "stdout",
     "output_type": "stream",
     "text": [
      "Opening raw data file data/storage_barni/icaRemoved/LT/block1/SYMUL2_EPM03_LT_ica_raw.fif...\n",
      "    Range : 0 ... 1177599 =      0.000 ...  2299.998 secs\n",
      "Ready.\n",
      "Reading 0 ... 1177599  =      0.000 ...  2299.998 secs...\n",
      "Filtering raw data in 4 contiguous segments\n",
      "Setting up band-pass filter from 0.01 - 30 Hz\n",
      "\n",
      "FIR filter parameters\n",
      "---------------------\n",
      "Designing a one-pass, zero-phase, non-causal bandpass filter:\n",
      "- Windowed time-domain design (firwin) method\n",
      "- Hamming window with 0.0194 passband ripple and 53 dB stopband attenuation\n",
      "- Lower passband edge: 0.01\n",
      "- Lower transition bandwidth: 0.01 Hz (-6 dB cutoff frequency: 0.01 Hz)\n",
      "- Upper passband edge: 30.00 Hz\n",
      "- Upper transition bandwidth: 7.50 Hz (-6 dB cutoff frequency: 33.75 Hz)\n",
      "- Filter length: 168961 samples (330.002 s)\n",
      "\n"
     ]
    },
    {
     "name": "stderr",
     "output_type": "stream",
     "text": [
      "[Parallel(n_jobs=1)]: Done  17 tasks      | elapsed:    0.7s\n"
     ]
    },
    {
     "name": "stdout",
     "output_type": "stream",
     "text": [
      "Trigger channel Temp has a non-zero initial value of {initial_value} (consider using initial_event=True to detect this event)\n",
      "1152 events found on stim channel Status\n",
      "Event IDs: [101 102 103 104 105 106 107 108 111 112 113 114 115 116 117 118 121 122\n",
      " 123 124 125 126 127 128 131 132 133 134 135 136 137 138]\n",
      "Not setting metadata\n",
      "288 matching events found\n",
      "Setting baseline interval to [-0.099609375, 0.0] s\n",
      "Applying baseline correction (mode: mean)\n",
      "0 projection items activated\n",
      "Using data from preloaded Raw for 288 events and 666 original time points ...\n",
      "0 bad epochs dropped\n",
      "Opening raw data file data/storage_barni/icaRemoved/LT/block1/SYMUL2_EPM02_LT_ica_raw.fif...\n",
      "    Range : 0 ... 1159679 =      0.000 ...  2264.998 secs\n",
      "Ready.\n",
      "Reading 0 ... 1159679  =      0.000 ...  2264.998 secs...\n",
      "Filtering raw data in 4 contiguous segments\n",
      "Setting up band-pass filter from 0.01 - 30 Hz\n",
      "\n",
      "FIR filter parameters\n",
      "---------------------\n",
      "Designing a one-pass, zero-phase, non-causal bandpass filter:\n",
      "- Windowed time-domain design (firwin) method\n",
      "- Hamming window with 0.0194 passband ripple and 53 dB stopband attenuation\n",
      "- Lower passband edge: 0.01\n",
      "- Lower transition bandwidth: 0.01 Hz (-6 dB cutoff frequency: 0.01 Hz)\n",
      "- Upper passband edge: 30.00 Hz\n",
      "- Upper transition bandwidth: 7.50 Hz (-6 dB cutoff frequency: 33.75 Hz)\n",
      "- Filter length: 168961 samples (330.002 s)\n",
      "\n"
     ]
    },
    {
     "name": "stderr",
     "output_type": "stream",
     "text": [
      "[Parallel(n_jobs=1)]: Done  17 tasks      | elapsed:    0.7s\n"
     ]
    },
    {
     "name": "stdout",
     "output_type": "stream",
     "text": [
      "Trigger channel Temp has a non-zero initial value of {initial_value} (consider using initial_event=True to detect this event)\n",
      "1152 events found on stim channel Status\n",
      "Event IDs: [101 102 103 104 105 106 107 108 111 112 113 114 115 116 117 118 121 122\n",
      " 123 124 125 126 127 128 131 132 133 134 135 136 137 138 204 214 224 234]\n",
      "Not setting metadata\n",
      "288 matching events found\n",
      "Setting baseline interval to [-0.099609375, 0.0] s\n",
      "Applying baseline correction (mode: mean)\n",
      "0 projection items activated\n",
      "Using data from preloaded Raw for 288 events and 666 original time points ...\n",
      "0 bad epochs dropped\n",
      "Opening raw data file data/storage_barni/icaRemoved/LT/block1/SYMUL2_EPM04_LT_ica_raw.fif...\n",
      "    Range : 0 ... 1187327 =      0.000 ...  2318.998 secs\n",
      "Ready.\n",
      "Reading 0 ... 1187327  =      0.000 ...  2318.998 secs...\n",
      "Filtering raw data in 4 contiguous segments\n",
      "Setting up band-pass filter from 0.01 - 30 Hz\n",
      "\n",
      "FIR filter parameters\n",
      "---------------------\n",
      "Designing a one-pass, zero-phase, non-causal bandpass filter:\n",
      "- Windowed time-domain design (firwin) method\n",
      "- Hamming window with 0.0194 passband ripple and 53 dB stopband attenuation\n",
      "- Lower passband edge: 0.01\n",
      "- Lower transition bandwidth: 0.01 Hz (-6 dB cutoff frequency: 0.01 Hz)\n",
      "- Upper passband edge: 30.00 Hz\n",
      "- Upper transition bandwidth: 7.50 Hz (-6 dB cutoff frequency: 33.75 Hz)\n",
      "- Filter length: 168961 samples (330.002 s)\n",
      "\n"
     ]
    },
    {
     "name": "stderr",
     "output_type": "stream",
     "text": [
      "[Parallel(n_jobs=1)]: Done  17 tasks      | elapsed:    0.7s\n"
     ]
    },
    {
     "name": "stdout",
     "output_type": "stream",
     "text": [
      "Trigger channel Temp has a non-zero initial value of {initial_value} (consider using initial_event=True to detect this event)\n",
      "1152 events found on stim channel Status\n",
      "Event IDs: [101 102 103 104 105 106 107 108 111 112 113 114 115 116 117 118 121 122\n",
      " 123 124 125 126 127 128 131 132 133 134 135 136 137 138 202 205 206 207\n",
      " 208 212 215 216 217 218 222 225 226 227 228 232 235 236 237 238]\n",
      "Not setting metadata\n",
      "288 matching events found\n",
      "Setting baseline interval to [-0.099609375, 0.0] s\n",
      "Applying baseline correction (mode: mean)\n",
      "0 projection items activated\n",
      "Using data from preloaded Raw for 288 events and 666 original time points ...\n",
      "0 bad epochs dropped\n",
      "Opening raw data file data/storage_barni/icaRemoved/LT/block1/SYMUL2_EPM08_LT_ica_raw.fif...\n",
      "    Range : 0 ... 1177087 =      0.000 ...  2298.998 secs\n",
      "Ready.\n",
      "Reading 0 ... 1177087  =      0.000 ...  2298.998 secs...\n",
      "Filtering raw data in 4 contiguous segments\n",
      "Setting up band-pass filter from 0.01 - 30 Hz\n",
      "\n",
      "FIR filter parameters\n",
      "---------------------\n",
      "Designing a one-pass, zero-phase, non-causal bandpass filter:\n",
      "- Windowed time-domain design (firwin) method\n",
      "- Hamming window with 0.0194 passband ripple and 53 dB stopband attenuation\n",
      "- Lower passband edge: 0.01\n",
      "- Lower transition bandwidth: 0.01 Hz (-6 dB cutoff frequency: 0.01 Hz)\n",
      "- Upper passband edge: 30.00 Hz\n",
      "- Upper transition bandwidth: 7.50 Hz (-6 dB cutoff frequency: 33.75 Hz)\n",
      "- Filter length: 168961 samples (330.002 s)\n",
      "\n"
     ]
    },
    {
     "name": "stderr",
     "output_type": "stream",
     "text": [
      "[Parallel(n_jobs=1)]: Done  17 tasks      | elapsed:    0.7s\n"
     ]
    },
    {
     "name": "stdout",
     "output_type": "stream",
     "text": [
      "Trigger channel Temp has a non-zero initial value of {initial_value} (consider using initial_event=True to detect this event)\n",
      "1152 events found on stim channel Status\n",
      "Event IDs: [101 102 103 104 105 106 107 108 111 112 113 114 115 116 117 118 121 122\n",
      " 123 124 125 126 127 128 131 132 133 134 135 136 137 138 201 202 203 204\n",
      " 205 207 211 212 213 214 215 217 221 222 223 224 225 227 231 232 233 234\n",
      " 235 237]\n",
      "Not setting metadata\n",
      "288 matching events found\n",
      "Setting baseline interval to [-0.099609375, 0.0] s\n",
      "Applying baseline correction (mode: mean)\n",
      "0 projection items activated\n",
      "Using data from preloaded Raw for 288 events and 666 original time points ...\n",
      "0 bad epochs dropped\n",
      "Opening raw data file data/storage_barni/icaRemoved/LT/block1/SYMUL2_EPM07_LT_ica_raw.fif...\n",
      "    Range : 0 ... 1226239 =      0.000 ...  2394.998 secs\n",
      "Ready.\n",
      "Reading 0 ... 1226239  =      0.000 ...  2394.998 secs...\n",
      "Filtering raw data in 4 contiguous segments\n",
      "Setting up band-pass filter from 0.01 - 30 Hz\n",
      "\n",
      "FIR filter parameters\n",
      "---------------------\n",
      "Designing a one-pass, zero-phase, non-causal bandpass filter:\n",
      "- Windowed time-domain design (firwin) method\n",
      "- Hamming window with 0.0194 passband ripple and 53 dB stopband attenuation\n",
      "- Lower passband edge: 0.01\n",
      "- Lower transition bandwidth: 0.01 Hz (-6 dB cutoff frequency: 0.01 Hz)\n",
      "- Upper passband edge: 30.00 Hz\n",
      "- Upper transition bandwidth: 7.50 Hz (-6 dB cutoff frequency: 33.75 Hz)\n",
      "- Filter length: 168961 samples (330.002 s)\n",
      "\n"
     ]
    },
    {
     "name": "stderr",
     "output_type": "stream",
     "text": [
      "[Parallel(n_jobs=1)]: Done  17 tasks      | elapsed:    0.7s\n"
     ]
    },
    {
     "name": "stdout",
     "output_type": "stream",
     "text": [
      "Trigger channel Temp has a non-zero initial value of {initial_value} (consider using initial_event=True to detect this event)\n",
      "1152 events found on stim channel Status\n",
      "Event IDs: [101 102 103 104 105 106 107 108 111 112 113 114 115 116 117 118 121 122\n",
      " 123 124 125 126 127 128 131 132 133 134 135 136 137 138 202 203 204 205\n",
      " 206 212 213 214 215 216 222 223 224 225 226 232 233 234 235 236]\n",
      "Not setting metadata\n",
      "288 matching events found\n",
      "Setting baseline interval to [-0.099609375, 0.0] s\n",
      "Applying baseline correction (mode: mean)\n",
      "0 projection items activated\n",
      "Using data from preloaded Raw for 288 events and 666 original time points ...\n",
      "0 bad epochs dropped\n",
      "Opening raw data file data/storage_barni/icaRemoved/LT/block1/SYMUL2_EPM06_LT_ica_raw.fif...\n",
      "    Range : 0 ... 1210367 =      0.000 ...  2363.998 secs\n",
      "Ready.\n",
      "Reading 0 ... 1210367  =      0.000 ...  2363.998 secs...\n",
      "Filtering raw data in 4 contiguous segments\n",
      "Setting up band-pass filter from 0.01 - 30 Hz\n",
      "\n",
      "FIR filter parameters\n",
      "---------------------\n",
      "Designing a one-pass, zero-phase, non-causal bandpass filter:\n",
      "- Windowed time-domain design (firwin) method\n",
      "- Hamming window with 0.0194 passband ripple and 53 dB stopband attenuation\n",
      "- Lower passband edge: 0.01\n",
      "- Lower transition bandwidth: 0.01 Hz (-6 dB cutoff frequency: 0.01 Hz)\n",
      "- Upper passband edge: 30.00 Hz\n",
      "- Upper transition bandwidth: 7.50 Hz (-6 dB cutoff frequency: 33.75 Hz)\n",
      "- Filter length: 168961 samples (330.002 s)\n",
      "\n"
     ]
    },
    {
     "name": "stderr",
     "output_type": "stream",
     "text": [
      "[Parallel(n_jobs=1)]: Done  17 tasks      | elapsed:    0.7s\n"
     ]
    },
    {
     "name": "stdout",
     "output_type": "stream",
     "text": [
      "Trigger channel Temp has a non-zero initial value of {initial_value} (consider using initial_event=True to detect this event)\n",
      "1152 events found on stim channel Status\n",
      "Event IDs: [101 102 103 104 105 106 107 108 111 112 113 114 115 116 117 118 121 122\n",
      " 123 124 125 126 127 128 131 132 133 134 135 136 137 138 201 202 208 211\n",
      " 212 218 221 222 228 231 232 238]\n",
      "Not setting metadata\n",
      "288 matching events found\n",
      "Setting baseline interval to [-0.099609375, 0.0] s\n",
      "Applying baseline correction (mode: mean)\n",
      "0 projection items activated\n",
      "Using data from preloaded Raw for 288 events and 666 original time points ...\n",
      "0 bad epochs dropped\n",
      "Opening raw data file data/storage_barni/icaRemoved/LT/block1/SYMUL2_EPM10_LT_ica_raw.fif...\n",
      "    Range : 0 ... 1181695 =      0.000 ...  2307.998 secs\n",
      "Ready.\n",
      "Reading 0 ... 1181695  =      0.000 ...  2307.998 secs...\n",
      "Filtering raw data in 4 contiguous segments\n",
      "Setting up band-pass filter from 0.01 - 30 Hz\n",
      "\n",
      "FIR filter parameters\n",
      "---------------------\n",
      "Designing a one-pass, zero-phase, non-causal bandpass filter:\n",
      "- Windowed time-domain design (firwin) method\n",
      "- Hamming window with 0.0194 passband ripple and 53 dB stopband attenuation\n",
      "- Lower passband edge: 0.01\n",
      "- Lower transition bandwidth: 0.01 Hz (-6 dB cutoff frequency: 0.01 Hz)\n",
      "- Upper passband edge: 30.00 Hz\n",
      "- Upper transition bandwidth: 7.50 Hz (-6 dB cutoff frequency: 33.75 Hz)\n",
      "- Filter length: 168961 samples (330.002 s)\n",
      "\n"
     ]
    },
    {
     "name": "stderr",
     "output_type": "stream",
     "text": [
      "[Parallel(n_jobs=1)]: Done  17 tasks      | elapsed:    0.7s\n"
     ]
    },
    {
     "name": "stdout",
     "output_type": "stream",
     "text": [
      "Trigger channel Temp has a non-zero initial value of {initial_value} (consider using initial_event=True to detect this event)\n",
      "1152 events found on stim channel Status\n",
      "Event IDs: [101 102 103 104 105 106 107 108 111 112 113 114 115 116 117 118 121 122\n",
      " 123 124 125 126 127 128 131 132 133 134 135 136 137 138 202 203 206 207\n",
      " 212 213 216 217 222 223 226 227 232 233 236 237]\n",
      "Not setting metadata\n",
      "288 matching events found\n",
      "Setting baseline interval to [-0.099609375, 0.0] s\n",
      "Applying baseline correction (mode: mean)\n",
      "0 projection items activated\n",
      "Using data from preloaded Raw for 288 events and 666 original time points ...\n",
      "0 bad epochs dropped\n",
      "Opening raw data file data/storage_barni/icaRemoved/LT/block1/SYMUL2_EPM09_LT_ica_raw.fif...\n",
      "    Range : 0 ... 1198079 =      0.000 ...  2339.998 secs\n",
      "Ready.\n",
      "Reading 0 ... 1198079  =      0.000 ...  2339.998 secs...\n",
      "Filtering raw data in 4 contiguous segments\n",
      "Setting up band-pass filter from 0.01 - 30 Hz\n",
      "\n",
      "FIR filter parameters\n",
      "---------------------\n",
      "Designing a one-pass, zero-phase, non-causal bandpass filter:\n",
      "- Windowed time-domain design (firwin) method\n",
      "- Hamming window with 0.0194 passband ripple and 53 dB stopband attenuation\n",
      "- Lower passband edge: 0.01\n",
      "- Lower transition bandwidth: 0.01 Hz (-6 dB cutoff frequency: 0.01 Hz)\n",
      "- Upper passband edge: 30.00 Hz\n",
      "- Upper transition bandwidth: 7.50 Hz (-6 dB cutoff frequency: 33.75 Hz)\n",
      "- Filter length: 168961 samples (330.002 s)\n",
      "\n"
     ]
    },
    {
     "name": "stderr",
     "output_type": "stream",
     "text": [
      "[Parallel(n_jobs=1)]: Done  17 tasks      | elapsed:    0.7s\n"
     ]
    },
    {
     "name": "stdout",
     "output_type": "stream",
     "text": [
      "1 event found on stim channel GSR2\n",
      "Event IDs: [262143]\n",
      "Trigger channel Temp has a non-zero initial value of {initial_value} (consider using initial_event=True to detect this event)\n",
      "1152 events found on stim channel Status\n",
      "Event IDs: [101 102 103 104 105 106 107 108 111 112 113 114 115 116 117 118 121 122\n",
      " 123 124 125 126 127 128 131 132 133 134 135 136 137 138 202 203 204 205\n",
      " 206 207 208 212 213 214 215 216 217 218 222 223 224 225 226 227 228 232\n",
      " 233 234 235 236 237 238]\n",
      "Not setting metadata\n",
      "288 matching events found\n",
      "Setting baseline interval to [-0.099609375, 0.0] s\n",
      "Applying baseline correction (mode: mean)\n",
      "0 projection items activated\n",
      "Using data from preloaded Raw for 288 events and 666 original time points ...\n",
      "0 bad epochs dropped\n",
      "Opening raw data file data/storage_barni/icaRemoved/LT/block1/SYMUL2_EPM11_LT_ica_raw.fif...\n",
      "    Range : 0 ... 1159167 =      0.000 ...  2263.998 secs\n",
      "Ready.\n",
      "Reading 0 ... 1159167  =      0.000 ...  2263.998 secs...\n",
      "Filtering raw data in 4 contiguous segments\n",
      "Setting up band-pass filter from 0.01 - 30 Hz\n",
      "\n",
      "FIR filter parameters\n",
      "---------------------\n",
      "Designing a one-pass, zero-phase, non-causal bandpass filter:\n",
      "- Windowed time-domain design (firwin) method\n",
      "- Hamming window with 0.0194 passband ripple and 53 dB stopband attenuation\n",
      "- Lower passband edge: 0.01\n",
      "- Lower transition bandwidth: 0.01 Hz (-6 dB cutoff frequency: 0.01 Hz)\n",
      "- Upper passband edge: 30.00 Hz\n",
      "- Upper transition bandwidth: 7.50 Hz (-6 dB cutoff frequency: 33.75 Hz)\n",
      "- Filter length: 168961 samples (330.002 s)\n",
      "\n"
     ]
    },
    {
     "name": "stderr",
     "output_type": "stream",
     "text": [
      "[Parallel(n_jobs=1)]: Done  17 tasks      | elapsed:    0.7s\n"
     ]
    },
    {
     "name": "stdout",
     "output_type": "stream",
     "text": [
      "Trigger channel Temp has a non-zero initial value of {initial_value} (consider using initial_event=True to detect this event)\n",
      "1152 events found on stim channel Status\n",
      "Event IDs: [101 102 103 104 105 106 107 108 111 112 113 114 115 116 117 118 121 122\n",
      " 123 124 125 126 127 128 131 132 133 134 135 136 137 138 201 202 203 204\n",
      " 205 206 207 208 211 212 213 214 215 216 217 218 221 222 223 224 225 226\n",
      " 227 228 231 232 233 234 235 236 237 238]\n",
      "Not setting metadata\n",
      "288 matching events found\n",
      "Setting baseline interval to [-0.099609375, 0.0] s\n",
      "Applying baseline correction (mode: mean)\n",
      "0 projection items activated\n",
      "Using data from preloaded Raw for 288 events and 666 original time points ...\n",
      "0 bad epochs dropped\n",
      "Opening raw data file data/storage_barni/icaRemoved/LT/block1/SYMUL2_EPM12_LT_ica_raw.fif...\n",
      "    Range : 0 ... 1147903 =      0.000 ...  2241.998 secs\n",
      "Ready.\n",
      "Reading 0 ... 1147903  =      0.000 ...  2241.998 secs...\n",
      "Filtering raw data in 4 contiguous segments\n",
      "Setting up band-pass filter from 0.01 - 30 Hz\n",
      "\n",
      "FIR filter parameters\n",
      "---------------------\n",
      "Designing a one-pass, zero-phase, non-causal bandpass filter:\n",
      "- Windowed time-domain design (firwin) method\n",
      "- Hamming window with 0.0194 passband ripple and 53 dB stopband attenuation\n",
      "- Lower passband edge: 0.01\n",
      "- Lower transition bandwidth: 0.01 Hz (-6 dB cutoff frequency: 0.01 Hz)\n",
      "- Upper passband edge: 30.00 Hz\n",
      "- Upper transition bandwidth: 7.50 Hz (-6 dB cutoff frequency: 33.75 Hz)\n",
      "- Filter length: 168961 samples (330.002 s)\n",
      "\n"
     ]
    },
    {
     "name": "stderr",
     "output_type": "stream",
     "text": [
      "[Parallel(n_jobs=1)]: Done  17 tasks      | elapsed:    0.7s\n"
     ]
    },
    {
     "name": "stdout",
     "output_type": "stream",
     "text": [
      "Trigger channel Temp has a non-zero initial value of {initial_value} (consider using initial_event=True to detect this event)\n",
      "1152 events found on stim channel Status\n",
      "Event IDs: [101 102 103 104 105 106 107 108 111 112 113 114 115 116 117 118 121 122\n",
      " 123 124 125 126 127 128 131 132 133 134 135 136 137 138 202 203 204 208\n",
      " 212 213 214 218 222 223 224 228 232 233 234 238]\n",
      "Not setting metadata\n",
      "288 matching events found\n",
      "Setting baseline interval to [-0.099609375, 0.0] s\n",
      "Applying baseline correction (mode: mean)\n",
      "0 projection items activated\n",
      "Using data from preloaded Raw for 288 events and 666 original time points ...\n",
      "0 bad epochs dropped\n",
      "Opening raw data file data/storage_barni/icaRemoved/LT/block1/SYMUL2_EPM13_LT_ica_raw.fif...\n",
      "    Range : 0 ... 1194495 =      0.000 ...  2332.998 secs\n",
      "Ready.\n",
      "Reading 0 ... 1194495  =      0.000 ...  2332.998 secs...\n",
      "Filtering raw data in 4 contiguous segments\n",
      "Setting up band-pass filter from 0.01 - 30 Hz\n",
      "\n",
      "FIR filter parameters\n",
      "---------------------\n",
      "Designing a one-pass, zero-phase, non-causal bandpass filter:\n",
      "- Windowed time-domain design (firwin) method\n",
      "- Hamming window with 0.0194 passband ripple and 53 dB stopband attenuation\n",
      "- Lower passband edge: 0.01\n",
      "- Lower transition bandwidth: 0.01 Hz (-6 dB cutoff frequency: 0.01 Hz)\n",
      "- Upper passband edge: 30.00 Hz\n",
      "- Upper transition bandwidth: 7.50 Hz (-6 dB cutoff frequency: 33.75 Hz)\n",
      "- Filter length: 168961 samples (330.002 s)\n",
      "\n"
     ]
    },
    {
     "name": "stderr",
     "output_type": "stream",
     "text": [
      "[Parallel(n_jobs=1)]: Done  17 tasks      | elapsed:    0.7s\n"
     ]
    },
    {
     "name": "stdout",
     "output_type": "stream",
     "text": [
      "Trigger channel Temp has a non-zero initial value of {initial_value} (consider using initial_event=True to detect this event)\n",
      "1152 events found on stim channel Status\n",
      "Event IDs: [101 102 103 104 105 106 107 108 111 112 113 114 115 116 117 118 121 122\n",
      " 123 124 125 126 127 128 131 132 133 134 135 136 137 138 201 206 207 208\n",
      " 211 216 217 218 221 226 227 228 231 236 237 238]\n",
      "Not setting metadata\n",
      "288 matching events found\n",
      "Setting baseline interval to [-0.099609375, 0.0] s\n",
      "Applying baseline correction (mode: mean)\n",
      "0 projection items activated\n",
      "Using data from preloaded Raw for 288 events and 666 original time points ...\n",
      "0 bad epochs dropped\n",
      "Opening raw data file data/storage_barni/icaRemoved/LT/block1/SYMUL2_EPM14_LT_ica_raw.fif...\n",
      "    Range : 0 ... 1172991 =      0.000 ...  2290.998 secs\n",
      "Ready.\n",
      "Reading 0 ... 1172991  =      0.000 ...  2290.998 secs...\n",
      "Filtering raw data in 4 contiguous segments\n",
      "Setting up band-pass filter from 0.01 - 30 Hz\n",
      "\n",
      "FIR filter parameters\n",
      "---------------------\n",
      "Designing a one-pass, zero-phase, non-causal bandpass filter:\n",
      "- Windowed time-domain design (firwin) method\n",
      "- Hamming window with 0.0194 passband ripple and 53 dB stopband attenuation\n",
      "- Lower passband edge: 0.01\n",
      "- Lower transition bandwidth: 0.01 Hz (-6 dB cutoff frequency: 0.01 Hz)\n",
      "- Upper passband edge: 30.00 Hz\n",
      "- Upper transition bandwidth: 7.50 Hz (-6 dB cutoff frequency: 33.75 Hz)\n",
      "- Filter length: 168961 samples (330.002 s)\n",
      "\n"
     ]
    },
    {
     "name": "stderr",
     "output_type": "stream",
     "text": [
      "[Parallel(n_jobs=1)]: Done  17 tasks      | elapsed:    0.7s\n"
     ]
    },
    {
     "name": "stdout",
     "output_type": "stream",
     "text": [
      "Trigger channel Temp has a non-zero initial value of {initial_value} (consider using initial_event=True to detect this event)\n",
      "1152 events found on stim channel Status\n",
      "Event IDs: [101 102 103 104 105 106 107 108 111 112 113 114 115 116 117 118 121 122\n",
      " 123 124 125 126 127 128 131 132 133 134 135 136 137 138 201 202 203 205\n",
      " 206 207 208 211 212 213 215 216 217 218 221 222 223 225 226 227 228 231\n",
      " 232 233 235 236 237 238]\n",
      "Not setting metadata\n",
      "288 matching events found\n",
      "Setting baseline interval to [-0.099609375, 0.0] s\n",
      "Applying baseline correction (mode: mean)\n",
      "0 projection items activated\n",
      "Using data from preloaded Raw for 288 events and 666 original time points ...\n",
      "0 bad epochs dropped\n",
      "Opening raw data file data/storage_barni/icaRemoved/LT/block1/SYMUL2_EPM16_LT_ica_raw.fif...\n",
      "    Range : 0 ... 1199615 =      0.000 ...  2342.998 secs\n",
      "Ready.\n",
      "Reading 0 ... 1199615  =      0.000 ...  2342.998 secs...\n",
      "Filtering raw data in 4 contiguous segments\n",
      "Setting up band-pass filter from 0.01 - 30 Hz\n",
      "\n",
      "FIR filter parameters\n",
      "---------------------\n",
      "Designing a one-pass, zero-phase, non-causal bandpass filter:\n",
      "- Windowed time-domain design (firwin) method\n",
      "- Hamming window with 0.0194 passband ripple and 53 dB stopband attenuation\n",
      "- Lower passband edge: 0.01\n",
      "- Lower transition bandwidth: 0.01 Hz (-6 dB cutoff frequency: 0.01 Hz)\n",
      "- Upper passband edge: 30.00 Hz\n",
      "- Upper transition bandwidth: 7.50 Hz (-6 dB cutoff frequency: 33.75 Hz)\n",
      "- Filter length: 168961 samples (330.002 s)\n",
      "\n"
     ]
    },
    {
     "name": "stderr",
     "output_type": "stream",
     "text": [
      "[Parallel(n_jobs=1)]: Done  17 tasks      | elapsed:    0.7s\n"
     ]
    },
    {
     "name": "stdout",
     "output_type": "stream",
     "text": [
      "Trigger channel Temp has a non-zero initial value of {initial_value} (consider using initial_event=True to detect this event)\n",
      "1152 events found on stim channel Status\n",
      "Event IDs: [101 102 103 104 105 106 107 108 111 112 113 114 115 116 117 118 121 122\n",
      " 123 124 125 126 127 128 131 132 133 134 135 136 137 138 202 203 205 207\n",
      " 208 212 213 215 217 218 222 223 225 227 228 232 233 235 237 238]\n",
      "Not setting metadata\n",
      "288 matching events found\n",
      "Setting baseline interval to [-0.099609375, 0.0] s\n",
      "Applying baseline correction (mode: mean)\n",
      "0 projection items activated\n",
      "Using data from preloaded Raw for 288 events and 666 original time points ...\n",
      "0 bad epochs dropped\n",
      "Opening raw data file data/storage_barni/icaRemoved/LT/block1/SYMUL2_EPM15_LT_ica_raw.fif...\n",
      "    Range : 0 ... 1282559 =      0.000 ...  2504.998 secs\n",
      "Ready.\n",
      "Reading 0 ... 1282559  =      0.000 ...  2504.998 secs...\n",
      "Filtering raw data in 4 contiguous segments\n",
      "Setting up band-pass filter from 0.01 - 30 Hz\n",
      "\n",
      "FIR filter parameters\n",
      "---------------------\n",
      "Designing a one-pass, zero-phase, non-causal bandpass filter:\n",
      "- Windowed time-domain design (firwin) method\n",
      "- Hamming window with 0.0194 passband ripple and 53 dB stopband attenuation\n",
      "- Lower passband edge: 0.01\n",
      "- Lower transition bandwidth: 0.01 Hz (-6 dB cutoff frequency: 0.01 Hz)\n",
      "- Upper passband edge: 30.00 Hz\n",
      "- Upper transition bandwidth: 7.50 Hz (-6 dB cutoff frequency: 33.75 Hz)\n",
      "- Filter length: 168961 samples (330.002 s)\n",
      "\n"
     ]
    },
    {
     "name": "stderr",
     "output_type": "stream",
     "text": [
      "[Parallel(n_jobs=1)]: Done  17 tasks      | elapsed:    1.1s\n"
     ]
    },
    {
     "name": "stdout",
     "output_type": "stream",
     "text": [
      "Trigger channel Temp has a non-zero initial value of {initial_value} (consider using initial_event=True to detect this event)\n",
      "1152 events found on stim channel Status\n",
      "Event IDs: [101 102 103 104 105 106 107 108 111 112 113 114 115 116 117 118 121 122\n",
      " 123 124 125 126 127 128 131 132 133 134 135 136 137 138 204 205 214 215\n",
      " 224 225 234 235]\n",
      "Not setting metadata\n",
      "288 matching events found\n",
      "Setting baseline interval to [-0.099609375, 0.0] s\n",
      "Applying baseline correction (mode: mean)\n",
      "0 projection items activated\n",
      "Using data from preloaded Raw for 288 events and 666 original time points ...\n",
      "0 bad epochs dropped\n",
      "Opening raw data file data/storage_barni/icaRemoved/LT/block1/SYMUL2_EPM17_LT_ica_raw.fif...\n",
      "    Range : 0 ... 1184767 =      0.000 ...  2313.998 secs\n",
      "Ready.\n",
      "Reading 0 ... 1184767  =      0.000 ...  2313.998 secs...\n",
      "Filtering raw data in 4 contiguous segments\n",
      "Setting up band-pass filter from 0.01 - 30 Hz\n",
      "\n",
      "FIR filter parameters\n",
      "---------------------\n",
      "Designing a one-pass, zero-phase, non-causal bandpass filter:\n",
      "- Windowed time-domain design (firwin) method\n",
      "- Hamming window with 0.0194 passband ripple and 53 dB stopband attenuation\n",
      "- Lower passband edge: 0.01\n",
      "- Lower transition bandwidth: 0.01 Hz (-6 dB cutoff frequency: 0.01 Hz)\n",
      "- Upper passband edge: 30.00 Hz\n",
      "- Upper transition bandwidth: 7.50 Hz (-6 dB cutoff frequency: 33.75 Hz)\n",
      "- Filter length: 168961 samples (330.002 s)\n",
      "\n"
     ]
    },
    {
     "name": "stderr",
     "output_type": "stream",
     "text": [
      "[Parallel(n_jobs=1)]: Done  17 tasks      | elapsed:    0.7s\n"
     ]
    },
    {
     "name": "stdout",
     "output_type": "stream",
     "text": [
      "Trigger channel Temp has a non-zero initial value of {initial_value} (consider using initial_event=True to detect this event)\n",
      "1152 events found on stim channel Status\n",
      "Event IDs: [101 102 103 104 105 106 107 108 111 112 113 114 115 116 117 118 121 122\n",
      " 123 124 125 126 127 128 131 132 133 134 135 136 137 138 207 217 227 237]\n",
      "Not setting metadata\n",
      "288 matching events found\n",
      "Setting baseline interval to [-0.099609375, 0.0] s\n",
      "Applying baseline correction (mode: mean)\n",
      "0 projection items activated\n",
      "Using data from preloaded Raw for 288 events and 666 original time points ...\n",
      "0 bad epochs dropped\n"
     ]
    }
   ],
   "source": [
    "# go to parent directory to access data storage\n",
    "os.chdir( '/home/bkapusi' )\n",
    "\n",
    "# Epoch data per block, participant, event - could probably do it more effectively\n",
    "part_list = []\n",
    "for iFile in os.listdir( 'data/storage_barni/icaRemoved/LT/block1' ):\n",
    "    if \"LT\" in iFile:\n",
    "        epochs = epoching( iFile, 'data/storage_barni/icaRemoved/LT/block1' )\n",
    "        subject_num = int( iFile[10:12] )\n",
    "\n",
    "        epochs_list = []\n",
    "\n",
    "        for i in range( 288 ):\n",
    "            # Get the data from the Epochs object\n",
    "            epoch_data = epochs.get_data(copy=False)[i]\n",
    "\n",
    "            # Convert the data to a pandas DataFrame\n",
    "            epoch_df = pd.DataFrame( epoch_data )\n",
    "            epoch_res = epoch_df.transpose()\n",
    "\n",
    "            # Adding epoch and subject number, and time to the DataFrame\n",
    "            epoch_res['Epoch'] = [i+1 for x in range( epoch_res.shape[0] )]\n",
    "            epoch_res['Subject'] = [subject_num for x in range( epoch_res.shape[0] )]\n",
    "            epoch_res['Time'] = [ -0.1 + i*(1.2/615) for i in range( 666 )]\n",
    "\n",
    "            # Append the single epoch name to the list\n",
    "            epochs_list.append( f'epoch_{i+1}' )\n",
    "\n",
    "            # Assign the DataFrame to a variable with a dynamic name\n",
    "            exec( f'epoch_{i+1} = epoch_res' )\n",
    "\n",
    "        # Concatenate the epoch file for a particpant\n",
    "        epochs_per_part = pd.concat([globals()[epoch] for epoch in epochs_list], ignore_index=True)\n",
    "\n",
    "        # Append the name of the epochs file per particpant and assign the DataFrame to a varibale\n",
    "        part_list.append( f'particpant_{subject_num}' )\n",
    "        exec( f'particpant_{subject_num} = epochs_per_part' )\n",
    "\n",
    "# Sort the list by subject number (for Block2)\n",
    "part_list.sort()\n",
    "\n",
    "# Sort the list by subject number (for Block1)\n",
    "# part_list_sorted = sorted(part_list, key=lambda x: int(x.split('_')[1]))\n",
    "\n",
    "#concatenate the DataFrames corresponding to each particpant\n",
    "epochs_lt_b1 = pd.concat([globals()[part_file] for part_file in part_list], ignore_index=True)\n",
    "\n",
    "len(part_list)\n",
    "\n",
    "# Go back to SYMUL directory\n",
    "os.chdir( 'SYMUL' )"
   ]
  },
  {
   "cell_type": "code",
   "execution_count": 4,
   "id": "8be5e195-e4e3-4b12-9269-ba884d372f30",
   "metadata": {},
   "outputs": [],
   "source": [
    "# Assign channels names, epoch, subject, and time to the columns\n",
    "\n",
    "ch_names = epochs.ch_names\n",
    "ch_names.append( 'Epoch' )\n",
    "ch_names.append( 'Subject' )\n",
    "ch_names.append( 'Time' )\n",
    "\n",
    "epochs_lt_b1.columns = ch_names[:epochs_lt_b1.shape[1]]"
   ]
  },
  {
   "cell_type": "code",
   "execution_count": 5,
   "id": "2df6513e-0153-4c24-bae2-85ac4a5be854",
   "metadata": {
    "scrolled": true
   },
   "outputs": [
    {
     "name": "stdout",
     "output_type": "stream",
     "text": [
      "Opening raw data file data/storage_barni/icaRemoved/LT/block2/SYMUL2_EPM27_LT_ica_raw.fif...\n",
      "    Range : 0 ... 1287679 =      0.000 ...  2514.998 secs\n",
      "Ready.\n",
      "Reading 0 ... 1287679  =      0.000 ...  2514.998 secs...\n",
      "Filtering raw data in 1 contiguous segment\n",
      "Setting up band-pass filter from 0.01 - 30 Hz\n",
      "\n",
      "FIR filter parameters\n",
      "---------------------\n",
      "Designing a one-pass, zero-phase, non-causal bandpass filter:\n",
      "- Windowed time-domain design (firwin) method\n",
      "- Hamming window with 0.0194 passband ripple and 53 dB stopband attenuation\n",
      "- Lower passband edge: 0.01\n",
      "- Lower transition bandwidth: 0.01 Hz (-6 dB cutoff frequency: 0.01 Hz)\n",
      "- Upper passband edge: 30.00 Hz\n",
      "- Upper transition bandwidth: 7.50 Hz (-6 dB cutoff frequency: 33.75 Hz)\n",
      "- Filter length: 168961 samples (330.002 s)\n",
      "\n"
     ]
    },
    {
     "name": "stderr",
     "output_type": "stream",
     "text": [
      "[Parallel(n_jobs=1)]: Done  17 tasks      | elapsed:    1.9s\n"
     ]
    },
    {
     "name": "stdout",
     "output_type": "stream",
     "text": [
      "1152 events found on stim channel Status\n",
      "Event IDs: [101 102 103 104 105 106 107 108 111 112 113 114 115 116 117 118 121 122\n",
      " 123 124 125 126 127 128 131 132 133 134 135 136 137 138 201 203 206 207\n",
      " 211 213 216 217 221 223 226 227 231 233 236 237]\n",
      "Not setting metadata\n",
      "288 matching events found\n",
      "Setting baseline interval to [-0.099609375, 0.0] s\n",
      "Applying baseline correction (mode: mean)\n",
      "0 projection items activated\n",
      "Using data from preloaded Raw for 288 events and 666 original time points ...\n",
      "0 bad epochs dropped\n",
      "Opening raw data file data/storage_barni/icaRemoved/LT/block2/SYMUL2_EPM23_LT_ica_raw.fif...\n",
      "    Range : 0 ... 1212927 =      0.000 ...  2368.998 secs\n",
      "Ready.\n",
      "Reading 0 ... 1212927  =      0.000 ...  2368.998 secs...\n",
      "Filtering raw data in 1 contiguous segment\n",
      "Setting up band-pass filter from 0.01 - 30 Hz\n",
      "\n",
      "FIR filter parameters\n",
      "---------------------\n",
      "Designing a one-pass, zero-phase, non-causal bandpass filter:\n",
      "- Windowed time-domain design (firwin) method\n",
      "- Hamming window with 0.0194 passband ripple and 53 dB stopband attenuation\n",
      "- Lower passband edge: 0.01\n",
      "- Lower transition bandwidth: 0.01 Hz (-6 dB cutoff frequency: 0.01 Hz)\n",
      "- Upper passband edge: 30.00 Hz\n",
      "- Upper transition bandwidth: 7.50 Hz (-6 dB cutoff frequency: 33.75 Hz)\n",
      "- Filter length: 168961 samples (330.002 s)\n",
      "\n"
     ]
    },
    {
     "name": "stderr",
     "output_type": "stream",
     "text": [
      "[Parallel(n_jobs=1)]: Done  17 tasks      | elapsed:    1.8s\n"
     ]
    },
    {
     "name": "stdout",
     "output_type": "stream",
     "text": [
      "1152 events found on stim channel Status\n",
      "Event IDs: [101 102 103 104 105 106 107 108 111 112 113 114 115 116 117 118 121 122\n",
      " 123 124 125 126 127 128 131 132 133 134 135 136 137 138 203 204 205 206\n",
      " 207 208 213 214 215 216 217 218 223 224 225 226 227 228 233 234 235 236\n",
      " 237 238]\n",
      "Not setting metadata\n",
      "288 matching events found\n",
      "Setting baseline interval to [-0.099609375, 0.0] s\n",
      "Applying baseline correction (mode: mean)\n",
      "0 projection items activated\n",
      "Using data from preloaded Raw for 288 events and 666 original time points ...\n",
      "0 bad epochs dropped\n",
      "Opening raw data file data/storage_barni/icaRemoved/LT/block2/SYMUL2_EPM26_LT_ica_raw.fif...\n",
      "    Range : 0 ... 1032703 =      0.000 ...  2016.998 secs\n",
      "Ready.\n",
      "Reading 0 ... 1032703  =      0.000 ...  2016.998 secs...\n",
      "Filtering raw data in 1 contiguous segment\n",
      "Setting up band-pass filter from 0.01 - 30 Hz\n",
      "\n",
      "FIR filter parameters\n",
      "---------------------\n",
      "Designing a one-pass, zero-phase, non-causal bandpass filter:\n",
      "- Windowed time-domain design (firwin) method\n",
      "- Hamming window with 0.0194 passband ripple and 53 dB stopband attenuation\n",
      "- Lower passband edge: 0.01\n",
      "- Lower transition bandwidth: 0.01 Hz (-6 dB cutoff frequency: 0.01 Hz)\n",
      "- Upper passband edge: 30.00 Hz\n",
      "- Upper transition bandwidth: 7.50 Hz (-6 dB cutoff frequency: 33.75 Hz)\n",
      "- Filter length: 168961 samples (330.002 s)\n",
      "\n"
     ]
    },
    {
     "name": "stderr",
     "output_type": "stream",
     "text": [
      "[Parallel(n_jobs=1)]: Done  17 tasks      | elapsed:    1.4s\n"
     ]
    },
    {
     "name": "stdout",
     "output_type": "stream",
     "text": [
      "1152 events found on stim channel Status\n",
      "Event IDs: [101 102 103 104 105 106 107 108 111 112 113 114 115 116 117 118 121 122\n",
      " 123 124 125 126 127 128 131 132 133 134 135 136 137 138 201 202 205 206\n",
      " 207 211 212 215 216 217 221 222 225 226 227 231 232 235 236 237]\n",
      "Not setting metadata\n",
      "288 matching events found\n",
      "Setting baseline interval to [-0.099609375, 0.0] s\n",
      "Applying baseline correction (mode: mean)\n",
      "0 projection items activated\n",
      "Using data from preloaded Raw for 288 events and 666 original time points ...\n",
      "0 bad epochs dropped\n",
      "Opening raw data file data/storage_barni/icaRemoved/LT/block2/SYMUL2_EPM21_LT_ica_raw.fif...\n",
      "    Range : 0 ... 1058303 =      0.000 ...  2066.998 secs\n",
      "Ready.\n",
      "Reading 0 ... 1058303  =      0.000 ...  2066.998 secs...\n",
      "Filtering raw data in 1 contiguous segment\n",
      "Setting up band-pass filter from 0.01 - 30 Hz\n",
      "\n",
      "FIR filter parameters\n",
      "---------------------\n",
      "Designing a one-pass, zero-phase, non-causal bandpass filter:\n",
      "- Windowed time-domain design (firwin) method\n",
      "- Hamming window with 0.0194 passband ripple and 53 dB stopband attenuation\n",
      "- Lower passband edge: 0.01\n",
      "- Lower transition bandwidth: 0.01 Hz (-6 dB cutoff frequency: 0.01 Hz)\n",
      "- Upper passband edge: 30.00 Hz\n",
      "- Upper transition bandwidth: 7.50 Hz (-6 dB cutoff frequency: 33.75 Hz)\n",
      "- Filter length: 168961 samples (330.002 s)\n",
      "\n"
     ]
    },
    {
     "name": "stderr",
     "output_type": "stream",
     "text": [
      "[Parallel(n_jobs=1)]: Done  17 tasks      | elapsed:    1.4s\n"
     ]
    },
    {
     "name": "stdout",
     "output_type": "stream",
     "text": [
      "1152 events found on stim channel Status\n",
      "Event IDs: [101 102 103 104 105 106 107 108 111 112 113 114 115 116 117 118 121 122\n",
      " 123 124 125 126 127 128 131 132 133 134 135 136 137 138 203 206 208 213\n",
      " 216 218 223 226 228 233 236 238]\n",
      "Not setting metadata\n",
      "288 matching events found\n",
      "Setting baseline interval to [-0.099609375, 0.0] s\n",
      "Applying baseline correction (mode: mean)\n",
      "0 projection items activated\n",
      "Using data from preloaded Raw for 288 events and 666 original time points ...\n",
      "0 bad epochs dropped\n",
      "Opening raw data file data/storage_barni/icaRemoved/LT/block2/SYMUL2_EPM24_LT_ica_raw.fif...\n",
      "    Range : 0 ... 1320959 =      0.000 ...  2579.998 secs\n",
      "Ready.\n",
      "Reading 0 ... 1320959  =      0.000 ...  2579.998 secs...\n",
      "Filtering raw data in 1 contiguous segment\n",
      "Setting up band-pass filter from 0.01 - 30 Hz\n",
      "\n",
      "FIR filter parameters\n",
      "---------------------\n",
      "Designing a one-pass, zero-phase, non-causal bandpass filter:\n",
      "- Windowed time-domain design (firwin) method\n",
      "- Hamming window with 0.0194 passband ripple and 53 dB stopband attenuation\n",
      "- Lower passband edge: 0.01\n",
      "- Lower transition bandwidth: 0.01 Hz (-6 dB cutoff frequency: 0.01 Hz)\n",
      "- Upper passband edge: 30.00 Hz\n",
      "- Upper transition bandwidth: 7.50 Hz (-6 dB cutoff frequency: 33.75 Hz)\n",
      "- Filter length: 168961 samples (330.002 s)\n",
      "\n"
     ]
    },
    {
     "name": "stderr",
     "output_type": "stream",
     "text": [
      "[Parallel(n_jobs=1)]: Done  17 tasks      | elapsed:    1.8s\n"
     ]
    },
    {
     "name": "stdout",
     "output_type": "stream",
     "text": [
      "1152 events found on stim channel Status\n",
      "Event IDs: [101 102 103 104 105 106 107 108 111 112 113 114 115 116 117 118 121 122\n",
      " 123 124 125 126 127 128 131 132 133 134 135 136 137 138 202 212 222 232]\n",
      "Not setting metadata\n",
      "288 matching events found\n",
      "Setting baseline interval to [-0.099609375, 0.0] s\n",
      "Applying baseline correction (mode: mean)\n",
      "0 projection items activated\n",
      "Using data from preloaded Raw for 288 events and 666 original time points ...\n",
      "0 bad epochs dropped\n",
      "Opening raw data file data/storage_barni/icaRemoved/LT/block2/SYMUL2_EPM22_LT_ica_raw.fif...\n",
      "    Range : 0 ... 1096703 =      0.000 ...  2141.998 secs\n",
      "Ready.\n",
      "Reading 0 ... 1096703  =      0.000 ...  2141.998 secs...\n",
      "Filtering raw data in 1 contiguous segment\n",
      "Setting up band-pass filter from 0.01 - 30 Hz\n",
      "\n",
      "FIR filter parameters\n",
      "---------------------\n",
      "Designing a one-pass, zero-phase, non-causal bandpass filter:\n",
      "- Windowed time-domain design (firwin) method\n",
      "- Hamming window with 0.0194 passband ripple and 53 dB stopband attenuation\n",
      "- Lower passband edge: 0.01\n",
      "- Lower transition bandwidth: 0.01 Hz (-6 dB cutoff frequency: 0.01 Hz)\n",
      "- Upper passband edge: 30.00 Hz\n",
      "- Upper transition bandwidth: 7.50 Hz (-6 dB cutoff frequency: 33.75 Hz)\n",
      "- Filter length: 168961 samples (330.002 s)\n",
      "\n"
     ]
    },
    {
     "name": "stderr",
     "output_type": "stream",
     "text": [
      "[Parallel(n_jobs=1)]: Done  17 tasks      | elapsed:    1.7s\n"
     ]
    },
    {
     "name": "stdout",
     "output_type": "stream",
     "text": [
      "1152 events found on stim channel Status\n",
      "Event IDs: [101 102 103 104 105 106 107 108 111 112 113 114 115 116 117 118 121 122\n",
      " 123 124 125 126 127 128 131 132 133 134 135 136 137 138 201 202 203 204\n",
      " 205 207 211 212 213 214 215 217 221 222 223 224 225 227 231 232 233 234\n",
      " 235 237]\n",
      "Not setting metadata\n",
      "288 matching events found\n",
      "Setting baseline interval to [-0.099609375, 0.0] s\n",
      "Applying baseline correction (mode: mean)\n",
      "0 projection items activated\n",
      "Using data from preloaded Raw for 288 events and 666 original time points ...\n",
      "0 bad epochs dropped\n",
      "Opening raw data file data/storage_barni/icaRemoved/LT/block2/SYMUL2_EPM28_LT_ica_raw.fif...\n",
      "    Range : 0 ... 2869759 =      0.000 ...  5604.998 secs\n",
      "Ready.\n",
      "Reading 0 ... 2869759  =      0.000 ...  5604.998 secs...\n",
      "Filtering raw data in 1 contiguous segment\n",
      "Setting up band-pass filter from 0.01 - 30 Hz\n",
      "\n",
      "FIR filter parameters\n",
      "---------------------\n",
      "Designing a one-pass, zero-phase, non-causal bandpass filter:\n",
      "- Windowed time-domain design (firwin) method\n",
      "- Hamming window with 0.0194 passband ripple and 53 dB stopband attenuation\n",
      "- Lower passband edge: 0.01\n",
      "- Lower transition bandwidth: 0.01 Hz (-6 dB cutoff frequency: 0.01 Hz)\n",
      "- Upper passband edge: 30.00 Hz\n",
      "- Upper transition bandwidth: 7.50 Hz (-6 dB cutoff frequency: 33.75 Hz)\n",
      "- Filter length: 168961 samples (330.002 s)\n",
      "\n"
     ]
    },
    {
     "name": "stderr",
     "output_type": "stream",
     "text": [
      "[Parallel(n_jobs=1)]: Done  17 tasks      | elapsed:    3.7s\n"
     ]
    },
    {
     "name": "stdout",
     "output_type": "stream",
     "text": [
      "1152 events found on stim channel Status\n",
      "Event IDs: [101 102 103 104 105 106 107 108 111 112 113 114 115 116 117 118 121 122\n",
      " 123 124 125 126 127 128 131 132 133 134 135 136 137 138 204 205 206 207\n",
      " 208 214 215 216 217 218 224 225 226 227 228 234 235 236 237 238]\n",
      "Not setting metadata\n",
      "288 matching events found\n",
      "Setting baseline interval to [-0.099609375, 0.0] s\n",
      "Applying baseline correction (mode: mean)\n",
      "0 projection items activated\n",
      "Using data from preloaded Raw for 288 events and 666 original time points ...\n",
      "0 bad epochs dropped\n",
      "Opening raw data file data/storage_barni/icaRemoved/LT/block2/SYMUL2_EPM29_LT_ica_raw.fif...\n",
      "    Range : 0 ... 1061887 =      0.000 ...  2073.998 secs\n",
      "Ready.\n",
      "Reading 0 ... 1061887  =      0.000 ...  2073.998 secs...\n",
      "Filtering raw data in 1 contiguous segment\n",
      "Setting up band-pass filter from 0.01 - 30 Hz\n",
      "\n",
      "FIR filter parameters\n",
      "---------------------\n",
      "Designing a one-pass, zero-phase, non-causal bandpass filter:\n",
      "- Windowed time-domain design (firwin) method\n",
      "- Hamming window with 0.0194 passband ripple and 53 dB stopband attenuation\n",
      "- Lower passband edge: 0.01\n",
      "- Lower transition bandwidth: 0.01 Hz (-6 dB cutoff frequency: 0.01 Hz)\n",
      "- Upper passband edge: 30.00 Hz\n",
      "- Upper transition bandwidth: 7.50 Hz (-6 dB cutoff frequency: 33.75 Hz)\n",
      "- Filter length: 168961 samples (330.002 s)\n",
      "\n"
     ]
    },
    {
     "name": "stderr",
     "output_type": "stream",
     "text": [
      "[Parallel(n_jobs=1)]: Done  17 tasks      | elapsed:    1.4s\n"
     ]
    },
    {
     "name": "stdout",
     "output_type": "stream",
     "text": [
      "1152 events found on stim channel Status\n",
      "Event IDs: [101 102 103 104 105 106 107 108 111 112 113 114 115 116 117 118 121 122\n",
      " 123 124 125 126 127 128 131 132 133 134 135 136 137 138 202 203 204 206\n",
      " 207 208 212 213 214 216 217 218 222 223 224 226 227 228 232 233 234 236\n",
      " 237 238]\n",
      "Not setting metadata\n",
      "288 matching events found\n",
      "Setting baseline interval to [-0.099609375, 0.0] s\n",
      "Applying baseline correction (mode: mean)\n",
      "0 projection items activated\n",
      "Using data from preloaded Raw for 288 events and 666 original time points ...\n",
      "0 bad epochs dropped\n",
      "Opening raw data file data/storage_barni/icaRemoved/LT/block2/SYMUL2_EPM30_LT_ica_raw.fif...\n",
      "    Range : 0 ... 1126911 =      0.000 ...  2200.998 secs\n",
      "Ready.\n",
      "Reading 0 ... 1126911  =      0.000 ...  2200.998 secs...\n",
      "Filtering raw data in 1 contiguous segment\n",
      "Setting up band-pass filter from 0.01 - 30 Hz\n",
      "\n",
      "FIR filter parameters\n",
      "---------------------\n",
      "Designing a one-pass, zero-phase, non-causal bandpass filter:\n",
      "- Windowed time-domain design (firwin) method\n",
      "- Hamming window with 0.0194 passband ripple and 53 dB stopband attenuation\n",
      "- Lower passband edge: 0.01\n",
      "- Lower transition bandwidth: 0.01 Hz (-6 dB cutoff frequency: 0.01 Hz)\n",
      "- Upper passband edge: 30.00 Hz\n",
      "- Upper transition bandwidth: 7.50 Hz (-6 dB cutoff frequency: 33.75 Hz)\n",
      "- Filter length: 168961 samples (330.002 s)\n",
      "\n"
     ]
    },
    {
     "name": "stderr",
     "output_type": "stream",
     "text": [
      "[Parallel(n_jobs=1)]: Done  17 tasks      | elapsed:    1.8s\n"
     ]
    },
    {
     "name": "stdout",
     "output_type": "stream",
     "text": [
      "1152 events found on stim channel Status\n",
      "Event IDs: [101 102 103 104 105 106 107 108 111 112 113 114 115 116 117 118 121 122\n",
      " 123 124 125 126 127 128 131 132 133 134 135 136 137 138 201 203 206 207\n",
      " 211 213 216 217 221 223 226 227 231 233 236 237]\n",
      "Not setting metadata\n",
      "288 matching events found\n",
      "Setting baseline interval to [-0.099609375, 0.0] s\n",
      "Applying baseline correction (mode: mean)\n",
      "0 projection items activated\n",
      "Using data from preloaded Raw for 288 events and 666 original time points ...\n",
      "0 bad epochs dropped\n",
      "Opening raw data file data/storage_barni/icaRemoved/LT/block2/SYMUL2_EPM32_LT_ica_raw.fif...\n",
      "    Range : 0 ... 1076223 =      0.000 ...  2101.998 secs\n",
      "Ready.\n",
      "Reading 0 ... 1076223  =      0.000 ...  2101.998 secs...\n",
      "Filtering raw data in 1 contiguous segment\n",
      "Setting up band-pass filter from 0.01 - 30 Hz\n",
      "\n",
      "FIR filter parameters\n",
      "---------------------\n",
      "Designing a one-pass, zero-phase, non-causal bandpass filter:\n",
      "- Windowed time-domain design (firwin) method\n",
      "- Hamming window with 0.0194 passband ripple and 53 dB stopband attenuation\n",
      "- Lower passband edge: 0.01\n",
      "- Lower transition bandwidth: 0.01 Hz (-6 dB cutoff frequency: 0.01 Hz)\n",
      "- Upper passband edge: 30.00 Hz\n",
      "- Upper transition bandwidth: 7.50 Hz (-6 dB cutoff frequency: 33.75 Hz)\n",
      "- Filter length: 168961 samples (330.002 s)\n",
      "\n"
     ]
    },
    {
     "name": "stderr",
     "output_type": "stream",
     "text": [
      "[Parallel(n_jobs=1)]: Done  17 tasks      | elapsed:    1.4s\n"
     ]
    },
    {
     "name": "stdout",
     "output_type": "stream",
     "text": [
      "1152 events found on stim channel Status\n",
      "Event IDs: [101 102 103 104 105 106 107 108 111 112 113 114 115 116 117 118 121 122\n",
      " 123 124 125 126 127 128 131 132 133 134 135 136 137 138]\n",
      "Not setting metadata\n",
      "288 matching events found\n",
      "Setting baseline interval to [-0.099609375, 0.0] s\n",
      "Applying baseline correction (mode: mean)\n",
      "0 projection items activated\n",
      "Using data from preloaded Raw for 288 events and 666 original time points ...\n",
      "0 bad epochs dropped\n",
      "Opening raw data file data/storage_barni/icaRemoved/LT/block2/SYMUL2_EPM31_LT_ica_raw.fif...\n",
      "    Range : 0 ... 1222143 =      0.000 ...  2386.998 secs\n",
      "Ready.\n",
      "Reading 0 ... 1222143  =      0.000 ...  2386.998 secs...\n",
      "Filtering raw data in 1 contiguous segment\n",
      "Setting up band-pass filter from 0.01 - 30 Hz\n",
      "\n",
      "FIR filter parameters\n",
      "---------------------\n",
      "Designing a one-pass, zero-phase, non-causal bandpass filter:\n",
      "- Windowed time-domain design (firwin) method\n",
      "- Hamming window with 0.0194 passband ripple and 53 dB stopband attenuation\n",
      "- Lower passband edge: 0.01\n",
      "- Lower transition bandwidth: 0.01 Hz (-6 dB cutoff frequency: 0.01 Hz)\n",
      "- Upper passband edge: 30.00 Hz\n",
      "- Upper transition bandwidth: 7.50 Hz (-6 dB cutoff frequency: 33.75 Hz)\n",
      "- Filter length: 168961 samples (330.002 s)\n",
      "\n"
     ]
    },
    {
     "name": "stderr",
     "output_type": "stream",
     "text": [
      "[Parallel(n_jobs=1)]: Done  17 tasks      | elapsed:    1.8s\n"
     ]
    },
    {
     "name": "stdout",
     "output_type": "stream",
     "text": [
      "1152 events found on stim channel Status\n",
      "Event IDs: [101 102 103 104 105 106 107 108 111 112 113 114 115 116 117 118 121 122\n",
      " 123 124 125 126 127 128 131 132 133 134 135 136 137 138 202 204 208 212\n",
      " 214 218 222 224 228 232 234 238]\n",
      "Not setting metadata\n",
      "288 matching events found\n",
      "Setting baseline interval to [-0.099609375, 0.0] s\n",
      "Applying baseline correction (mode: mean)\n",
      "0 projection items activated\n",
      "Using data from preloaded Raw for 288 events and 666 original time points ...\n",
      "0 bad epochs dropped\n",
      "Opening raw data file data/storage_barni/icaRemoved/LT/block2/SYMUL2_EPM33_LT_ica_raw.fif...\n",
      "    Range : 0 ... 1256447 =      0.000 ...  2453.998 secs\n",
      "Ready.\n",
      "Reading 0 ... 1256447  =      0.000 ...  2453.998 secs...\n",
      "Filtering raw data in 1 contiguous segment\n",
      "Setting up band-pass filter from 0.01 - 30 Hz\n",
      "\n",
      "FIR filter parameters\n",
      "---------------------\n",
      "Designing a one-pass, zero-phase, non-causal bandpass filter:\n",
      "- Windowed time-domain design (firwin) method\n",
      "- Hamming window with 0.0194 passband ripple and 53 dB stopband attenuation\n",
      "- Lower passband edge: 0.01\n",
      "- Lower transition bandwidth: 0.01 Hz (-6 dB cutoff frequency: 0.01 Hz)\n",
      "- Upper passband edge: 30.00 Hz\n",
      "- Upper transition bandwidth: 7.50 Hz (-6 dB cutoff frequency: 33.75 Hz)\n",
      "- Filter length: 168961 samples (330.002 s)\n",
      "\n"
     ]
    },
    {
     "name": "stderr",
     "output_type": "stream",
     "text": [
      "[Parallel(n_jobs=1)]: Done  17 tasks      | elapsed:    1.8s\n"
     ]
    },
    {
     "name": "stdout",
     "output_type": "stream",
     "text": [
      "1152 events found on stim channel Status\n",
      "Event IDs: [101 102 103 104 105 106 107 108 111 112 113 114 115 116 117 118 121 122\n",
      " 123 124 125 126 127 128 131 132 133 134 135 136 137 138]\n",
      "Not setting metadata\n",
      "288 matching events found\n",
      "Setting baseline interval to [-0.099609375, 0.0] s\n",
      "Applying baseline correction (mode: mean)\n",
      "0 projection items activated\n",
      "Using data from preloaded Raw for 288 events and 666 original time points ...\n",
      "0 bad epochs dropped\n"
     ]
    }
   ],
   "source": [
    "# go to parent directory to access data storage\n",
    "os.chdir( '/home/bkapusi' )\n",
    "\n",
    "# Epoch data per block, participant, event - could probably do it more effectively\n",
    "part_list = []\n",
    "for iFile in os.listdir( 'data/storage_barni/icaRemoved/LT/block2' ):\n",
    "    if \"LT\" in iFile:\n",
    "        epochs = epoching( iFile, 'data/storage_barni/icaRemoved/LT/block2' )\n",
    "        subject_num = int( iFile[10:12] )\n",
    "\n",
    "        epochs_list = []\n",
    "\n",
    "        for i in range( 288 ):\n",
    "            # Get the data from the Epochs object\n",
    "            epoch_data = epochs.get_data(copy=False)[i]\n",
    "\n",
    "            # Convert the data to a pandas DataFrame\n",
    "            epoch_df = pd.DataFrame( epoch_data )\n",
    "            epoch_res = epoch_df.transpose()\n",
    "\n",
    "            # Adding epoch and subject number, and time to the DataFrame\n",
    "            epoch_res['Epoch'] = [i+1 for x in range( epoch_res.shape[0] )]\n",
    "            epoch_res['Subject'] = [subject_num for x in range( epoch_res.shape[0] )]\n",
    "            epoch_res['Time'] = [ -0.1 + i*(1.2/615) for i in range( 666 )]\n",
    "\n",
    "            # Append the single epoch name to the list\n",
    "            epochs_list.append( f'epoch_{i+1}' )\n",
    "\n",
    "            # Assign the DataFrame to a variable with a dynamic name\n",
    "            exec( f'epoch_{i+1} = epoch_res' )\n",
    "\n",
    "        # Concatenate the epoch file for a particpant\n",
    "        epochs_per_part = pd.concat([globals()[epoch] for epoch in epochs_list], ignore_index=True)\n",
    "\n",
    "        # Append the name of the epochs file per particpant and assign the DataFrame to a varibale\n",
    "        part_list.append( f'particpant_{subject_num}' )\n",
    "        exec( f'particpant_{subject_num} = epochs_per_part' )\n",
    "\n",
    "# Sort the list by subject number (for Block2)\n",
    "part_list.sort()\n",
    "\n",
    "# Sort the list by subject number (for Block1)\n",
    "# part_list_sorted = sorted(part_list, key=lambda x: int(x.split('_')[1]))\n",
    "\n",
    "#concatenate the DataFrames corresponding to each particpant\n",
    "epochs_lt_b2 = pd.concat([globals()[part_file] for part_file in part_list], ignore_index=True)\n",
    "\n",
    "len(part_list)\n",
    "\n",
    "# Go back to SYMUL directory\n",
    "os.chdir( 'SYMUL' )"
   ]
  },
  {
   "cell_type": "code",
   "execution_count": 6,
   "id": "03edaba3-0108-47bd-8a72-8207e28861e3",
   "metadata": {
    "scrolled": true
   },
   "outputs": [],
   "source": [
    "# Assign channels names, epoch, subject, and time to the columns\n",
    "\n",
    "ch_names = epochs.ch_names\n",
    "ch_names.append( 'Epoch' )\n",
    "ch_names.append( 'Subject' )\n",
    "ch_names.append( 'Time' )\n",
    "\n",
    "epochs_lt_b2.columns = ch_names[:epochs_lt_b2.shape[1]]"
   ]
  },
  {
   "cell_type": "code",
   "execution_count": 7,
   "id": "ce206290-665c-4f53-ba5b-1776d53ad722",
   "metadata": {},
   "outputs": [],
   "source": [
    "# Extract columns of interest\n",
    "epochs_lt_b1_ed = epochs_lt_b1[['Fz', 'Cz', 'Pz', 'Status', 'Epoch', 'Subject', 'Time']]\n",
    "epochs_lt_b2_ed = epochs_lt_b2[['Fz', 'Cz', 'Pz', 'Status', 'Epoch', 'Subject', 'Time']]"
   ]
  },
  {
   "cell_type": "code",
   "execution_count": 8,
   "id": "1985b1f1-5a77-44f0-b1ee-affd3b2d40a3",
   "metadata": {},
   "outputs": [],
   "source": [
    "# Concatenate the two blocks\n",
    "epochs_lt_all=pd.concat( [epochs_lt_b1_ed,epochs_lt_b2_ed] )"
   ]
  },
  {
   "cell_type": "code",
   "execution_count": 9,
   "id": "ee1320da-1c80-458a-8fe2-8eb31021dd08",
   "metadata": {},
   "outputs": [],
   "source": [
    "# Sort values by subject number\n",
    "epochs_lt_all.sort_values( by=['Subject', 'Epoch', 'Time'], inplace=True )\n",
    "epochs_lt_all.reset_index( drop=True, inplace=True )"
   ]
  },
  {
   "cell_type": "markdown",
   "id": "df124565-7f27-4aa5-b838-ea499d86f36c",
   "metadata": {
    "jp-MarkdownHeadingCollapsed": true
   },
   "source": [
    "## MT"
   ]
  },
  {
   "cell_type": "code",
   "execution_count": 3,
   "id": "739e670e-b1c6-4fe9-b8f4-f1aedd69fd6d",
   "metadata": {
    "scrolled": true
   },
   "outputs": [
    {
     "name": "stdout",
     "output_type": "stream",
     "text": [
      "Opening raw data file data/storage_barni/icaRemoved/MT/block1/SYMUL2_EPM03_MT_ica_raw.fif...\n",
      "    Range : 0 ... 1168895 =      0.000 ...  2282.998 secs\n",
      "Ready.\n",
      "Reading 0 ... 1168895  =      0.000 ...  2282.998 secs...\n",
      "Filtering raw data in 4 contiguous segments\n",
      "Setting up band-pass filter from 0.01 - 30 Hz\n",
      "\n",
      "FIR filter parameters\n",
      "---------------------\n",
      "Designing a one-pass, zero-phase, non-causal bandpass filter:\n",
      "- Windowed time-domain design (firwin) method\n",
      "- Hamming window with 0.0194 passband ripple and 53 dB stopband attenuation\n",
      "- Lower passband edge: 0.01\n",
      "- Lower transition bandwidth: 0.01 Hz (-6 dB cutoff frequency: 0.01 Hz)\n",
      "- Upper passband edge: 30.00 Hz\n",
      "- Upper transition bandwidth: 7.50 Hz (-6 dB cutoff frequency: 33.75 Hz)\n",
      "- Filter length: 168961 samples (330.002 s)\n",
      "\n"
     ]
    },
    {
     "name": "stderr",
     "output_type": "stream",
     "text": [
      "[Parallel(n_jobs=1)]: Done  17 tasks      | elapsed:    0.9s\n"
     ]
    },
    {
     "name": "stdout",
     "output_type": "stream",
     "text": [
      "Trigger channel Temp has a non-zero initial value of {initial_value} (consider using initial_event=True to detect this event)\n",
      "1152 events found on stim channel Status\n",
      "Event IDs: [101 102 103 104 105 106 107 108 111 112 113 114 115 116 117 118 121 122\n",
      " 123 124 125 126 127 128 131 132 133 134 135 136 137 138 201 202 203 204\n",
      " 205 206 207 208 211 212 213 214 215 216 217 218 221 222 223 224 225 226\n",
      " 227 228 231 232 233 234 235 236 237 238]\n",
      "Not setting metadata\n",
      "288 matching events found\n",
      "Setting baseline interval to [-0.099609375, 0.0] s\n",
      "Applying baseline correction (mode: mean)\n",
      "0 projection items activated\n",
      "Using data from preloaded Raw for 288 events and 666 original time points ...\n",
      "0 bad epochs dropped\n",
      "Opening raw data file data/storage_barni/icaRemoved/MT/block1/SYMUL2_EPM02_MT_ica_raw.fif...\n",
      "    Range : 0 ... 1198079 =      0.000 ...  2339.998 secs\n",
      "Ready.\n",
      "Reading 0 ... 1198079  =      0.000 ...  2339.998 secs...\n",
      "Filtering raw data in 4 contiguous segments\n",
      "Setting up band-pass filter from 0.01 - 30 Hz\n",
      "\n",
      "FIR filter parameters\n",
      "---------------------\n",
      "Designing a one-pass, zero-phase, non-causal bandpass filter:\n",
      "- Windowed time-domain design (firwin) method\n",
      "- Hamming window with 0.0194 passband ripple and 53 dB stopband attenuation\n",
      "- Lower passband edge: 0.01\n",
      "- Lower transition bandwidth: 0.01 Hz (-6 dB cutoff frequency: 0.01 Hz)\n",
      "- Upper passband edge: 30.00 Hz\n",
      "- Upper transition bandwidth: 7.50 Hz (-6 dB cutoff frequency: 33.75 Hz)\n",
      "- Filter length: 168961 samples (330.002 s)\n",
      "\n"
     ]
    },
    {
     "name": "stderr",
     "output_type": "stream",
     "text": [
      "[Parallel(n_jobs=1)]: Done  17 tasks      | elapsed:    0.7s\n"
     ]
    },
    {
     "name": "stdout",
     "output_type": "stream",
     "text": [
      "Trigger channel Temp has a non-zero initial value of {initial_value} (consider using initial_event=True to detect this event)\n",
      "1152 events found on stim channel Status\n",
      "Event IDs: [101 102 103 104 105 106 107 108 111 112 113 114 115 116 117 118 121 122\n",
      " 123 124 125 126 127 128 131 132 133 134 135 136 137 138 205 215 225 235]\n",
      "Not setting metadata\n",
      "288 matching events found\n",
      "Setting baseline interval to [-0.099609375, 0.0] s\n",
      "Applying baseline correction (mode: mean)\n",
      "0 projection items activated\n",
      "Using data from preloaded Raw for 288 events and 666 original time points ...\n",
      "0 bad epochs dropped\n",
      "Opening raw data file data/storage_barni/icaRemoved/MT/block1/SYMUL2_EPM04_MT_ica_raw.fif...\n",
      "    Range : 0 ... 1114623 =      0.000 ...  2176.998 secs\n",
      "Ready.\n",
      "Reading 0 ... 1114623  =      0.000 ...  2176.998 secs...\n",
      "Filtering raw data in 4 contiguous segments\n",
      "Setting up band-pass filter from 0.01 - 30 Hz\n",
      "\n",
      "FIR filter parameters\n",
      "---------------------\n",
      "Designing a one-pass, zero-phase, non-causal bandpass filter:\n",
      "- Windowed time-domain design (firwin) method\n",
      "- Hamming window with 0.0194 passband ripple and 53 dB stopband attenuation\n",
      "- Lower passband edge: 0.01\n",
      "- Lower transition bandwidth: 0.01 Hz (-6 dB cutoff frequency: 0.01 Hz)\n",
      "- Upper passband edge: 30.00 Hz\n",
      "- Upper transition bandwidth: 7.50 Hz (-6 dB cutoff frequency: 33.75 Hz)\n",
      "- Filter length: 168961 samples (330.002 s)\n",
      "\n"
     ]
    },
    {
     "name": "stderr",
     "output_type": "stream",
     "text": [
      "[Parallel(n_jobs=1)]: Done  17 tasks      | elapsed:    0.7s\n"
     ]
    },
    {
     "name": "stdout",
     "output_type": "stream",
     "text": [
      "Trigger channel Temp has a non-zero initial value of {initial_value} (consider using initial_event=True to detect this event)\n",
      "1152 events found on stim channel Status\n",
      "Event IDs: [101 102 103 104 105 106 107 108 111 112 113 114 115 116 117 118 121 122\n",
      " 123 124 125 126 127 128 131 132 133 134 135 136 137 138 201 202 203 204\n",
      " 205 206 207 208 211 212 213 214 215 216 217 218 221 222 223 224 225 226\n",
      " 227 228 231 232 233 234 235 236 237 238 301 302 303 304 305 306 307 308\n",
      " 311 312 313 314 315 316 317 318 321 322 323 324 325 326 327 328 331 332\n",
      " 333 334 335 336 337 338]\n",
      "Not setting metadata\n",
      "288 matching events found\n",
      "Setting baseline interval to [-0.099609375, 0.0] s\n",
      "Applying baseline correction (mode: mean)\n",
      "0 projection items activated\n",
      "Using data from preloaded Raw for 288 events and 666 original time points ...\n",
      "0 bad epochs dropped\n",
      "Opening raw data file data/storage_barni/icaRemoved/MT/block1/SYMUL2_EPM07_MT_ica_raw.fif...\n",
      "    Range : 0 ... 1210367 =      0.000 ...  2363.998 secs\n",
      "Ready.\n",
      "Reading 0 ... 1210367  =      0.000 ...  2363.998 secs...\n",
      "Filtering raw data in 4 contiguous segments\n",
      "Setting up band-pass filter from 0.01 - 30 Hz\n",
      "\n",
      "FIR filter parameters\n",
      "---------------------\n",
      "Designing a one-pass, zero-phase, non-causal bandpass filter:\n",
      "- Windowed time-domain design (firwin) method\n",
      "- Hamming window with 0.0194 passband ripple and 53 dB stopband attenuation\n",
      "- Lower passband edge: 0.01\n",
      "- Lower transition bandwidth: 0.01 Hz (-6 dB cutoff frequency: 0.01 Hz)\n",
      "- Upper passband edge: 30.00 Hz\n",
      "- Upper transition bandwidth: 7.50 Hz (-6 dB cutoff frequency: 33.75 Hz)\n",
      "- Filter length: 168961 samples (330.002 s)\n",
      "\n"
     ]
    },
    {
     "name": "stderr",
     "output_type": "stream",
     "text": [
      "[Parallel(n_jobs=1)]: Done  17 tasks      | elapsed:    0.7s\n"
     ]
    },
    {
     "name": "stdout",
     "output_type": "stream",
     "text": [
      "Trigger channel Temp has a non-zero initial value of {initial_value} (consider using initial_event=True to detect this event)\n",
      "1152 events found on stim channel Status\n",
      "Event IDs: [101 102 103 104 105 106 107 108 111 112 113 114 115 116 117 118 121 122\n",
      " 123 124 125 126 127 128 131 132 133 134 135 136 137 138 201 202 203 204\n",
      " 205 206 207 208 211 212 213 214 215 216 217 218 221 222 223 224 225 226\n",
      " 227 228 231 232 233 234 235 236 237 238]\n",
      "Not setting metadata\n",
      "288 matching events found\n",
      "Setting baseline interval to [-0.099609375, 0.0] s\n",
      "Applying baseline correction (mode: mean)\n",
      "0 projection items activated\n",
      "Using data from preloaded Raw for 288 events and 666 original time points ...\n",
      "0 bad epochs dropped\n",
      "Opening raw data file data/storage_barni/icaRemoved/MT/block1/SYMUL2_EPM08_MT_ica_raw.fif...\n",
      "    Range : 0 ... 1262079 =      0.000 ...  2464.998 secs\n",
      "Ready.\n",
      "Reading 0 ... 1262079  =      0.000 ...  2464.998 secs...\n",
      "Filtering raw data in 4 contiguous segments\n",
      "Setting up band-pass filter from 0.01 - 30 Hz\n",
      "\n",
      "FIR filter parameters\n",
      "---------------------\n",
      "Designing a one-pass, zero-phase, non-causal bandpass filter:\n",
      "- Windowed time-domain design (firwin) method\n",
      "- Hamming window with 0.0194 passband ripple and 53 dB stopband attenuation\n",
      "- Lower passband edge: 0.01\n",
      "- Lower transition bandwidth: 0.01 Hz (-6 dB cutoff frequency: 0.01 Hz)\n",
      "- Upper passband edge: 30.00 Hz\n",
      "- Upper transition bandwidth: 7.50 Hz (-6 dB cutoff frequency: 33.75 Hz)\n",
      "- Filter length: 168961 samples (330.002 s)\n",
      "\n"
     ]
    },
    {
     "name": "stderr",
     "output_type": "stream",
     "text": [
      "[Parallel(n_jobs=1)]: Done  17 tasks      | elapsed:    0.7s\n"
     ]
    },
    {
     "name": "stdout",
     "output_type": "stream",
     "text": [
      "Trigger channel Temp has a non-zero initial value of {initial_value} (consider using initial_event=True to detect this event)\n",
      "1152 events found on stim channel Status\n",
      "Event IDs: [101 102 103 104 105 106 107 108 111 112 113 114 115 116 117 118 121 122\n",
      " 123 124 125 126 127 128 131 132 133 134 135 136 137 138 201 203 204 206\n",
      " 208 211 213 214 216 218 221 223 224 226 228 231 233 234 236 238]\n",
      "Not setting metadata\n",
      "288 matching events found\n",
      "Setting baseline interval to [-0.099609375, 0.0] s\n",
      "Applying baseline correction (mode: mean)\n",
      "0 projection items activated\n",
      "Using data from preloaded Raw for 288 events and 666 original time points ...\n",
      "0 bad epochs dropped\n",
      "Opening raw data file data/storage_barni/icaRemoved/MT/block1/SYMUL2_EPM06_MT_ica_raw.fif...\n",
      "    Range : 0 ... 1212415 =      0.000 ...  2367.998 secs\n",
      "Ready.\n",
      "Reading 0 ... 1212415  =      0.000 ...  2367.998 secs...\n",
      "Filtering raw data in 4 contiguous segments\n",
      "Setting up band-pass filter from 0.01 - 30 Hz\n",
      "\n",
      "FIR filter parameters\n",
      "---------------------\n",
      "Designing a one-pass, zero-phase, non-causal bandpass filter:\n",
      "- Windowed time-domain design (firwin) method\n",
      "- Hamming window with 0.0194 passband ripple and 53 dB stopband attenuation\n",
      "- Lower passband edge: 0.01\n",
      "- Lower transition bandwidth: 0.01 Hz (-6 dB cutoff frequency: 0.01 Hz)\n",
      "- Upper passband edge: 30.00 Hz\n",
      "- Upper transition bandwidth: 7.50 Hz (-6 dB cutoff frequency: 33.75 Hz)\n",
      "- Filter length: 168961 samples (330.002 s)\n",
      "\n"
     ]
    },
    {
     "name": "stderr",
     "output_type": "stream",
     "text": [
      "[Parallel(n_jobs=1)]: Done  17 tasks      | elapsed:    0.7s\n"
     ]
    },
    {
     "name": "stdout",
     "output_type": "stream",
     "text": [
      "Trigger channel Temp has a non-zero initial value of {initial_value} (consider using initial_event=True to detect this event)\n",
      "1152 events found on stim channel Status\n",
      "Event IDs: [101 102 103 104 105 106 107 108 111 112 113 114 115 116 117 118 121 122\n",
      " 123 124 125 126 127 128 131 132 133 134 135 136 137 138 201 202 204 205\n",
      " 206 207 208 211 212 214 215 216 217 218 221 222 224 225 226 227 228 231\n",
      " 232 234 235 236 237 238]\n",
      "Not setting metadata\n",
      "288 matching events found\n",
      "Setting baseline interval to [-0.099609375, 0.0] s\n",
      "Applying baseline correction (mode: mean)\n",
      "0 projection items activated\n",
      "Using data from preloaded Raw for 288 events and 666 original time points ...\n",
      "0 bad epochs dropped\n",
      "Opening raw data file data/storage_barni/icaRemoved/MT/block1/SYMUL2_EPM10_MT_ica_raw.fif...\n",
      "    Range : 0 ... 1164799 =      0.000 ...  2274.998 secs\n",
      "Ready.\n",
      "Reading 0 ... 1164799  =      0.000 ...  2274.998 secs...\n",
      "Filtering raw data in 4 contiguous segments\n",
      "Setting up band-pass filter from 0.01 - 30 Hz\n",
      "\n",
      "FIR filter parameters\n",
      "---------------------\n",
      "Designing a one-pass, zero-phase, non-causal bandpass filter:\n",
      "- Windowed time-domain design (firwin) method\n",
      "- Hamming window with 0.0194 passband ripple and 53 dB stopband attenuation\n",
      "- Lower passband edge: 0.01\n",
      "- Lower transition bandwidth: 0.01 Hz (-6 dB cutoff frequency: 0.01 Hz)\n",
      "- Upper passband edge: 30.00 Hz\n",
      "- Upper transition bandwidth: 7.50 Hz (-6 dB cutoff frequency: 33.75 Hz)\n",
      "- Filter length: 168961 samples (330.002 s)\n",
      "\n"
     ]
    },
    {
     "name": "stderr",
     "output_type": "stream",
     "text": [
      "[Parallel(n_jobs=1)]: Done  17 tasks      | elapsed:    0.7s\n"
     ]
    },
    {
     "name": "stdout",
     "output_type": "stream",
     "text": [
      "Trigger channel Temp has a non-zero initial value of {initial_value} (consider using initial_event=True to detect this event)\n",
      "1152 events found on stim channel Status\n",
      "Event IDs: [101 102 103 104 105 106 107 108 111 112 113 114 115 116 117 118 121 122\n",
      " 123 124 125 126 127 128 131 132 133 134 135 136 137 138 202 203 204 205\n",
      " 206 208 212 213 214 215 216 218 222 223 224 225 226 228 232 233 234 235\n",
      " 236 238]\n",
      "Not setting metadata\n",
      "288 matching events found\n",
      "Setting baseline interval to [-0.099609375, 0.0] s\n",
      "Applying baseline correction (mode: mean)\n",
      "0 projection items activated\n",
      "Using data from preloaded Raw for 288 events and 666 original time points ...\n",
      "0 bad epochs dropped\n",
      "Opening raw data file data/storage_barni/icaRemoved/MT/block1/SYMUL2_EPM13_MT_ica_raw.fif...\n",
      "    Range : 0 ... 1207295 =      0.000 ...  2357.998 secs\n",
      "Ready.\n",
      "Reading 0 ... 1207295  =      0.000 ...  2357.998 secs...\n",
      "Filtering raw data in 4 contiguous segments\n",
      "Setting up band-pass filter from 0.01 - 30 Hz\n",
      "\n",
      "FIR filter parameters\n",
      "---------------------\n",
      "Designing a one-pass, zero-phase, non-causal bandpass filter:\n",
      "- Windowed time-domain design (firwin) method\n",
      "- Hamming window with 0.0194 passband ripple and 53 dB stopband attenuation\n",
      "- Lower passband edge: 0.01\n",
      "- Lower transition bandwidth: 0.01 Hz (-6 dB cutoff frequency: 0.01 Hz)\n",
      "- Upper passband edge: 30.00 Hz\n",
      "- Upper transition bandwidth: 7.50 Hz (-6 dB cutoff frequency: 33.75 Hz)\n",
      "- Filter length: 168961 samples (330.002 s)\n",
      "\n"
     ]
    },
    {
     "name": "stderr",
     "output_type": "stream",
     "text": [
      "[Parallel(n_jobs=1)]: Done  17 tasks      | elapsed:    0.7s\n"
     ]
    },
    {
     "name": "stdout",
     "output_type": "stream",
     "text": [
      "Trigger channel Temp has a non-zero initial value of {initial_value} (consider using initial_event=True to detect this event)\n",
      "1152 events found on stim channel Status\n",
      "Event IDs: [101 102 103 104 105 106 107 108 111 112 113 114 115 116 117 118 121 122\n",
      " 123 124 125 126 127 128 131 132 133 134 135 136 137 138 201 202 203 204\n",
      " 205 206 207 208 211 212 213 214 215 216 217 218 221 222 223 224 225 226\n",
      " 227 228 231 232 233 234 235 236 237 238]\n",
      "Not setting metadata\n",
      "288 matching events found\n",
      "Setting baseline interval to [-0.099609375, 0.0] s\n",
      "Applying baseline correction (mode: mean)\n",
      "0 projection items activated\n",
      "Using data from preloaded Raw for 288 events and 666 original time points ...\n",
      "0 bad epochs dropped\n",
      "Opening raw data file data/storage_barni/icaRemoved/MT/block1/SYMUL2_EPM09_MT_ica_raw.fif...\n",
      "    Range : 0 ... 1163263 =      0.000 ...  2271.998 secs\n",
      "Ready.\n",
      "Reading 0 ... 1163263  =      0.000 ...  2271.998 secs...\n",
      "Filtering raw data in 4 contiguous segments\n",
      "Setting up band-pass filter from 0.01 - 30 Hz\n",
      "\n",
      "FIR filter parameters\n",
      "---------------------\n",
      "Designing a one-pass, zero-phase, non-causal bandpass filter:\n",
      "- Windowed time-domain design (firwin) method\n",
      "- Hamming window with 0.0194 passband ripple and 53 dB stopband attenuation\n",
      "- Lower passband edge: 0.01\n",
      "- Lower transition bandwidth: 0.01 Hz (-6 dB cutoff frequency: 0.01 Hz)\n",
      "- Upper passband edge: 30.00 Hz\n",
      "- Upper transition bandwidth: 7.50 Hz (-6 dB cutoff frequency: 33.75 Hz)\n",
      "- Filter length: 168961 samples (330.002 s)\n",
      "\n"
     ]
    },
    {
     "name": "stderr",
     "output_type": "stream",
     "text": [
      "[Parallel(n_jobs=1)]: Done  17 tasks      | elapsed:    0.7s\n"
     ]
    },
    {
     "name": "stdout",
     "output_type": "stream",
     "text": [
      "Trigger channel Temp has a non-zero initial value of {initial_value} (consider using initial_event=True to detect this event)\n",
      "1152 events found on stim channel Status\n",
      "Event IDs: [101 102 103 104 105 106 107 108 111 112 113 114 115 116 117 118 121 122\n",
      " 123 124 125 126 127 128 131 132 133 134 135 136 137 138 202 203 205 206\n",
      " 207 208 212 213 215 216 217 218 222 223 225 226 227 228 232 233 235 236\n",
      " 237 238]\n",
      "Not setting metadata\n",
      "288 matching events found\n",
      "Setting baseline interval to [-0.099609375, 0.0] s\n",
      "Applying baseline correction (mode: mean)\n",
      "0 projection items activated\n",
      "Using data from preloaded Raw for 288 events and 666 original time points ...\n",
      "0 bad epochs dropped\n",
      "Opening raw data file data/storage_barni/icaRemoved/MT/block1/SYMUL2_EPM11_MT_ica_raw.fif...\n",
      "    Range : 0 ... 1181695 =      0.000 ...  2307.998 secs\n",
      "Ready.\n",
      "Reading 0 ... 1181695  =      0.000 ...  2307.998 secs...\n",
      "Filtering raw data in 4 contiguous segments\n",
      "Setting up band-pass filter from 0.01 - 30 Hz\n",
      "\n",
      "FIR filter parameters\n",
      "---------------------\n",
      "Designing a one-pass, zero-phase, non-causal bandpass filter:\n",
      "- Windowed time-domain design (firwin) method\n",
      "- Hamming window with 0.0194 passband ripple and 53 dB stopband attenuation\n",
      "- Lower passband edge: 0.01\n",
      "- Lower transition bandwidth: 0.01 Hz (-6 dB cutoff frequency: 0.01 Hz)\n",
      "- Upper passband edge: 30.00 Hz\n",
      "- Upper transition bandwidth: 7.50 Hz (-6 dB cutoff frequency: 33.75 Hz)\n",
      "- Filter length: 168961 samples (330.002 s)\n",
      "\n"
     ]
    },
    {
     "name": "stderr",
     "output_type": "stream",
     "text": [
      "[Parallel(n_jobs=1)]: Done  17 tasks      | elapsed:    0.7s\n"
     ]
    },
    {
     "name": "stdout",
     "output_type": "stream",
     "text": [
      "Trigger channel Temp has a non-zero initial value of {initial_value} (consider using initial_event=True to detect this event)\n",
      "1152 events found on stim channel Status\n",
      "Event IDs: [101 102 103 104 105 106 107 108 111 112 113 114 115 116 117 118 121 122\n",
      " 123 124 125 126 127 128 131 132 133 134 135 136 137 138 201 202 203 204\n",
      " 205 206 207 208 211 212 213 214 215 216 217 218 221 222 223 224 225 226\n",
      " 227 228 231 232 233 234 235 236 237 238]\n",
      "Not setting metadata\n",
      "288 matching events found\n",
      "Setting baseline interval to [-0.099609375, 0.0] s\n",
      "Applying baseline correction (mode: mean)\n",
      "0 projection items activated\n",
      "Using data from preloaded Raw for 288 events and 666 original time points ...\n",
      "0 bad epochs dropped\n",
      "Opening raw data file data/storage_barni/icaRemoved/MT/block1/SYMUL2_EPM12_MT_ica_raw.fif...\n",
      "    Range : 0 ... 1144319 =      0.000 ...  2234.998 secs\n",
      "Ready.\n",
      "Reading 0 ... 1144319  =      0.000 ...  2234.998 secs...\n",
      "Filtering raw data in 4 contiguous segments\n",
      "Setting up band-pass filter from 0.01 - 30 Hz\n",
      "\n",
      "FIR filter parameters\n",
      "---------------------\n",
      "Designing a one-pass, zero-phase, non-causal bandpass filter:\n",
      "- Windowed time-domain design (firwin) method\n",
      "- Hamming window with 0.0194 passband ripple and 53 dB stopband attenuation\n",
      "- Lower passband edge: 0.01\n",
      "- Lower transition bandwidth: 0.01 Hz (-6 dB cutoff frequency: 0.01 Hz)\n",
      "- Upper passband edge: 30.00 Hz\n",
      "- Upper transition bandwidth: 7.50 Hz (-6 dB cutoff frequency: 33.75 Hz)\n",
      "- Filter length: 168961 samples (330.002 s)\n",
      "\n"
     ]
    },
    {
     "name": "stderr",
     "output_type": "stream",
     "text": [
      "[Parallel(n_jobs=1)]: Done  17 tasks      | elapsed:    0.7s\n"
     ]
    },
    {
     "name": "stdout",
     "output_type": "stream",
     "text": [
      "Trigger channel Temp has a non-zero initial value of {initial_value} (consider using initial_event=True to detect this event)\n",
      "1152 events found on stim channel Status\n",
      "Event IDs: [101 102 103 104 105 106 107 108 111 112 113 114 115 116 117 118 121 122\n",
      " 123 124 125 126 127 128 131 132 133 134 135 136 137 138 203 206 207 213\n",
      " 216 217 223 226 227 233 236 237]\n",
      "Not setting metadata\n",
      "288 matching events found\n",
      "Setting baseline interval to [-0.099609375, 0.0] s\n",
      "Applying baseline correction (mode: mean)\n",
      "0 projection items activated\n",
      "Using data from preloaded Raw for 288 events and 666 original time points ...\n",
      "0 bad epochs dropped\n",
      "Opening raw data file data/storage_barni/icaRemoved/MT/block1/SYMUL2_EPM14_MT_ica_raw.fif...\n",
      "    Range : 0 ... 1183231 =      0.000 ...  2310.998 secs\n",
      "Ready.\n",
      "Reading 0 ... 1183231  =      0.000 ...  2310.998 secs...\n",
      "Filtering raw data in 4 contiguous segments\n",
      "Setting up band-pass filter from 0.01 - 30 Hz\n",
      "\n",
      "FIR filter parameters\n",
      "---------------------\n",
      "Designing a one-pass, zero-phase, non-causal bandpass filter:\n",
      "- Windowed time-domain design (firwin) method\n",
      "- Hamming window with 0.0194 passband ripple and 53 dB stopband attenuation\n",
      "- Lower passband edge: 0.01\n",
      "- Lower transition bandwidth: 0.01 Hz (-6 dB cutoff frequency: 0.01 Hz)\n",
      "- Upper passband edge: 30.00 Hz\n",
      "- Upper transition bandwidth: 7.50 Hz (-6 dB cutoff frequency: 33.75 Hz)\n",
      "- Filter length: 168961 samples (330.002 s)\n",
      "\n"
     ]
    },
    {
     "name": "stderr",
     "output_type": "stream",
     "text": [
      "[Parallel(n_jobs=1)]: Done  17 tasks      | elapsed:    0.7s\n"
     ]
    },
    {
     "name": "stdout",
     "output_type": "stream",
     "text": [
      "Trigger channel Temp has a non-zero initial value of {initial_value} (consider using initial_event=True to detect this event)\n",
      "1152 events found on stim channel Status\n",
      "Event IDs: [101 102 103 104 105 106 107 108 111 112 113 114 115 116 117 118 121 122\n",
      " 123 124 125 126 127 128 131 132 133 134 135 136 137 138 202 203 204 205\n",
      " 206 208 212 213 214 215 216 218 222 223 224 225 226 228 232 233 234 235\n",
      " 236 238]\n",
      "Not setting metadata\n",
      "288 matching events found\n",
      "Setting baseline interval to [-0.099609375, 0.0] s\n",
      "Applying baseline correction (mode: mean)\n",
      "0 projection items activated\n",
      "Using data from preloaded Raw for 288 events and 666 original time points ...\n",
      "0 bad epochs dropped\n",
      "Opening raw data file data/storage_barni/icaRemoved/MT/block1/SYMUL2_EPM15_MT_ica_raw.fif...\n",
      "    Range : 0 ... 1203199 =      0.000 ...  2349.998 secs\n",
      "Ready.\n",
      "Reading 0 ... 1203199  =      0.000 ...  2349.998 secs...\n",
      "Filtering raw data in 4 contiguous segments\n",
      "Setting up band-pass filter from 0.01 - 30 Hz\n",
      "\n",
      "FIR filter parameters\n",
      "---------------------\n",
      "Designing a one-pass, zero-phase, non-causal bandpass filter:\n",
      "- Windowed time-domain design (firwin) method\n",
      "- Hamming window with 0.0194 passband ripple and 53 dB stopband attenuation\n",
      "- Lower passband edge: 0.01\n",
      "- Lower transition bandwidth: 0.01 Hz (-6 dB cutoff frequency: 0.01 Hz)\n",
      "- Upper passband edge: 30.00 Hz\n",
      "- Upper transition bandwidth: 7.50 Hz (-6 dB cutoff frequency: 33.75 Hz)\n",
      "- Filter length: 168961 samples (330.002 s)\n",
      "\n"
     ]
    },
    {
     "name": "stderr",
     "output_type": "stream",
     "text": [
      "[Parallel(n_jobs=1)]: Done  17 tasks      | elapsed:    0.7s\n"
     ]
    },
    {
     "name": "stdout",
     "output_type": "stream",
     "text": [
      "Trigger channel Temp has a non-zero initial value of {initial_value} (consider using initial_event=True to detect this event)\n",
      "1152 events found on stim channel Status\n",
      "Event IDs: [101 102 103 104 105 106 107 108 111 112 113 114 115 116 117 118 121 122\n",
      " 123 124 125 126 127 128 131 132 133 134 135 136 137 138]\n",
      "Not setting metadata\n",
      "288 matching events found\n",
      "Setting baseline interval to [-0.099609375, 0.0] s\n",
      "Applying baseline correction (mode: mean)\n",
      "0 projection items activated\n",
      "Using data from preloaded Raw for 288 events and 666 original time points ...\n",
      "0 bad epochs dropped\n",
      "Opening raw data file data/storage_barni/icaRemoved/MT/block1/SYMUL2_EPM16_MT_ica_raw.fif...\n",
      "    Range : 0 ... 1236479 =      0.000 ...  2414.998 secs\n",
      "Ready.\n",
      "Reading 0 ... 1236479  =      0.000 ...  2414.998 secs...\n",
      "Filtering raw data in 4 contiguous segments\n",
      "Setting up band-pass filter from 0.01 - 30 Hz\n",
      "\n",
      "FIR filter parameters\n",
      "---------------------\n",
      "Designing a one-pass, zero-phase, non-causal bandpass filter:\n",
      "- Windowed time-domain design (firwin) method\n",
      "- Hamming window with 0.0194 passband ripple and 53 dB stopband attenuation\n",
      "- Lower passband edge: 0.01\n",
      "- Lower transition bandwidth: 0.01 Hz (-6 dB cutoff frequency: 0.01 Hz)\n",
      "- Upper passband edge: 30.00 Hz\n",
      "- Upper transition bandwidth: 7.50 Hz (-6 dB cutoff frequency: 33.75 Hz)\n",
      "- Filter length: 168961 samples (330.002 s)\n",
      "\n"
     ]
    },
    {
     "name": "stderr",
     "output_type": "stream",
     "text": [
      "[Parallel(n_jobs=1)]: Done  17 tasks      | elapsed:    0.7s\n"
     ]
    },
    {
     "name": "stdout",
     "output_type": "stream",
     "text": [
      "Trigger channel Temp has a non-zero initial value of {initial_value} (consider using initial_event=True to detect this event)\n",
      "1152 events found on stim channel Status\n",
      "Event IDs: [101 102 103 104 105 106 107 108 111 112 113 114 115 116 117 118 121 122\n",
      " 123 124 125 126 127 128 131 132 133 134 135 136 137 138 202 208 212 218\n",
      " 222 228 232 238]\n",
      "Not setting metadata\n",
      "288 matching events found\n",
      "Setting baseline interval to [-0.099609375, 0.0] s\n",
      "Applying baseline correction (mode: mean)\n",
      "0 projection items activated\n",
      "Using data from preloaded Raw for 288 events and 666 original time points ...\n",
      "0 bad epochs dropped\n",
      "Opening raw data file data/storage_barni/icaRemoved/MT/block1/SYMUL2_EPM17_MT_ica_raw.fif...\n",
      "    Range : 0 ... 1203199 =      0.000 ...  2349.998 secs\n",
      "Ready.\n",
      "Reading 0 ... 1203199  =      0.000 ...  2349.998 secs...\n",
      "Filtering raw data in 4 contiguous segments\n",
      "Setting up band-pass filter from 0.01 - 30 Hz\n",
      "\n",
      "FIR filter parameters\n",
      "---------------------\n",
      "Designing a one-pass, zero-phase, non-causal bandpass filter:\n",
      "- Windowed time-domain design (firwin) method\n",
      "- Hamming window with 0.0194 passband ripple and 53 dB stopband attenuation\n",
      "- Lower passband edge: 0.01\n",
      "- Lower transition bandwidth: 0.01 Hz (-6 dB cutoff frequency: 0.01 Hz)\n",
      "- Upper passband edge: 30.00 Hz\n",
      "- Upper transition bandwidth: 7.50 Hz (-6 dB cutoff frequency: 33.75 Hz)\n",
      "- Filter length: 168961 samples (330.002 s)\n",
      "\n"
     ]
    },
    {
     "name": "stderr",
     "output_type": "stream",
     "text": [
      "[Parallel(n_jobs=1)]: Done  17 tasks      | elapsed:    0.7s\n"
     ]
    },
    {
     "name": "stdout",
     "output_type": "stream",
     "text": [
      "1 event found on stim channel GSR1\n",
      "Event IDs: [262143]\n",
      "1 event found on stim channel GSR2\n",
      "Event IDs: [262143]\n",
      "Trigger channel Temp has a non-zero initial value of {initial_value} (consider using initial_event=True to detect this event)\n",
      "1152 events found on stim channel Status\n",
      "Event IDs: [101 102 103 104 105 106 107 108 111 112 113 114 115 116 117 118 121 122\n",
      " 123 124 125 126 127 128 131 132 133 134 135 136 137 138 201 202 203 204\n",
      " 205 206 207 208 211 212 213 214 215 216 217 218 221 222 223 224 225 226\n",
      " 227 228 231 232 233 234 235 236 237 238]\n",
      "Not setting metadata\n",
      "288 matching events found\n",
      "Setting baseline interval to [-0.099609375, 0.0] s\n",
      "Applying baseline correction (mode: mean)\n",
      "0 projection items activated\n",
      "Using data from preloaded Raw for 288 events and 666 original time points ...\n"
     ]
    },
    {
     "name": "stderr",
     "output_type": "stream",
     "text": [
      "/tmp/ipykernel_904416/3898790190.py:32: RuntimeWarning: Some events are duplicated in your different stim channels. 1 events were ignored during deduplication.\n",
      "  events = mne.find_events( raw, raw.ch_names )\n"
     ]
    },
    {
     "name": "stdout",
     "output_type": "stream",
     "text": [
      "0 bad epochs dropped\n"
     ]
    }
   ],
   "source": [
    "# go to parent directory to access data storage\n",
    "os.chdir( '/home/bkapusi' )\n",
    "\n",
    "# Epoch data per block, participant, event - could probably do it more effectively\n",
    "part_list = []\n",
    "for iFile in os.listdir( 'data/storage_barni/icaRemoved/MT/block1' ):\n",
    "    if \"MT\" in iFile:\n",
    "        epochs = epoching( iFile, 'data/storage_barni/icaRemoved/MT/block1' )\n",
    "        subject_num = int( iFile[10:12] )\n",
    "\n",
    "        epochs_list = []\n",
    "\n",
    "        for i in range( 288 ):\n",
    "            # Get the data from the Epochs object\n",
    "            epoch_data = epochs.get_data(copy=False)[i]\n",
    "\n",
    "            # Convert the data to a pandas DataFrame\n",
    "            epoch_df = pd.DataFrame( epoch_data )\n",
    "            epoch_res = epoch_df.transpose()\n",
    "\n",
    "            # Adding epoch and subject number, and time to the DataFrame\n",
    "            epoch_res['Epoch'] = [i+1 for x in range( epoch_res.shape[0] )]\n",
    "            epoch_res['Subject'] = [subject_num for x in range( epoch_res.shape[0] )]\n",
    "            epoch_res['Time'] = [ -0.1 + i*(1.2/615) for i in range( 666 )]\n",
    "\n",
    "            # Append the single epoch name to the list\n",
    "            epochs_list.append( f'epoch_{i+1}' )\n",
    "\n",
    "            # Assign the DataFrame to a variable with a dynamic name\n",
    "            exec( f'epoch_{i+1} = epoch_res' )\n",
    "\n",
    "        # Concatenate the epoch file for a particpant\n",
    "        epochs_per_part = pd.concat([globals()[epoch] for epoch in epochs_list], ignore_index=True)\n",
    "\n",
    "        # Append the name of the epochs file per particpant and assign the DataFrame to a varibale\n",
    "        part_list.append( f'particpant_{subject_num}' )\n",
    "        exec( f'particpant_{subject_num} = epochs_per_part' )\n",
    "\n",
    "# Sort the list by subject number (for Block2)\n",
    "part_list.sort()\n",
    "\n",
    "#concatenate the DataFrames corresponding to each particpant\n",
    "epochs_mt_b1 = pd.concat([globals()[part_file] for part_file in part_list], ignore_index=True)\n",
    "\n",
    "# Go back to SYMUL directory\n",
    "os.chdir( 'SYMUL' )"
   ]
  },
  {
   "cell_type": "code",
   "execution_count": 4,
   "id": "a8b39b98-1167-47ba-8e58-f1e80b91893c",
   "metadata": {},
   "outputs": [],
   "source": [
    "# Assign channels names, epoch, subject, and time to the columns\n",
    "\n",
    "ch_names = epochs.ch_names\n",
    "ch_names.append( 'Epoch' )\n",
    "ch_names.append( 'Subject' )\n",
    "ch_names.append( 'Time' )\n",
    "\n",
    "epochs_mt_b1.columns = ch_names[:epochs_mt_b1.shape[1]]"
   ]
  },
  {
   "cell_type": "code",
   "execution_count": 5,
   "id": "a66b9ec2-8fb9-4953-80fd-f62a05c66f7d",
   "metadata": {
    "scrolled": true
   },
   "outputs": [
    {
     "name": "stdout",
     "output_type": "stream",
     "text": [
      "Opening raw data file data/storage_barni/icaRemoved/MT/block2/SYMUL2_EPM22_MT_ica_raw.fif...\n",
      "    Range : 0 ... 1117183 =      0.000 ...  2181.998 secs\n",
      "Ready.\n",
      "Reading 0 ... 1117183  =      0.000 ...  2181.998 secs...\n",
      "Filtering raw data in 1 contiguous segment\n",
      "Setting up band-pass filter from 0.01 - 30 Hz\n",
      "\n",
      "FIR filter parameters\n",
      "---------------------\n",
      "Designing a one-pass, zero-phase, non-causal bandpass filter:\n",
      "- Windowed time-domain design (firwin) method\n",
      "- Hamming window with 0.0194 passband ripple and 53 dB stopband attenuation\n",
      "- Lower passband edge: 0.01\n",
      "- Lower transition bandwidth: 0.01 Hz (-6 dB cutoff frequency: 0.01 Hz)\n",
      "- Upper passband edge: 30.00 Hz\n",
      "- Upper transition bandwidth: 7.50 Hz (-6 dB cutoff frequency: 33.75 Hz)\n",
      "- Filter length: 168961 samples (330.002 s)\n",
      "\n"
     ]
    },
    {
     "name": "stderr",
     "output_type": "stream",
     "text": [
      "[Parallel(n_jobs=1)]: Done  17 tasks      | elapsed:    1.8s\n"
     ]
    },
    {
     "name": "stdout",
     "output_type": "stream",
     "text": [
      "1152 events found on stim channel Status\n",
      "Event IDs: [101 102 103 104 105 106 107 108 111 112 113 114 115 116 117 118 121 122\n",
      " 123 124 125 126 127 128 131 132 133 134 135 136 137 138 202 203 205 206\n",
      " 207 208 212 213 215 216 217 218 222 223 225 226 227 228 232 233 235 236\n",
      " 237 238]\n",
      "Not setting metadata\n",
      "288 matching events found\n",
      "Setting baseline interval to [-0.099609375, 0.0] s\n",
      "Applying baseline correction (mode: mean)\n",
      "0 projection items activated\n",
      "Using data from preloaded Raw for 288 events and 666 original time points ...\n",
      "0 bad epochs dropped\n",
      "Opening raw data file data/storage_barni/icaRemoved/MT/block2/SYMUL2_EPM26_MT_ica_raw.fif...\n",
      "    Range : 0 ... 1077247 =      0.000 ...  2103.998 secs\n",
      "Ready.\n",
      "Reading 0 ... 1077247  =      0.000 ...  2103.998 secs...\n",
      "Filtering raw data in 1 contiguous segment\n",
      "Setting up band-pass filter from 0.01 - 30 Hz\n",
      "\n",
      "FIR filter parameters\n",
      "---------------------\n",
      "Designing a one-pass, zero-phase, non-causal bandpass filter:\n",
      "- Windowed time-domain design (firwin) method\n",
      "- Hamming window with 0.0194 passband ripple and 53 dB stopband attenuation\n",
      "- Lower passband edge: 0.01\n",
      "- Lower transition bandwidth: 0.01 Hz (-6 dB cutoff frequency: 0.01 Hz)\n",
      "- Upper passband edge: 30.00 Hz\n",
      "- Upper transition bandwidth: 7.50 Hz (-6 dB cutoff frequency: 33.75 Hz)\n",
      "- Filter length: 168961 samples (330.002 s)\n",
      "\n"
     ]
    },
    {
     "name": "stderr",
     "output_type": "stream",
     "text": [
      "[Parallel(n_jobs=1)]: Done  17 tasks      | elapsed:    1.4s\n"
     ]
    },
    {
     "name": "stdout",
     "output_type": "stream",
     "text": [
      "1152 events found on stim channel Status\n",
      "Event IDs: [101 102 103 104 105 106 107 108 111 112 113 114 115 116 117 118 121 122\n",
      " 123 124 125 126 127 128 131 132 133 134 135 136 137 138 202 204 205 207\n",
      " 212 214 215 217 222 224 225 227 232 234 235 237]\n",
      "Not setting metadata\n",
      "288 matching events found\n",
      "Setting baseline interval to [-0.099609375, 0.0] s\n",
      "Applying baseline correction (mode: mean)\n",
      "0 projection items activated\n",
      "Using data from preloaded Raw for 288 events and 666 original time points ...\n",
      "0 bad epochs dropped\n",
      "Opening raw data file data/storage_barni/icaRemoved/MT/block2/SYMUL2_EPM21_MT_ica_raw.fif...\n",
      "    Range : 0 ... 1056255 =      0.000 ...  2062.998 secs\n",
      "Ready.\n",
      "Reading 0 ... 1056255  =      0.000 ...  2062.998 secs...\n",
      "Filtering raw data in 1 contiguous segment\n",
      "Setting up band-pass filter from 0.01 - 30 Hz\n",
      "\n",
      "FIR filter parameters\n",
      "---------------------\n",
      "Designing a one-pass, zero-phase, non-causal bandpass filter:\n",
      "- Windowed time-domain design (firwin) method\n",
      "- Hamming window with 0.0194 passband ripple and 53 dB stopband attenuation\n",
      "- Lower passband edge: 0.01\n",
      "- Lower transition bandwidth: 0.01 Hz (-6 dB cutoff frequency: 0.01 Hz)\n",
      "- Upper passband edge: 30.00 Hz\n",
      "- Upper transition bandwidth: 7.50 Hz (-6 dB cutoff frequency: 33.75 Hz)\n",
      "- Filter length: 168961 samples (330.002 s)\n",
      "\n"
     ]
    },
    {
     "name": "stderr",
     "output_type": "stream",
     "text": [
      "[Parallel(n_jobs=1)]: Done  17 tasks      | elapsed:    1.4s\n"
     ]
    },
    {
     "name": "stdout",
     "output_type": "stream",
     "text": [
      "1152 events found on stim channel Status\n",
      "Event IDs: [101 102 103 104 105 106 107 108 111 112 113 114 115 116 117 118 121 122\n",
      " 123 124 125 126 127 128 131 132 133 134 135 136 137 138 202 203 204 205\n",
      " 206 212 213 214 215 216 222 223 224 225 226 232 233 234 235 236]\n",
      "Not setting metadata\n",
      "288 matching events found\n",
      "Setting baseline interval to [-0.099609375, 0.0] s\n",
      "Applying baseline correction (mode: mean)\n",
      "0 projection items activated\n",
      "Using data from preloaded Raw for 288 events and 666 original time points ...\n",
      "0 bad epochs dropped\n",
      "Opening raw data file data/storage_barni/icaRemoved/MT/block2/SYMUL2_EPM24_MT_ica_raw.fif...\n",
      "    Range : 0 ... 1096191 =      0.000 ...  2140.998 secs\n",
      "Ready.\n",
      "Reading 0 ... 1096191  =      0.000 ...  2140.998 secs...\n",
      "Filtering raw data in 2 contiguous segments\n",
      "Setting up band-pass filter from 0.01 - 30 Hz\n",
      "\n",
      "FIR filter parameters\n",
      "---------------------\n",
      "Designing a one-pass, zero-phase, non-causal bandpass filter:\n",
      "- Windowed time-domain design (firwin) method\n",
      "- Hamming window with 0.0194 passband ripple and 53 dB stopband attenuation\n",
      "- Lower passband edge: 0.01\n",
      "- Lower transition bandwidth: 0.01 Hz (-6 dB cutoff frequency: 0.01 Hz)\n",
      "- Upper passband edge: 30.00 Hz\n",
      "- Upper transition bandwidth: 7.50 Hz (-6 dB cutoff frequency: 33.75 Hz)\n",
      "- Filter length: 168961 samples (330.002 s)\n",
      "\n"
     ]
    },
    {
     "name": "stderr",
     "output_type": "stream",
     "text": [
      "[Parallel(n_jobs=1)]: Done  17 tasks      | elapsed:    1.3s\n"
     ]
    },
    {
     "name": "stdout",
     "output_type": "stream",
     "text": [
      "1152 events found on stim channel Status\n",
      "Event IDs: [101 102 103 104 105 106 107 108 111 112 113 114 115 116 117 118 121 122\n",
      " 123 124 125 126 127 128 131 132 133 134 135 136 137 138 201 202 203 204\n",
      " 205 206 208 211 212 213 214 215 216 218 221 222 223 224 225 226 228 231\n",
      " 232 233 234 235 236 238 307 317 327 337]\n",
      "Not setting metadata\n",
      "288 matching events found\n",
      "Setting baseline interval to [-0.099609375, 0.0] s\n",
      "Applying baseline correction (mode: mean)\n",
      "0 projection items activated\n",
      "Using data from preloaded Raw for 288 events and 666 original time points ...\n",
      "0 bad epochs dropped\n",
      "Opening raw data file data/storage_barni/icaRemoved/MT/block2/SYMUL2_EPM23_MT_ica_raw.fif...\n",
      "    Range : 0 ... 1223167 =      0.000 ...  2388.998 secs\n",
      "Ready.\n",
      "Reading 0 ... 1223167  =      0.000 ...  2388.998 secs...\n",
      "Filtering raw data in 1 contiguous segment\n",
      "Setting up band-pass filter from 0.01 - 30 Hz\n",
      "\n",
      "FIR filter parameters\n",
      "---------------------\n",
      "Designing a one-pass, zero-phase, non-causal bandpass filter:\n",
      "- Windowed time-domain design (firwin) method\n",
      "- Hamming window with 0.0194 passband ripple and 53 dB stopband attenuation\n",
      "- Lower passband edge: 0.01\n",
      "- Lower transition bandwidth: 0.01 Hz (-6 dB cutoff frequency: 0.01 Hz)\n",
      "- Upper passband edge: 30.00 Hz\n",
      "- Upper transition bandwidth: 7.50 Hz (-6 dB cutoff frequency: 33.75 Hz)\n",
      "- Filter length: 168961 samples (330.002 s)\n",
      "\n"
     ]
    },
    {
     "name": "stderr",
     "output_type": "stream",
     "text": [
      "[Parallel(n_jobs=1)]: Done  17 tasks      | elapsed:    1.8s\n"
     ]
    },
    {
     "name": "stdout",
     "output_type": "stream",
     "text": [
      "1152 events found on stim channel Status\n",
      "Event IDs: [101 102 103 104 105 106 107 108 111 112 113 114 115 116 117 118 121 122\n",
      " 123 124 125 126 127 128 131 132 133 134 135 136 137 138]\n",
      "Not setting metadata\n",
      "288 matching events found\n",
      "Setting baseline interval to [-0.099609375, 0.0] s\n",
      "Applying baseline correction (mode: mean)\n",
      "0 projection items activated\n",
      "Using data from preloaded Raw for 288 events and 666 original time points ...\n",
      "0 bad epochs dropped\n",
      "Opening raw data file data/storage_barni/icaRemoved/MT/block2/SYMUL2_EPM27_MT_ica_raw.fif...\n",
      "    Range : 0 ... 1280511 =      0.000 ...  2500.998 secs\n",
      "Ready.\n",
      "Reading 0 ... 1280511  =      0.000 ...  2500.998 secs...\n",
      "Filtering raw data in 1 contiguous segment\n",
      "Setting up band-pass filter from 0.01 - 30 Hz\n",
      "\n",
      "FIR filter parameters\n",
      "---------------------\n",
      "Designing a one-pass, zero-phase, non-causal bandpass filter:\n",
      "- Windowed time-domain design (firwin) method\n",
      "- Hamming window with 0.0194 passband ripple and 53 dB stopband attenuation\n",
      "- Lower passband edge: 0.01\n",
      "- Lower transition bandwidth: 0.01 Hz (-6 dB cutoff frequency: 0.01 Hz)\n",
      "- Upper passband edge: 30.00 Hz\n",
      "- Upper transition bandwidth: 7.50 Hz (-6 dB cutoff frequency: 33.75 Hz)\n",
      "- Filter length: 168961 samples (330.002 s)\n",
      "\n"
     ]
    },
    {
     "name": "stderr",
     "output_type": "stream",
     "text": [
      "[Parallel(n_jobs=1)]: Done  17 tasks      | elapsed:    1.7s\n"
     ]
    },
    {
     "name": "stdout",
     "output_type": "stream",
     "text": [
      "1152 events found on stim channel Status\n",
      "Event IDs: [101 102 103 104 105 106 107 108 111 112 113 114 115 116 117 118 121 122\n",
      " 123 124 125 126 127 128 131 132 133 134 135 136 137 138 201 202 203 204\n",
      " 205 206 207 208 211 212 213 214 215 216 217 218 221 222 223 224 225 226\n",
      " 227 228 231 232 233 234 235 236 237 238]\n",
      "Not setting metadata\n",
      "288 matching events found\n",
      "Setting baseline interval to [-0.099609375, 0.0] s\n",
      "Applying baseline correction (mode: mean)\n",
      "0 projection items activated\n",
      "Using data from preloaded Raw for 288 events and 666 original time points ...\n",
      "0 bad epochs dropped\n",
      "Opening raw data file data/storage_barni/icaRemoved/MT/block2/SYMUL2_EPM29_MT_ica_raw.fif...\n",
      "    Range : 0 ... 1122815 =      0.000 ...  2192.998 secs\n",
      "Ready.\n",
      "Reading 0 ... 1122815  =      0.000 ...  2192.998 secs...\n",
      "Filtering raw data in 1 contiguous segment\n",
      "Setting up band-pass filter from 0.01 - 30 Hz\n",
      "\n",
      "FIR filter parameters\n",
      "---------------------\n",
      "Designing a one-pass, zero-phase, non-causal bandpass filter:\n",
      "- Windowed time-domain design (firwin) method\n",
      "- Hamming window with 0.0194 passband ripple and 53 dB stopband attenuation\n",
      "- Lower passband edge: 0.01\n",
      "- Lower transition bandwidth: 0.01 Hz (-6 dB cutoff frequency: 0.01 Hz)\n",
      "- Upper passband edge: 30.00 Hz\n",
      "- Upper transition bandwidth: 7.50 Hz (-6 dB cutoff frequency: 33.75 Hz)\n",
      "- Filter length: 168961 samples (330.002 s)\n",
      "\n"
     ]
    },
    {
     "name": "stderr",
     "output_type": "stream",
     "text": [
      "[Parallel(n_jobs=1)]: Done  17 tasks      | elapsed:    1.7s\n"
     ]
    },
    {
     "name": "stdout",
     "output_type": "stream",
     "text": [
      "1152 events found on stim channel Status\n",
      "Event IDs: [101 102 103 104 105 106 107 108 111 112 113 114 115 116 117 118 121 122\n",
      " 123 124 125 126 127 128 131 132 133 134 135 136 137 138 201 202 203 204\n",
      " 205 207 211 212 213 214 215 217 221 222 223 224 225 227 231 232 233 234\n",
      " 235 237]\n",
      "Not setting metadata\n",
      "288 matching events found\n",
      "Setting baseline interval to [-0.099609375, 0.0] s\n",
      "Applying baseline correction (mode: mean)\n",
      "0 projection items activated\n",
      "Using data from preloaded Raw for 288 events and 666 original time points ...\n",
      "0 bad epochs dropped\n",
      "Opening raw data file data/storage_barni/icaRemoved/MT/block2/SYMUL2_EPM28_MT_ica_raw.fif...\n",
      "    Range : 0 ... 1231871 =      0.000 ...  2405.998 secs\n",
      "Ready.\n",
      "Reading 0 ... 1231871  =      0.000 ...  2405.998 secs...\n",
      "Filtering raw data in 1 contiguous segment\n",
      "Setting up band-pass filter from 0.01 - 30 Hz\n",
      "\n",
      "FIR filter parameters\n",
      "---------------------\n",
      "Designing a one-pass, zero-phase, non-causal bandpass filter:\n",
      "- Windowed time-domain design (firwin) method\n",
      "- Hamming window with 0.0194 passband ripple and 53 dB stopband attenuation\n",
      "- Lower passband edge: 0.01\n",
      "- Lower transition bandwidth: 0.01 Hz (-6 dB cutoff frequency: 0.01 Hz)\n",
      "- Upper passband edge: 30.00 Hz\n",
      "- Upper transition bandwidth: 7.50 Hz (-6 dB cutoff frequency: 33.75 Hz)\n",
      "- Filter length: 168961 samples (330.002 s)\n",
      "\n"
     ]
    },
    {
     "name": "stderr",
     "output_type": "stream",
     "text": [
      "[Parallel(n_jobs=1)]: Done  17 tasks      | elapsed:    1.7s\n"
     ]
    },
    {
     "name": "stdout",
     "output_type": "stream",
     "text": [
      "1152 events found on stim channel Status\n",
      "Event IDs: [101 102 103 104 105 107 111 112 113 114 115 117 121 122 123 124 125 127\n",
      " 131 132 133 134 135 137 201 205 206 207 208 211 215 216 217 218 221 225\n",
      " 226 227 228 231 235 236 237 238]\n",
      "Not setting metadata\n",
      "288 matching events found\n",
      "Setting baseline interval to [-0.099609375, 0.0] s\n",
      "Applying baseline correction (mode: mean)\n",
      "0 projection items activated\n",
      "Using data from preloaded Raw for 288 events and 666 original time points ...\n",
      "0 bad epochs dropped\n",
      "Opening raw data file data/storage_barni/icaRemoved/MT/block2/SYMUL2_EPM30_MT_ica_raw.fif...\n",
      "    Range : 0 ... 1121279 =      0.000 ...  2189.998 secs\n",
      "Ready.\n",
      "Reading 0 ... 1121279  =      0.000 ...  2189.998 secs...\n",
      "Filtering raw data in 1 contiguous segment\n",
      "Setting up band-pass filter from 0.01 - 30 Hz\n",
      "\n",
      "FIR filter parameters\n",
      "---------------------\n",
      "Designing a one-pass, zero-phase, non-causal bandpass filter:\n",
      "- Windowed time-domain design (firwin) method\n",
      "- Hamming window with 0.0194 passband ripple and 53 dB stopband attenuation\n",
      "- Lower passband edge: 0.01\n",
      "- Lower transition bandwidth: 0.01 Hz (-6 dB cutoff frequency: 0.01 Hz)\n",
      "- Upper passband edge: 30.00 Hz\n",
      "- Upper transition bandwidth: 7.50 Hz (-6 dB cutoff frequency: 33.75 Hz)\n",
      "- Filter length: 168961 samples (330.002 s)\n",
      "\n"
     ]
    },
    {
     "name": "stderr",
     "output_type": "stream",
     "text": [
      "[Parallel(n_jobs=1)]: Done  17 tasks      | elapsed:    1.7s\n"
     ]
    },
    {
     "name": "stdout",
     "output_type": "stream",
     "text": [
      "1152 events found on stim channel Status\n",
      "Event IDs: [101 102 103 104 105 106 107 108 111 112 113 114 115 116 117 118 121 122\n",
      " 123 124 125 126 127 128 131 132 133 134 135 136 137 138 201 202 204 205\n",
      " 206 207 208 211 212 214 215 216 217 218 221 222 224 225 226 227 228 231\n",
      " 232 234 235 236 237 238]\n",
      "Not setting metadata\n",
      "288 matching events found\n",
      "Setting baseline interval to [-0.099609375, 0.0] s\n",
      "Applying baseline correction (mode: mean)\n",
      "0 projection items activated\n",
      "Using data from preloaded Raw for 288 events and 666 original time points ...\n",
      "0 bad epochs dropped\n",
      "Opening raw data file data/storage_barni/icaRemoved/MT/block2/SYMUL2_EPM33_MT_ica_raw.fif...\n",
      "    Range : 0 ... 1207807 =      0.000 ...  2358.998 secs\n",
      "Ready.\n",
      "Reading 0 ... 1207807  =      0.000 ...  2358.998 secs...\n",
      "Filtering raw data in 1 contiguous segment\n",
      "Setting up band-pass filter from 0.01 - 30 Hz\n",
      "\n",
      "FIR filter parameters\n",
      "---------------------\n",
      "Designing a one-pass, zero-phase, non-causal bandpass filter:\n",
      "- Windowed time-domain design (firwin) method\n",
      "- Hamming window with 0.0194 passband ripple and 53 dB stopband attenuation\n",
      "- Lower passband edge: 0.01\n",
      "- Lower transition bandwidth: 0.01 Hz (-6 dB cutoff frequency: 0.01 Hz)\n",
      "- Upper passband edge: 30.00 Hz\n",
      "- Upper transition bandwidth: 7.50 Hz (-6 dB cutoff frequency: 33.75 Hz)\n",
      "- Filter length: 168961 samples (330.002 s)\n",
      "\n"
     ]
    },
    {
     "name": "stderr",
     "output_type": "stream",
     "text": [
      "[Parallel(n_jobs=1)]: Done  17 tasks      | elapsed:    1.8s\n"
     ]
    },
    {
     "name": "stdout",
     "output_type": "stream",
     "text": [
      "1152 events found on stim channel Status\n",
      "Event IDs: [101 102 103 104 105 106 107 108 111 112 113 114 115 116 117 118 121 122\n",
      " 123 124 125 126 127 128 131 132 133 134 135 136 137 138 201 202 203 204\n",
      " 205 206 207 208 211 212 213 214 215 216 217 218 221 222 223 224 225 226\n",
      " 227 228 231 232 233 234 235 236 237 238]\n",
      "Not setting metadata\n",
      "288 matching events found\n",
      "Setting baseline interval to [-0.099609375, 0.0] s\n",
      "Applying baseline correction (mode: mean)\n",
      "0 projection items activated\n",
      "Using data from preloaded Raw for 288 events and 666 original time points ...\n",
      "0 bad epochs dropped\n",
      "Opening raw data file data/storage_barni/icaRemoved/MT/block2/SYMUL2_EPM31_MT_ica_raw.fif...\n",
      "    Range : 0 ... 1833983 =      0.000 ...  3581.998 secs\n",
      "Ready.\n",
      "Reading 0 ... 1833983  =      0.000 ...  3581.998 secs...\n",
      "Filtering raw data in 1 contiguous segment\n",
      "Setting up band-pass filter from 0.01 - 30 Hz\n",
      "\n",
      "FIR filter parameters\n",
      "---------------------\n",
      "Designing a one-pass, zero-phase, non-causal bandpass filter:\n",
      "- Windowed time-domain design (firwin) method\n",
      "- Hamming window with 0.0194 passband ripple and 53 dB stopband attenuation\n",
      "- Lower passband edge: 0.01\n",
      "- Lower transition bandwidth: 0.01 Hz (-6 dB cutoff frequency: 0.01 Hz)\n",
      "- Upper passband edge: 30.00 Hz\n",
      "- Upper transition bandwidth: 7.50 Hz (-6 dB cutoff frequency: 33.75 Hz)\n",
      "- Filter length: 168961 samples (330.002 s)\n",
      "\n"
     ]
    },
    {
     "name": "stderr",
     "output_type": "stream",
     "text": [
      "[Parallel(n_jobs=1)]: Done  17 tasks      | elapsed:    2.3s\n"
     ]
    },
    {
     "name": "stdout",
     "output_type": "stream",
     "text": [
      "1152 events found on stim channel Status\n",
      "Event IDs: [101 102 103 104 105 106 107 108 111 112 113 114 115 116 117 118 121 122\n",
      " 123 124 125 126 127 128 131 132 133 134 135 136 137 138 201 202 203 204\n",
      " 205 206 207 208 211 212 213 214 215 216 217 218 221 222 223 224 225 226\n",
      " 227 228 231 232 233 234 235 236 237 238]\n",
      "Not setting metadata\n",
      "288 matching events found\n",
      "Setting baseline interval to [-0.099609375, 0.0] s\n",
      "Applying baseline correction (mode: mean)\n",
      "0 projection items activated\n",
      "Using data from preloaded Raw for 288 events and 666 original time points ...\n",
      "0 bad epochs dropped\n",
      "Opening raw data file data/storage_barni/icaRemoved/MT/block2/SYMUL2_EPM32_MT_ica_raw.fif...\n",
      "    Range : 0 ... 1152511 =      0.000 ...  2250.998 secs\n",
      "Ready.\n",
      "Reading 0 ... 1152511  =      0.000 ...  2250.998 secs...\n",
      "Filtering raw data in 1 contiguous segment\n",
      "Setting up band-pass filter from 0.01 - 30 Hz\n",
      "\n",
      "FIR filter parameters\n",
      "---------------------\n",
      "Designing a one-pass, zero-phase, non-causal bandpass filter:\n",
      "- Windowed time-domain design (firwin) method\n",
      "- Hamming window with 0.0194 passband ripple and 53 dB stopband attenuation\n",
      "- Lower passband edge: 0.01\n",
      "- Lower transition bandwidth: 0.01 Hz (-6 dB cutoff frequency: 0.01 Hz)\n",
      "- Upper passband edge: 30.00 Hz\n",
      "- Upper transition bandwidth: 7.50 Hz (-6 dB cutoff frequency: 33.75 Hz)\n",
      "- Filter length: 168961 samples (330.002 s)\n",
      "\n"
     ]
    },
    {
     "name": "stderr",
     "output_type": "stream",
     "text": [
      "[Parallel(n_jobs=1)]: Done  17 tasks      | elapsed:    1.6s\n"
     ]
    },
    {
     "name": "stdout",
     "output_type": "stream",
     "text": [
      "1152 events found on stim channel Status\n",
      "Event IDs: [101 102 103 104 105 107 111 112 113 114 115 117 121 122 123 124 125 127\n",
      " 131 132 133 134 135 137 201 202 203 206 207 208 211 212 213 216 217 218\n",
      " 221 222 223 226 227 228 231 232 233 236 237 238]\n",
      "Not setting metadata\n",
      "288 matching events found\n",
      "Setting baseline interval to [-0.099609375, 0.0] s\n",
      "Applying baseline correction (mode: mean)\n",
      "0 projection items activated\n",
      "Using data from preloaded Raw for 288 events and 666 original time points ...\n",
      "0 bad epochs dropped\n"
     ]
    }
   ],
   "source": [
    "# go to parent directory to access data storage\n",
    "os.chdir( '/home/bkapusi' )\n",
    "\n",
    "# Epoch data per block, participant, event - could probably do it more effectively\n",
    "part_list = []\n",
    "for iFile in os.listdir( 'data/storage_barni/icaRemoved/MT/block2' ):\n",
    "    if \"MT\" in iFile:\n",
    "        epochs = epoching( iFile, 'data/storage_barni/icaRemoved/MT/block2' )\n",
    "        subject_num = int( iFile[10:12] )\n",
    "\n",
    "        epochs_list = []\n",
    "\n",
    "        for i in range( 288 ):\n",
    "            # Get the data from the Epochs object\n",
    "            epoch_data = epochs.get_data(copy=False)[i]\n",
    "\n",
    "            # Convert the data to a pandas DataFrame\n",
    "            epoch_df = pd.DataFrame( epoch_data )\n",
    "            epoch_res = epoch_df.transpose()\n",
    "\n",
    "            # Adding epoch and subject number, and time to the DataFrame\n",
    "            epoch_res['Epoch'] = [i+1 for x in range( epoch_res.shape[0] )]\n",
    "            epoch_res['Subject'] = [subject_num for x in range( epoch_res.shape[0] )]\n",
    "            epoch_res['Time'] = [ -0.1 + i*(1.2/615) for i in range( 666 )]\n",
    "\n",
    "            # Append the single epoch name to the list\n",
    "            epochs_list.append( f'epoch_{i+1}' )\n",
    "\n",
    "            # Assign the DataFrame to a variable with a dynamic name\n",
    "            exec( f'epoch_{i+1} = epoch_res' )\n",
    "\n",
    "        # Concatenate the epoch file for a particpant\n",
    "        epochs_per_part = pd.concat([globals()[epoch] for epoch in epochs_list], ignore_index=True)\n",
    "\n",
    "        # Append the name of the epochs file per particpant and assign the DataFrame to a varibale\n",
    "        part_list.append( f'particpant_{subject_num}' )\n",
    "        exec( f'particpant_{subject_num} = epochs_per_part' )\n",
    "\n",
    "# Sort the list by subject number (for Block2)\n",
    "part_list.sort()\n",
    "\n",
    "#concatenate the DataFrames corresponding to each particpant\n",
    "epochs_mt_b2 = pd.concat([globals()[part_file] for part_file in part_list], ignore_index=True)\n",
    "\n",
    "# Go back to SYMUL directory\n",
    "os.chdir( 'SYMUL' )"
   ]
  },
  {
   "cell_type": "code",
   "execution_count": 6,
   "id": "3125a51f-dfd9-48b7-b9f9-a9a3ef33d45f",
   "metadata": {},
   "outputs": [],
   "source": [
    "# These two are foulty, storing them for later correction\n",
    "part24=globals()[part_list[3]]\n",
    "part27=globals()[part_list[5]]"
   ]
  },
  {
   "cell_type": "code",
   "execution_count": 7,
   "id": "3f27230d-a121-48ba-bdeb-10ed30ba653c",
   "metadata": {},
   "outputs": [],
   "source": [
    "# Assign channels names, epoch, subject, and time to the columns\n",
    "\n",
    "ch_names = epochs.ch_names\n",
    "ch_names.append( 'Epoch' )\n",
    "ch_names.append( 'Subject' )\n",
    "ch_names.append( 'Time' )\n",
    "\n",
    "epochs_mt_b2.columns = ch_names[:epochs_mt_b2.shape[1]]"
   ]
  },
  {
   "cell_type": "code",
   "execution_count": 8,
   "id": "66c0f5b6-5c51-481d-9c5d-a2d690d1ee26",
   "metadata": {},
   "outputs": [],
   "source": [
    "# Extract columns of interest\n",
    "epochs_mt_b1_ed = epochs_mt_b1[['Fz', 'Cz', 'Pz', 'Status', 'Epoch', 'Subject', 'Time']]\n",
    "epochs_mt_b2_ed = epochs_mt_b2[['Fz', 'Cz', 'Pz', 'Status', 'Epoch', 'Subject', 'Time']]"
   ]
  },
  {
   "cell_type": "code",
   "execution_count": 9,
   "id": "b8f55352-63a3-404c-b320-aae767a4b7f0",
   "metadata": {},
   "outputs": [],
   "source": [
    "# Concatenate the two blocks\n",
    "epochs_mt_all=pd.concat( [epochs_mt_b1_ed,epochs_mt_b2_ed] )"
   ]
  },
  {
   "cell_type": "code",
   "execution_count": 10,
   "id": "a2149038-a33d-4315-bacc-85b33cae2b82",
   "metadata": {},
   "outputs": [],
   "source": [
    "# Sort values by subject number\n",
    "epochs_mt_all.sort_values( by=['Subject', 'Epoch', 'Time'], inplace=True )\n",
    "epochs_mt_all.reset_index(drop=True, inplace=True)"
   ]
  },
  {
   "cell_type": "markdown",
   "id": "05c3f2e8-ff42-4448-9280-ab23c340c05b",
   "metadata": {
    "jp-MarkdownHeadingCollapsed": true
   },
   "source": [
    "## DT"
   ]
  },
  {
   "cell_type": "code",
   "execution_count": 11,
   "id": "f465fc69-99b0-4c5e-84e1-cd5748ba3e23",
   "metadata": {
    "scrolled": true
   },
   "outputs": [
    {
     "name": "stdout",
     "output_type": "stream",
     "text": [
      "Opening raw data file data/storage_barni/icaRemoved/DT/block1/SYMUL2_EPM17_DT_ica_raw.fif...\n",
      "    Range : 0 ... 1328639 =      0.000 ...  2594.998 secs\n",
      "Ready.\n",
      "Reading 0 ... 1328639  =      0.000 ...  2594.998 secs...\n",
      "Filtering raw data in 4 contiguous segments\n",
      "Setting up band-pass filter from 0.01 - 30 Hz\n",
      "\n",
      "FIR filter parameters\n",
      "---------------------\n",
      "Designing a one-pass, zero-phase, non-causal bandpass filter:\n",
      "- Windowed time-domain design (firwin) method\n",
      "- Hamming window with 0.0194 passband ripple and 53 dB stopband attenuation\n",
      "- Lower passband edge: 0.01\n",
      "- Lower transition bandwidth: 0.01 Hz (-6 dB cutoff frequency: 0.01 Hz)\n",
      "- Upper passband edge: 30.00 Hz\n",
      "- Upper transition bandwidth: 7.50 Hz (-6 dB cutoff frequency: 33.75 Hz)\n",
      "- Filter length: 168961 samples (330.002 s)\n",
      "\n"
     ]
    },
    {
     "name": "stderr",
     "output_type": "stream",
     "text": [
      "[Parallel(n_jobs=1)]: Done  17 tasks      | elapsed:    1.0s\n"
     ]
    },
    {
     "name": "stdout",
     "output_type": "stream",
     "text": [
      "Trigger channel Temp has a non-zero initial value of {initial_value} (consider using initial_event=True to detect this event)\n",
      "1152 events found on stim channel Status\n",
      "Event IDs: [101 102 103 104 105 106 107 108 111 112 113 114 115 116 117 118 121 122\n",
      " 123 124 125 126 127 128 131 132 133 134 135 136 137 138 202 203 204 205\n",
      " 206 207 208 212 213 214 215 216 217 218 222 223 224 225 226 227 228 232\n",
      " 233 234 235 236 237 238]\n",
      "Not setting metadata\n",
      "288 matching events found\n",
      "Setting baseline interval to [-0.099609375, 0.0] s\n",
      "Applying baseline correction (mode: mean)\n",
      "0 projection items activated\n",
      "Using data from preloaded Raw for 288 events and 666 original time points ...\n",
      "0 bad epochs dropped\n",
      "Opening raw data file data/storage_barni/icaRemoved/DT/block1/SYMUL2_EPM16_DT_ica_raw.fif...\n",
      "    Range : 0 ... 1321471 =      0.000 ...  2580.998 secs\n",
      "Ready.\n",
      "Reading 0 ... 1321471  =      0.000 ...  2580.998 secs...\n",
      "Filtering raw data in 4 contiguous segments\n",
      "Setting up band-pass filter from 0.01 - 30 Hz\n",
      "\n",
      "FIR filter parameters\n",
      "---------------------\n",
      "Designing a one-pass, zero-phase, non-causal bandpass filter:\n",
      "- Windowed time-domain design (firwin) method\n",
      "- Hamming window with 0.0194 passband ripple and 53 dB stopband attenuation\n",
      "- Lower passband edge: 0.01\n",
      "- Lower transition bandwidth: 0.01 Hz (-6 dB cutoff frequency: 0.01 Hz)\n",
      "- Upper passband edge: 30.00 Hz\n",
      "- Upper transition bandwidth: 7.50 Hz (-6 dB cutoff frequency: 33.75 Hz)\n",
      "- Filter length: 168961 samples (330.002 s)\n",
      "\n"
     ]
    },
    {
     "name": "stderr",
     "output_type": "stream",
     "text": [
      "[Parallel(n_jobs=1)]: Done  17 tasks      | elapsed:    0.7s\n"
     ]
    },
    {
     "name": "stdout",
     "output_type": "stream",
     "text": [
      "Trigger channel Temp has a non-zero initial value of {initial_value} (consider using initial_event=True to detect this event)\n",
      "1152 events found on stim channel Status\n",
      "Event IDs: [101 102 103 104 105 106 107 108 111 112 113 114 115 116 117 118 121 122\n",
      " 123 124 125 126 127 128 131 132 133 134 135 136 137 138 201 202 203 204\n",
      " 205 206 207 211 212 213 214 215 216 217 221 222 223 224 225 226 227 231\n",
      " 232 233 234 235 236 237]\n",
      "Not setting metadata\n",
      "288 matching events found\n",
      "Setting baseline interval to [-0.099609375, 0.0] s\n",
      "Applying baseline correction (mode: mean)\n",
      "0 projection items activated\n",
      "Using data from preloaded Raw for 288 events and 666 original time points ...\n",
      "0 bad epochs dropped\n",
      "Opening raw data file data/storage_barni/icaRemoved/DT/block1/SYMUL2_EPM15_DT_ica_raw.fif...\n",
      "    Range : 0 ... 1243135 =      0.000 ...  2427.998 secs\n",
      "Ready.\n",
      "Reading 0 ... 1243135  =      0.000 ...  2427.998 secs...\n",
      "Filtering raw data in 4 contiguous segments\n",
      "Setting up band-pass filter from 0.01 - 30 Hz\n",
      "\n",
      "FIR filter parameters\n",
      "---------------------\n",
      "Designing a one-pass, zero-phase, non-causal bandpass filter:\n",
      "- Windowed time-domain design (firwin) method\n",
      "- Hamming window with 0.0194 passband ripple and 53 dB stopband attenuation\n",
      "- Lower passband edge: 0.01\n",
      "- Lower transition bandwidth: 0.01 Hz (-6 dB cutoff frequency: 0.01 Hz)\n",
      "- Upper passband edge: 30.00 Hz\n",
      "- Upper transition bandwidth: 7.50 Hz (-6 dB cutoff frequency: 33.75 Hz)\n",
      "- Filter length: 168961 samples (330.002 s)\n",
      "\n"
     ]
    },
    {
     "name": "stderr",
     "output_type": "stream",
     "text": [
      "[Parallel(n_jobs=1)]: Done  17 tasks      | elapsed:    0.7s\n"
     ]
    },
    {
     "name": "stdout",
     "output_type": "stream",
     "text": [
      "Trigger channel Temp has a non-zero initial value of {initial_value} (consider using initial_event=True to detect this event)\n",
      "1152 events found on stim channel Status\n",
      "Event IDs: [101 102 103 104 105 106 107 108 111 112 113 114 115 116 117 118 121 122\n",
      " 123 124 125 126 127 128 131 132 133 134 135 136 137 138 203 204 213 214\n",
      " 223 224 233 234]\n",
      "Not setting metadata\n",
      "288 matching events found\n",
      "Setting baseline interval to [-0.099609375, 0.0] s\n",
      "Applying baseline correction (mode: mean)\n",
      "0 projection items activated\n",
      "Using data from preloaded Raw for 288 events and 666 original time points ...\n",
      "0 bad epochs dropped\n",
      "Opening raw data file data/storage_barni/icaRemoved/DT/block1/SYMUL2_EPM14_DT_ica_raw.fif...\n",
      "    Range : 0 ... 1285631 =      0.000 ...  2510.998 secs\n",
      "Ready.\n",
      "Reading 0 ... 1285631  =      0.000 ...  2510.998 secs...\n",
      "Filtering raw data in 4 contiguous segments\n",
      "Setting up band-pass filter from 0.01 - 30 Hz\n",
      "\n",
      "FIR filter parameters\n",
      "---------------------\n",
      "Designing a one-pass, zero-phase, non-causal bandpass filter:\n",
      "- Windowed time-domain design (firwin) method\n",
      "- Hamming window with 0.0194 passband ripple and 53 dB stopband attenuation\n",
      "- Lower passband edge: 0.01\n",
      "- Lower transition bandwidth: 0.01 Hz (-6 dB cutoff frequency: 0.01 Hz)\n",
      "- Upper passband edge: 30.00 Hz\n",
      "- Upper transition bandwidth: 7.50 Hz (-6 dB cutoff frequency: 33.75 Hz)\n",
      "- Filter length: 168961 samples (330.002 s)\n",
      "\n"
     ]
    },
    {
     "name": "stderr",
     "output_type": "stream",
     "text": [
      "[Parallel(n_jobs=1)]: Done  17 tasks      | elapsed:    0.7s\n"
     ]
    },
    {
     "name": "stdout",
     "output_type": "stream",
     "text": [
      "Trigger channel Temp has a non-zero initial value of {initial_value} (consider using initial_event=True to detect this event)\n",
      "1152 events found on stim channel Status\n",
      "Event IDs: [101 102 103 104 105 106 107 108 111 112 113 114 115 116 117 118 121 122\n",
      " 123 124 125 126 127 128 131 132 133 134 135 136 137 138 201 202 203 204\n",
      " 206 207 208 211 212 213 214 216 217 218 221 222 223 224 226 227 228 231\n",
      " 232 233 234 236 237 238]\n",
      "Not setting metadata\n",
      "288 matching events found\n",
      "Setting baseline interval to [-0.099609375, 0.0] s\n",
      "Applying baseline correction (mode: mean)\n",
      "0 projection items activated\n",
      "Using data from preloaded Raw for 288 events and 666 original time points ...\n",
      "0 bad epochs dropped\n",
      "Opening raw data file data/storage_barni/icaRemoved/DT/block1/SYMUL2_EPM13_DT_ica_raw.fif...\n",
      "    Range : 0 ... 1238015 =      0.000 ...  2417.998 secs\n",
      "Ready.\n",
      "Reading 0 ... 1238015  =      0.000 ...  2417.998 secs...\n",
      "Filtering raw data in 4 contiguous segments\n",
      "Setting up band-pass filter from 0.01 - 30 Hz\n",
      "\n",
      "FIR filter parameters\n",
      "---------------------\n",
      "Designing a one-pass, zero-phase, non-causal bandpass filter:\n",
      "- Windowed time-domain design (firwin) method\n",
      "- Hamming window with 0.0194 passband ripple and 53 dB stopband attenuation\n",
      "- Lower passband edge: 0.01\n",
      "- Lower transition bandwidth: 0.01 Hz (-6 dB cutoff frequency: 0.01 Hz)\n",
      "- Upper passband edge: 30.00 Hz\n",
      "- Upper transition bandwidth: 7.50 Hz (-6 dB cutoff frequency: 33.75 Hz)\n",
      "- Filter length: 168961 samples (330.002 s)\n",
      "\n"
     ]
    },
    {
     "name": "stderr",
     "output_type": "stream",
     "text": [
      "[Parallel(n_jobs=1)]: Done  17 tasks      | elapsed:    0.7s\n"
     ]
    },
    {
     "name": "stdout",
     "output_type": "stream",
     "text": [
      "Trigger channel Temp has a non-zero initial value of {initial_value} (consider using initial_event=True to detect this event)\n",
      "1152 events found on stim channel Status\n",
      "Event IDs: [101 102 103 104 105 106 107 108 111 112 113 114 115 116 117 118 121 122\n",
      " 123 124 125 126 127 128 131 132 133 134 135 136 137 138 202 203 204 205\n",
      " 206 207 208 212 213 214 215 216 217 218 222 223 224 225 226 227 228 232\n",
      " 233 234 235 236 237 238]\n",
      "Not setting metadata\n",
      "288 matching events found\n",
      "Setting baseline interval to [-0.099609375, 0.0] s\n",
      "Applying baseline correction (mode: mean)\n",
      "0 projection items activated\n",
      "Using data from preloaded Raw for 288 events and 666 original time points ...\n",
      "0 bad epochs dropped\n",
      "Opening raw data file data/storage_barni/icaRemoved/DT/block1/SYMUL2_EPM12_DT_ica_raw.fif...\n",
      "    Range : 0 ... 1248767 =      0.000 ...  2438.998 secs\n",
      "Ready.\n",
      "Reading 0 ... 1248767  =      0.000 ...  2438.998 secs...\n",
      "Filtering raw data in 4 contiguous segments\n",
      "Setting up band-pass filter from 0.01 - 30 Hz\n",
      "\n",
      "FIR filter parameters\n",
      "---------------------\n",
      "Designing a one-pass, zero-phase, non-causal bandpass filter:\n",
      "- Windowed time-domain design (firwin) method\n",
      "- Hamming window with 0.0194 passband ripple and 53 dB stopband attenuation\n",
      "- Lower passband edge: 0.01\n",
      "- Lower transition bandwidth: 0.01 Hz (-6 dB cutoff frequency: 0.01 Hz)\n",
      "- Upper passband edge: 30.00 Hz\n",
      "- Upper transition bandwidth: 7.50 Hz (-6 dB cutoff frequency: 33.75 Hz)\n",
      "- Filter length: 168961 samples (330.002 s)\n",
      "\n"
     ]
    },
    {
     "name": "stderr",
     "output_type": "stream",
     "text": [
      "[Parallel(n_jobs=1)]: Done  17 tasks      | elapsed:    0.7s\n"
     ]
    },
    {
     "name": "stdout",
     "output_type": "stream",
     "text": [
      "Trigger channel Temp has a non-zero initial value of {initial_value} (consider using initial_event=True to detect this event)\n",
      "1152 events found on stim channel Status\n",
      "Event IDs: [101 102 103 104 105 106 107 108 111 112 113 114 115 116 117 118 121 122\n",
      " 123 124 125 126 127 128 131 132 133 134 135 136 137 138 202 203 204 205\n",
      " 206 207 208 212 213 214 215 216 217 218 222 223 224 225 226 227 228 232\n",
      " 233 234 235 236 237 238]\n",
      "Not setting metadata\n",
      "288 matching events found\n",
      "Setting baseline interval to [-0.099609375, 0.0] s\n",
      "Applying baseline correction (mode: mean)\n",
      "0 projection items activated\n",
      "Using data from preloaded Raw for 288 events and 666 original time points ...\n",
      "0 bad epochs dropped\n",
      "Opening raw data file data/storage_barni/icaRemoved/DT/block1/SYMUL2_EPM11_DT_ica_raw.fif...\n",
      "    Range : 0 ... 1252863 =      0.000 ...  2446.998 secs\n",
      "Ready.\n",
      "Reading 0 ... 1252863  =      0.000 ...  2446.998 secs...\n",
      "Filtering raw data in 4 contiguous segments\n",
      "Setting up band-pass filter from 0.01 - 30 Hz\n",
      "\n",
      "FIR filter parameters\n",
      "---------------------\n",
      "Designing a one-pass, zero-phase, non-causal bandpass filter:\n",
      "- Windowed time-domain design (firwin) method\n",
      "- Hamming window with 0.0194 passband ripple and 53 dB stopband attenuation\n",
      "- Lower passband edge: 0.01\n",
      "- Lower transition bandwidth: 0.01 Hz (-6 dB cutoff frequency: 0.01 Hz)\n",
      "- Upper passband edge: 30.00 Hz\n",
      "- Upper transition bandwidth: 7.50 Hz (-6 dB cutoff frequency: 33.75 Hz)\n",
      "- Filter length: 168961 samples (330.002 s)\n",
      "\n"
     ]
    },
    {
     "name": "stderr",
     "output_type": "stream",
     "text": [
      "[Parallel(n_jobs=1)]: Done  17 tasks      | elapsed:    0.7s\n"
     ]
    },
    {
     "name": "stdout",
     "output_type": "stream",
     "text": [
      "Trigger channel Temp has a non-zero initial value of {initial_value} (consider using initial_event=True to detect this event)\n",
      "1152 events found on stim channel Status\n",
      "Event IDs: [101 102 103 104 105 106 107 108 111 112 113 114 115 116 117 118 121 122\n",
      " 123 124 125 126 127 128 131 132 133 134 135 136 137 138 201 202 203 204\n",
      " 205 206 207 208 211 212 213 214 215 216 217 218 221 222 223 224 225 226\n",
      " 227 228 231 232 233 234 235 236 237 238]\n",
      "Not setting metadata\n",
      "288 matching events found\n",
      "Setting baseline interval to [-0.099609375, 0.0] s\n",
      "Applying baseline correction (mode: mean)\n",
      "0 projection items activated\n",
      "Using data from preloaded Raw for 288 events and 666 original time points ...\n",
      "0 bad epochs dropped\n",
      "Opening raw data file data/storage_barni/icaRemoved/DT/block1/SYMUL2_EPM09_DT_ica_raw.fif...\n",
      "    Range : 0 ... 1298943 =      0.000 ...  2536.998 secs\n",
      "Ready.\n",
      "Reading 0 ... 1298943  =      0.000 ...  2536.998 secs...\n",
      "Filtering raw data in 4 contiguous segments\n",
      "Setting up band-pass filter from 0.01 - 30 Hz\n",
      "\n",
      "FIR filter parameters\n",
      "---------------------\n",
      "Designing a one-pass, zero-phase, non-causal bandpass filter:\n",
      "- Windowed time-domain design (firwin) method\n",
      "- Hamming window with 0.0194 passband ripple and 53 dB stopband attenuation\n",
      "- Lower passband edge: 0.01\n",
      "- Lower transition bandwidth: 0.01 Hz (-6 dB cutoff frequency: 0.01 Hz)\n",
      "- Upper passband edge: 30.00 Hz\n",
      "- Upper transition bandwidth: 7.50 Hz (-6 dB cutoff frequency: 33.75 Hz)\n",
      "- Filter length: 168961 samples (330.002 s)\n",
      "\n"
     ]
    },
    {
     "name": "stderr",
     "output_type": "stream",
     "text": [
      "[Parallel(n_jobs=1)]: Done  17 tasks      | elapsed:    0.7s\n"
     ]
    },
    {
     "name": "stdout",
     "output_type": "stream",
     "text": [
      "Trigger channel Temp has a non-zero initial value of {initial_value} (consider using initial_event=True to detect this event)\n",
      "1152 events found on stim channel Status\n",
      "Event IDs: [101 102 103 104 105 106 107 108 111 112 113 114 115 116 117 118 121 122\n",
      " 123 124 125 126 127 128 131 132 133 134 135 136 137 138 201 203 204 205\n",
      " 206 207 208 211 213 214 215 216 217 218 221 223 224 225 226 227 228 231\n",
      " 233 234 235 236 237 238]\n",
      "Not setting metadata\n",
      "288 matching events found\n",
      "Setting baseline interval to [-0.099609375, 0.0] s\n",
      "Applying baseline correction (mode: mean)\n",
      "0 projection items activated\n",
      "Using data from preloaded Raw for 288 events and 666 original time points ...\n",
      "0 bad epochs dropped\n",
      "Opening raw data file data/storage_barni/icaRemoved/DT/block1/SYMUL2_EPM10_DT_ica_raw.fif...\n",
      "    Range : 0 ... 1280511 =      0.000 ...  2500.998 secs\n",
      "Ready.\n",
      "Reading 0 ... 1280511  =      0.000 ...  2500.998 secs...\n",
      "Filtering raw data in 4 contiguous segments\n",
      "Setting up band-pass filter from 0.01 - 30 Hz\n",
      "\n",
      "FIR filter parameters\n",
      "---------------------\n",
      "Designing a one-pass, zero-phase, non-causal bandpass filter:\n",
      "- Windowed time-domain design (firwin) method\n",
      "- Hamming window with 0.0194 passband ripple and 53 dB stopband attenuation\n",
      "- Lower passband edge: 0.01\n",
      "- Lower transition bandwidth: 0.01 Hz (-6 dB cutoff frequency: 0.01 Hz)\n",
      "- Upper passband edge: 30.00 Hz\n",
      "- Upper transition bandwidth: 7.50 Hz (-6 dB cutoff frequency: 33.75 Hz)\n",
      "- Filter length: 168961 samples (330.002 s)\n",
      "\n"
     ]
    },
    {
     "name": "stderr",
     "output_type": "stream",
     "text": [
      "[Parallel(n_jobs=1)]: Done  17 tasks      | elapsed:    0.7s\n"
     ]
    },
    {
     "name": "stdout",
     "output_type": "stream",
     "text": [
      "Trigger channel Temp has a non-zero initial value of {initial_value} (consider using initial_event=True to detect this event)\n",
      "1152 events found on stim channel Status\n",
      "Event IDs: [101 102 103 104 105 106 107 108 111 112 113 114 115 116 117 118 121 122\n",
      " 123 124 125 126 127 128 131 132 133 134 135 136 137 138 201 202 203 204\n",
      " 205 206 207 208 211 212 213 214 215 216 217 218 221 222 223 224 225 226\n",
      " 227 228 231 232 233 234 235 236 237 238]\n",
      "Not setting metadata\n",
      "288 matching events found\n",
      "Setting baseline interval to [-0.099609375, 0.0] s\n",
      "Applying baseline correction (mode: mean)\n",
      "0 projection items activated\n",
      "Using data from preloaded Raw for 288 events and 666 original time points ...\n",
      "0 bad epochs dropped\n",
      "Opening raw data file data/storage_barni/icaRemoved/DT/block1/SYMUL2_EPM07_DT_ica_raw.fif...\n",
      "    Range : 0 ... 1246719 =      0.000 ...  2434.998 secs\n",
      "Ready.\n",
      "Reading 0 ... 1246719  =      0.000 ...  2434.998 secs...\n",
      "Filtering raw data in 4 contiguous segments\n",
      "Setting up band-pass filter from 0.01 - 30 Hz\n",
      "\n",
      "FIR filter parameters\n",
      "---------------------\n",
      "Designing a one-pass, zero-phase, non-causal bandpass filter:\n",
      "- Windowed time-domain design (firwin) method\n",
      "- Hamming window with 0.0194 passband ripple and 53 dB stopband attenuation\n",
      "- Lower passband edge: 0.01\n",
      "- Lower transition bandwidth: 0.01 Hz (-6 dB cutoff frequency: 0.01 Hz)\n",
      "- Upper passband edge: 30.00 Hz\n",
      "- Upper transition bandwidth: 7.50 Hz (-6 dB cutoff frequency: 33.75 Hz)\n",
      "- Filter length: 168961 samples (330.002 s)\n",
      "\n"
     ]
    },
    {
     "name": "stderr",
     "output_type": "stream",
     "text": [
      "[Parallel(n_jobs=1)]: Done  17 tasks      | elapsed:    0.7s\n"
     ]
    },
    {
     "name": "stdout",
     "output_type": "stream",
     "text": [
      "Trigger channel Temp has a non-zero initial value of {initial_value} (consider using initial_event=True to detect this event)\n",
      "1152 events found on stim channel Status\n",
      "Event IDs: [101 102 103 104 105 106 107 108 111 112 113 114 115 116 117 118 121 122\n",
      " 123 124 125 126 127 128 131 132 133 134 135 136 137 138 205 206 207 208\n",
      " 215 216 217 218 225 226 227 228 235 236 237 238]\n",
      "Not setting metadata\n",
      "288 matching events found\n",
      "Setting baseline interval to [-0.099609375, 0.0] s\n",
      "Applying baseline correction (mode: mean)\n",
      "0 projection items activated\n",
      "Using data from preloaded Raw for 288 events and 666 original time points ...\n",
      "0 bad epochs dropped\n",
      "Opening raw data file data/storage_barni/icaRemoved/DT/block1/SYMUL2_EPM08_DT_ica_raw.fif...\n",
      "    Range : 0 ... 1289215 =      0.000 ...  2517.998 secs\n",
      "Ready.\n",
      "Reading 0 ... 1289215  =      0.000 ...  2517.998 secs...\n",
      "Filtering raw data in 4 contiguous segments\n",
      "Setting up band-pass filter from 0.01 - 30 Hz\n",
      "\n",
      "FIR filter parameters\n",
      "---------------------\n",
      "Designing a one-pass, zero-phase, non-causal bandpass filter:\n",
      "- Windowed time-domain design (firwin) method\n",
      "- Hamming window with 0.0194 passband ripple and 53 dB stopband attenuation\n",
      "- Lower passband edge: 0.01\n",
      "- Lower transition bandwidth: 0.01 Hz (-6 dB cutoff frequency: 0.01 Hz)\n",
      "- Upper passband edge: 30.00 Hz\n",
      "- Upper transition bandwidth: 7.50 Hz (-6 dB cutoff frequency: 33.75 Hz)\n",
      "- Filter length: 168961 samples (330.002 s)\n",
      "\n"
     ]
    },
    {
     "name": "stderr",
     "output_type": "stream",
     "text": [
      "[Parallel(n_jobs=1)]: Done  17 tasks      | elapsed:    0.7s\n"
     ]
    },
    {
     "name": "stdout",
     "output_type": "stream",
     "text": [
      "Trigger channel Temp has a non-zero initial value of {initial_value} (consider using initial_event=True to detect this event)\n",
      "1152 events found on stim channel Status\n",
      "Event IDs: [101 102 103 104 105 106 107 108 111 112 113 114 115 116 117 118 121 122\n",
      " 123 124 125 126 127 128 131 132 133 134 135 136 137 138 202 206 207 208\n",
      " 212 216 217 218 222 226 227 228 232 236 237 238]\n",
      "Not setting metadata\n",
      "288 matching events found\n",
      "Setting baseline interval to [-0.099609375, 0.0] s\n",
      "Applying baseline correction (mode: mean)\n",
      "0 projection items activated\n",
      "Using data from preloaded Raw for 288 events and 666 original time points ...\n",
      "0 bad epochs dropped\n",
      "Opening raw data file data/storage_barni/icaRemoved/DT/block1/SYMUL2_EPM06_DT_ica_raw.fif...\n",
      "    Range : 0 ... 1299967 =      0.000 ...  2538.998 secs\n",
      "Ready.\n",
      "Reading 0 ... 1299967  =      0.000 ...  2538.998 secs...\n",
      "Filtering raw data in 4 contiguous segments\n",
      "Setting up band-pass filter from 0.01 - 30 Hz\n",
      "\n",
      "FIR filter parameters\n",
      "---------------------\n",
      "Designing a one-pass, zero-phase, non-causal bandpass filter:\n",
      "- Windowed time-domain design (firwin) method\n",
      "- Hamming window with 0.0194 passband ripple and 53 dB stopband attenuation\n",
      "- Lower passband edge: 0.01\n",
      "- Lower transition bandwidth: 0.01 Hz (-6 dB cutoff frequency: 0.01 Hz)\n",
      "- Upper passband edge: 30.00 Hz\n",
      "- Upper transition bandwidth: 7.50 Hz (-6 dB cutoff frequency: 33.75 Hz)\n",
      "- Filter length: 168961 samples (330.002 s)\n",
      "\n"
     ]
    },
    {
     "name": "stderr",
     "output_type": "stream",
     "text": [
      "[Parallel(n_jobs=1)]: Done  17 tasks      | elapsed:    0.7s\n"
     ]
    },
    {
     "name": "stdout",
     "output_type": "stream",
     "text": [
      "Trigger channel Temp has a non-zero initial value of {initial_value} (consider using initial_event=True to detect this event)\n",
      "1152 events found on stim channel Status\n",
      "Event IDs: [101 102 103 104 105 106 107 108 111 112 113 114 115 116 117 118 121 122\n",
      " 123 124 125 126 127 128 131 132 133 134 135 136 137 138 201 202 203 204\n",
      " 207 208 211 212 213 214 217 218 221 222 223 224 227 228 231 232 233 234\n",
      " 237 238]\n",
      "Not setting metadata\n",
      "288 matching events found\n",
      "Setting baseline interval to [-0.099609375, 0.0] s\n",
      "Applying baseline correction (mode: mean)\n",
      "0 projection items activated\n",
      "Using data from preloaded Raw for 288 events and 666 original time points ...\n",
      "0 bad epochs dropped\n",
      "Opening raw data file data/storage_barni/icaRemoved/DT/block1/SYMUL2_EPM03_DT_ica_raw.fif...\n",
      "    Range : 0 ... 1260543 =      0.000 ...  2461.998 secs\n",
      "Ready.\n",
      "Reading 0 ... 1260543  =      0.000 ...  2461.998 secs...\n",
      "Filtering raw data in 4 contiguous segments\n",
      "Setting up band-pass filter from 0.01 - 30 Hz\n",
      "\n",
      "FIR filter parameters\n",
      "---------------------\n",
      "Designing a one-pass, zero-phase, non-causal bandpass filter:\n",
      "- Windowed time-domain design (firwin) method\n",
      "- Hamming window with 0.0194 passband ripple and 53 dB stopband attenuation\n",
      "- Lower passband edge: 0.01\n",
      "- Lower transition bandwidth: 0.01 Hz (-6 dB cutoff frequency: 0.01 Hz)\n",
      "- Upper passband edge: 30.00 Hz\n",
      "- Upper transition bandwidth: 7.50 Hz (-6 dB cutoff frequency: 33.75 Hz)\n",
      "- Filter length: 168961 samples (330.002 s)\n",
      "\n"
     ]
    },
    {
     "name": "stderr",
     "output_type": "stream",
     "text": [
      "[Parallel(n_jobs=1)]: Done  17 tasks      | elapsed:    0.7s\n"
     ]
    },
    {
     "name": "stdout",
     "output_type": "stream",
     "text": [
      "Trigger channel Temp has a non-zero initial value of {initial_value} (consider using initial_event=True to detect this event)\n",
      "1152 events found on stim channel Status\n",
      "Event IDs: [101 102 103 104 105 106 107 108 111 112 113 114 115 116 117 118 121 122\n",
      " 123 124 125 126 127 128 131 132 133 134 135 136 137 138 201 203 204 205\n",
      " 206 207 208 211 213 214 215 216 217 218 221 223 224 225 226 227 228 231\n",
      " 233 234 235 236 237 238]\n",
      "Not setting metadata\n",
      "288 matching events found\n",
      "Setting baseline interval to [-0.099609375, 0.0] s\n",
      "Applying baseline correction (mode: mean)\n",
      "0 projection items activated\n",
      "Using data from preloaded Raw for 288 events and 666 original time points ...\n",
      "0 bad epochs dropped\n",
      "Opening raw data file data/storage_barni/icaRemoved/DT/block1/SYMUL2_EPM04_DT_ica_raw.fif...\n",
      "    Range : 0 ... 1309183 =      0.000 ...  2556.998 secs\n",
      "Ready.\n",
      "Reading 0 ... 1309183  =      0.000 ...  2556.998 secs...\n",
      "Filtering raw data in 4 contiguous segments\n",
      "Setting up band-pass filter from 0.01 - 30 Hz\n",
      "\n",
      "FIR filter parameters\n",
      "---------------------\n",
      "Designing a one-pass, zero-phase, non-causal bandpass filter:\n",
      "- Windowed time-domain design (firwin) method\n",
      "- Hamming window with 0.0194 passband ripple and 53 dB stopband attenuation\n",
      "- Lower passband edge: 0.01\n",
      "- Lower transition bandwidth: 0.01 Hz (-6 dB cutoff frequency: 0.01 Hz)\n",
      "- Upper passband edge: 30.00 Hz\n",
      "- Upper transition bandwidth: 7.50 Hz (-6 dB cutoff frequency: 33.75 Hz)\n",
      "- Filter length: 168961 samples (330.002 s)\n",
      "\n"
     ]
    },
    {
     "name": "stderr",
     "output_type": "stream",
     "text": [
      "[Parallel(n_jobs=1)]: Done  17 tasks      | elapsed:    0.7s\n"
     ]
    },
    {
     "name": "stdout",
     "output_type": "stream",
     "text": [
      "Trigger channel Temp has a non-zero initial value of {initial_value} (consider using initial_event=True to detect this event)\n",
      "1152 events found on stim channel Status\n",
      "Event IDs: [101 102 103 104 105 106 107 108 111 112 113 114 115 116 117 118 121 122\n",
      " 123 124 125 126 127 128 131 132 133 134 135 136 137 138 201 202 203 204\n",
      " 205 206 207 208 211 212 213 214 215 216 217 218 221 222 223 224 225 226\n",
      " 227 228 231 232 233 234 235 236 237 238]\n",
      "Not setting metadata\n",
      "288 matching events found\n",
      "Setting baseline interval to [-0.099609375, 0.0] s\n",
      "Applying baseline correction (mode: mean)\n",
      "0 projection items activated\n",
      "Using data from preloaded Raw for 288 events and 666 original time points ...\n",
      "0 bad epochs dropped\n",
      "Opening raw data file data/storage_barni/icaRemoved/DT/block1/SYMUL2_EPM02_DT_ica_raw.fif...\n",
      "    Range : 0 ... 1874943 =      0.000 ...  3661.998 secs\n",
      "Ready.\n",
      "Reading 0 ... 1874943  =      0.000 ...  3661.998 secs...\n",
      "Filtering raw data in 4 contiguous segments\n",
      "Setting up band-pass filter from 0.01 - 30 Hz\n",
      "\n",
      "FIR filter parameters\n",
      "---------------------\n",
      "Designing a one-pass, zero-phase, non-causal bandpass filter:\n",
      "- Windowed time-domain design (firwin) method\n",
      "- Hamming window with 0.0194 passband ripple and 53 dB stopband attenuation\n",
      "- Lower passband edge: 0.01\n",
      "- Lower transition bandwidth: 0.01 Hz (-6 dB cutoff frequency: 0.01 Hz)\n",
      "- Upper passband edge: 30.00 Hz\n",
      "- Upper transition bandwidth: 7.50 Hz (-6 dB cutoff frequency: 33.75 Hz)\n",
      "- Filter length: 168961 samples (330.002 s)\n",
      "\n"
     ]
    },
    {
     "name": "stderr",
     "output_type": "stream",
     "text": [
      "[Parallel(n_jobs=1)]: Done  17 tasks      | elapsed:    1.3s\n"
     ]
    },
    {
     "name": "stdout",
     "output_type": "stream",
     "text": [
      "Trigger channel Temp has a non-zero initial value of {initial_value} (consider using initial_event=True to detect this event)\n",
      "1152 events found on stim channel Status\n",
      "Event IDs: [101 102 103 104 105 106 107 108 111 112 113 114 115 116 117 118 121 122\n",
      " 123 124 125 126 127 128 131 132 133 134 135 136 137 138 201 205 206 211\n",
      " 215 216 221 225 226 231 235 236]\n",
      "Not setting metadata\n",
      "288 matching events found\n",
      "Setting baseline interval to [-0.099609375, 0.0] s\n",
      "Applying baseline correction (mode: mean)\n",
      "0 projection items activated\n",
      "Using data from preloaded Raw for 288 events and 666 original time points ...\n",
      "0 bad epochs dropped\n"
     ]
    }
   ],
   "source": [
    "# go to parent directory to access data storage\n",
    "os.chdir( '/home/bkapusi' )\n",
    "\n",
    "# Epoch data per block, participant, event - could probably do it more effectively\n",
    "part_list = []\n",
    "for iFile in os.listdir( 'data/storage_barni/icaRemoved/DT/block1' ):\n",
    "    if \"DT\" in iFile:\n",
    "        epochs = epoching( iFile, 'data/storage_barni/icaRemoved/DT/block1' )\n",
    "        subject_num = int( iFile[10:12] )\n",
    "\n",
    "        epochs_list = []\n",
    "\n",
    "        for i in range( 288 ):\n",
    "            # Get the data from the Epochs object\n",
    "            epoch_data = epochs.get_data(copy=False)[i]\n",
    "\n",
    "            # Convert the data to a pandas DataFrame\n",
    "            epoch_df = pd.DataFrame( epoch_data )\n",
    "            epoch_res = epoch_df.transpose()\n",
    "\n",
    "            # Adding epoch and subject number, and time to the DataFrame\n",
    "            epoch_res['Epoch'] = [i+1 for x in range( epoch_res.shape[0] )]\n",
    "            epoch_res['Subject'] = [subject_num for x in range( epoch_res.shape[0] )]\n",
    "            epoch_res['Time'] = [ -0.1 + i*(1.2/615) for i in range( 666 )]\n",
    "\n",
    "            # Append the single epoch name to the list\n",
    "            epochs_list.append( f'epoch_{i+1}' )\n",
    "\n",
    "            # Assign the DataFrame to a variable with a dynamic name\n",
    "            exec( f'epoch_{i+1} = epoch_res' )\n",
    "\n",
    "        # Concatenate the epoch file for a particpant\n",
    "        epochs_per_part = pd.concat([globals()[epoch] for epoch in epochs_list], ignore_index=True)\n",
    "\n",
    "        # Append the name of the epochs file per particpant and assign the DataFrame to a varibale\n",
    "        part_list.append( f'particpant_{subject_num}' )\n",
    "        exec( f'particpant_{subject_num} = epochs_per_part' )\n",
    "\n",
    "# Sort the list by subject number (for Block2)\n",
    "part_list.sort()\n",
    "\n",
    "#concatenate the DataFrames corresponding to each particpant\n",
    "epochs_dt_b1 = pd.concat([globals()[part_file] for part_file in part_list], ignore_index=True)\n",
    "\n",
    "# Go back to SYMUL directory\n",
    "os.chdir( 'SYMUL' )"
   ]
  },
  {
   "cell_type": "code",
   "execution_count": 12,
   "id": "265b4155-88f8-4f67-97fc-c86aa84ee6dc",
   "metadata": {},
   "outputs": [],
   "source": [
    "# Assign channels names, epoch, subject, and time to the columns\n",
    "\n",
    "ch_names = epochs.ch_names\n",
    "ch_names.append( 'Epoch' )\n",
    "ch_names.append( 'Subject' )\n",
    "ch_names.append( 'Time' )\n",
    "\n",
    "epochs_dt_b1.columns = ch_names[:epochs_dt_b1.shape[1]]"
   ]
  },
  {
   "cell_type": "code",
   "execution_count": 13,
   "id": "3bbc4571-c466-4150-b51e-4cfd2221fa74",
   "metadata": {
    "scrolled": true
   },
   "outputs": [
    {
     "name": "stdout",
     "output_type": "stream",
     "text": [
      "Opening raw data file data/storage_barni/icaRemoved/DT/block2/SYMUL2_EPM23_DT_ica_raw.fif...\n",
      "    Range : 0 ... 1661951 =      0.000 ...  3245.998 secs\n",
      "Ready.\n",
      "Reading 0 ... 1661951  =      0.000 ...  3245.998 secs...\n",
      "Filtering raw data in 1 contiguous segment\n",
      "Setting up band-pass filter from 0.01 - 30 Hz\n",
      "\n",
      "FIR filter parameters\n",
      "---------------------\n",
      "Designing a one-pass, zero-phase, non-causal bandpass filter:\n",
      "- Windowed time-domain design (firwin) method\n",
      "- Hamming window with 0.0194 passband ripple and 53 dB stopband attenuation\n",
      "- Lower passband edge: 0.01\n",
      "- Lower transition bandwidth: 0.01 Hz (-6 dB cutoff frequency: 0.01 Hz)\n",
      "- Upper passband edge: 30.00 Hz\n",
      "- Upper transition bandwidth: 7.50 Hz (-6 dB cutoff frequency: 33.75 Hz)\n",
      "- Filter length: 168961 samples (330.002 s)\n",
      "\n"
     ]
    },
    {
     "name": "stderr",
     "output_type": "stream",
     "text": [
      "[Parallel(n_jobs=1)]: Done  17 tasks      | elapsed:    2.1s\n"
     ]
    },
    {
     "name": "stdout",
     "output_type": "stream",
     "text": [
      "1152 events found on stim channel Status\n",
      "Event IDs: [101 102 103 104 105 106 107 108 111 112 113 114 115 116 117 118 121 122\n",
      " 123 124 125 126 127 128 131 132 133 134 135 136 137 138 201 202 203 204\n",
      " 205 206 207 208 211 212 213 214 215 216 217 218 221 222 223 224 225 226\n",
      " 227 228 231 232 233 234 235 236 237 238]\n",
      "Not setting metadata\n",
      "288 matching events found\n",
      "Setting baseline interval to [-0.099609375, 0.0] s\n",
      "Applying baseline correction (mode: mean)\n",
      "0 projection items activated\n",
      "Using data from preloaded Raw for 288 events and 666 original time points ...\n",
      "0 bad epochs dropped\n",
      "Opening raw data file data/storage_barni/icaRemoved/DT/block2/SYMUL2_EPM26_DT_ica_raw.fif...\n",
      "    Range : 0 ... 1459711 =      0.000 ...  2850.998 secs\n",
      "Ready.\n",
      "Reading 0 ... 1459711  =      0.000 ...  2850.998 secs...\n",
      "Filtering raw data in 1 contiguous segment\n",
      "Setting up band-pass filter from 0.01 - 30 Hz\n",
      "\n",
      "FIR filter parameters\n",
      "---------------------\n",
      "Designing a one-pass, zero-phase, non-causal bandpass filter:\n",
      "- Windowed time-domain design (firwin) method\n",
      "- Hamming window with 0.0194 passband ripple and 53 dB stopband attenuation\n",
      "- Lower passband edge: 0.01\n",
      "- Lower transition bandwidth: 0.01 Hz (-6 dB cutoff frequency: 0.01 Hz)\n",
      "- Upper passband edge: 30.00 Hz\n",
      "- Upper transition bandwidth: 7.50 Hz (-6 dB cutoff frequency: 33.75 Hz)\n",
      "- Filter length: 168961 samples (330.002 s)\n",
      "\n"
     ]
    },
    {
     "name": "stderr",
     "output_type": "stream",
     "text": [
      "[Parallel(n_jobs=1)]: Done  17 tasks      | elapsed:    2.0s\n"
     ]
    },
    {
     "name": "stdout",
     "output_type": "stream",
     "text": [
      "1152 events found on stim channel Status\n",
      "Event IDs: [101 102 103 104 105 106 107 108 111 112 113 114 115 116 117 118 121 122\n",
      " 123 124 125 126 127 128 131 132 133 134 135 136 137 138 201 202 203 204\n",
      " 205 206 207 208 211 212 213 214 215 216 217 218 221 222 223 224 225 226\n",
      " 227 228 231 232 233 234 235 236 237 238]\n",
      "Not setting metadata\n",
      "288 matching events found\n",
      "Setting baseline interval to [-0.099609375, 0.0] s\n",
      "Applying baseline correction (mode: mean)\n",
      "0 projection items activated\n",
      "Using data from preloaded Raw for 288 events and 666 original time points ...\n",
      "0 bad epochs dropped\n",
      "Opening raw data file data/storage_barni/icaRemoved/DT/block2/SYMUL2_EPM22_DT_ica_raw.fif...\n",
      "    Range : 0 ... 1186815 =      0.000 ...  2317.998 secs\n",
      "Ready.\n",
      "Reading 0 ... 1186815  =      0.000 ...  2317.998 secs...\n",
      "Filtering raw data in 1 contiguous segment\n",
      "Setting up band-pass filter from 0.01 - 30 Hz\n",
      "\n",
      "FIR filter parameters\n",
      "---------------------\n",
      "Designing a one-pass, zero-phase, non-causal bandpass filter:\n",
      "- Windowed time-domain design (firwin) method\n",
      "- Hamming window with 0.0194 passband ripple and 53 dB stopband attenuation\n",
      "- Lower passband edge: 0.01\n",
      "- Lower transition bandwidth: 0.01 Hz (-6 dB cutoff frequency: 0.01 Hz)\n",
      "- Upper passband edge: 30.00 Hz\n",
      "- Upper transition bandwidth: 7.50 Hz (-6 dB cutoff frequency: 33.75 Hz)\n",
      "- Filter length: 168961 samples (330.002 s)\n",
      "\n"
     ]
    },
    {
     "name": "stderr",
     "output_type": "stream",
     "text": [
      "[Parallel(n_jobs=1)]: Done  17 tasks      | elapsed:    1.7s\n"
     ]
    },
    {
     "name": "stdout",
     "output_type": "stream",
     "text": [
      "1152 events found on stim channel Status\n",
      "Event IDs: [101 102 103 104 105 106 107 108 111 112 113 114 115 116 117 118 121 122\n",
      " 123 124 125 126 127 128 131 132 133 134 135 136 137 138 202 203 204 205\n",
      " 206 207 208 212 213 214 215 216 217 218 222 223 224 225 226 227 228 232\n",
      " 233 234 235 236 237 238]\n",
      "Not setting metadata\n",
      "288 matching events found\n",
      "Setting baseline interval to [-0.099609375, 0.0] s\n",
      "Applying baseline correction (mode: mean)\n",
      "0 projection items activated\n",
      "Using data from preloaded Raw for 288 events and 666 original time points ...\n",
      "0 bad epochs dropped\n",
      "Opening raw data file data/storage_barni/icaRemoved/DT/block2/SYMUL2_EPM21_DT_ica_raw.fif...\n",
      "    Range : 0 ... 1143807 =      0.000 ...  2233.998 secs\n",
      "Ready.\n",
      "Reading 0 ... 1143807  =      0.000 ...  2233.998 secs...\n",
      "Filtering raw data in 1 contiguous segment\n",
      "Setting up band-pass filter from 0.01 - 30 Hz\n",
      "\n",
      "FIR filter parameters\n",
      "---------------------\n",
      "Designing a one-pass, zero-phase, non-causal bandpass filter:\n",
      "- Windowed time-domain design (firwin) method\n",
      "- Hamming window with 0.0194 passband ripple and 53 dB stopband attenuation\n",
      "- Lower passband edge: 0.01\n",
      "- Lower transition bandwidth: 0.01 Hz (-6 dB cutoff frequency: 0.01 Hz)\n",
      "- Upper passband edge: 30.00 Hz\n",
      "- Upper transition bandwidth: 7.50 Hz (-6 dB cutoff frequency: 33.75 Hz)\n",
      "- Filter length: 168961 samples (330.002 s)\n",
      "\n"
     ]
    },
    {
     "name": "stderr",
     "output_type": "stream",
     "text": [
      "[Parallel(n_jobs=1)]: Done  17 tasks      | elapsed:    1.7s\n"
     ]
    },
    {
     "name": "stdout",
     "output_type": "stream",
     "text": [
      "1152 events found on stim channel Status\n",
      "Event IDs: [101 102 103 104 105 106 107 108 111 112 113 114 115 116 117 118 121 122\n",
      " 123 124 125 126 127 128 131 132 133 134 135 136 137 138 201 202 203 204\n",
      " 205 206 207 208 211 212 213 214 215 216 217 218 221 222 223 224 225 226\n",
      " 227 228 231 232 233 234 235 236 237 238]\n",
      "Not setting metadata\n",
      "288 matching events found\n",
      "Setting baseline interval to [-0.099609375, 0.0] s\n",
      "Applying baseline correction (mode: mean)\n",
      "0 projection items activated\n",
      "Using data from preloaded Raw for 288 events and 666 original time points ...\n",
      "0 bad epochs dropped\n",
      "Opening raw data file data/storage_barni/icaRemoved/DT/block2/SYMUL2_EPM24_DT_ica_raw.fif...\n",
      "    Range : 0 ... 1191423 =      0.000 ...  2326.998 secs\n",
      "Ready.\n",
      "Reading 0 ... 1191423  =      0.000 ...  2326.998 secs...\n",
      "Filtering raw data in 1 contiguous segment\n",
      "Setting up band-pass filter from 0.01 - 30 Hz\n",
      "\n",
      "FIR filter parameters\n",
      "---------------------\n",
      "Designing a one-pass, zero-phase, non-causal bandpass filter:\n",
      "- Windowed time-domain design (firwin) method\n",
      "- Hamming window with 0.0194 passband ripple and 53 dB stopband attenuation\n",
      "- Lower passband edge: 0.01\n",
      "- Lower transition bandwidth: 0.01 Hz (-6 dB cutoff frequency: 0.01 Hz)\n",
      "- Upper passband edge: 30.00 Hz\n",
      "- Upper transition bandwidth: 7.50 Hz (-6 dB cutoff frequency: 33.75 Hz)\n",
      "- Filter length: 168961 samples (330.002 s)\n",
      "\n"
     ]
    },
    {
     "name": "stderr",
     "output_type": "stream",
     "text": [
      "[Parallel(n_jobs=1)]: Done  17 tasks      | elapsed:    1.8s\n"
     ]
    },
    {
     "name": "stdout",
     "output_type": "stream",
     "text": [
      "1152 events found on stim channel Status\n",
      "Event IDs: [101 102 103 104 105 106 107 108 111 112 113 114 115 116 117 118 121 122\n",
      " 123 124 125 126 127 128 131 132 133 134 135 136 137 138 201 202 203 204\n",
      " 205 206 207 208 211 212 213 214 215 216 217 218 221 222 223 224 225 226\n",
      " 227 228 231 232 233 234 235 236 237 238]\n",
      "Not setting metadata\n",
      "288 matching events found\n",
      "Setting baseline interval to [-0.099609375, 0.0] s\n",
      "Applying baseline correction (mode: mean)\n",
      "0 projection items activated\n",
      "Using data from preloaded Raw for 288 events and 666 original time points ...\n",
      "0 bad epochs dropped\n",
      "Opening raw data file data/storage_barni/icaRemoved/DT/block2/SYMUL2_EPM27_DT_ica_raw.fif...\n",
      "    Range : 0 ... 1411071 =      0.000 ...  2755.998 secs\n",
      "Ready.\n",
      "Reading 0 ... 1411071  =      0.000 ...  2755.998 secs...\n",
      "Filtering raw data in 1 contiguous segment\n",
      "Setting up band-pass filter from 0.01 - 30 Hz\n",
      "\n",
      "FIR filter parameters\n",
      "---------------------\n",
      "Designing a one-pass, zero-phase, non-causal bandpass filter:\n",
      "- Windowed time-domain design (firwin) method\n",
      "- Hamming window with 0.0194 passband ripple and 53 dB stopband attenuation\n",
      "- Lower passband edge: 0.01\n",
      "- Lower transition bandwidth: 0.01 Hz (-6 dB cutoff frequency: 0.01 Hz)\n",
      "- Upper passband edge: 30.00 Hz\n",
      "- Upper transition bandwidth: 7.50 Hz (-6 dB cutoff frequency: 33.75 Hz)\n",
      "- Filter length: 168961 samples (330.002 s)\n",
      "\n"
     ]
    },
    {
     "name": "stderr",
     "output_type": "stream",
     "text": [
      "[Parallel(n_jobs=1)]: Done  17 tasks      | elapsed:    1.8s\n"
     ]
    },
    {
     "name": "stdout",
     "output_type": "stream",
     "text": [
      "1152 events found on stim channel Status\n",
      "Event IDs: [101 102 103 104 105 106 107 108 111 112 113 114 115 116 117 118 121 122\n",
      " 123 124 125 126 127 128 131 132 133 134 135 136 137 138 201 202 204 205\n",
      " 206 207 208 211 212 214 215 216 217 218 221 222 224 225 226 227 228 231\n",
      " 232 234 235 236 237 238]\n",
      "Not setting metadata\n",
      "288 matching events found\n",
      "Setting baseline interval to [-0.099609375, 0.0] s\n",
      "Applying baseline correction (mode: mean)\n",
      "0 projection items activated\n",
      "Using data from preloaded Raw for 288 events and 666 original time points ...\n",
      "0 bad epochs dropped\n",
      "Opening raw data file data/storage_barni/icaRemoved/DT/block2/SYMUL2_EPM29_DT_ica_raw.fif...\n",
      "    Range : 0 ... 1210367 =      0.000 ...  2363.998 secs\n",
      "Ready.\n",
      "Reading 0 ... 1210367  =      0.000 ...  2363.998 secs...\n",
      "Filtering raw data in 1 contiguous segment\n",
      "Setting up band-pass filter from 0.01 - 30 Hz\n",
      "\n",
      "FIR filter parameters\n",
      "---------------------\n",
      "Designing a one-pass, zero-phase, non-causal bandpass filter:\n",
      "- Windowed time-domain design (firwin) method\n",
      "- Hamming window with 0.0194 passband ripple and 53 dB stopband attenuation\n",
      "- Lower passband edge: 0.01\n",
      "- Lower transition bandwidth: 0.01 Hz (-6 dB cutoff frequency: 0.01 Hz)\n",
      "- Upper passband edge: 30.00 Hz\n",
      "- Upper transition bandwidth: 7.50 Hz (-6 dB cutoff frequency: 33.75 Hz)\n",
      "- Filter length: 168961 samples (330.002 s)\n",
      "\n"
     ]
    },
    {
     "name": "stderr",
     "output_type": "stream",
     "text": [
      "[Parallel(n_jobs=1)]: Done  17 tasks      | elapsed:    1.8s\n"
     ]
    },
    {
     "name": "stdout",
     "output_type": "stream",
     "text": [
      "1152 events found on stim channel Status\n",
      "Event IDs: [101 102 103 104 105 106 107 108 111 112 113 114 115 116 117 118 121 122\n",
      " 123 124 125 126 127 128 131 132 133 134 135 136 137 138 201 202 203 204\n",
      " 205 206 207 208 211 212 213 214 215 216 217 218 221 222 223 224 225 226\n",
      " 227 228 231 232 233 234 235 236 237 238]\n",
      "Not setting metadata\n",
      "288 matching events found\n",
      "Setting baseline interval to [-0.099609375, 0.0] s\n",
      "Applying baseline correction (mode: mean)\n",
      "0 projection items activated\n",
      "Using data from preloaded Raw for 288 events and 666 original time points ...\n",
      "0 bad epochs dropped\n",
      "Opening raw data file data/storage_barni/icaRemoved/DT/block2/SYMUL2_EPM28_DT_ica_raw.fif...\n",
      "    Range : 0 ... 1384447 =      0.000 ...  2703.998 secs\n",
      "Ready.\n",
      "Reading 0 ... 1384447  =      0.000 ...  2703.998 secs...\n",
      "Filtering raw data in 1 contiguous segment\n",
      "Setting up band-pass filter from 0.01 - 30 Hz\n",
      "\n",
      "FIR filter parameters\n",
      "---------------------\n",
      "Designing a one-pass, zero-phase, non-causal bandpass filter:\n",
      "- Windowed time-domain design (firwin) method\n",
      "- Hamming window with 0.0194 passband ripple and 53 dB stopband attenuation\n",
      "- Lower passband edge: 0.01\n",
      "- Lower transition bandwidth: 0.01 Hz (-6 dB cutoff frequency: 0.01 Hz)\n",
      "- Upper passband edge: 30.00 Hz\n",
      "- Upper transition bandwidth: 7.50 Hz (-6 dB cutoff frequency: 33.75 Hz)\n",
      "- Filter length: 168961 samples (330.002 s)\n",
      "\n"
     ]
    },
    {
     "name": "stderr",
     "output_type": "stream",
     "text": [
      "[Parallel(n_jobs=1)]: Done  17 tasks      | elapsed:    1.7s\n"
     ]
    },
    {
     "name": "stdout",
     "output_type": "stream",
     "text": [
      "1152 events found on stim channel Status\n",
      "Event IDs: [101 102 103 104 105 106 107 108 111 112 113 114 115 116 117 118 121 122\n",
      " 123 124 125 126 127 128 131 132 133 134 135 136 137 138 201 202 203 204\n",
      " 205 206 207 208 211 212 213 214 215 216 217 218 221 222 223 224 225 226\n",
      " 227 228 231 232 233 234 235 236 237 238]\n",
      "Not setting metadata\n",
      "288 matching events found\n",
      "Setting baseline interval to [-0.099609375, 0.0] s\n",
      "Applying baseline correction (mode: mean)\n",
      "0 projection items activated\n",
      "Using data from preloaded Raw for 288 events and 666 original time points ...\n",
      "0 bad epochs dropped\n",
      "Opening raw data file data/storage_barni/icaRemoved/DT/block2/SYMUL2_EPM33_DT_ica_raw.fif...\n",
      "    Range : 0 ... 1690623 =      0.000 ...  3301.998 secs\n",
      "Ready.\n",
      "Reading 0 ... 1690623  =      0.000 ...  3301.998 secs...\n",
      "Filtering raw data in 1 contiguous segment\n",
      "Setting up band-pass filter from 0.01 - 30 Hz\n",
      "\n",
      "FIR filter parameters\n",
      "---------------------\n",
      "Designing a one-pass, zero-phase, non-causal bandpass filter:\n",
      "- Windowed time-domain design (firwin) method\n",
      "- Hamming window with 0.0194 passband ripple and 53 dB stopband attenuation\n",
      "- Lower passband edge: 0.01\n",
      "- Lower transition bandwidth: 0.01 Hz (-6 dB cutoff frequency: 0.01 Hz)\n",
      "- Upper passband edge: 30.00 Hz\n",
      "- Upper transition bandwidth: 7.50 Hz (-6 dB cutoff frequency: 33.75 Hz)\n",
      "- Filter length: 168961 samples (330.002 s)\n",
      "\n"
     ]
    },
    {
     "name": "stderr",
     "output_type": "stream",
     "text": [
      "[Parallel(n_jobs=1)]: Done  17 tasks      | elapsed:    2.2s\n"
     ]
    },
    {
     "name": "stdout",
     "output_type": "stream",
     "text": [
      "1152 events found on stim channel Status\n",
      "Event IDs: [101 102 103 104 105 106 107 108 111 112 113 114 115 116 117 118 121 122\n",
      " 123 124 125 126 127 128 131 132 133 134 135 136 137 138 202 203 204 205\n",
      " 206 207 208 212 213 214 215 216 217 218 222 223 224 225 226 227 228 232\n",
      " 233 234 235 236 237 238]\n",
      "Not setting metadata\n",
      "288 matching events found\n",
      "Setting baseline interval to [-0.099609375, 0.0] s\n",
      "Applying baseline correction (mode: mean)\n",
      "0 projection items activated\n",
      "Using data from preloaded Raw for 288 events and 666 original time points ...\n",
      "0 bad epochs dropped\n",
      "Opening raw data file data/storage_barni/icaRemoved/DT/block2/SYMUL2_EPM31_DT_ica_raw.fif...\n",
      "    Range : 0 ... 1243135 =      0.000 ...  2427.998 secs\n",
      "Ready.\n",
      "Reading 0 ... 1243135  =      0.000 ...  2427.998 secs...\n",
      "Filtering raw data in 1 contiguous segment\n",
      "Setting up band-pass filter from 0.01 - 30 Hz\n",
      "\n",
      "FIR filter parameters\n",
      "---------------------\n",
      "Designing a one-pass, zero-phase, non-causal bandpass filter:\n",
      "- Windowed time-domain design (firwin) method\n",
      "- Hamming window with 0.0194 passband ripple and 53 dB stopband attenuation\n",
      "- Lower passband edge: 0.01\n",
      "- Lower transition bandwidth: 0.01 Hz (-6 dB cutoff frequency: 0.01 Hz)\n",
      "- Upper passband edge: 30.00 Hz\n",
      "- Upper transition bandwidth: 7.50 Hz (-6 dB cutoff frequency: 33.75 Hz)\n",
      "- Filter length: 168961 samples (330.002 s)\n",
      "\n"
     ]
    },
    {
     "name": "stderr",
     "output_type": "stream",
     "text": [
      "[Parallel(n_jobs=1)]: Done  17 tasks      | elapsed:    1.9s\n"
     ]
    },
    {
     "name": "stdout",
     "output_type": "stream",
     "text": [
      "1152 events found on stim channel Status\n",
      "Event IDs: [101 102 103 104 105 106 107 108 111 112 113 114 115 116 117 118 121 122\n",
      " 123 124 125 126 127 128 131 132 133 134 135 136 137 138 201 202 203 204\n",
      " 205 206 207 208 211 212 213 214 215 216 217 218 221 222 223 224 225 226\n",
      " 227 228 231 232 233 234 235 236 237 238]\n",
      "Not setting metadata\n",
      "288 matching events found\n",
      "Setting baseline interval to [-0.099609375, 0.0] s\n",
      "Applying baseline correction (mode: mean)\n",
      "0 projection items activated\n",
      "Using data from preloaded Raw for 288 events and 666 original time points ...\n",
      "0 bad epochs dropped\n",
      "Opening raw data file data/storage_barni/icaRemoved/DT/block2/SYMUL2_EPM30_DT_ica_raw.fif...\n",
      "    Range : 0 ... 1171967 =      0.000 ...  2288.998 secs\n",
      "Ready.\n",
      "Reading 0 ... 1171967  =      0.000 ...  2288.998 secs...\n",
      "Filtering raw data in 1 contiguous segment\n",
      "Setting up band-pass filter from 0.01 - 30 Hz\n",
      "\n",
      "FIR filter parameters\n",
      "---------------------\n",
      "Designing a one-pass, zero-phase, non-causal bandpass filter:\n",
      "- Windowed time-domain design (firwin) method\n",
      "- Hamming window with 0.0194 passband ripple and 53 dB stopband attenuation\n",
      "- Lower passband edge: 0.01\n",
      "- Lower transition bandwidth: 0.01 Hz (-6 dB cutoff frequency: 0.01 Hz)\n",
      "- Upper passband edge: 30.00 Hz\n",
      "- Upper transition bandwidth: 7.50 Hz (-6 dB cutoff frequency: 33.75 Hz)\n",
      "- Filter length: 168961 samples (330.002 s)\n",
      "\n"
     ]
    },
    {
     "name": "stderr",
     "output_type": "stream",
     "text": [
      "[Parallel(n_jobs=1)]: Done  17 tasks      | elapsed:    1.7s\n"
     ]
    },
    {
     "name": "stdout",
     "output_type": "stream",
     "text": [
      "1152 events found on stim channel Status\n",
      "Event IDs: [101 102 103 104 105 106 107 108 111 112 113 114 115 116 117 118 121 122\n",
      " 123 124 125 126 127 128 131 132 133 134 135 136 137 138 201 202 203 204\n",
      " 205 206 207 208 211 212 213 214 215 216 217 218 221 222 223 224 225 226\n",
      " 227 228 231 232 233 234 235 236 237 238]\n",
      "Not setting metadata\n",
      "288 matching events found\n",
      "Setting baseline interval to [-0.099609375, 0.0] s\n",
      "Applying baseline correction (mode: mean)\n",
      "0 projection items activated\n",
      "Using data from preloaded Raw for 288 events and 666 original time points ...\n",
      "0 bad epochs dropped\n",
      "Opening raw data file data/storage_barni/icaRemoved/DT/block2/SYMUL2_EPM32_DT_ica_raw.fif...\n",
      "    Range : 0 ... 1158143 =      0.000 ...  2261.998 secs\n",
      "Ready.\n",
      "Reading 0 ... 1158143  =      0.000 ...  2261.998 secs...\n",
      "Filtering raw data in 1 contiguous segment\n",
      "Setting up band-pass filter from 0.01 - 30 Hz\n",
      "\n",
      "FIR filter parameters\n",
      "---------------------\n",
      "Designing a one-pass, zero-phase, non-causal bandpass filter:\n",
      "- Windowed time-domain design (firwin) method\n",
      "- Hamming window with 0.0194 passband ripple and 53 dB stopband attenuation\n",
      "- Lower passband edge: 0.01\n",
      "- Lower transition bandwidth: 0.01 Hz (-6 dB cutoff frequency: 0.01 Hz)\n",
      "- Upper passband edge: 30.00 Hz\n",
      "- Upper transition bandwidth: 7.50 Hz (-6 dB cutoff frequency: 33.75 Hz)\n",
      "- Filter length: 168961 samples (330.002 s)\n",
      "\n"
     ]
    },
    {
     "name": "stderr",
     "output_type": "stream",
     "text": [
      "[Parallel(n_jobs=1)]: Done  17 tasks      | elapsed:    1.7s\n"
     ]
    },
    {
     "name": "stdout",
     "output_type": "stream",
     "text": [
      "1152 events found on stim channel Status\n",
      "Event IDs: [101 102 103 104 105 106 107 108 111 112 113 114 115 116 117 118 121 122\n",
      " 123 124 125 126 127 128 131 132 133 134 135 136 137 138]\n",
      "Not setting metadata\n",
      "288 matching events found\n",
      "Setting baseline interval to [-0.099609375, 0.0] s\n",
      "Applying baseline correction (mode: mean)\n",
      "0 projection items activated\n",
      "Using data from preloaded Raw for 288 events and 666 original time points ...\n",
      "0 bad epochs dropped\n"
     ]
    }
   ],
   "source": [
    "# go to parent directory to access data storage\n",
    "os.chdir( '/home/bkapusi' )\n",
    "\n",
    "# Epoch data per block, participant, event - could probably do it more effectively\n",
    "part_list = []\n",
    "for iFile in os.listdir( 'data/storage_barni/icaRemoved/DT/block2' ):\n",
    "    if \"DT\" in iFile:\n",
    "        epochs = epoching( iFile, 'data/storage_barni/icaRemoved/DT/block2' )\n",
    "        subject_num = int( iFile[10:12] )\n",
    "\n",
    "        epochs_list = []\n",
    "\n",
    "        for i in range( 288 ):\n",
    "            # Get the data from the Epochs object\n",
    "            epoch_data = epochs.get_data(copy=False)[i]\n",
    "\n",
    "            # Convert the data to a pandas DataFrame\n",
    "            epoch_df = pd.DataFrame( epoch_data )\n",
    "            epoch_res = epoch_df.transpose()\n",
    "\n",
    "            # Adding epoch and subject number, and time to the DataFrame\n",
    "            epoch_res['Epoch'] = [i+1 for x in range( epoch_res.shape[0] )]\n",
    "            epoch_res['Subject'] = [subject_num for x in range( epoch_res.shape[0] )]\n",
    "            epoch_res['Time'] = [ -0.1 + i*(1.2/615) for i in range( 666 )]\n",
    "\n",
    "            # Append the single epoch name to the list\n",
    "            epochs_list.append( f'epoch_{i+1}' )\n",
    "\n",
    "            # Assign the DataFrame to a variable with a dynamic name\n",
    "            exec( f'epoch_{i+1} = epoch_res' )\n",
    "\n",
    "        # Concatenate the epoch file for a particpant\n",
    "        epochs_per_part = pd.concat([globals()[epoch] for epoch in epochs_list], ignore_index=True)\n",
    "\n",
    "        # Append the name of the epochs file per particpant and assign the DataFrame to a varibale\n",
    "        part_list.append( f'particpant_{subject_num}' )\n",
    "        exec( f'particpant_{subject_num} = epochs_per_part' )\n",
    "\n",
    "# Sort the list by subject number (for Block2)\n",
    "part_list.sort()\n",
    "\n",
    "#concatenate the DataFrames corresponding to each particpant\n",
    "epochs_dt_b2 = pd.concat([globals()[part_file] for part_file in part_list], ignore_index=True)\n",
    "\n",
    "# Go back to SYMUL directory\n",
    "os.chdir( 'SYMUL' )"
   ]
  },
  {
   "cell_type": "code",
   "execution_count": 14,
   "id": "71dd3dcb-2b87-483f-a4fa-fd5fe8a75f61",
   "metadata": {},
   "outputs": [],
   "source": [
    "# Assign channels names, epoch, subject, and time to the columns\n",
    "\n",
    "ch_names = epochs.ch_names\n",
    "ch_names.append( 'Epoch' )\n",
    "ch_names.append( 'Subject' )\n",
    "ch_names.append( 'Time' )\n",
    "\n",
    "epochs_dt_b2.columns = ch_names[:epochs_dt_b2.shape[1]]"
   ]
  },
  {
   "cell_type": "code",
   "execution_count": 15,
   "id": "0b89ff0f-e044-4beb-91a7-b2a356edf822",
   "metadata": {},
   "outputs": [],
   "source": [
    "# Extract columns of interest\n",
    "epochs_dt_b1_ed = epochs_dt_b1[['Fz', 'Cz', 'Pz', 'Status', 'Epoch', 'Subject', 'Time']]\n",
    "epochs_dt_b2_ed = epochs_dt_b2[['Fz', 'Cz', 'Pz', 'Status', 'Epoch', 'Subject', 'Time']]"
   ]
  },
  {
   "cell_type": "code",
   "execution_count": 16,
   "id": "d433feeb-bdb0-468e-9e7c-f18427cfc324",
   "metadata": {},
   "outputs": [],
   "source": [
    "# Concatenate the two blocks\n",
    "epochs_dt_all=pd.concat( [epochs_dt_b1_ed,epochs_dt_b2_ed] )"
   ]
  },
  {
   "cell_type": "code",
   "execution_count": 17,
   "id": "4a29f987-9e66-44d4-9a6e-7b4671edfe7e",
   "metadata": {},
   "outputs": [],
   "source": [
    "# Sort values by subject number\n",
    "epochs_dt_all.sort_values( by=['Subject', 'Epoch', 'Time'], inplace=True )\n",
    "epochs_dt_all.reset_index(drop=True, inplace=True)"
   ]
  },
  {
   "cell_type": "markdown",
   "id": "64ddcb23-a72d-45f5-a43d-148c21c5211b",
   "metadata": {
    "jp-MarkdownHeadingCollapsed": true
   },
   "source": [
    "# Adding behavioural data"
   ]
  },
  {
   "cell_type": "code",
   "execution_count": 18,
   "id": "202ebcc0-a027-4d11-9db7-b50af6fb76f0",
   "metadata": {},
   "outputs": [],
   "source": [
    "# Load behavioural file\n",
    "behav_file = pd.read_csv( 'behavFiles/final_behavioral_file.csv' )"
   ]
  },
  {
   "cell_type": "code",
   "execution_count": 19,
   "id": "54da5bab-34dc-4a64-ab2a-232b26cca26e",
   "metadata": {},
   "outputs": [],
   "source": [
    "# Import sentence log file (for checking alignment)\n",
    "sentLogs_df = pd.read_csv( 'behavFiles/sentLogs.csv' )"
   ]
  },
  {
   "cell_type": "code",
   "execution_count": 20,
   "id": "7eb26079-cf1f-47a1-82cc-1be2d13a6fa3",
   "metadata": {},
   "outputs": [],
   "source": [
    "# Event lists for original and shifted target\n",
    "events_list_og= [111, 112, 113, 114, 115, 116, 117, 118,\n",
    "                       211, 212, 213, 214, 215, 216, 217, 218,\n",
    "                       311, 312, 313, 314, 315, 316, 317, 318]\n",
    "\n",
    "events_list_shift = [121, 122, 123, 124, 125, 126, 127, 128,\n",
    "                       221, 222, 223, 224, 225, 226, 227, 228,\n",
    "                       321, 322, 323, 324, 325, 326, 327, 328]\n",
    "\n",
    "# Dictionary encoding event codes to condition names\n",
    "encode_dict = {121: 'FCC', 122: 'ECC', 123: 'FIC', 124: 'EIC', 125: 'FCI', 126: 'ECI', 127: 'FII', 128: 'EII', \n",
    "              111: 'FCC', 112: 'ECC', 113: 'FIC', 114: 'EIC', 115: 'FCI', 116: 'ECI', 117: 'FII', 118: 'EII',\n",
    "              131: 'FCC', 132: 'ECC', 133: 'FIC', 134: 'EIC', 135: 'FCI', 136: 'ECI', 137: 'FII', 138: 'EII',\n",
    "               \n",
    "              221: 'FCC', 222: 'ECC', 223: 'FIC', 224: 'EIC', 225: 'FCI', 226: 'ECI', 227: 'FII', 228: 'EII', \n",
    "              211: 'FCC', 212: 'ECC', 213: 'FIC', 214: 'EIC', 215: 'FCI', 216: 'ECI', 217: 'FII', 218: 'EII',\n",
    "              231: 'FCC', 232: 'ECC', 233: 'FIC', 234: 'EIC', 235: 'FCI', 236: 'ECI', 237: 'FII', 238: 'EII',\n",
    "               \n",
    "              321: 'FCC', 322: 'ECC', 323: 'FIC', 324: 'EIC', 325: 'FCI', 326: 'ECI', 327: 'FII', 328: 'EII', \n",
    "              311: 'FCC', 312: 'ECC', 313: 'FIC', 314: 'EIC', 315: 'FCI', 316: 'ECI', 317: 'FII', 318: 'EII',\n",
    "              331: 'FCC', 332: 'ECC', 333: 'FIC', 334: 'EIC', 335: 'FCI', 336: 'ECI', 337: 'FII', 338: 'EII'}\n"
   ]
  },
  {
   "cell_type": "markdown",
   "id": "7e8d0191-0a80-4363-885b-1db6e48eee18",
   "metadata": {
    "jp-MarkdownHeadingCollapsed": true
   },
   "source": [
    "## LT"
   ]
  },
  {
   "cell_type": "code",
   "execution_count": 20,
   "id": "6e72b0ff-6e91-4df6-907e-5813f7c31124",
   "metadata": {},
   "outputs": [],
   "source": [
    "# Sort the DataFrame by subject, session, and trial number\n",
    "behav_sorted = behav_file.sort_values( by=[ 'Session', 'Subject', 'BlockTrial'] )\n",
    "\n",
    "# Use only important columns\n",
    "behav_lt_select = behav_sorted[['Session','Subject','BlockTrial','Condition','MelodyRating']]"
   ]
  },
  {
   "cell_type": "code",
   "execution_count": 21,
   "id": "5deac2d8-3dfd-4f64-b954-fbaab31000b3",
   "metadata": {},
   "outputs": [],
   "source": [
    "# Extract event codes from eeg recording\n",
    "events = epochs_lt_all[(epochs_lt_all['Status']!=0)&(epochs_lt_all['Status'].isin(events_list_shift))] \n",
    "\n",
    "events_copy = events.copy()\n",
    "\n",
    "# Encode them to conditions\n",
    "new_cond_df = events_copy[['Subject', 'Status']]\n",
    "new_cond_df.iloc[:,1] = new_cond_df['Status'].astype(int)\n",
    "new_cond_df.iloc[:,1] = new_cond_df['Status'].map(encode_dict)\n",
    "new_cond_df.reset_index( drop=True, inplace=True )"
   ]
  },
  {
   "cell_type": "code",
   "execution_count": 15,
   "id": "9325acac-f766-4f21-a690-3c0e11cbdaac",
   "metadata": {},
   "outputs": [],
   "source": [
    "# Get LT session\n",
    "behav_lt = behav_lt_select[(behav_lt_select['Session']=='LT')&(behav_lt_select['Subject']!=25)]"
   ]
  },
  {
   "cell_type": "code",
   "execution_count": 22,
   "id": "f0690ef7-44ca-4f2c-9485-4e51fbf6c9f8",
   "metadata": {},
   "outputs": [],
   "source": [
    "# Add new condition column\n",
    "behav_lt_copy = behav_lt.copy()\n",
    "behav_lt_copy.iloc[:,3] = new_cond_df['Status']"
   ]
  },
  {
   "cell_type": "code",
   "execution_count": 23,
   "id": "6cb35246-d4ea-4b61-8f84-e95843f6aabc",
   "metadata": {},
   "outputs": [
    {
     "data": {
      "text/html": [
       "<div>\n",
       "<style scoped>\n",
       "    .dataframe tbody tr th:only-of-type {\n",
       "        vertical-align: middle;\n",
       "    }\n",
       "\n",
       "    .dataframe tbody tr th {\n",
       "        vertical-align: top;\n",
       "    }\n",
       "\n",
       "    .dataframe thead th {\n",
       "        text-align: right;\n",
       "    }\n",
       "</style>\n",
       "<table border=\"1\" class=\"dataframe\">\n",
       "  <thead>\n",
       "    <tr style=\"text-align: right;\">\n",
       "      <th></th>\n",
       "      <th>Fz</th>\n",
       "      <th>Cz</th>\n",
       "      <th>Pz</th>\n",
       "      <th>Status</th>\n",
       "      <th>Epoch</th>\n",
       "      <th>Subject</th>\n",
       "      <th>Time</th>\n",
       "      <th>Session</th>\n",
       "      <th>Subject2</th>\n",
       "      <th>BlockTrial</th>\n",
       "      <th>Condition</th>\n",
       "      <th>MelodyRating</th>\n",
       "      <th>LanguageViolation</th>\n",
       "      <th>MusicViolation</th>\n",
       "    </tr>\n",
       "  </thead>\n",
       "  <tbody>\n",
       "    <tr>\n",
       "      <th>0</th>\n",
       "      <td>0.000011</td>\n",
       "      <td>9.073087e-06</td>\n",
       "      <td>0.000007</td>\n",
       "      <td>0.0</td>\n",
       "      <td>1</td>\n",
       "      <td>2</td>\n",
       "      <td>-0.100000</td>\n",
       "      <td>LT</td>\n",
       "      <td>2</td>\n",
       "      <td>101</td>\n",
       "      <td>ECC</td>\n",
       "      <td>5.0</td>\n",
       "      <td>0</td>\n",
       "      <td>0</td>\n",
       "    </tr>\n",
       "    <tr>\n",
       "      <th>1</th>\n",
       "      <td>0.000012</td>\n",
       "      <td>1.060021e-05</td>\n",
       "      <td>0.000009</td>\n",
       "      <td>0.0</td>\n",
       "      <td>1</td>\n",
       "      <td>2</td>\n",
       "      <td>-0.098049</td>\n",
       "      <td>LT</td>\n",
       "      <td>2</td>\n",
       "      <td>101</td>\n",
       "      <td>ECC</td>\n",
       "      <td>5.0</td>\n",
       "      <td>0</td>\n",
       "      <td>0</td>\n",
       "    </tr>\n",
       "    <tr>\n",
       "      <th>2</th>\n",
       "      <td>0.000013</td>\n",
       "      <td>1.217789e-05</td>\n",
       "      <td>0.000010</td>\n",
       "      <td>0.0</td>\n",
       "      <td>1</td>\n",
       "      <td>2</td>\n",
       "      <td>-0.096098</td>\n",
       "      <td>LT</td>\n",
       "      <td>2</td>\n",
       "      <td>101</td>\n",
       "      <td>ECC</td>\n",
       "      <td>5.0</td>\n",
       "      <td>0</td>\n",
       "      <td>0</td>\n",
       "    </tr>\n",
       "    <tr>\n",
       "      <th>3</th>\n",
       "      <td>0.000013</td>\n",
       "      <td>1.361192e-05</td>\n",
       "      <td>0.000011</td>\n",
       "      <td>0.0</td>\n",
       "      <td>1</td>\n",
       "      <td>2</td>\n",
       "      <td>-0.094146</td>\n",
       "      <td>LT</td>\n",
       "      <td>2</td>\n",
       "      <td>101</td>\n",
       "      <td>ECC</td>\n",
       "      <td>5.0</td>\n",
       "      <td>0</td>\n",
       "      <td>0</td>\n",
       "    </tr>\n",
       "    <tr>\n",
       "      <th>4</th>\n",
       "      <td>0.000013</td>\n",
       "      <td>1.471583e-05</td>\n",
       "      <td>0.000011</td>\n",
       "      <td>0.0</td>\n",
       "      <td>1</td>\n",
       "      <td>2</td>\n",
       "      <td>-0.092195</td>\n",
       "      <td>LT</td>\n",
       "      <td>2</td>\n",
       "      <td>101</td>\n",
       "      <td>ECC</td>\n",
       "      <td>5.0</td>\n",
       "      <td>0</td>\n",
       "      <td>0</td>\n",
       "    </tr>\n",
       "    <tr>\n",
       "      <th>...</th>\n",
       "      <td>...</td>\n",
       "      <td>...</td>\n",
       "      <td>...</td>\n",
       "      <td>...</td>\n",
       "      <td>...</td>\n",
       "      <td>...</td>\n",
       "      <td>...</td>\n",
       "      <td>...</td>\n",
       "      <td>...</td>\n",
       "      <td>...</td>\n",
       "      <td>...</td>\n",
       "      <td>...</td>\n",
       "      <td>...</td>\n",
       "      <td>...</td>\n",
       "    </tr>\n",
       "    <tr>\n",
       "      <th>5178811</th>\n",
       "      <td>0.000007</td>\n",
       "      <td>-4.735809e-07</td>\n",
       "      <td>-0.000013</td>\n",
       "      <td>0.0</td>\n",
       "      <td>288</td>\n",
       "      <td>33</td>\n",
       "      <td>1.189756</td>\n",
       "      <td>LT</td>\n",
       "      <td>33</td>\n",
       "      <td>836</td>\n",
       "      <td>FIC</td>\n",
       "      <td>4.45</td>\n",
       "      <td>1</td>\n",
       "      <td>0</td>\n",
       "    </tr>\n",
       "    <tr>\n",
       "      <th>5178812</th>\n",
       "      <td>0.000007</td>\n",
       "      <td>-2.039574e-07</td>\n",
       "      <td>-0.000013</td>\n",
       "      <td>0.0</td>\n",
       "      <td>288</td>\n",
       "      <td>33</td>\n",
       "      <td>1.191707</td>\n",
       "      <td>LT</td>\n",
       "      <td>33</td>\n",
       "      <td>836</td>\n",
       "      <td>FIC</td>\n",
       "      <td>4.45</td>\n",
       "      <td>1</td>\n",
       "      <td>0</td>\n",
       "    </tr>\n",
       "    <tr>\n",
       "      <th>5178813</th>\n",
       "      <td>0.000006</td>\n",
       "      <td>-1.975363e-07</td>\n",
       "      <td>-0.000013</td>\n",
       "      <td>0.0</td>\n",
       "      <td>288</td>\n",
       "      <td>33</td>\n",
       "      <td>1.193659</td>\n",
       "      <td>LT</td>\n",
       "      <td>33</td>\n",
       "      <td>836</td>\n",
       "      <td>FIC</td>\n",
       "      <td>4.45</td>\n",
       "      <td>1</td>\n",
       "      <td>0</td>\n",
       "    </tr>\n",
       "    <tr>\n",
       "      <th>5178814</th>\n",
       "      <td>0.000005</td>\n",
       "      <td>-4.499073e-07</td>\n",
       "      <td>-0.000013</td>\n",
       "      <td>0.0</td>\n",
       "      <td>288</td>\n",
       "      <td>33</td>\n",
       "      <td>1.195610</td>\n",
       "      <td>LT</td>\n",
       "      <td>33</td>\n",
       "      <td>836</td>\n",
       "      <td>FIC</td>\n",
       "      <td>4.45</td>\n",
       "      <td>1</td>\n",
       "      <td>0</td>\n",
       "    </tr>\n",
       "    <tr>\n",
       "      <th>5178815</th>\n",
       "      <td>0.000004</td>\n",
       "      <td>-9.293626e-07</td>\n",
       "      <td>-0.000012</td>\n",
       "      <td>0.0</td>\n",
       "      <td>288</td>\n",
       "      <td>33</td>\n",
       "      <td>1.197561</td>\n",
       "      <td>LT</td>\n",
       "      <td>33</td>\n",
       "      <td>836</td>\n",
       "      <td>FIC</td>\n",
       "      <td>4.45</td>\n",
       "      <td>1</td>\n",
       "      <td>0</td>\n",
       "    </tr>\n",
       "  </tbody>\n",
       "</table>\n",
       "<p>5178816 rows × 14 columns</p>\n",
       "</div>"
      ],
      "text/plain": [
       "               Fz            Cz        Pz  Status  Epoch  Subject      Time  \\\n",
       "0        0.000011  9.073087e-06  0.000007     0.0      1        2 -0.100000   \n",
       "1        0.000012  1.060021e-05  0.000009     0.0      1        2 -0.098049   \n",
       "2        0.000013  1.217789e-05  0.000010     0.0      1        2 -0.096098   \n",
       "3        0.000013  1.361192e-05  0.000011     0.0      1        2 -0.094146   \n",
       "4        0.000013  1.471583e-05  0.000011     0.0      1        2 -0.092195   \n",
       "...           ...           ...       ...     ...    ...      ...       ...   \n",
       "5178811  0.000007 -4.735809e-07 -0.000013     0.0    288       33  1.189756   \n",
       "5178812  0.000007 -2.039574e-07 -0.000013     0.0    288       33  1.191707   \n",
       "5178813  0.000006 -1.975363e-07 -0.000013     0.0    288       33  1.193659   \n",
       "5178814  0.000005 -4.499073e-07 -0.000013     0.0    288       33  1.195610   \n",
       "5178815  0.000004 -9.293626e-07 -0.000012     0.0    288       33  1.197561   \n",
       "\n",
       "        Session Subject2 BlockTrial Condition MelodyRating LanguageViolation  \\\n",
       "0            LT        2        101       ECC          5.0                 0   \n",
       "1            LT        2        101       ECC          5.0                 0   \n",
       "2            LT        2        101       ECC          5.0                 0   \n",
       "3            LT        2        101       ECC          5.0                 0   \n",
       "4            LT        2        101       ECC          5.0                 0   \n",
       "...         ...      ...        ...       ...          ...               ...   \n",
       "5178811      LT       33        836       FIC         4.45                 1   \n",
       "5178812      LT       33        836       FIC         4.45                 1   \n",
       "5178813      LT       33        836       FIC         4.45                 1   \n",
       "5178814      LT       33        836       FIC         4.45                 1   \n",
       "5178815      LT       33        836       FIC         4.45                 1   \n",
       "\n",
       "        MusicViolation  \n",
       "0                    0  \n",
       "1                    0  \n",
       "2                    0  \n",
       "3                    0  \n",
       "4                    0  \n",
       "...                ...  \n",
       "5178811              0  \n",
       "5178812              0  \n",
       "5178813              0  \n",
       "5178814              0  \n",
       "5178815              0  \n",
       "\n",
       "[5178816 rows x 14 columns]"
      ]
     },
     "execution_count": 23,
     "metadata": {},
     "output_type": "execute_result"
    }
   ],
   "source": [
    "# Add LanguageViolation and MusicViolation based on conditions\n",
    "behav_lt_copy['LanguageViolation'] = behav_lt_copy['Condition'].str[1] == 'I'\n",
    "behav_lt_copy['LanguageViolation'] = behav_lt_copy['LanguageViolation'].astype(int)\n",
    "\n",
    "behav_lt_copy['MusicViolation'] = behav_lt_copy['Condition'].str[2] == 'I'\n",
    "behav_lt_copy['MusicViolation'] = behav_lt_copy['MusicViolation'].astype(int)\n",
    "\n",
    "# Repeat each row 615 times to have the same number of rows as the EEG DataFrame\n",
    "behav_lt_reshaped = pd.DataFrame( np.repeat( behav_lt_copy.values, 666, axis=0 ) )\n",
    "\n",
    "# Rename columns (mainly for debugging)\n",
    "behav_lt_reshaped.columns = ['Session', 'Subject', 'BlockTrial', 'Condition','MelodyRating',\n",
    "                             'LanguageViolation', 'MusicViolation']\n",
    "\n",
    "# Sort values\n",
    "behav_lt_reshaped.sort_values( by=['Subject', 'BlockTrial'], inplace=True )\n",
    "\n",
    "# Final concatenation with eeg data\n",
    "epochs_lt_all.reset_index( drop=True, inplace=True )\n",
    "behav_lt_reshaped.reset_index( drop=True, inplace=True )\n",
    "\n",
    "lt_final = pd.concat( [epochs_lt_all, behav_lt_reshaped], axis=1, ignore_index=True )\n",
    "\n",
    "# Rename columns again\n",
    "lt_final.columns = ['Fz', 'Cz', 'Pz', 'Status', 'Epoch', 'Subject',\n",
    "                    'Time', 'Session', 'Subject2', 'BlockTrial', 'Condition',\n",
    "                    'MelodyRating', 'LanguageViolation', 'MusicViolation']\n",
    "\n",
    "lt_final"
   ]
  },
  {
   "cell_type": "code",
   "execution_count": null,
   "id": "a9525d4d-27ac-48f8-af58-f31059694329",
   "metadata": {},
   "outputs": [],
   "source": [
    "# Save the final DataFrame\n",
    "os.chdir('/home/bkapusi')\n",
    "lt_final.to_csv( 'data/storage_barni/lt_all_new.csv' )\n",
    "os.chdir('SYMUL')\n",
    "os.getcwd()"
   ]
  },
  {
   "cell_type": "markdown",
   "id": "781754c9-c8ff-479e-b6e4-74158d299bbb",
   "metadata": {
    "jp-MarkdownHeadingCollapsed": true
   },
   "source": [
    "### Checking things - only necessary for checcking alignment between different files"
   ]
  },
  {
   "cell_type": "code",
   "execution_count": 52,
   "id": "82fb5a91-cbaa-42e6-9330-3f5a23f5e5d5",
   "metadata": {
    "scrolled": true
   },
   "outputs": [],
   "source": [
    "decode_dict = {'FCC': 101, 'ECC': 102, 'FIC': 103, 'EIC': 104, 'FCI': 105, 'ECI': 106, 'FII': 107, 'EII': 108}\n",
    "\n",
    "partList1 = [2, 3, 4, 6, 7, 8, 9, 10, 11, 12, 13, 14, 15, 16, 17]\n",
    "partList2 = [21, 22, 23, 24, 26, 27, 28, 29, 30, 31, 32, 33]"
   ]
  },
  {
   "cell_type": "code",
   "execution_count": 53,
   "id": "34dd9eca-d412-4cee-b4a4-358bdd6eabbe",
   "metadata": {},
   "outputs": [],
   "source": [
    "def check_same_values(list1, list2):\n",
    "    if len(list1) != len(list2):\n",
    "        return False\n",
    "\n",
    "    for i in range(len(list1)):\n",
    "        if list1[i] != list2[i]:\n",
    "            return False\n",
    "\n",
    "    return True\n",
    "\n",
    "def apply_mask(lst, mask):\n",
    "    return [elem for elem, mask_value in zip(lst, mask) if mask_value]\n",
    "\n",
    "\n",
    "def find_matching_keys(dict1, dict2):\n",
    "    matching_pairs = []\n",
    "    for key2, value2 in dict2.items():\n",
    "        for key1, value1 in dict1.items():\n",
    "            if value2 == value1:\n",
    "                matching_pairs.append((key1, key2))\n",
    "    return matching_pairs"
   ]
  },
  {
   "cell_type": "code",
   "execution_count": 68,
   "id": "092e72a5-9c42-4dcd-ba15-eeee29c12840",
   "metadata": {},
   "outputs": [
    {
     "name": "stdout",
     "output_type": "stream",
     "text": [
      "participant number: 2 has everything lined up\n",
      "participant number: 3 has everything lined up\n",
      "participant number: 4 has everything lined up\n",
      "participant number: 6 has everything lined up\n",
      "participant number: 7 has everything lined up\n",
      "participant number: 8 has everything lined up\n",
      "participant number: 9 has everything lined up\n",
      "participant number: 10 has everything lined up\n",
      "participant number: 11 has everything lined up\n",
      "participant number: 12 has everything lined up\n",
      "participant number: 13 has everything lined up\n",
      "participant number: 14 has everything lined up\n",
      "participant number: 15 has everything lined up\n",
      "participant number: 16 has everything lined up\n",
      "participant number: 17 has everything lined up\n"
     ]
    }
   ],
   "source": [
    "for part in partList1:\n",
    "    # print( 'participant number:', part )\n",
    "\n",
    "    # EEG conditions\n",
    "    eeg_cond_list = [encode_dict[int(i)] for i in lt_final[(lt_final['Subject']==part) & \n",
    "                     (lt_final['Epoch']<6) & (lt_final['Status']!=0)]['Status']]\n",
    "\n",
    "    # Behavioral conditions\n",
    "    behav_cond_list = [i for i in lt_final[(lt_final['Subject']==part) & \n",
    "                       (lt_final['Epoch']<6) & (lt_final['Status']!=0)]['Condition']]\n",
    "    \n",
    "    if check_same_values( eeg_cond_list, behav_cond_list ):\n",
    "        print( 'participant number:', part, 'has everything lined up' )\n",
    "        # print( eeg_cond_list)\n",
    "        # print( behav_cond_list, end='\\n\\n' )\n",
    "    else:\n",
    "        print( 'participant number:', part, 'has some issues', end='\\n\\n' )\n",
    "        # print( eeg_cond_list)\n",
    "        # print( behav_cond_list )"
   ]
  },
  {
   "cell_type": "code",
   "execution_count": 67,
   "id": "bbcd002e-6fe4-40bd-9688-0e886931ff65",
   "metadata": {},
   "outputs": [
    {
     "name": "stdout",
     "output_type": "stream",
     "text": [
      "participant number: 21 has everything lined up\n",
      "participant number: 22 has everything lined up\n",
      "participant number: 23 has everything lined up\n",
      "participant number: 24 has everything lined up\n",
      "participant number: 26 has everything lined up\n",
      "participant number: 27 has everything lined up\n",
      "participant number: 28 has everything lined up\n",
      "participant number: 29 has everything lined up\n",
      "participant number: 30 has everything lined up\n",
      "participant number: 31 has everything lined up\n",
      "participant number: 32 has everything lined up\n",
      "participant number: 33 has everything lined up\n"
     ]
    }
   ],
   "source": [
    "for part in partList2:\n",
    "    # print( 'participant number:', part )\n",
    "    \n",
    "    eeg_cond_list = [encode_dict[i] for i in lt_final[(lt_final['Subject']==part) & \n",
    "                     (lt_final['Epoch']<6) & (lt_final['Status']!=0)]['Status']]\n",
    "    \n",
    "    behav_cond_list = [i for i in lt_final[(lt_final['Subject']==part) & \n",
    "                       (lt_final['Epoch']<6) & (lt_final['Status']!=0)]['Condition']]\n",
    "    \n",
    "    if check_same_values( eeg_cond_list, behav_cond_list ):\n",
    "        print( 'participant number:', part, 'has everything lined up' )\n",
    "        # print( eeg_cond_list)\n",
    "        # print( behav_cond_list, end='\\n\\n' )\n",
    "    else:\n",
    "        print( 'participant number:', part, 'has some issues' )\n",
    "        print( eeg_cond_list)\n",
    "        print( behav_cond_list )"
   ]
  },
  {
   "cell_type": "code",
   "execution_count": 61,
   "id": "9c1a4ee6-2d2d-462d-9177-31b760a6cb09",
   "metadata": {},
   "outputs": [],
   "source": [
    "sentLogDict = {}\n",
    "for part in range( 1, 17 ):\n",
    "    sent_log_list = [i for i in sentLogs_df[(sentLogs_df['part']==part) &\n",
    "                     (sentLogs_df['task']=='LT')].iloc[:5, 2]]\n",
    "    #print( 'participant', part )\n",
    "    #print( sent_log_list, end='\\n\\n' )\n",
    "    sentLogDict[part] = sent_log_list"
   ]
  },
  {
   "cell_type": "code",
   "execution_count": 62,
   "id": "5f0dc863-05d0-4a0d-8aa0-2ac75ccd507e",
   "metadata": {},
   "outputs": [],
   "source": [
    "compareDict1 ={}\n",
    "for part in partList1:\n",
    "    \n",
    "    eeg_conds = [i for i in lt_final[(lt_final['Subject']==part) & \n",
    "                     (lt_final['Epoch']<6) & (lt_final['Status']!=0)]['Status']]\n",
    "\n",
    "    eeg_cond_mask = [str(i)[1]=='2' for i in lt_final[(lt_final['Subject']==part) & \n",
    "                     (lt_final['Epoch']<6) & (lt_final['Status']!=0)]['Status']]\n",
    "\n",
    "    eeg_cond_list = [encode_dict[i] for i in apply_mask( eeg_conds, eeg_cond_mask )]\n",
    "\n",
    "    compareDict1[part] = eeg_cond_list"
   ]
  },
  {
   "cell_type": "code",
   "execution_count": 63,
   "id": "67fbd395-2bd0-4e9d-95d2-081018be1e5b",
   "metadata": {},
   "outputs": [],
   "source": [
    "compareDict2 ={}\n",
    "for part in partList2:\n",
    "    # print( 'participant number:', part )\n",
    "    \n",
    "    eeg_conds = [i for i in lt_final[(lt_final['Subject']==part) & \n",
    "                     (lt_final['Epoch']<6) & (lt_final['Status']!=0)]['Status']]\n",
    "\n",
    "    eeg_cond_mask = [str(i)[1]=='2' for i in lt_final[(lt_final['Subject']==part) & \n",
    "                     (lt_final['Epoch']<6) & (lt_final['Status']!=0)]['Status']]\n",
    "\n",
    "    eeg_cond_list = [encode_dict[i] for i in apply_mask( eeg_conds, eeg_cond_mask )]\n",
    "\n",
    "    compareDict2[part] = eeg_cond_list\n",
    "    # print( part, eeg_cond_list )"
   ]
  },
  {
   "cell_type": "code",
   "execution_count": 66,
   "id": "474cc1c1-450b-4cd1-b91f-f84eb0c6a11f",
   "metadata": {},
   "outputs": [
    {
     "data": {
      "text/plain": [
       "{2: ['ECC', 'EIC', 'EII'],\n",
       " 3: ['ECI', 'EII', 'FCC'],\n",
       " 4: ['EIC'],\n",
       " 6: ['EII'],\n",
       " 7: ['EII', 'EIC', 'ECC'],\n",
       " 8: ['EIC', 'EII', 'ECC', 'ECC'],\n",
       " 9: ['EII', 'EIC', 'ECI'],\n",
       " 10: ['ECC', 'EII', 'EII', 'ECC', 'ECI'],\n",
       " 11: ['ECC'],\n",
       " 12: ['ECI', 'EIC', 'EII'],\n",
       " 13: ['ECI'],\n",
       " 14: ['EII', 'ECC'],\n",
       " 15: ['ECI', 'EII', 'EIC'],\n",
       " 16: ['EIC', 'EIC', 'EIC', 'ECI'],\n",
       " 17: ['EII']}"
      ]
     },
     "execution_count": 66,
     "metadata": {},
     "output_type": "execute_result"
    }
   ],
   "source": [
    "compareDict1"
   ]
  },
  {
   "cell_type": "code",
   "execution_count": 64,
   "id": "5d77d78f-4a6c-4dd2-b86b-d8b7b22818c1",
   "metadata": {},
   "outputs": [
    {
     "data": {
      "text/plain": [
       "[(10, 10)]"
      ]
     },
     "execution_count": 64,
     "metadata": {},
     "output_type": "execute_result"
    }
   ],
   "source": [
    "find_matching_keys( compareDict1, sentLogDict )"
   ]
  },
  {
   "cell_type": "code",
   "execution_count": 65,
   "id": "d7804e7a-fc66-452c-9389-fcf8c48c4e84",
   "metadata": {},
   "outputs": [
    {
     "data": {
      "text/plain": [
       "[(22, 2), (32, 2)]"
      ]
     },
     "execution_count": 65,
     "metadata": {},
     "output_type": "execute_result"
    }
   ],
   "source": [
    "find_matching_keys( compareDict2, sentLogDict )"
   ]
  },
  {
   "cell_type": "markdown",
   "id": "7281e48f-15a8-4e39-9c4a-917a39ebb553",
   "metadata": {
    "jp-MarkdownHeadingCollapsed": true
   },
   "source": [
    "## MT"
   ]
  },
  {
   "cell_type": "code",
   "execution_count": 21,
   "id": "d1fb0ccb-92ab-413f-ab24-5e29897809d6",
   "metadata": {},
   "outputs": [
    {
     "name": "stderr",
     "output_type": "stream",
     "text": [
      "/tmp/ipykernel_904416/3250955602.py:21: SettingWithCopyWarning: \n",
      "A value is trying to be set on a copy of a slice from a DataFrame\n",
      "\n",
      "See the caveats in the documentation: https://pandas.pydata.org/pandas-docs/stable/user_guide/indexing.html#returning-a-view-versus-a-copy\n",
      "  behav_24.loc[insert_index] = insertRow\n",
      "/tmp/ipykernel_904416/3250955602.py:23: SettingWithCopyWarning: \n",
      "A value is trying to be set on a copy of a slice from a DataFrame\n",
      "\n",
      "See the caveats in the documentation: https://pandas.pydata.org/pandas-docs/stable/user_guide/indexing.html#returning-a-view-versus-a-copy\n",
      "  behav_24.sort_values( by=['BlockTrial'], inplace=True )\n"
     ]
    }
   ],
   "source": [
    "# Adding an extra trial to behav. file of participant 24\n",
    "from collections import Counter\n",
    "\n",
    "# Extract the behav. file\n",
    "behav_24=behav_file[(behav_file['Session']=='MT') & (behav_file['Subject']==24)]\n",
    "\n",
    "# Count how many times each condition appears\n",
    "condList24=list( behav_24['Condition'] )\n",
    "counts=Counter( condList24 )\n",
    "\n",
    "# Extract missing condition code\n",
    "lowest = min(counts.values())\n",
    "condMissing = [key for key in counts if counts[key]==lowest][0]\n",
    "\n",
    "# Extract a random line from the same condition for duplicating\n",
    "behav_24_missing=behav_24[behav_24['Condition']==condMissing]\n",
    "insertRow=behav_24_missing.iloc[0,:]\n",
    "\n",
    "# Insert the extra row after the last\n",
    "insert_index = len(behav_24)\n",
    "behav_24.loc[insert_index] = insertRow\n",
    "\n",
    "behav_24.sort_values( by=['BlockTrial'], inplace=True )\n",
    "behav_24.reset_index( drop=True, inplace=True )"
   ]
  },
  {
   "cell_type": "code",
   "execution_count": 22,
   "id": "662ea27c-9868-4dd1-9f22-ed7836a4dafa",
   "metadata": {},
   "outputs": [
    {
     "name": "stderr",
     "output_type": "stream",
     "text": [
      "/tmp/ipykernel_904416/3512011246.py:22: SettingWithCopyWarning: \n",
      "A value is trying to be set on a copy of a slice from a DataFrame\n",
      "\n",
      "See the caveats in the documentation: https://pandas.pydata.org/pandas-docs/stable/user_guide/indexing.html#returning-a-view-versus-a-copy\n",
      "  behav_27.drop( [row_values1[0]], inplace=True )\n",
      "/tmp/ipykernel_904416/3512011246.py:40: SettingWithCopyWarning: \n",
      "A value is trying to be set on a copy of a slice from a DataFrame\n",
      "\n",
      "See the caveats in the documentation: https://pandas.pydata.org/pandas-docs/stable/user_guide/indexing.html#returning-a-view-versus-a-copy\n",
      "  behav_27.drop( [row_values2[0]], inplace=True )\n",
      "/tmp/ipykernel_904416/3512011246.py:42: SettingWithCopyWarning: \n",
      "A value is trying to be set on a copy of a slice from a DataFrame\n",
      "\n",
      "See the caveats in the documentation: https://pandas.pydata.org/pandas-docs/stable/user_guide/indexing.html#returning-a-view-versus-a-copy\n",
      "  behav_27.sort_values( by=['BlockTrial'], inplace=True )\n"
     ]
    }
   ],
   "source": [
    "# Delete extra rows from behavioral file of participant 27\n",
    "\n",
    "# Extract the behav. file\n",
    "behav_27=behav_file[(behav_file['Session']=='MT') & (behav_file['Subject']==27)]\n",
    "\n",
    "# FIRST duplicate\n",
    "\n",
    "# Count how many times each condition appears\n",
    "condList27=list( behav_27['Condition'] )\n",
    "counts=Counter( condList27 )\n",
    "\n",
    "# Extract missing condition code\n",
    "lowest1 = max(counts.values())\n",
    "condMissing1 = [key for key in counts if counts[key]==lowest1][0]\n",
    "\n",
    "# Extract DataFrame with only trials of duplicate condition\n",
    "behav_27_extra1=behav_27[behav_27['Condition']==condMissing1]\n",
    "duplicates1 = behav_27_extra1[behav_27_extra1.duplicated(subset='BlockTrial', keep=False)]\n",
    "row_values1=duplicates1.iloc[0,:]\n",
    "\n",
    "# drop by index (first column has the index duplicate)\n",
    "behav_27.drop( [row_values1[0]], inplace=True )\n",
    "\n",
    "# SECOND duplicate\n",
    "\n",
    "# Count how many times each condition appears\n",
    "condList27=list( behav_27['Condition'] )\n",
    "counts=Counter( condList27 )\n",
    "\n",
    "# Extract missing condition code\n",
    "lowest2 = max(counts.values())\n",
    "condMissing2 = [key for key in counts if counts[key]==lowest2][0]\n",
    "\n",
    "# Extract DataFrame with only trials of duplicate condition\n",
    "behav_27_extra2=behav_27[behav_27['Condition']==condMissing2]\n",
    "duplicates2 = behav_27_extra2[behav_27_extra2.duplicated(subset='BlockTrial', keep=False)]\n",
    "row_values2=duplicates2.iloc[0,:]\n",
    "\n",
    "# drop by index (first column has the index duplicate)\n",
    "behav_27.drop( [row_values2[0]], inplace=True )\n",
    "\n",
    "behav_27.sort_values( by=['BlockTrial'], inplace=True )\n",
    "behav_27.reset_index( drop=True, inplace=True )"
   ]
  },
  {
   "cell_type": "code",
   "execution_count": 23,
   "id": "41bf92e1-8e86-407e-8a4b-7486ad59685b",
   "metadata": {},
   "outputs": [],
   "source": [
    "# Sort the DataFrame by subject, session, and trial number\n",
    "behav_sorted = behav_file.sort_values( by=['Session', 'Subject', 'BlockTrial'] )\n",
    "\n",
    "# Exctract conditions for part 4 (because of padding)\n",
    "conds_part4_first = behav_sorted[(behav_sorted['Session']=='MT')&(behav_sorted['Subject']==4)]\n",
    "conds_part4 = conds_part4_first[['Subject', 'Condition']]\n",
    "conds_part4.columns =['Subject', 'Status']\n",
    "conds_part4.reset_index( drop=True, inplace=True )"
   ]
  },
  {
   "cell_type": "code",
   "execution_count": 24,
   "id": "02e55e90-84ed-48eb-a80d-cb031a8d6c79",
   "metadata": {},
   "outputs": [],
   "source": [
    "# Extract event codes from eeg recording\n",
    "events = epochs_mt_all[(epochs_mt_all['Status']!=0)&\n",
    "                        (epochs_mt_all['Status'].isin(events_list_shift))&\n",
    "                        (epochs_mt_all['Subject']!=4)] \n",
    "\n",
    "events_copy = events.copy()\n",
    "\n",
    "# Encode them to conditions\n",
    "new_cond_df = events_copy[['Subject', 'Status']]\n",
    "new_cond_df.iloc[:,1] = new_cond_df['Status'].astype(int)\n",
    "new_cond_df.iloc[:,1] = new_cond_df['Status'].map(encode_dict)\n",
    "new_cond_df.reset_index( drop=True, inplace=True )\n",
    "\n",
    "# Insert participant 4\n",
    "new_cond_df1 = new_cond_df.iloc[:576]\n",
    "new_cond_df2 = new_cond_df.iloc[576:]\n",
    "\n",
    "cond_df = pd.concat([new_cond_df1, conds_part4, new_cond_df2], ignore_index=True)\n",
    "cond_df.reset_index(drop=True, inplace=True)"
   ]
  },
  {
   "cell_type": "code",
   "execution_count": 25,
   "id": "70609455-098e-4eef-a310-925bf4db9585",
   "metadata": {},
   "outputs": [],
   "source": [
    "# Filter the MT session events out, without participant 24, 25, 27\n",
    "behav_mt_missing = behav_sorted[(behav_sorted['Session']=='MT')&(behav_sorted['Subject']!=25)&\n",
    "                                (behav_sorted['Subject']!=24)&(behav_sorted['Subject']!=27)]\n",
    "\n",
    "# Add the corrected participant parts\n",
    "behav_mt_add24=pd.concat( [behav_mt_missing, behav_24] )\n",
    "behav_mt_add27=pd.concat( [behav_mt_add24, behav_27] )\n",
    "\n",
    "behav_mt_sorted = behav_mt_add27.sort_values( by=['Subject', 'BlockTrial'] )\n",
    "\n",
    "behav_mt_sorted.reset_index(drop=True, inplace=True)"
   ]
  },
  {
   "cell_type": "code",
   "execution_count": 26,
   "id": "b95f1657-3e8f-43f4-988a-2a0d61121376",
   "metadata": {},
   "outputs": [],
   "source": [
    "# Add new condition column\n",
    "behav_mt_copy = behav_mt_sorted.copy()\n",
    "behav_mt_copy.iloc[:,4] = cond_df['Status']"
   ]
  },
  {
   "cell_type": "code",
   "execution_count": 27,
   "id": "ff5e30c4-a836-4786-b22a-75a2c2cf625d",
   "metadata": {},
   "outputs": [
    {
     "data": {
      "text/html": [
       "<div>\n",
       "<style scoped>\n",
       "    .dataframe tbody tr th:only-of-type {\n",
       "        vertical-align: middle;\n",
       "    }\n",
       "\n",
       "    .dataframe tbody tr th {\n",
       "        vertical-align: top;\n",
       "    }\n",
       "\n",
       "    .dataframe thead th {\n",
       "        text-align: right;\n",
       "    }\n",
       "</style>\n",
       "<table border=\"1\" class=\"dataframe\">\n",
       "  <thead>\n",
       "    <tr style=\"text-align: right;\">\n",
       "      <th></th>\n",
       "      <th>Fz</th>\n",
       "      <th>Cz</th>\n",
       "      <th>Pz</th>\n",
       "      <th>Status</th>\n",
       "      <th>Epoch</th>\n",
       "      <th>Subject</th>\n",
       "      <th>Time</th>\n",
       "      <th>Session</th>\n",
       "      <th>Subject2</th>\n",
       "      <th>BlockTrial</th>\n",
       "      <th>Condition</th>\n",
       "      <th>MelodyRating</th>\n",
       "      <th>LanguageViolation</th>\n",
       "      <th>MusicViolation</th>\n",
       "    </tr>\n",
       "  </thead>\n",
       "  <tbody>\n",
       "    <tr>\n",
       "      <th>0</th>\n",
       "      <td>1.224995e-05</td>\n",
       "      <td>0.000009</td>\n",
       "      <td>5.237453e-06</td>\n",
       "      <td>0.0</td>\n",
       "      <td>1</td>\n",
       "      <td>2</td>\n",
       "      <td>-0.100000</td>\n",
       "      <td>MT</td>\n",
       "      <td>2</td>\n",
       "      <td>101</td>\n",
       "      <td>EII</td>\n",
       "      <td>5.0</td>\n",
       "      <td>1</td>\n",
       "      <td>1</td>\n",
       "    </tr>\n",
       "    <tr>\n",
       "      <th>1</th>\n",
       "      <td>1.382518e-05</td>\n",
       "      <td>0.000010</td>\n",
       "      <td>6.040576e-06</td>\n",
       "      <td>0.0</td>\n",
       "      <td>1</td>\n",
       "      <td>2</td>\n",
       "      <td>-0.098049</td>\n",
       "      <td>MT</td>\n",
       "      <td>2</td>\n",
       "      <td>101</td>\n",
       "      <td>EII</td>\n",
       "      <td>5.0</td>\n",
       "      <td>1</td>\n",
       "      <td>1</td>\n",
       "    </tr>\n",
       "    <tr>\n",
       "      <th>2</th>\n",
       "      <td>1.467949e-05</td>\n",
       "      <td>0.000010</td>\n",
       "      <td>6.283726e-06</td>\n",
       "      <td>0.0</td>\n",
       "      <td>1</td>\n",
       "      <td>2</td>\n",
       "      <td>-0.096098</td>\n",
       "      <td>MT</td>\n",
       "      <td>2</td>\n",
       "      <td>101</td>\n",
       "      <td>EII</td>\n",
       "      <td>5.0</td>\n",
       "      <td>1</td>\n",
       "      <td>1</td>\n",
       "    </tr>\n",
       "    <tr>\n",
       "      <th>3</th>\n",
       "      <td>1.473609e-05</td>\n",
       "      <td>0.000010</td>\n",
       "      <td>5.995882e-06</td>\n",
       "      <td>0.0</td>\n",
       "      <td>1</td>\n",
       "      <td>2</td>\n",
       "      <td>-0.094146</td>\n",
       "      <td>MT</td>\n",
       "      <td>2</td>\n",
       "      <td>101</td>\n",
       "      <td>EII</td>\n",
       "      <td>5.0</td>\n",
       "      <td>1</td>\n",
       "      <td>1</td>\n",
       "    </tr>\n",
       "    <tr>\n",
       "      <th>4</th>\n",
       "      <td>1.395612e-05</td>\n",
       "      <td>0.000009</td>\n",
       "      <td>5.232651e-06</td>\n",
       "      <td>0.0</td>\n",
       "      <td>1</td>\n",
       "      <td>2</td>\n",
       "      <td>-0.092195</td>\n",
       "      <td>MT</td>\n",
       "      <td>2</td>\n",
       "      <td>101</td>\n",
       "      <td>EII</td>\n",
       "      <td>5.0</td>\n",
       "      <td>1</td>\n",
       "      <td>1</td>\n",
       "    </tr>\n",
       "    <tr>\n",
       "      <th>...</th>\n",
       "      <td>...</td>\n",
       "      <td>...</td>\n",
       "      <td>...</td>\n",
       "      <td>...</td>\n",
       "      <td>...</td>\n",
       "      <td>...</td>\n",
       "      <td>...</td>\n",
       "      <td>...</td>\n",
       "      <td>...</td>\n",
       "      <td>...</td>\n",
       "      <td>...</td>\n",
       "      <td>...</td>\n",
       "      <td>...</td>\n",
       "      <td>...</td>\n",
       "    </tr>\n",
       "    <tr>\n",
       "      <th>5178811</th>\n",
       "      <td>7.240536e-07</td>\n",
       "      <td>-0.000005</td>\n",
       "      <td>9.627445e-08</td>\n",
       "      <td>0.0</td>\n",
       "      <td>288</td>\n",
       "      <td>33</td>\n",
       "      <td>1.189756</td>\n",
       "      <td>MT</td>\n",
       "      <td>33</td>\n",
       "      <td>836</td>\n",
       "      <td>EIC</td>\n",
       "      <td>5.25</td>\n",
       "      <td>1</td>\n",
       "      <td>0</td>\n",
       "    </tr>\n",
       "    <tr>\n",
       "      <th>5178812</th>\n",
       "      <td>1.684109e-06</td>\n",
       "      <td>-0.000005</td>\n",
       "      <td>4.295749e-07</td>\n",
       "      <td>0.0</td>\n",
       "      <td>288</td>\n",
       "      <td>33</td>\n",
       "      <td>1.191707</td>\n",
       "      <td>MT</td>\n",
       "      <td>33</td>\n",
       "      <td>836</td>\n",
       "      <td>EIC</td>\n",
       "      <td>5.25</td>\n",
       "      <td>1</td>\n",
       "      <td>0</td>\n",
       "    </tr>\n",
       "    <tr>\n",
       "      <th>5178813</th>\n",
       "      <td>2.369689e-06</td>\n",
       "      <td>-0.000005</td>\n",
       "      <td>5.661653e-07</td>\n",
       "      <td>0.0</td>\n",
       "      <td>288</td>\n",
       "      <td>33</td>\n",
       "      <td>1.193659</td>\n",
       "      <td>MT</td>\n",
       "      <td>33</td>\n",
       "      <td>836</td>\n",
       "      <td>EIC</td>\n",
       "      <td>5.25</td>\n",
       "      <td>1</td>\n",
       "      <td>0</td>\n",
       "    </tr>\n",
       "    <tr>\n",
       "      <th>5178814</th>\n",
       "      <td>2.697424e-06</td>\n",
       "      <td>-0.000005</td>\n",
       "      <td>4.586819e-07</td>\n",
       "      <td>0.0</td>\n",
       "      <td>288</td>\n",
       "      <td>33</td>\n",
       "      <td>1.195610</td>\n",
       "      <td>MT</td>\n",
       "      <td>33</td>\n",
       "      <td>836</td>\n",
       "      <td>EIC</td>\n",
       "      <td>5.25</td>\n",
       "      <td>1</td>\n",
       "      <td>0</td>\n",
       "    </tr>\n",
       "    <tr>\n",
       "      <th>5178815</th>\n",
       "      <td>2.615775e-06</td>\n",
       "      <td>-0.000005</td>\n",
       "      <td>7.482774e-08</td>\n",
       "      <td>0.0</td>\n",
       "      <td>288</td>\n",
       "      <td>33</td>\n",
       "      <td>1.197561</td>\n",
       "      <td>MT</td>\n",
       "      <td>33</td>\n",
       "      <td>836</td>\n",
       "      <td>EIC</td>\n",
       "      <td>5.25</td>\n",
       "      <td>1</td>\n",
       "      <td>0</td>\n",
       "    </tr>\n",
       "  </tbody>\n",
       "</table>\n",
       "<p>5178816 rows × 14 columns</p>\n",
       "</div>"
      ],
      "text/plain": [
       "                   Fz        Cz            Pz  Status  Epoch  Subject  \\\n",
       "0        1.224995e-05  0.000009  5.237453e-06     0.0      1        2   \n",
       "1        1.382518e-05  0.000010  6.040576e-06     0.0      1        2   \n",
       "2        1.467949e-05  0.000010  6.283726e-06     0.0      1        2   \n",
       "3        1.473609e-05  0.000010  5.995882e-06     0.0      1        2   \n",
       "4        1.395612e-05  0.000009  5.232651e-06     0.0      1        2   \n",
       "...               ...       ...           ...     ...    ...      ...   \n",
       "5178811  7.240536e-07 -0.000005  9.627445e-08     0.0    288       33   \n",
       "5178812  1.684109e-06 -0.000005  4.295749e-07     0.0    288       33   \n",
       "5178813  2.369689e-06 -0.000005  5.661653e-07     0.0    288       33   \n",
       "5178814  2.697424e-06 -0.000005  4.586819e-07     0.0    288       33   \n",
       "5178815  2.615775e-06 -0.000005  7.482774e-08     0.0    288       33   \n",
       "\n",
       "             Time Session Subject2 BlockTrial Condition MelodyRating  \\\n",
       "0       -0.100000      MT        2        101       EII          5.0   \n",
       "1       -0.098049      MT        2        101       EII          5.0   \n",
       "2       -0.096098      MT        2        101       EII          5.0   \n",
       "3       -0.094146      MT        2        101       EII          5.0   \n",
       "4       -0.092195      MT        2        101       EII          5.0   \n",
       "...           ...     ...      ...        ...       ...          ...   \n",
       "5178811  1.189756      MT       33        836       EIC         5.25   \n",
       "5178812  1.191707      MT       33        836       EIC         5.25   \n",
       "5178813  1.193659      MT       33        836       EIC         5.25   \n",
       "5178814  1.195610      MT       33        836       EIC         5.25   \n",
       "5178815  1.197561      MT       33        836       EIC         5.25   \n",
       "\n",
       "        LanguageViolation MusicViolation  \n",
       "0                       1              1  \n",
       "1                       1              1  \n",
       "2                       1              1  \n",
       "3                       1              1  \n",
       "4                       1              1  \n",
       "...                   ...            ...  \n",
       "5178811                 1              0  \n",
       "5178812                 1              0  \n",
       "5178813                 1              0  \n",
       "5178814                 1              0  \n",
       "5178815                 1              0  \n",
       "\n",
       "[5178816 rows x 14 columns]"
      ]
     },
     "execution_count": 27,
     "metadata": {},
     "output_type": "execute_result"
    }
   ],
   "source": [
    "# Select important columns\n",
    "behav_mt_removed = behav_mt_copy[['Session', 'Subject', 'BlockTrial', 'Condition','MelodyRating']]\n",
    "\n",
    "behav_mt_removed_sec = behav_mt_removed.copy()\n",
    "\n",
    "# Add LanguageViolation and MusicViolation based on conditions\n",
    "behav_mt_removed_sec['LanguageViolation'] = behav_mt_removed_sec['Condition'].str[1] == 'I'\n",
    "behav_mt_removed_sec['LanguageViolation'] = behav_mt_removed_sec['LanguageViolation'].astype(int)\n",
    "\n",
    "behav_mt_removed_sec['MusicViolation'] = behav_mt_removed_sec['Condition'].str[2] == 'I'\n",
    "behav_mt_removed_sec['MusicViolation'] = behav_mt_removed_sec['MusicViolation'].astype(int)\n",
    "\n",
    "# Repeat each row 615 times to have the same number of rows as the EEG DataFrame\n",
    "behav_mt_reshaped = pd.DataFrame( np.repeat( behav_mt_removed_sec.values, 666, axis=0 ) )\n",
    "\n",
    "# Rename columns (mainly for debugging)\n",
    "behav_mt_reshaped.columns = ['Session', 'Subject', 'BlockTrial', 'Condition','MelodyRating',\n",
    "                             'LanguageViolation', 'MusicViolation']\n",
    "\n",
    "# Sort values\n",
    "behav_mt_reshaped.sort_values( by=['Subject', 'BlockTrial'], inplace=True )\n",
    "\n",
    "# Final concatenation with eeg data\n",
    "epochs_mt_all.reset_index( drop=True, inplace=True )\n",
    "behav_mt_reshaped.reset_index( drop=True, inplace=True )\n",
    "mt_final = pd.concat( [epochs_mt_all, behav_mt_reshaped], axis=1, ignore_index=True )\n",
    "\n",
    "# Rename columns again\n",
    "mt_final.columns = ['Fz', 'Cz', 'Pz', 'Status', 'Epoch', 'Subject',\n",
    "                    'Time', 'Session', 'Subject2', 'BlockTrial', 'Condition',\n",
    "                    'MelodyRating', 'LanguageViolation', 'MusicViolation']\n",
    "\n",
    "mt_final"
   ]
  },
  {
   "cell_type": "code",
   "execution_count": 31,
   "id": "3701c486-ebe1-450b-a14b-01b9d542fbaa",
   "metadata": {},
   "outputs": [],
   "source": [
    "# Save whole MT dataset\n",
    "os.chdir('/home/bkapusi')\n",
    "mt_final.to_csv( 'data/storage_barni/mt_all_new.csv' )\n",
    "os.chdir('SYMUL')"
   ]
  },
  {
   "cell_type": "markdown",
   "id": "9a105829-6236-46a1-97e0-b4d8ce97ad10",
   "metadata": {
    "jp-MarkdownHeadingCollapsed": true
   },
   "source": [
    "### Checking things"
   ]
  },
  {
   "cell_type": "code",
   "execution_count": 24,
   "id": "35480c28-10ac-4e15-ab41-62a35d6854cb",
   "metadata": {},
   "outputs": [],
   "source": [
    "decode_dict = {'FCC': 101, 'ECC': 102, 'FIC': 103, 'EIC': 104, 'FCI': 105, 'ECI': 106, 'FII': 107, 'EII': 108}\n",
    "\n",
    "partList1 = [2, 3, 4, 6, 7, 8, 9, 10, 11, 12, 13, 14, 15, 16, 17]\n",
    "partList2 = [21, 22, 23, 24, 26, 27, 28, 29, 30, 31, 32, 33]"
   ]
  },
  {
   "cell_type": "code",
   "execution_count": 25,
   "id": "f50432af-90a2-4eb7-9ead-a006a7b97e44",
   "metadata": {},
   "outputs": [],
   "source": [
    "def check_same_values(list1, list2):\n",
    "    if len(list1) != len(list2):\n",
    "        return False\n",
    "\n",
    "    for i in range(len(list1)):\n",
    "        if list1[i] != list2[i]:\n",
    "            return False\n",
    "\n",
    "    return True\n",
    "\n",
    "\n",
    "def apply_mask(lst, mask):\n",
    "    return [elem for elem, mask_value in zip(lst, mask) if mask_value]\n",
    "\n",
    "\n",
    "def find_matching_keys(dict1, dict2):\n",
    "    matching_pairs = []\n",
    "    for key2, value2 in dict2.items():\n",
    "        for key1, value1 in dict1.items():\n",
    "            if value2 == value1:\n",
    "                matching_pairs.append((key1, key2))\n",
    "    return matching_pairs"
   ]
  },
  {
   "cell_type": "code",
   "execution_count": 26,
   "id": "a07582ee-763e-46e2-9f79-835f42fcd2cc",
   "metadata": {},
   "outputs": [
    {
     "name": "stdout",
     "output_type": "stream",
     "text": [
      "participant number: 21 has everything lined up\n",
      "participant number: 22 has everything lined up\n",
      "participant number: 23 has everything lined up\n",
      "participant number: 24 has everything lined up\n",
      "participant number: 26 has everything lined up\n",
      "participant number: 27 has everything lined up\n",
      "participant number: 28 has everything lined up\n",
      "participant number: 29 has everything lined up\n",
      "participant number: 30 has everything lined up\n",
      "participant number: 31 has everything lined up\n",
      "participant number: 32 has everything lined up\n",
      "participant number: 33 has everything lined up\n"
     ]
    }
   ],
   "source": [
    "for part in partList2:\n",
    "    # print( 'participant number:', part )\n",
    "\n",
    "    # EEG conditions\n",
    "    eeg_cond_list = [encode_dict[int(i)] for i in mt_final[(mt_final['Subject']==part) & \n",
    "                     (mt_final['Epoch']<8) & (mt_final['Status']!=0)]['Status']]\n",
    "\n",
    "    # Behavioral conditions\n",
    "    behav_cond_list = [i for i in mt_final[(mt_final['Subject']==part) & \n",
    "                       (mt_final['Epoch']<8) & (mt_final['Status']!=0)]['Condition']]\n",
    "    \n",
    "    # Sentence Log conditions\n",
    "    # sent_log_list = [i for i in sentLogs_df[sentLogs_df['part']==part].iloc[:6, 2]]\n",
    "    \n",
    "    if check_same_values( eeg_cond_list, behav_cond_list ):\n",
    "        print( 'participant number:', part, 'has everything lined up' )\n",
    "        # print( eeg_cond_list)\n",
    "        # print( behav_cond_list, end='\\n\\n' )\n",
    "    else:\n",
    "        print( 'participant number:', part, 'has some issues' )\n",
    "        print( eeg_cond_list )\n",
    "        print( behav_cond_list, end='\\n\\n' )"
   ]
  },
  {
   "cell_type": "code",
   "execution_count": 27,
   "id": "a4f1966f",
   "metadata": {},
   "outputs": [
    {
     "name": "stdout",
     "output_type": "stream",
     "text": [
      "participant number: 2 has everything lined up\n",
      "participant number: 3 has everything lined up\n",
      "participant number: 4 has everything lined up\n",
      "participant number: 6 has everything lined up\n",
      "participant number: 7 has everything lined up\n",
      "participant number: 8 has everything lined up\n",
      "participant number: 9 has everything lined up\n",
      "participant number: 10 has everything lined up\n",
      "participant number: 11 has everything lined up\n",
      "participant number: 12 has everything lined up\n",
      "participant number: 13 has everything lined up\n",
      "participant number: 14 has everything lined up\n",
      "participant number: 15 has everything lined up\n",
      "participant number: 16 has everything lined up\n",
      "participant number: 17 has everything lined up\n"
     ]
    }
   ],
   "source": [
    "for part in partList1:\n",
    "    # print( 'participant number:', part )\n",
    "\n",
    "    # EEG conditions\n",
    "    eeg_cond_list = [encode_dict[int(i)] for i in mt_final[(mt_final['Subject']==part) & \n",
    "                     (mt_final['Epoch']<8) & (mt_final['Status']!=0)]['Status']]\n",
    "\n",
    "    # Behavioral conditions\n",
    "    behav_cond_list = [i for i in mt_final[(mt_final['Subject']==part) & \n",
    "                       (mt_final['Epoch']<8) & (mt_final['Status']!=0)]['Condition']]\n",
    "    \n",
    "    # Sentence Log conditions\n",
    "    # sent_log_list = [i for i in sentLogs_df[sentLogs_df['part']==part].iloc[:6, 2]]\n",
    "    \n",
    "    if check_same_values( eeg_cond_list, behav_cond_list ):\n",
    "        print( 'participant number:', part, 'has everything lined up' )\n",
    "        # print( eeg_cond_list)\n",
    "        # print( behav_cond_list, end='\\n\\n' )\n",
    "    else:\n",
    "        print( 'participant number:', part, 'has some issues' )\n",
    "        print( eeg_cond_list )\n",
    "        print( behav_cond_list, end='\\n\\n' )"
   ]
  },
  {
   "cell_type": "code",
   "execution_count": 28,
   "id": "c4160f11-4b2e-4103-9edb-89b14ad3647f",
   "metadata": {},
   "outputs": [],
   "source": [
    "sentLogDict = {}\n",
    "for part in range( 1, 17 ):\n",
    "    sent_log_list = [i for i in sentLogs_df[(sentLogs_df['part']==part) &\n",
    "                     (sentLogs_df['task']=='MT')].iloc[:5, 2]]\n",
    "    #print( 'participant', part )\n",
    "    #print( sent_log_list, end='\\n\\n' )\n",
    "    sentLogDict[part] = sent_log_list"
   ]
  },
  {
   "cell_type": "code",
   "execution_count": 29,
   "id": "93e551b2-a03e-42fb-86c2-0d6f04d30344",
   "metadata": {},
   "outputs": [],
   "source": [
    "compareDict1 ={}\n",
    "for part in partList1:\n",
    "    \n",
    "    eeg_conds = [i for i in mt_final[(mt_final['Subject']==part) & \n",
    "                     (mt_final['Epoch']<6) & (mt_final['Status']!=0)]['Status']]\n",
    "\n",
    "    eeg_cond_mask = [str(i)[1]=='2' for i in mt_final[(mt_final['Subject']==part) & \n",
    "                     (mt_final['Epoch']<6) & (mt_final['Status']!=0)]['Status']]\n",
    "\n",
    "    eeg_cond_list = [encode_dict[i] for i in apply_mask( eeg_conds, eeg_cond_mask )]\n",
    "\n",
    "    compareDict1[part] = eeg_cond_list"
   ]
  },
  {
   "cell_type": "code",
   "execution_count": 30,
   "id": "ca0302cb-cf7a-422a-8400-14d0226aeb54",
   "metadata": {},
   "outputs": [],
   "source": [
    "compareDict2 ={}\n",
    "for part in partList2:\n",
    "    \n",
    "    eeg_conds = [i for i in mt_final[(mt_final['Subject']==part) & \n",
    "                     (mt_final['Epoch']<6) & (mt_final['Status']!=0)]['Status']]\n",
    "\n",
    "    eeg_cond_mask = [str(i)[1]=='2' for i in mt_final[(mt_final['Subject']==part) & \n",
    "                     (mt_final['Epoch']<6) & (mt_final['Status']!=0)]['Status']]\n",
    "\n",
    "    eeg_cond_list = [encode_dict[i] for i in apply_mask( eeg_conds, eeg_cond_mask )]\n",
    "\n",
    "    compareDict2[part] = eeg_cond_list"
   ]
  },
  {
   "cell_type": "code",
   "execution_count": 33,
   "id": "a447e0ac-a956-49b3-b6e8-5cc7166afb8a",
   "metadata": {
    "collapsed": true,
    "jupyter": {
     "outputs_hidden": true
    }
   },
   "outputs": [
    {
     "data": {
      "text/plain": [
       "{2: ['EII'],\n",
       " 3: ['EII', 'EII', 'ECC'],\n",
       " 4: ['EII', 'EIC', 'ECC'],\n",
       " 6: ['EII', 'ECI'],\n",
       " 7: ['EII'],\n",
       " 8: ['EII', 'EIC', 'ECC'],\n",
       " 9: ['EIC', 'EII', 'ECC', 'ECC'],\n",
       " 10: ['EII', 'EIC', 'ECI'],\n",
       " 11: ['ECC', 'EII', 'EII', 'ECC', 'ECI'],\n",
       " 12: ['ECC'],\n",
       " 13: ['ECI', 'EIC', 'EII'],\n",
       " 14: ['ECI'],\n",
       " 15: ['EII', 'ECC'],\n",
       " 16: ['ECI', 'EII', 'EIC'],\n",
       " 17: ['EIC', 'EIC', 'EIC', 'ECI']}"
      ]
     },
     "execution_count": 33,
     "metadata": {},
     "output_type": "execute_result"
    }
   ],
   "source": [
    "compareDict1"
   ]
  },
  {
   "cell_type": "code",
   "execution_count": 34,
   "id": "d32f9803-3672-46b2-951f-d756a338dea4",
   "metadata": {
    "collapsed": true,
    "jupyter": {
     "outputs_hidden": true
    }
   },
   "outputs": [
    {
     "data": {
      "text/plain": [
       "{21: ['ECC', 'ECC', 'FCC', 'ECC', 'ECI'],\n",
       " 22: ['ECI', 'FCI', 'FCC', 'FCC', 'FCC'],\n",
       " 23: ['ECI', 'FCI', 'ECI', 'ECC', 'FCI'],\n",
       " 24: ['FCC', 'ECI', 'FCI', 'ECC', 'ECC'],\n",
       " 26: ['FCC', 'ECI', 'ECI', 'FCI', 'FCC'],\n",
       " 27: ['FCI', 'ECI', 'FCI', 'FCI', 'FCI'],\n",
       " 28: ['FCC', 'FCI', 'ECI', 'ECC', 'ECC'],\n",
       " 29: ['ECC', 'ECI', 'ECC', 'FCC', 'ECC'],\n",
       " 30: ['ECI', 'ECC', 'FCC', 'ECI', 'FCI'],\n",
       " 31: ['ECC', 'ECC', 'FCC', 'ECC', 'ECI'],\n",
       " 32: ['ECI', 'FCI', 'FCC', 'FCC', 'FCC'],\n",
       " 33: ['ECI', 'FCI', 'ECI', 'ECC', 'FCI']}"
      ]
     },
     "execution_count": 34,
     "metadata": {},
     "output_type": "execute_result"
    }
   ],
   "source": [
    "compareDict2"
   ]
  },
  {
   "cell_type": "code",
   "execution_count": 31,
   "id": "64e3d0c7-5b1b-421f-ba30-d57f1ba925a9",
   "metadata": {},
   "outputs": [
    {
     "data": {
      "text/plain": [
       "[(11, 11)]"
      ]
     },
     "execution_count": 31,
     "metadata": {},
     "output_type": "execute_result"
    }
   ],
   "source": [
    "find_matching_keys( compareDict1, sentLogDict )"
   ]
  },
  {
   "cell_type": "code",
   "execution_count": 32,
   "id": "11daae1e-853f-4419-80de-4bb07e9fe93d",
   "metadata": {},
   "outputs": [
    {
     "data": {
      "text/plain": [
       "[]"
      ]
     },
     "execution_count": 32,
     "metadata": {},
     "output_type": "execute_result"
    }
   ],
   "source": [
    "find_matching_keys( compareDict2, sentLogDict )"
   ]
  },
  {
   "cell_type": "markdown",
   "id": "b5687672-fdbc-4792-a188-ffa5cd3a1b95",
   "metadata": {
    "jp-MarkdownHeadingCollapsed": true
   },
   "source": [
    "## DT"
   ]
  },
  {
   "cell_type": "code",
   "execution_count": 29,
   "id": "fe3503d4-c86e-4105-afae-03dc109b33db",
   "metadata": {},
   "outputs": [],
   "source": [
    "# Sort the DataFrame by subject, session, and trial number\n",
    "behav_sorted = behav_file.sort_values( by=[ 'Session', 'Subject', 'BlockTrial'] )\n",
    "\n",
    "# Use only important columns\n",
    "behav_dt_select = behav_sorted[['Session','Subject','BlockTrial','Condition','MelodyRating']]"
   ]
  },
  {
   "cell_type": "code",
   "execution_count": 30,
   "id": "b93298ff-be33-4b2c-9b4f-ee051662a3f4",
   "metadata": {},
   "outputs": [],
   "source": [
    "# Extract event codes from eeg recording\n",
    "events = epochs_dt_all[(epochs_dt_all['Status']!=0)&(epochs_dt_all['Status'].isin(events_list_shift))] \n",
    "\n",
    "events_copy = events.copy()\n",
    "\n",
    "# Encode them to conditions\n",
    "new_cond_df = events_copy[['Subject', 'Status']]\n",
    "new_cond_df.iloc[:,1] = new_cond_df['Status'].astype(int)\n",
    "new_cond_df.iloc[:,1] = new_cond_df['Status'].map(encode_dict)\n",
    "new_cond_df.reset_index( drop=True, inplace=True )"
   ]
  },
  {
   "cell_type": "code",
   "execution_count": 31,
   "id": "4f299839-d678-4881-be3e-00a86b8b5078",
   "metadata": {},
   "outputs": [],
   "source": [
    "# Get DT session\n",
    "behav_dt = behav_dt_select[(behav_dt_select['Session']=='DT')&(behav_dt_select['Subject']!=25)]"
   ]
  },
  {
   "cell_type": "code",
   "execution_count": 32,
   "id": "7382bbae-138f-431b-b029-13dae7d8da22",
   "metadata": {},
   "outputs": [],
   "source": [
    "# Add new condition column\n",
    "behav_dt_copy = behav_dt.copy()\n",
    "behav_dt_copy.iloc[:,3] = new_cond_df['Status']"
   ]
  },
  {
   "cell_type": "code",
   "execution_count": 33,
   "id": "4d862eb0-0323-47af-98d4-756d5dd8bef5",
   "metadata": {},
   "outputs": [
    {
     "data": {
      "text/html": [
       "<div>\n",
       "<style scoped>\n",
       "    .dataframe tbody tr th:only-of-type {\n",
       "        vertical-align: middle;\n",
       "    }\n",
       "\n",
       "    .dataframe tbody tr th {\n",
       "        vertical-align: top;\n",
       "    }\n",
       "\n",
       "    .dataframe thead th {\n",
       "        text-align: right;\n",
       "    }\n",
       "</style>\n",
       "<table border=\"1\" class=\"dataframe\">\n",
       "  <thead>\n",
       "    <tr style=\"text-align: right;\">\n",
       "      <th></th>\n",
       "      <th>Fz</th>\n",
       "      <th>Cz</th>\n",
       "      <th>Pz</th>\n",
       "      <th>Status</th>\n",
       "      <th>Epoch</th>\n",
       "      <th>Subject</th>\n",
       "      <th>Time</th>\n",
       "      <th>Session</th>\n",
       "      <th>Subject2</th>\n",
       "      <th>BlockTrial</th>\n",
       "      <th>Condition</th>\n",
       "      <th>MelodyRating</th>\n",
       "      <th>LanguageViolation</th>\n",
       "      <th>MusicViolation</th>\n",
       "    </tr>\n",
       "  </thead>\n",
       "  <tbody>\n",
       "    <tr>\n",
       "      <th>0</th>\n",
       "      <td>3.142251e-06</td>\n",
       "      <td>-0.000002</td>\n",
       "      <td>2.671838e-06</td>\n",
       "      <td>0.0</td>\n",
       "      <td>1</td>\n",
       "      <td>2</td>\n",
       "      <td>-0.100000</td>\n",
       "      <td>DT</td>\n",
       "      <td>2</td>\n",
       "      <td>101</td>\n",
       "      <td>EIC</td>\n",
       "      <td>5.2</td>\n",
       "      <td>1</td>\n",
       "      <td>0</td>\n",
       "    </tr>\n",
       "    <tr>\n",
       "      <th>1</th>\n",
       "      <td>2.095461e-06</td>\n",
       "      <td>-0.000002</td>\n",
       "      <td>2.191621e-06</td>\n",
       "      <td>0.0</td>\n",
       "      <td>1</td>\n",
       "      <td>2</td>\n",
       "      <td>-0.098049</td>\n",
       "      <td>DT</td>\n",
       "      <td>2</td>\n",
       "      <td>101</td>\n",
       "      <td>EIC</td>\n",
       "      <td>5.2</td>\n",
       "      <td>1</td>\n",
       "      <td>0</td>\n",
       "    </tr>\n",
       "    <tr>\n",
       "      <th>2</th>\n",
       "      <td>6.566950e-07</td>\n",
       "      <td>-0.000003</td>\n",
       "      <td>1.572336e-06</td>\n",
       "      <td>0.0</td>\n",
       "      <td>1</td>\n",
       "      <td>2</td>\n",
       "      <td>-0.096098</td>\n",
       "      <td>DT</td>\n",
       "      <td>2</td>\n",
       "      <td>101</td>\n",
       "      <td>EIC</td>\n",
       "      <td>5.2</td>\n",
       "      <td>1</td>\n",
       "      <td>0</td>\n",
       "    </tr>\n",
       "    <tr>\n",
       "      <th>3</th>\n",
       "      <td>-9.580278e-07</td>\n",
       "      <td>-0.000003</td>\n",
       "      <td>8.343484e-07</td>\n",
       "      <td>0.0</td>\n",
       "      <td>1</td>\n",
       "      <td>2</td>\n",
       "      <td>-0.094146</td>\n",
       "      <td>DT</td>\n",
       "      <td>2</td>\n",
       "      <td>101</td>\n",
       "      <td>EIC</td>\n",
       "      <td>5.2</td>\n",
       "      <td>1</td>\n",
       "      <td>0</td>\n",
       "    </tr>\n",
       "    <tr>\n",
       "      <th>4</th>\n",
       "      <td>-2.526010e-06</td>\n",
       "      <td>-0.000003</td>\n",
       "      <td>-6.921385e-10</td>\n",
       "      <td>0.0</td>\n",
       "      <td>1</td>\n",
       "      <td>2</td>\n",
       "      <td>-0.092195</td>\n",
       "      <td>DT</td>\n",
       "      <td>2</td>\n",
       "      <td>101</td>\n",
       "      <td>EIC</td>\n",
       "      <td>5.2</td>\n",
       "      <td>1</td>\n",
       "      <td>0</td>\n",
       "    </tr>\n",
       "    <tr>\n",
       "      <th>...</th>\n",
       "      <td>...</td>\n",
       "      <td>...</td>\n",
       "      <td>...</td>\n",
       "      <td>...</td>\n",
       "      <td>...</td>\n",
       "      <td>...</td>\n",
       "      <td>...</td>\n",
       "      <td>...</td>\n",
       "      <td>...</td>\n",
       "      <td>...</td>\n",
       "      <td>...</td>\n",
       "      <td>...</td>\n",
       "      <td>...</td>\n",
       "      <td>...</td>\n",
       "    </tr>\n",
       "    <tr>\n",
       "      <th>5178811</th>\n",
       "      <td>-7.055591e-06</td>\n",
       "      <td>-0.000007</td>\n",
       "      <td>-7.493226e-06</td>\n",
       "      <td>0.0</td>\n",
       "      <td>288</td>\n",
       "      <td>33</td>\n",
       "      <td>1.189756</td>\n",
       "      <td>DT</td>\n",
       "      <td>33</td>\n",
       "      <td>836</td>\n",
       "      <td>FIC</td>\n",
       "      <td>5.0</td>\n",
       "      <td>1</td>\n",
       "      <td>0</td>\n",
       "    </tr>\n",
       "    <tr>\n",
       "      <th>5178812</th>\n",
       "      <td>-6.813494e-06</td>\n",
       "      <td>-0.000007</td>\n",
       "      <td>-7.720392e-06</td>\n",
       "      <td>0.0</td>\n",
       "      <td>288</td>\n",
       "      <td>33</td>\n",
       "      <td>1.191707</td>\n",
       "      <td>DT</td>\n",
       "      <td>33</td>\n",
       "      <td>836</td>\n",
       "      <td>FIC</td>\n",
       "      <td>5.0</td>\n",
       "      <td>1</td>\n",
       "      <td>0</td>\n",
       "    </tr>\n",
       "    <tr>\n",
       "      <th>5178813</th>\n",
       "      <td>-6.577518e-06</td>\n",
       "      <td>-0.000006</td>\n",
       "      <td>-7.943981e-06</td>\n",
       "      <td>0.0</td>\n",
       "      <td>288</td>\n",
       "      <td>33</td>\n",
       "      <td>1.193659</td>\n",
       "      <td>DT</td>\n",
       "      <td>33</td>\n",
       "      <td>836</td>\n",
       "      <td>FIC</td>\n",
       "      <td>5.0</td>\n",
       "      <td>1</td>\n",
       "      <td>0</td>\n",
       "    </tr>\n",
       "    <tr>\n",
       "      <th>5178814</th>\n",
       "      <td>-6.394288e-06</td>\n",
       "      <td>-0.000006</td>\n",
       "      <td>-8.178659e-06</td>\n",
       "      <td>0.0</td>\n",
       "      <td>288</td>\n",
       "      <td>33</td>\n",
       "      <td>1.195610</td>\n",
       "      <td>DT</td>\n",
       "      <td>33</td>\n",
       "      <td>836</td>\n",
       "      <td>FIC</td>\n",
       "      <td>5.0</td>\n",
       "      <td>1</td>\n",
       "      <td>0</td>\n",
       "    </tr>\n",
       "    <tr>\n",
       "      <th>5178815</th>\n",
       "      <td>-6.307059e-06</td>\n",
       "      <td>-0.000006</td>\n",
       "      <td>-8.436711e-06</td>\n",
       "      <td>0.0</td>\n",
       "      <td>288</td>\n",
       "      <td>33</td>\n",
       "      <td>1.197561</td>\n",
       "      <td>DT</td>\n",
       "      <td>33</td>\n",
       "      <td>836</td>\n",
       "      <td>FIC</td>\n",
       "      <td>5.0</td>\n",
       "      <td>1</td>\n",
       "      <td>0</td>\n",
       "    </tr>\n",
       "  </tbody>\n",
       "</table>\n",
       "<p>5178816 rows × 14 columns</p>\n",
       "</div>"
      ],
      "text/plain": [
       "                   Fz        Cz            Pz  Status  Epoch  Subject  \\\n",
       "0        3.142251e-06 -0.000002  2.671838e-06     0.0      1        2   \n",
       "1        2.095461e-06 -0.000002  2.191621e-06     0.0      1        2   \n",
       "2        6.566950e-07 -0.000003  1.572336e-06     0.0      1        2   \n",
       "3       -9.580278e-07 -0.000003  8.343484e-07     0.0      1        2   \n",
       "4       -2.526010e-06 -0.000003 -6.921385e-10     0.0      1        2   \n",
       "...               ...       ...           ...     ...    ...      ...   \n",
       "5178811 -7.055591e-06 -0.000007 -7.493226e-06     0.0    288       33   \n",
       "5178812 -6.813494e-06 -0.000007 -7.720392e-06     0.0    288       33   \n",
       "5178813 -6.577518e-06 -0.000006 -7.943981e-06     0.0    288       33   \n",
       "5178814 -6.394288e-06 -0.000006 -8.178659e-06     0.0    288       33   \n",
       "5178815 -6.307059e-06 -0.000006 -8.436711e-06     0.0    288       33   \n",
       "\n",
       "             Time Session Subject2 BlockTrial Condition MelodyRating  \\\n",
       "0       -0.100000      DT        2        101       EIC          5.2   \n",
       "1       -0.098049      DT        2        101       EIC          5.2   \n",
       "2       -0.096098      DT        2        101       EIC          5.2   \n",
       "3       -0.094146      DT        2        101       EIC          5.2   \n",
       "4       -0.092195      DT        2        101       EIC          5.2   \n",
       "...           ...     ...      ...        ...       ...          ...   \n",
       "5178811  1.189756      DT       33        836       FIC          5.0   \n",
       "5178812  1.191707      DT       33        836       FIC          5.0   \n",
       "5178813  1.193659      DT       33        836       FIC          5.0   \n",
       "5178814  1.195610      DT       33        836       FIC          5.0   \n",
       "5178815  1.197561      DT       33        836       FIC          5.0   \n",
       "\n",
       "        LanguageViolation MusicViolation  \n",
       "0                       1              0  \n",
       "1                       1              0  \n",
       "2                       1              0  \n",
       "3                       1              0  \n",
       "4                       1              0  \n",
       "...                   ...            ...  \n",
       "5178811                 1              0  \n",
       "5178812                 1              0  \n",
       "5178813                 1              0  \n",
       "5178814                 1              0  \n",
       "5178815                 1              0  \n",
       "\n",
       "[5178816 rows x 14 columns]"
      ]
     },
     "execution_count": 33,
     "metadata": {},
     "output_type": "execute_result"
    }
   ],
   "source": [
    "# Add LanguageViolation and MusicViolation based on conditions\n",
    "behav_dt_copy['LanguageViolation'] = behav_dt_copy['Condition'].str[1] == 'I'\n",
    "behav_dt_copy['LanguageViolation'] = behav_dt_copy['LanguageViolation'].astype(int)\n",
    "\n",
    "behav_dt_copy['MusicViolation'] = behav_dt_copy['Condition'].str[2] == 'I'\n",
    "behav_dt_copy['MusicViolation'] = behav_dt_copy['MusicViolation'].astype(int)\n",
    "\n",
    "# Repeat each row 615 times to have the same number of rows as the EEG DataFrame\n",
    "behav_dt_reshaped = pd.DataFrame( np.repeat( behav_dt_copy.values, 666, axis=0 ) )\n",
    "\n",
    "# Rename columns (mainly for debugging)\n",
    "behav_dt_reshaped.columns = ['Session', 'Subject', 'BlockTrial', 'Condition','MelodyRating',\n",
    "                             'LanguageViolation', 'MusicViolation']\n",
    "\n",
    "# Sort values\n",
    "behav_dt_reshaped.sort_values( by=['Subject', 'BlockTrial'], inplace=True )\n",
    "\n",
    "# Final concatenation with eeg data\n",
    "epochs_dt_all.reset_index( drop=True, inplace=True )\n",
    "behav_dt_reshaped.reset_index( drop=True, inplace=True )\n",
    "\n",
    "dt_final = pd.concat( [epochs_dt_all, behav_dt_reshaped], axis=1, ignore_index=True )\n",
    "\n",
    "# Rename columns again\n",
    "dt_final.columns = ['Fz', 'Cz', 'Pz', 'Status', 'Epoch', 'Subject',\n",
    "                    'Time', 'Session', 'Subject2', 'BlockTrial', 'Condition',\n",
    "                    'MelodyRating', 'LanguageViolation', 'MusicViolation']\n",
    "\n",
    "dt_final"
   ]
  },
  {
   "cell_type": "code",
   "execution_count": 21,
   "id": "ee302649-8435-4874-8473-2e93ab3a7ddf",
   "metadata": {
    "jupyter": {
     "source_hidden": true
    }
   },
   "outputs": [],
   "source": [
    "# Save the final DataFrame\n",
    "os.chdir('/home/bkapusi')\n",
    "dt_final.to_csv( 'data/storage_barni/dt_all_new.csv' )\n",
    "os.chdir('SYMUL')\n",
    "os.getcwd()"
   ]
  },
  {
   "cell_type": "markdown",
   "id": "d991c3e5-fcbe-40e5-9232-73e4d5e7f553",
   "metadata": {
    "jp-MarkdownHeadingCollapsed": true
   },
   "source": [
    "### Checking things"
   ]
  },
  {
   "cell_type": "code",
   "execution_count": 23,
   "id": "4ef1a999-40e9-4356-8e7f-c0a314d4a59c",
   "metadata": {},
   "outputs": [],
   "source": [
    "decode_dict = {'FCC': 101, 'ECC': 102, 'FIC': 103, 'EIC': 104, 'FCI': 105, 'ECI': 106, 'FII': 107, 'EII': 108}\n",
    "\n",
    "partList1 = [2, 3, 4, 6, 7, 8, 9, 10, 11, 12, 13, 14, 15, 16, 17]\n",
    "partList2 = [21, 22, 23, 24, 26, 27, 28, 29, 30, 31, 32, 33]"
   ]
  },
  {
   "cell_type": "code",
   "execution_count": 24,
   "id": "6402363a-4846-45ff-aa9f-67ccc12821cb",
   "metadata": {},
   "outputs": [],
   "source": [
    "def check_same_values(list1, list2):\n",
    "    if len(list1) != len(list2):\n",
    "        return False\n",
    "\n",
    "    for i in range(len(list1)):\n",
    "        if list1[i] != list2[i]:\n",
    "            return False\n",
    "\n",
    "    return True\n",
    "\n",
    "def apply_mask(lst, mask):\n",
    "    return [elem for elem, mask_value in zip(lst, mask) if mask_value]\n",
    "\n",
    "\n",
    "def find_matching_keys(dict1, dict2):\n",
    "    matching_pairs = []\n",
    "    for key2, value2 in dict2.items():\n",
    "        for key1, value1 in dict1.items():\n",
    "            if value2 == value1:\n",
    "                matching_pairs.append((key1, key2))\n",
    "    return matching_pairs"
   ]
  },
  {
   "cell_type": "code",
   "execution_count": 25,
   "id": "e2d130ed-6b46-4c4f-ab86-8cdb881c665f",
   "metadata": {},
   "outputs": [
    {
     "name": "stdout",
     "output_type": "stream",
     "text": [
      "participant number: 2 has everything lined up\n",
      "participant number: 3 has everything lined up\n",
      "participant number: 4 has everything lined up\n",
      "participant number: 6 has everything lined up\n",
      "participant number: 7 has everything lined up\n",
      "participant number: 8 has everything lined up\n",
      "participant number: 9 has everything lined up\n",
      "participant number: 10 has everything lined up\n",
      "participant number: 11 has everything lined up\n",
      "participant number: 12 has everything lined up\n",
      "participant number: 13 has everything lined up\n",
      "participant number: 14 has everything lined up\n",
      "participant number: 15 has everything lined up\n",
      "participant number: 16 has everything lined up\n",
      "participant number: 17 has everything lined up\n"
     ]
    }
   ],
   "source": [
    "for part in partList1:\n",
    "    # print( 'participant number:', part )\n",
    "\n",
    "    # EEG conditions\n",
    "    eeg_cond_list = [encode_dict[int(i)] for i in dt_final[(dt_final['Subject']==part) & \n",
    "                     (dt_final['Epoch']<6) & (dt_final['Status']!=0)]['Status']]\n",
    "\n",
    "    # Behavioral conditions\n",
    "    behav_cond_list = [i for i in dt_final[(dt_final['Subject']==part) & \n",
    "                       (dt_final['Epoch']<6) & (dt_final['Status']!=0)]['Condition']]\n",
    "    \n",
    "    if check_same_values( eeg_cond_list, behav_cond_list ):\n",
    "        print( 'participant number:', part, 'has everything lined up' )\n",
    "        # print( eeg_cond_list)\n",
    "        # print( behav_cond_list, end='\\n\\n' )\n",
    "    else:\n",
    "        print( 'participant number:', part, 'has some issues', end='\\n\\n' )\n",
    "        # print( eeg_cond_list)\n",
    "        # print( behav_cond_list )"
   ]
  },
  {
   "cell_type": "code",
   "execution_count": 27,
   "id": "b0f8513f-2e70-458c-9eee-f8ba628f6dcb",
   "metadata": {},
   "outputs": [
    {
     "name": "stdout",
     "output_type": "stream",
     "text": [
      "participant number: 21 has everything lined up\n",
      "participant number: 22 has everything lined up\n",
      "participant number: 23 has everything lined up\n",
      "participant number: 24 has everything lined up\n",
      "participant number: 26 has everything lined up\n",
      "participant number: 27 has everything lined up\n",
      "participant number: 28 has everything lined up\n",
      "participant number: 29 has everything lined up\n",
      "participant number: 30 has everything lined up\n",
      "participant number: 31 has everything lined up\n",
      "participant number: 32 has everything lined up\n",
      "participant number: 33 has everything lined up\n"
     ]
    }
   ],
   "source": [
    "for part in partList2:\n",
    "    # print( 'participant number:', part )\n",
    "\n",
    "    # EEG conditions\n",
    "    eeg_cond_list = [encode_dict[int(i)] for i in dt_final[(dt_final['Subject']==part) & \n",
    "                     (dt_final['Epoch']<6) & (dt_final['Status']!=0)]['Status']]\n",
    "\n",
    "    # Behavioral conditions\n",
    "    behav_cond_list = [i for i in dt_final[(dt_final['Subject']==part) & \n",
    "                       (dt_final['Epoch']<6) & (dt_final['Status']!=0)]['Condition']]\n",
    "    \n",
    "    if check_same_values( eeg_cond_list, behav_cond_list ):\n",
    "        print( 'participant number:', part, 'has everything lined up' )\n",
    "        # print( eeg_cond_list)\n",
    "        # print( behav_cond_list, end='\\n\\n' )\n",
    "    else:\n",
    "        print( 'participant number:', part, 'has some issues', end='\\n\\n' )\n",
    "        # print( eeg_cond_list)\n",
    "        # print( behav_cond_list )"
   ]
  },
  {
   "cell_type": "code",
   "execution_count": 28,
   "id": "ff16bae4-fafe-4c15-87f3-ef1f3df695f2",
   "metadata": {},
   "outputs": [],
   "source": [
    "sentLogDict = {}\n",
    "for part in range( 1, 17 ):\n",
    "    sent_log_list = [i for i in sentLogs_df[(sentLogs_df['part']==part) &\n",
    "                     (sentLogs_df['task']=='DT')].iloc[:5, 2]]\n",
    "    #print( 'participant', part )\n",
    "    #print( sent_log_list, end='\\n\\n' )\n",
    "    sentLogDict[part] = sent_log_list"
   ]
  },
  {
   "cell_type": "code",
   "execution_count": 29,
   "id": "14a83018-b644-4b1d-921f-2cdc192b0fd1",
   "metadata": {},
   "outputs": [],
   "source": [
    "compareDict1 ={}\n",
    "for part in partList1:\n",
    "    \n",
    "    eeg_conds = [i for i in dt_final[(dt_final['Subject']==part) & \n",
    "                     (dt_final['Epoch']<6) & (dt_final['Status']!=0)]['Status']]\n",
    "\n",
    "    eeg_cond_mask = [str(i)[1]=='2' for i in dt_final[(dt_final['Subject']==part) & \n",
    "                     (dt_final['Epoch']<6) & (dt_final['Status']!=0)]['Status']]\n",
    "\n",
    "    eeg_cond_list = [encode_dict[i] for i in apply_mask( eeg_conds, eeg_cond_mask )]\n",
    "\n",
    "    compareDict1[part] = eeg_cond_list"
   ]
  },
  {
   "cell_type": "code",
   "execution_count": 30,
   "id": "44888418-1c1a-4d74-bd32-830c5ecfa0a5",
   "metadata": {},
   "outputs": [],
   "source": [
    "compareDict2 ={}\n",
    "for part in partList2:\n",
    "    \n",
    "    eeg_conds = [i for i in dt_final[(dt_final['Subject']==part) & \n",
    "                     (dt_final['Epoch']<6) & (dt_final['Status']!=0)]['Status']]\n",
    "\n",
    "    eeg_cond_mask = [str(i)[1]=='2' for i in dt_final[(dt_final['Subject']==part) & \n",
    "                     (dt_final['Epoch']<6) & (dt_final['Status']!=0)]['Status']]\n",
    "\n",
    "    eeg_cond_list = [encode_dict[i] for i in apply_mask( eeg_conds, eeg_cond_mask )]\n",
    "\n",
    "    compareDict2[part] = eeg_cond_list"
   ]
  },
  {
   "cell_type": "code",
   "execution_count": 31,
   "id": "69ad969d-45d1-4b63-a5f2-8903b996f035",
   "metadata": {},
   "outputs": [
    {
     "data": {
      "text/plain": [
       "[(12, 12)]"
      ]
     },
     "execution_count": 31,
     "metadata": {},
     "output_type": "execute_result"
    }
   ],
   "source": [
    "find_matching_keys( compareDict1, sentLogDict )"
   ]
  },
  {
   "cell_type": "code",
   "execution_count": 32,
   "id": "2a56b373-00fb-4053-b9b4-15a01d9d506a",
   "metadata": {},
   "outputs": [
    {
     "data": {
      "text/plain": [
       "[]"
      ]
     },
     "execution_count": 32,
     "metadata": {},
     "output_type": "execute_result"
    }
   ],
   "source": [
    "find_matching_keys( compareDict2, sentLogDict )"
   ]
  },
  {
   "cell_type": "markdown",
   "id": "0498f302-5ecf-45ce-a7be-6dc881e5476c",
   "metadata": {
    "jp-MarkdownHeadingCollapsed": true
   },
   "source": [
    "# Splitting"
   ]
  },
  {
   "cell_type": "code",
   "execution_count": 28,
   "id": "f01a8283-4841-43f3-b8ed-e1681781bf4c",
   "metadata": {},
   "outputs": [],
   "source": [
    "# Split MT dataset based on locality\n",
    "\n",
    "os.chdir( '/home/bkapusi' )\n",
    "\n",
    "# load dataset if necessary (uncomment below)\n",
    "# mt_final=pd.read_csv( 'data/storage_barni/mt_all_new.csv', index_col=False )\n",
    "\n",
    "# only include important columns\n",
    "mt_final_cols = mt_final[['Fz', 'Cz', 'Pz', 'Epoch', 'Subject', 'Time', 'BlockTrial', 'Condition',\n",
    "                          'MelodyRating', 'LanguageViolation', 'MusicViolation']]\n",
    "\n",
    "# E-longDistance; F-shortDistance\n",
    "mt_ld = mt_final_cols[mt_final_cols['Condition'].str.contains('E')]\n",
    "mt_sd = mt_final_cols[mt_final_cols['Condition'].str.contains('F')]\n",
    "\n",
    "# Save to storage\n",
    "mt_ld.to_csv( 'data/storage_barni/mt_ld_shift.csv' )\n",
    "mt_sd.to_csv( 'data/storage_barni/mt_sd_shift.csv' )\n",
    "\n",
    "os.chdir( 'SYMUL' )"
   ]
  },
  {
   "cell_type": "code",
   "execution_count": 24,
   "id": "733a3528-93ca-40f9-aad8-a38141af83fb",
   "metadata": {},
   "outputs": [],
   "source": [
    "# Split LT dataset based on locality\n",
    "\n",
    "os.chdir( '/home/bkapusi' )\n",
    "\n",
    "# load dataset if necessary (uncomment below)\n",
    "# lt_final=pd.read_csv( 'data/storage_barni/lt_all_new.csv', index_col=False )\n",
    "\n",
    "# only include important columns\n",
    "lt_final_cols = lt_final[['Fz', 'Cz', 'Pz', 'Epoch', 'Subject', 'Time', 'BlockTrial', 'Condition',\n",
    "                          'MelodyRating', 'LanguageViolation', 'MusicViolation']]\n",
    "\n",
    "# E-longDistance; F-shortDistance\n",
    "lt_ld = lt_final[lt_final['Condition'].str.contains('E')]\n",
    "lt_sd = lt_final[lt_final['Condition'].str.contains('F')]\n",
    "\n",
    "# Save to storage\n",
    "lt_ld.to_csv( 'data/storage_barni/lt_ld_shift.csv' )\n",
    "lt_sd.to_csv( 'data/storage_barni/lt_sd_shift.csv' )\n",
    "\n",
    "os.chdir( 'SYMUL' )"
   ]
  },
  {
   "cell_type": "code",
   "execution_count": 34,
   "id": "93a72132-0b0c-4f05-bdb9-5279b8ae0549",
   "metadata": {},
   "outputs": [],
   "source": [
    "# Split DT dataset based on locality\n",
    "\n",
    "os.chdir( '/home/bkapusi' )\n",
    "# load dataset if necessary (uncomment below)\n",
    "# dt_final=pd.read_csv( 'data/storage_barni/dt_all_new.csv', index_col=False )\n",
    "\n",
    "# E-longDistance; F-shortDistance\n",
    "dt_ld = dt_final[dt_final['Condition'].str.contains('E')]\n",
    "dt_sd = dt_final[dt_final['Condition'].str.contains('F')]\n",
    "\n",
    "\n",
    "# Save to storage\n",
    "dt_ld.to_csv( 'data/storage_barni/dt_ld_shift.csv' )\n",
    "dt_sd.to_csv( 'data/storage_barni/dt_sd_shift.csv' )\n",
    "\n",
    "os.chdir( 'SYMUL' )"
   ]
  },
  {
   "cell_type": "markdown",
   "id": "b9496aca-22ad-4727-8a96-016b5407d6e8",
   "metadata": {
    "jp-MarkdownHeadingCollapsed": true
   },
   "source": [
    "# Exploring Predictors"
   ]
  },
  {
   "cell_type": "code",
   "execution_count": 228,
   "id": "89f20e7f-acd7-48a4-acec-23472ff863c5",
   "metadata": {},
   "outputs": [
    {
     "data": {
      "text/plain": [
       "Index(['Unnamed: 0', 'Session', 'Subject', 'BlockTrial', 'Condition',\n",
       "       'Accuracy', 'RT', 'audio', 'task', 'MelodyRating', 'Gender', 'Age',\n",
       "       'Ymtrain', 'Inst', 'Inst1', 'Inst2', 'Inst3', 'Inst4', 'Inst5', 'Inst6',\n",
       "       'Locality', 'LanguageViolation', 'MusicViolation', 'AudioKey',\n",
       "       'Average mean'],\n",
       "      dtype='object')"
      ]
     },
     "execution_count": 228,
     "metadata": {},
     "output_type": "execute_result"
    }
   ],
   "source": [
    "behav_lt = behav_file[(behav_file['Session']=='LT') & (behav_file['Subject']!=25) & behav_file['Condition'].str.contains('E')]\n",
    "behav_mt = behav_file[(behav_file['Session']=='MT') & (behav_file['Subject']!=25) & behav_file['Condition'].str.contains('E')]\n",
    "behav_dt = behav_file[(behav_file['Session']=='DT') & (behav_file['Subject']!=25) & behav_file['Condition'].str.contains('E')]\n",
    "behav_lt.columns"
   ]
  },
  {
   "cell_type": "code",
   "execution_count": 70,
   "id": "63010bad-6621-4a7a-a83a-68a599074bef",
   "metadata": {},
   "outputs": [
    {
     "name": "stderr",
     "output_type": "stream",
     "text": [
      "/home/bkapusi/.local/lib/python3.8/site-packages/numpy/lib/histograms.py:824: RuntimeWarning: invalid value encountered in greater_equal\n",
      "  keep = (tmp_a >= first_edge)\n",
      "/home/bkapusi/.local/lib/python3.8/site-packages/numpy/lib/histograms.py:825: RuntimeWarning: invalid value encountered in less_equal\n",
      "  keep &= (tmp_a <= last_edge)\n"
     ]
    },
    {
     "data": {
      "image/png": "[encoded data removed]",
      "text/plain": [
       "<Figure size 640x480 with 1 Axes>"
      ]
     },
     "metadata": {},
     "output_type": "display_data"
    }
   ],
   "source": [
    "musicViolation = lt_final[(lt_final['Condition']==\"EII\") | (lt_final['Condition']==\"ECI\")]\n",
    "musicCorrect =  lt_final[(lt_final['Condition']==\"EIC\") | (lt_final['Condition']==\"ECC\")]\n",
    "dataset = [musicViolation,musicCorrect]\n",
    "\n",
    "plt.hist( musicViolation['MelodyRating'], label='violation' )\n",
    "plt.hist( musicCorrect['MelodyRating'], label='correct' )\n",
    "plt.legend( )\n",
    "plt.title( \"Melody Rating (by music correctness)\" )\n",
    "plt.savefig('figures/melodyHist.pdf')\n",
    "plt.show()"
   ]
  },
  {
   "cell_type": "code",
   "execution_count": 69,
   "id": "6e1d0811-c2aa-410b-b42a-229f0e9cb0df",
   "metadata": {},
   "outputs": [
    {
     "data": {
      "image/png": "[encoded data removed]",
      "text/plain": [
       "<Figure size 640x480 with 1 Axes>"
      ]
     },
     "metadata": {},
     "output_type": "display_data"
    }
   ],
   "source": [
    "languageViolation = lt_final[(lt_final['Condition']==\"EII\") | (lt_final['Condition']==\"EIC\")]\n",
    "languageCorrect =  lt_final[(lt_final['Condition']==\"ECC\") | (lt_final['Condition']==\"ECI\")]\n",
    "\n",
    "plt.hist( languageViolation['LanguageViolation'], label='violation' )\n",
    "plt.hist( languageCorrect['LanguageViolation'], label='correct' )\n",
    "plt.legend( )\n",
    "plt.title( \"Language correctness\" )\n",
    "plt.savefig('figures/sentHist.pdf')\n",
    "plt.show()"
   ]
  }
 ],
 "metadata": {
  "kernelspec": {
   "display_name": "Python 3 (ipykernel)",
   "language": "python",
   "name": "python3"
  },
  "language_info": {
   "codemirror_mode": {
    "name": "ipython",
    "version": 3
   },
   "file_extension": ".py",
   "mimetype": "text/x-python",
   "name": "python",
   "nbconvert_exporter": "python",
   "pygments_lexer": "ipython3",
   "version": "3.8.10"
  }
 },
 "nbformat": 4,
 "nbformat_minor": 5
}
